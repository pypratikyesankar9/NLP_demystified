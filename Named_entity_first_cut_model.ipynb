{
  "nbformat": 4,
  "nbformat_minor": 0,
  "metadata": {
    "colab": {
      "provenance": [],
      "authorship_tag": "ABX9TyMI2QDwpQCgUQTGKXIo7nTw",
      "include_colab_link": true
    },
    "kernelspec": {
      "name": "python3",
      "display_name": "Python 3"
    },
    "language_info": {
      "name": "python"
    }
  },
  "cells": [
    {
      "cell_type": "markdown",
      "metadata": {
        "id": "view-in-github",
        "colab_type": "text"
      },
      "source": [
        "<a href=\"https://colab.research.google.com/github/pypratikyesankar9/NLP_demystified/blob/main/Named_entity_first_cut_model.ipynb\" target=\"_parent\"><img src=\"https://colab.research.google.com/assets/colab-badge.svg\" alt=\"Open In Colab\"/></a>"
      ]
    },
    {
      "cell_type": "code",
      "source": [
        "import gc\n",
        "\n",
        "gc.collect()"
      ],
      "metadata": {
        "id": "Wer3rzMxsucJ",
        "outputId": "ba74ba22-c75e-4d34-903c-0d68e969d927",
        "colab": {
          "base_uri": "https://localhost:8080/"
        }
      },
      "execution_count": null,
      "outputs": [
        {
          "output_type": "execute_result",
          "data": {
            "text/plain": [
              "98"
            ]
          },
          "metadata": {},
          "execution_count": 61
        }
      ]
    },
    {
      "cell_type": "code",
      "source": [
        "import matplotlib.pyplot as plt\n",
        "import numpy as np\n",
        "import pandas as pd\n",
        "import spacy\n",
        "\n",
        "from sklearn import metrics\n",
        "from sklearn import model_selection\n",
        "from sklearn.datasets import fetch_20newsgroups\n",
        "from sklearn.dummy import DummyClassifier\n",
        "from sklearn.feature_extraction.text import TfidfVectorizer\n",
        "from sklearn.metrics import confusion_matrix, ConfusionMatrixDisplay\n",
        "from sklearn.model_selection import train_test_split\n",
        "from sklearn.naive_bayes import MultinomialNB\n",
        "from sklearn.pipeline import Pipeline\n",
        "\n",
        "from sklearn.feature_extraction import DictVectorizer\n",
        "from sklearn.feature_extraction.text import CountVectorizer\n",
        "from sklearn.feature_extraction.text import HashingVectorizer\n",
        "from sklearn.linear_model import Perceptron\n",
        "from sklearn.model_selection import train_test_split\n",
        "from sklearn.linear_model import SGDClassifier\n",
        "from sklearn.linear_model import PassiveAggressiveClassifier\n",
        "from sklearn.naive_bayes import MultinomialNB\n",
        "from sklearn.metrics import classification_report\n",
        "from sklearn.metrics import f1_score\n",
        "\n",
        "from sklearn.svm import SVC\n"
      ],
      "metadata": {
        "id": "X4voboxjGDOR"
      },
      "execution_count": 13,
      "outputs": []
    },
    {
      "cell_type": "code",
      "execution_count": 19,
      "metadata": {
        "id": "ZUBlLKk6Alr_"
      },
      "outputs": [],
      "source": [
        "## loading the Dataset\n",
        "data = pd.read_csv(\"ner_dataset.csv\",encoding=\"latin1\" )"
      ]
    },
    {
      "cell_type": "code",
      "source": [
        "##Dimension check\n",
        "print(data.head())\n",
        "print()\n",
        "data.shape"
      ],
      "metadata": {
        "colab": {
          "base_uri": "https://localhost:8080/"
        },
        "id": "U_PU8Q5JBJjk",
        "outputId": "8d741d6b-0ff8-4e9d-d2f2-b5b1cfa705eb"
      },
      "execution_count": 20,
      "outputs": [
        {
          "output_type": "stream",
          "name": "stdout",
          "text": [
            "    Sentence #           Word  POS Tag\n",
            "0  Sentence: 1      Thousands  NNS   O\n",
            "1          NaN             of   IN   O\n",
            "2          NaN  demonstrators  NNS   O\n",
            "3          NaN           have  VBP   O\n",
            "4          NaN        marched  VBN   O\n",
            "\n"
          ]
        },
        {
          "output_type": "execute_result",
          "data": {
            "text/plain": [
              "(1048575, 4)"
            ]
          },
          "metadata": {},
          "execution_count": 20
        }
      ]
    },
    {
      "cell_type": "code",
      "source": [
        "##Identifying missing values\n",
        "data.isnull().sum()"
      ],
      "metadata": {
        "colab": {
          "base_uri": "https://localhost:8080/"
        },
        "id": "cgtWguHDBS1G",
        "outputId": "15402781-d73e-4104-a64d-467578c723ee"
      },
      "execution_count": 21,
      "outputs": [
        {
          "output_type": "execute_result",
          "data": {
            "text/plain": [
              "Sentence #    1000616\n",
              "Word               10\n",
              "POS                 0\n",
              "Tag                 0\n",
              "dtype: int64"
            ]
          },
          "metadata": {},
          "execution_count": 21
        }
      ]
    },
    {
      "cell_type": "markdown",
      "source": [
        "Data Preprocessing"
      ],
      "metadata": {
        "id": "7Zbb-rg5BaHa"
      }
    },
    {
      "cell_type": "code",
      "source": [
        "data = data.fillna(method='ffill')\n",
        "\n",
        "data['Sentence #'].nunique(), data.Word.nunique(), data.Tag.nunique()"
      ],
      "metadata": {
        "colab": {
          "base_uri": "https://localhost:8080/"
        },
        "id": "8eBWi7RJBdUq",
        "outputId": "6d706847-22d6-483c-eccb-1f92810bf386"
      },
      "execution_count": 22,
      "outputs": [
        {
          "output_type": "execute_result",
          "data": {
            "text/plain": [
              "(47959, 35177, 17)"
            ]
          },
          "metadata": {},
          "execution_count": 22
        }
      ]
    },
    {
      "cell_type": "code",
      "source": [
        "data['Sentence #'].nunique(), data.Word.nunique(), data.Tag.nunique()"
      ],
      "metadata": {
        "id": "JLFc-82dqNLc",
        "outputId": "bf16e0a7-24b1-44d3-ddb2-9bedc9c515fb",
        "colab": {
          "base_uri": "https://localhost:8080/"
        }
      },
      "execution_count": 23,
      "outputs": [
        {
          "output_type": "execute_result",
          "data": {
            "text/plain": [
              "(47959, 35177, 17)"
            ]
          },
          "metadata": {},
          "execution_count": 23
        }
      ]
    },
    {
      "cell_type": "code",
      "source": [
        "data.shape"
      ],
      "metadata": {
        "colab": {
          "base_uri": "https://localhost:8080/"
        },
        "id": "vYLXmALyGSt5",
        "outputId": "55253534-2bd5-4894-b935-1874b6598b27"
      },
      "execution_count": 7,
      "outputs": [
        {
          "output_type": "execute_result",
          "data": {
            "text/plain": [
              "(1048575, 4)"
            ]
          },
          "metadata": {},
          "execution_count": 7
        }
      ]
    },
    {
      "cell_type": "code",
      "source": [
        "#### Optional, will show 1 example with spacy as well\n",
        "##!pip install -U spacy==3.*\n",
        "##!python -m spacy download en_core_web_sm\n",
        "##!python -m spacy info"
      ],
      "metadata": {
        "id": "pyWlTWwGqfxa"
      },
      "execution_count": 8,
      "outputs": []
    },
    {
      "cell_type": "code",
      "source": [
        "####Checking the distribution for Tag\n",
        "bins, counts = np.unique(data.Tag, return_counts=True)\n",
        "freq_series = pd.Series(counts/len(data))\n",
        "plt.figure(figsize=(12, 8))\n",
        "ax = freq_series.plot(kind='bar')\n",
        "ax.set_xticklabels(bins, rotation=0)\n",
        "ax.set_title('Distribution of Tags')\n",
        "plt.show()"
      ],
      "metadata": {
        "id": "V1CMds5-ycwL",
        "outputId": "d80871af-a4fc-43f4-cb63-f750b32bb008",
        "colab": {
          "base_uri": "https://localhost:8080/",
          "height": 506
        }
      },
      "execution_count": null,
      "outputs": [
        {
          "output_type": "display_data",
          "data": {
            "text/plain": [
              "<Figure size 1200x800 with 1 Axes>"
            ],
            "image/png": "[encoded data removed]"
          },
          "metadata": {}
        }
      ]
    },
    {
      "cell_type": "code",
      "source": [
        "\n",
        "bins, counts = np.unique(data[data.Tag != 'O'].Tag, return_counts=True)\n",
        "freq_series = pd.Series(counts/len(data))\n",
        "plt.figure(figsize=(12, 8))\n",
        "ax = freq_series.plot(kind='bar')\n",
        "ax.set_xticklabels(bins, rotation=0)\n",
        "ax.set_title('Distribution of non-O Tags')\n",
        "plt.show()"
      ],
      "metadata": {
        "colab": {
          "base_uri": "https://localhost:8080/",
          "height": 498
        },
        "id": "QEKdW5_LG-t0",
        "outputId": "556b5074-aef0-455c-a661-faa03c9f9148"
      },
      "execution_count": null,
      "outputs": [
        {
          "output_type": "display_data",
          "data": {
            "text/plain": [
              "<Figure size 1200x800 with 1 Axes>"
            ],
            "image/png": "[encoded data removed]"
          },
          "metadata": {}
        }
      ]
    },
    {
      "cell_type": "code",
      "source": [
        "data.groupby('Tag').size().reset_index(name='counts').sort_values(by = 'counts', ascending= False)"
      ],
      "metadata": {
        "id": "jW7uJWhozjY2",
        "outputId": "ad069cbc-a318-4f8f-94cd-6336c21f3eca",
        "colab": {
          "base_uri": "https://localhost:8080/",
          "height": 582
        }
      },
      "execution_count": null,
      "outputs": [
        {
          "output_type": "execute_result",
          "data": {
            "text/plain": [
              "      Tag  counts\n",
              "16      O  887908\n",
              "2   B-geo   37644\n",
              "7   B-tim   20333\n",
              "5   B-org   20143\n",
              "14  I-per   17251\n",
              "6   B-per   16990\n",
              "13  I-org   16784\n",
              "3   B-gpe   15870\n",
              "10  I-geo    7414\n",
              "15  I-tim    6528\n",
              "0   B-art     402\n",
              "1   B-eve     308\n",
              "8   I-art     297\n",
              "9   I-eve     253\n",
              "4   B-nat     201\n",
              "11  I-gpe     198\n",
              "12  I-nat      51"
            ],
            "text/html": [
              "\n",
              "  <div id=\"df-f1d56d72-a827-431e-9b5b-a29ff2ff6101\" class=\"colab-df-container\">\n",
              "    <div>\n",
              "<style scoped>\n",
              "    .dataframe tbody tr th:only-of-type {\n",
              "        vertical-align: middle;\n",
              "    }\n",
              "\n",
              "    .dataframe tbody tr th {\n",
              "        vertical-align: top;\n",
              "    }\n",
              "\n",
              "    .dataframe thead th {\n",
              "        text-align: right;\n",
              "    }\n",
              "</style>\n",
              "<table border=\"1\" class=\"dataframe\">\n",
              "  <thead>\n",
              "    <tr style=\"text-align: right;\">\n",
              "      <th></th>\n",
              "      <th>Tag</th>\n",
              "      <th>counts</th>\n",
              "    </tr>\n",
              "  </thead>\n",
              "  <tbody>\n",
              "    <tr>\n",
              "      <th>16</th>\n",
              "      <td>O</td>\n",
              "      <td>887908</td>\n",
              "    </tr>\n",
              "    <tr>\n",
              "      <th>2</th>\n",
              "      <td>B-geo</td>\n",
              "      <td>37644</td>\n",
              "    </tr>\n",
              "    <tr>\n",
              "      <th>7</th>\n",
              "      <td>B-tim</td>\n",
              "      <td>20333</td>\n",
              "    </tr>\n",
              "    <tr>\n",
              "      <th>5</th>\n",
              "      <td>B-org</td>\n",
              "      <td>20143</td>\n",
              "    </tr>\n",
              "    <tr>\n",
              "      <th>14</th>\n",
              "      <td>I-per</td>\n",
              "      <td>17251</td>\n",
              "    </tr>\n",
              "    <tr>\n",
              "      <th>6</th>\n",
              "      <td>B-per</td>\n",
              "      <td>16990</td>\n",
              "    </tr>\n",
              "    <tr>\n",
              "      <th>13</th>\n",
              "      <td>I-org</td>\n",
              "      <td>16784</td>\n",
              "    </tr>\n",
              "    <tr>\n",
              "      <th>3</th>\n",
              "      <td>B-gpe</td>\n",
              "      <td>15870</td>\n",
              "    </tr>\n",
              "    <tr>\n",
              "      <th>10</th>\n",
              "      <td>I-geo</td>\n",
              "      <td>7414</td>\n",
              "    </tr>\n",
              "    <tr>\n",
              "      <th>15</th>\n",
              "      <td>I-tim</td>\n",
              "      <td>6528</td>\n",
              "    </tr>\n",
              "    <tr>\n",
              "      <th>0</th>\n",
              "      <td>B-art</td>\n",
              "      <td>402</td>\n",
              "    </tr>\n",
              "    <tr>\n",
              "      <th>1</th>\n",
              "      <td>B-eve</td>\n",
              "      <td>308</td>\n",
              "    </tr>\n",
              "    <tr>\n",
              "      <th>8</th>\n",
              "      <td>I-art</td>\n",
              "      <td>297</td>\n",
              "    </tr>\n",
              "    <tr>\n",
              "      <th>9</th>\n",
              "      <td>I-eve</td>\n",
              "      <td>253</td>\n",
              "    </tr>\n",
              "    <tr>\n",
              "      <th>4</th>\n",
              "      <td>B-nat</td>\n",
              "      <td>201</td>\n",
              "    </tr>\n",
              "    <tr>\n",
              "      <th>11</th>\n",
              "      <td>I-gpe</td>\n",
              "      <td>198</td>\n",
              "    </tr>\n",
              "    <tr>\n",
              "      <th>12</th>\n",
              "      <td>I-nat</td>\n",
              "      <td>51</td>\n",
              "    </tr>\n",
              "  </tbody>\n",
              "</table>\n",
              "</div>\n",
              "    <div class=\"colab-df-buttons\">\n",
              "\n",
              "  <div class=\"colab-df-container\">\n",
              "    <button class=\"colab-df-convert\" onclick=\"convertToInteractive('df-f1d56d72-a827-431e-9b5b-a29ff2ff6101')\"\n",
              "            title=\"Convert this dataframe to an interactive table.\"\n",
              "            style=\"display:none;\">\n",
              "\n",
              "  <svg xmlns=\"http://www.w3.org/2000/svg\" height=\"24px\" viewBox=\"0 -960 960 960\">\n",
              "    <path d=\"M120-120v-720h720v720H120Zm60-500h600v-160H180v160Zm220 220h160v-160H400v160Zm0 220h160v-160H400v160ZM180-400h160v-160H180v160Zm440 0h160v-160H620v160ZM180-180h160v-160H180v160Zm440 0h160v-160H620v160Z\"/>\n",
              "  </svg>\n",
              "    </button>\n",
              "\n",
              "  <style>\n",
              "    .colab-df-container {\n",
              "      display:flex;\n",
              "      gap: 12px;\n",
              "    }\n",
              "\n",
              "    .colab-df-convert {\n",
              "      background-color: #E8F0FE;\n",
              "      border: none;\n",
              "      border-radius: 50%;\n",
              "      cursor: pointer;\n",
              "      display: none;\n",
              "      fill: #1967D2;\n",
              "      height: 32px;\n",
              "      padding: 0 0 0 0;\n",
              "      width: 32px;\n",
              "    }\n",
              "\n",
              "    .colab-df-convert:hover {\n",
              "      background-color: #E2EBFA;\n",
              "      box-shadow: 0px 1px 2px rgba(60, 64, 67, 0.3), 0px 1px 3px 1px rgba(60, 64, 67, 0.15);\n",
              "      fill: #174EA6;\n",
              "    }\n",
              "\n",
              "    .colab-df-buttons div {\n",
              "      margin-bottom: 4px;\n",
              "    }\n",
              "\n",
              "    [theme=dark] .colab-df-convert {\n",
              "      background-color: #3B4455;\n",
              "      fill: #D2E3FC;\n",
              "    }\n",
              "\n",
              "    [theme=dark] .colab-df-convert:hover {\n",
              "      background-color: #434B5C;\n",
              "      box-shadow: 0px 1px 3px 1px rgba(0, 0, 0, 0.15);\n",
              "      filter: drop-shadow(0px 1px 2px rgba(0, 0, 0, 0.3));\n",
              "      fill: #FFFFFF;\n",
              "    }\n",
              "  </style>\n",
              "\n",
              "    <script>\n",
              "      const buttonEl =\n",
              "        document.querySelector('#df-f1d56d72-a827-431e-9b5b-a29ff2ff6101 button.colab-df-convert');\n",
              "      buttonEl.style.display =\n",
              "        google.colab.kernel.accessAllowed ? 'block' : 'none';\n",
              "\n",
              "      async function convertToInteractive(key) {\n",
              "        const element = document.querySelector('#df-f1d56d72-a827-431e-9b5b-a29ff2ff6101');\n",
              "        const dataTable =\n",
              "          await google.colab.kernel.invokeFunction('convertToInteractive',\n",
              "                                                    [key], {});\n",
              "        if (!dataTable) return;\n",
              "\n",
              "        const docLinkHtml = 'Like what you see? Visit the ' +\n",
              "          '<a target=\"_blank\" href=https://colab.research.google.com/notebooks/data_table.ipynb>data table notebook</a>'\n",
              "          + ' to learn more about interactive tables.';\n",
              "        element.innerHTML = '';\n",
              "        dataTable['output_type'] = 'display_data';\n",
              "        await google.colab.output.renderOutput(dataTable, element);\n",
              "        const docLink = document.createElement('div');\n",
              "        docLink.innerHTML = docLinkHtml;\n",
              "        element.appendChild(docLink);\n",
              "      }\n",
              "    </script>\n",
              "  </div>\n",
              "\n",
              "\n",
              "<div id=\"df-7a212777-9847-470d-9bd6-94f40b7afb5b\">\n",
              "  <button class=\"colab-df-quickchart\" onclick=\"quickchart('df-7a212777-9847-470d-9bd6-94f40b7afb5b')\"\n",
              "            title=\"Suggest charts\"\n",
              "            style=\"display:none;\">\n",
              "\n",
              "<svg xmlns=\"http://www.w3.org/2000/svg\" height=\"24px\"viewBox=\"0 0 24 24\"\n",
              "     width=\"24px\">\n",
              "    <g>\n",
              "        <path d=\"M19 3H5c-1.1 0-2 .9-2 2v14c0 1.1.9 2 2 2h14c1.1 0 2-.9 2-2V5c0-1.1-.9-2-2-2zM9 17H7v-7h2v7zm4 0h-2V7h2v10zm4 0h-2v-4h2v4z\"/>\n",
              "    </g>\n",
              "</svg>\n",
              "  </button>\n",
              "\n",
              "<style>\n",
              "  .colab-df-quickchart {\n",
              "      --bg-color: #E8F0FE;\n",
              "      --fill-color: #1967D2;\n",
              "      --hover-bg-color: #E2EBFA;\n",
              "      --hover-fill-color: #174EA6;\n",
              "      --disabled-fill-color: #AAA;\n",
              "      --disabled-bg-color: #DDD;\n",
              "  }\n",
              "\n",
              "  [theme=dark] .colab-df-quickchart {\n",
              "      --bg-color: #3B4455;\n",
              "      --fill-color: #D2E3FC;\n",
              "      --hover-bg-color: #434B5C;\n",
              "      --hover-fill-color: #FFFFFF;\n",
              "      --disabled-bg-color: #3B4455;\n",
              "      --disabled-fill-color: #666;\n",
              "  }\n",
              "\n",
              "  .colab-df-quickchart {\n",
              "    background-color: var(--bg-color);\n",
              "    border: none;\n",
              "    border-radius: 50%;\n",
              "    cursor: pointer;\n",
              "    display: none;\n",
              "    fill: var(--fill-color);\n",
              "    height: 32px;\n",
              "    padding: 0;\n",
              "    width: 32px;\n",
              "  }\n",
              "\n",
              "  .colab-df-quickchart:hover {\n",
              "    background-color: var(--hover-bg-color);\n",
              "    box-shadow: 0 1px 2px rgba(60, 64, 67, 0.3), 0 1px 3px 1px rgba(60, 64, 67, 0.15);\n",
              "    fill: var(--button-hover-fill-color);\n",
              "  }\n",
              "\n",
              "  .colab-df-quickchart-complete:disabled,\n",
              "  .colab-df-quickchart-complete:disabled:hover {\n",
              "    background-color: var(--disabled-bg-color);\n",
              "    fill: var(--disabled-fill-color);\n",
              "    box-shadow: none;\n",
              "  }\n",
              "\n",
              "  .colab-df-spinner {\n",
              "    border: 2px solid var(--fill-color);\n",
              "    border-color: transparent;\n",
              "    border-bottom-color: var(--fill-color);\n",
              "    animation:\n",
              "      spin 1s steps(1) infinite;\n",
              "  }\n",
              "\n",
              "  @keyframes spin {\n",
              "    0% {\n",
              "      border-color: transparent;\n",
              "      border-bottom-color: var(--fill-color);\n",
              "      border-left-color: var(--fill-color);\n",
              "    }\n",
              "    20% {\n",
              "      border-color: transparent;\n",
              "      border-left-color: var(--fill-color);\n",
              "      border-top-color: var(--fill-color);\n",
              "    }\n",
              "    30% {\n",
              "      border-color: transparent;\n",
              "      border-left-color: var(--fill-color);\n",
              "      border-top-color: var(--fill-color);\n",
              "      border-right-color: var(--fill-color);\n",
              "    }\n",
              "    40% {\n",
              "      border-color: transparent;\n",
              "      border-right-color: var(--fill-color);\n",
              "      border-top-color: var(--fill-color);\n",
              "    }\n",
              "    60% {\n",
              "      border-color: transparent;\n",
              "      border-right-color: var(--fill-color);\n",
              "    }\n",
              "    80% {\n",
              "      border-color: transparent;\n",
              "      border-right-color: var(--fill-color);\n",
              "      border-bottom-color: var(--fill-color);\n",
              "    }\n",
              "    90% {\n",
              "      border-color: transparent;\n",
              "      border-bottom-color: var(--fill-color);\n",
              "    }\n",
              "  }\n",
              "</style>\n",
              "\n",
              "  <script>\n",
              "    async function quickchart(key) {\n",
              "      const quickchartButtonEl =\n",
              "        document.querySelector('#' + key + ' button');\n",
              "      quickchartButtonEl.disabled = true;  // To prevent multiple clicks.\n",
              "      quickchartButtonEl.classList.add('colab-df-spinner');\n",
              "      try {\n",
              "        const charts = await google.colab.kernel.invokeFunction(\n",
              "            'suggestCharts', [key], {});\n",
              "      } catch (error) {\n",
              "        console.error('Error during call to suggestCharts:', error);\n",
              "      }\n",
              "      quickchartButtonEl.classList.remove('colab-df-spinner');\n",
              "      quickchartButtonEl.classList.add('colab-df-quickchart-complete');\n",
              "    }\n",
              "    (() => {\n",
              "      let quickchartButtonEl =\n",
              "        document.querySelector('#df-7a212777-9847-470d-9bd6-94f40b7afb5b button');\n",
              "      quickchartButtonEl.style.display =\n",
              "        google.colab.kernel.accessAllowed ? 'block' : 'none';\n",
              "    })();\n",
              "  </script>\n",
              "</div>\n",
              "\n",
              "    </div>\n",
              "  </div>\n"
            ],
            "application/vnd.google.colaboratory.intrinsic+json": {
              "type": "dataframe",
              "summary": "{\n  \"name\": \"data\",\n  \"rows\": 17,\n  \"fields\": [\n    {\n      \"column\": \"Tag\",\n      \"properties\": {\n        \"dtype\": \"string\",\n        \"num_unique_values\": 17,\n        \"samples\": [\n          \"O\",\n          \"B-geo\",\n          \"B-per\"\n        ],\n        \"semantic_type\": \"\",\n        \"description\": \"\"\n      }\n    },\n    {\n      \"column\": \"counts\",\n      \"properties\": {\n        \"dtype\": \"number\",\n        \"std\": 213183,\n        \"min\": 51,\n        \"max\": 887908,\n        \"num_unique_values\": 17,\n        \"samples\": [\n          887908,\n          37644,\n          16990\n        ],\n        \"semantic_type\": \"\",\n        \"description\": \"\"\n      }\n    }\n  ]\n}"
            }
          },
          "metadata": {},
          "execution_count": 71
        }
      ]
    },
    {
      "cell_type": "code",
      "source": [
        "from sklearn.preprocessing import LabelEncoder\n",
        "from sklearn.model_selection import train_test_split\n",
        "from sklearn.metrics import accuracy_score"
      ],
      "metadata": {
        "id": "0uzTj1wm0RcB"
      },
      "execution_count": 24,
      "outputs": []
    },
    {
      "cell_type": "code",
      "source": [
        "\n",
        "data[\"Sentence #\"] = LabelEncoder().fit_transform(data[\"Sentence #\"] )"
      ],
      "metadata": {
        "id": "qDyLk-hk08wR"
      },
      "execution_count": 25,
      "outputs": []
    },
    {
      "cell_type": "code",
      "source": [
        "\n",
        "data.head(30)"
      ],
      "metadata": {
        "id": "Qd8DqZQf0_Ft",
        "outputId": "689635a8-d569-4abc-9c24-6f7ff9861f5b",
        "colab": {
          "base_uri": "https://localhost:8080/",
          "height": 990
        }
      },
      "execution_count": 18,
      "outputs": [
        {
          "output_type": "execute_result",
          "data": {
            "text/plain": [
              "    Sentence #           Word  POS    Tag\n",
              "0            0      Thousands  NNS      O\n",
              "1        47959             of   IN      O\n",
              "2        47959  demonstrators  NNS      O\n",
              "3        47959           have  VBP      O\n",
              "4        47959        marched  VBN      O\n",
              "5        47959        through   IN      O\n",
              "6        47959         London  NNP  B-geo\n",
              "7        47959             to   TO      O\n",
              "8        47959        protest   VB      O\n",
              "9        47959            the   DT      O\n",
              "10       47959            war   NN      O\n",
              "11       47959             in   IN      O\n",
              "12       47959           Iraq  NNP  B-geo\n",
              "13       47959            and   CC      O\n",
              "14       47959         demand   VB      O\n",
              "15       47959            the   DT      O\n",
              "16       47959     withdrawal   NN      O\n",
              "17       47959             of   IN      O\n",
              "18       47959        British   JJ  B-gpe\n",
              "19       47959         troops  NNS      O\n",
              "20       47959           from   IN      O\n",
              "21       47959           that   DT      O\n",
              "22       47959        country   NN      O\n",
              "23       47959              .    .      O\n",
              "24       11111       Families  NNS      O\n",
              "25       47959             of   IN      O\n",
              "26       47959       soldiers  NNS      O\n",
              "27       47959         killed  VBN      O\n",
              "28       47959             in   IN      O\n",
              "29       47959            the   DT      O"
            ],
            "text/html": [
              "\n",
              "  <div id=\"df-fc7dd24f-8bb7-48c4-87d2-aa7b9ec79021\" class=\"colab-df-container\">\n",
              "    <div>\n",
              "<style scoped>\n",
              "    .dataframe tbody tr th:only-of-type {\n",
              "        vertical-align: middle;\n",
              "    }\n",
              "\n",
              "    .dataframe tbody tr th {\n",
              "        vertical-align: top;\n",
              "    }\n",
              "\n",
              "    .dataframe thead th {\n",
              "        text-align: right;\n",
              "    }\n",
              "</style>\n",
              "<table border=\"1\" class=\"dataframe\">\n",
              "  <thead>\n",
              "    <tr style=\"text-align: right;\">\n",
              "      <th></th>\n",
              "      <th>Sentence #</th>\n",
              "      <th>Word</th>\n",
              "      <th>POS</th>\n",
              "      <th>Tag</th>\n",
              "    </tr>\n",
              "  </thead>\n",
              "  <tbody>\n",
              "    <tr>\n",
              "      <th>0</th>\n",
              "      <td>0</td>\n",
              "      <td>Thousands</td>\n",
              "      <td>NNS</td>\n",
              "      <td>O</td>\n",
              "    </tr>\n",
              "    <tr>\n",
              "      <th>1</th>\n",
              "      <td>47959</td>\n",
              "      <td>of</td>\n",
              "      <td>IN</td>\n",
              "      <td>O</td>\n",
              "    </tr>\n",
              "    <tr>\n",
              "      <th>2</th>\n",
              "      <td>47959</td>\n",
              "      <td>demonstrators</td>\n",
              "      <td>NNS</td>\n",
              "      <td>O</td>\n",
              "    </tr>\n",
              "    <tr>\n",
              "      <th>3</th>\n",
              "      <td>47959</td>\n",
              "      <td>have</td>\n",
              "      <td>VBP</td>\n",
              "      <td>O</td>\n",
              "    </tr>\n",
              "    <tr>\n",
              "      <th>4</th>\n",
              "      <td>47959</td>\n",
              "      <td>marched</td>\n",
              "      <td>VBN</td>\n",
              "      <td>O</td>\n",
              "    </tr>\n",
              "    <tr>\n",
              "      <th>5</th>\n",
              "      <td>47959</td>\n",
              "      <td>through</td>\n",
              "      <td>IN</td>\n",
              "      <td>O</td>\n",
              "    </tr>\n",
              "    <tr>\n",
              "      <th>6</th>\n",
              "      <td>47959</td>\n",
              "      <td>London</td>\n",
              "      <td>NNP</td>\n",
              "      <td>B-geo</td>\n",
              "    </tr>\n",
              "    <tr>\n",
              "      <th>7</th>\n",
              "      <td>47959</td>\n",
              "      <td>to</td>\n",
              "      <td>TO</td>\n",
              "      <td>O</td>\n",
              "    </tr>\n",
              "    <tr>\n",
              "      <th>8</th>\n",
              "      <td>47959</td>\n",
              "      <td>protest</td>\n",
              "      <td>VB</td>\n",
              "      <td>O</td>\n",
              "    </tr>\n",
              "    <tr>\n",
              "      <th>9</th>\n",
              "      <td>47959</td>\n",
              "      <td>the</td>\n",
              "      <td>DT</td>\n",
              "      <td>O</td>\n",
              "    </tr>\n",
              "    <tr>\n",
              "      <th>10</th>\n",
              "      <td>47959</td>\n",
              "      <td>war</td>\n",
              "      <td>NN</td>\n",
              "      <td>O</td>\n",
              "    </tr>\n",
              "    <tr>\n",
              "      <th>11</th>\n",
              "      <td>47959</td>\n",
              "      <td>in</td>\n",
              "      <td>IN</td>\n",
              "      <td>O</td>\n",
              "    </tr>\n",
              "    <tr>\n",
              "      <th>12</th>\n",
              "      <td>47959</td>\n",
              "      <td>Iraq</td>\n",
              "      <td>NNP</td>\n",
              "      <td>B-geo</td>\n",
              "    </tr>\n",
              "    <tr>\n",
              "      <th>13</th>\n",
              "      <td>47959</td>\n",
              "      <td>and</td>\n",
              "      <td>CC</td>\n",
              "      <td>O</td>\n",
              "    </tr>\n",
              "    <tr>\n",
              "      <th>14</th>\n",
              "      <td>47959</td>\n",
              "      <td>demand</td>\n",
              "      <td>VB</td>\n",
              "      <td>O</td>\n",
              "    </tr>\n",
              "    <tr>\n",
              "      <th>15</th>\n",
              "      <td>47959</td>\n",
              "      <td>the</td>\n",
              "      <td>DT</td>\n",
              "      <td>O</td>\n",
              "    </tr>\n",
              "    <tr>\n",
              "      <th>16</th>\n",
              "      <td>47959</td>\n",
              "      <td>withdrawal</td>\n",
              "      <td>NN</td>\n",
              "      <td>O</td>\n",
              "    </tr>\n",
              "    <tr>\n",
              "      <th>17</th>\n",
              "      <td>47959</td>\n",
              "      <td>of</td>\n",
              "      <td>IN</td>\n",
              "      <td>O</td>\n",
              "    </tr>\n",
              "    <tr>\n",
              "      <th>18</th>\n",
              "      <td>47959</td>\n",
              "      <td>British</td>\n",
              "      <td>JJ</td>\n",
              "      <td>B-gpe</td>\n",
              "    </tr>\n",
              "    <tr>\n",
              "      <th>19</th>\n",
              "      <td>47959</td>\n",
              "      <td>troops</td>\n",
              "      <td>NNS</td>\n",
              "      <td>O</td>\n",
              "    </tr>\n",
              "    <tr>\n",
              "      <th>20</th>\n",
              "      <td>47959</td>\n",
              "      <td>from</td>\n",
              "      <td>IN</td>\n",
              "      <td>O</td>\n",
              "    </tr>\n",
              "    <tr>\n",
              "      <th>21</th>\n",
              "      <td>47959</td>\n",
              "      <td>that</td>\n",
              "      <td>DT</td>\n",
              "      <td>O</td>\n",
              "    </tr>\n",
              "    <tr>\n",
              "      <th>22</th>\n",
              "      <td>47959</td>\n",
              "      <td>country</td>\n",
              "      <td>NN</td>\n",
              "      <td>O</td>\n",
              "    </tr>\n",
              "    <tr>\n",
              "      <th>23</th>\n",
              "      <td>47959</td>\n",
              "      <td>.</td>\n",
              "      <td>.</td>\n",
              "      <td>O</td>\n",
              "    </tr>\n",
              "    <tr>\n",
              "      <th>24</th>\n",
              "      <td>11111</td>\n",
              "      <td>Families</td>\n",
              "      <td>NNS</td>\n",
              "      <td>O</td>\n",
              "    </tr>\n",
              "    <tr>\n",
              "      <th>25</th>\n",
              "      <td>47959</td>\n",
              "      <td>of</td>\n",
              "      <td>IN</td>\n",
              "      <td>O</td>\n",
              "    </tr>\n",
              "    <tr>\n",
              "      <th>26</th>\n",
              "      <td>47959</td>\n",
              "      <td>soldiers</td>\n",
              "      <td>NNS</td>\n",
              "      <td>O</td>\n",
              "    </tr>\n",
              "    <tr>\n",
              "      <th>27</th>\n",
              "      <td>47959</td>\n",
              "      <td>killed</td>\n",
              "      <td>VBN</td>\n",
              "      <td>O</td>\n",
              "    </tr>\n",
              "    <tr>\n",
              "      <th>28</th>\n",
              "      <td>47959</td>\n",
              "      <td>in</td>\n",
              "      <td>IN</td>\n",
              "      <td>O</td>\n",
              "    </tr>\n",
              "    <tr>\n",
              "      <th>29</th>\n",
              "      <td>47959</td>\n",
              "      <td>the</td>\n",
              "      <td>DT</td>\n",
              "      <td>O</td>\n",
              "    </tr>\n",
              "  </tbody>\n",
              "</table>\n",
              "</div>\n",
              "    <div class=\"colab-df-buttons\">\n",
              "\n",
              "  <div class=\"colab-df-container\">\n",
              "    <button class=\"colab-df-convert\" onclick=\"convertToInteractive('df-fc7dd24f-8bb7-48c4-87d2-aa7b9ec79021')\"\n",
              "            title=\"Convert this dataframe to an interactive table.\"\n",
              "            style=\"display:none;\">\n",
              "\n",
              "  <svg xmlns=\"http://www.w3.org/2000/svg\" height=\"24px\" viewBox=\"0 -960 960 960\">\n",
              "    <path d=\"M120-120v-720h720v720H120Zm60-500h600v-160H180v160Zm220 220h160v-160H400v160Zm0 220h160v-160H400v160ZM180-400h160v-160H180v160Zm440 0h160v-160H620v160ZM180-180h160v-160H180v160Zm440 0h160v-160H620v160Z\"/>\n",
              "  </svg>\n",
              "    </button>\n",
              "\n",
              "  <style>\n",
              "    .colab-df-container {\n",
              "      display:flex;\n",
              "      gap: 12px;\n",
              "    }\n",
              "\n",
              "    .colab-df-convert {\n",
              "      background-color: #E8F0FE;\n",
              "      border: none;\n",
              "      border-radius: 50%;\n",
              "      cursor: pointer;\n",
              "      display: none;\n",
              "      fill: #1967D2;\n",
              "      height: 32px;\n",
              "      padding: 0 0 0 0;\n",
              "      width: 32px;\n",
              "    }\n",
              "\n",
              "    .colab-df-convert:hover {\n",
              "      background-color: #E2EBFA;\n",
              "      box-shadow: 0px 1px 2px rgba(60, 64, 67, 0.3), 0px 1px 3px 1px rgba(60, 64, 67, 0.15);\n",
              "      fill: #174EA6;\n",
              "    }\n",
              "\n",
              "    .colab-df-buttons div {\n",
              "      margin-bottom: 4px;\n",
              "    }\n",
              "\n",
              "    [theme=dark] .colab-df-convert {\n",
              "      background-color: #3B4455;\n",
              "      fill: #D2E3FC;\n",
              "    }\n",
              "\n",
              "    [theme=dark] .colab-df-convert:hover {\n",
              "      background-color: #434B5C;\n",
              "      box-shadow: 0px 1px 3px 1px rgba(0, 0, 0, 0.15);\n",
              "      filter: drop-shadow(0px 1px 2px rgba(0, 0, 0, 0.3));\n",
              "      fill: #FFFFFF;\n",
              "    }\n",
              "  </style>\n",
              "\n",
              "    <script>\n",
              "      const buttonEl =\n",
              "        document.querySelector('#df-fc7dd24f-8bb7-48c4-87d2-aa7b9ec79021 button.colab-df-convert');\n",
              "      buttonEl.style.display =\n",
              "        google.colab.kernel.accessAllowed ? 'block' : 'none';\n",
              "\n",
              "      async function convertToInteractive(key) {\n",
              "        const element = document.querySelector('#df-fc7dd24f-8bb7-48c4-87d2-aa7b9ec79021');\n",
              "        const dataTable =\n",
              "          await google.colab.kernel.invokeFunction('convertToInteractive',\n",
              "                                                    [key], {});\n",
              "        if (!dataTable) return;\n",
              "\n",
              "        const docLinkHtml = 'Like what you see? Visit the ' +\n",
              "          '<a target=\"_blank\" href=https://colab.research.google.com/notebooks/data_table.ipynb>data table notebook</a>'\n",
              "          + ' to learn more about interactive tables.';\n",
              "        element.innerHTML = '';\n",
              "        dataTable['output_type'] = 'display_data';\n",
              "        await google.colab.output.renderOutput(dataTable, element);\n",
              "        const docLink = document.createElement('div');\n",
              "        docLink.innerHTML = docLinkHtml;\n",
              "        element.appendChild(docLink);\n",
              "      }\n",
              "    </script>\n",
              "  </div>\n",
              "\n",
              "\n",
              "<div id=\"df-78088dbe-2fcc-4cf3-b1a2-1b63bc749b5d\">\n",
              "  <button class=\"colab-df-quickchart\" onclick=\"quickchart('df-78088dbe-2fcc-4cf3-b1a2-1b63bc749b5d')\"\n",
              "            title=\"Suggest charts\"\n",
              "            style=\"display:none;\">\n",
              "\n",
              "<svg xmlns=\"http://www.w3.org/2000/svg\" height=\"24px\"viewBox=\"0 0 24 24\"\n",
              "     width=\"24px\">\n",
              "    <g>\n",
              "        <path d=\"M19 3H5c-1.1 0-2 .9-2 2v14c0 1.1.9 2 2 2h14c1.1 0 2-.9 2-2V5c0-1.1-.9-2-2-2zM9 17H7v-7h2v7zm4 0h-2V7h2v10zm4 0h-2v-4h2v4z\"/>\n",
              "    </g>\n",
              "</svg>\n",
              "  </button>\n",
              "\n",
              "<style>\n",
              "  .colab-df-quickchart {\n",
              "      --bg-color: #E8F0FE;\n",
              "      --fill-color: #1967D2;\n",
              "      --hover-bg-color: #E2EBFA;\n",
              "      --hover-fill-color: #174EA6;\n",
              "      --disabled-fill-color: #AAA;\n",
              "      --disabled-bg-color: #DDD;\n",
              "  }\n",
              "\n",
              "  [theme=dark] .colab-df-quickchart {\n",
              "      --bg-color: #3B4455;\n",
              "      --fill-color: #D2E3FC;\n",
              "      --hover-bg-color: #434B5C;\n",
              "      --hover-fill-color: #FFFFFF;\n",
              "      --disabled-bg-color: #3B4455;\n",
              "      --disabled-fill-color: #666;\n",
              "  }\n",
              "\n",
              "  .colab-df-quickchart {\n",
              "    background-color: var(--bg-color);\n",
              "    border: none;\n",
              "    border-radius: 50%;\n",
              "    cursor: pointer;\n",
              "    display: none;\n",
              "    fill: var(--fill-color);\n",
              "    height: 32px;\n",
              "    padding: 0;\n",
              "    width: 32px;\n",
              "  }\n",
              "\n",
              "  .colab-df-quickchart:hover {\n",
              "    background-color: var(--hover-bg-color);\n",
              "    box-shadow: 0 1px 2px rgba(60, 64, 67, 0.3), 0 1px 3px 1px rgba(60, 64, 67, 0.15);\n",
              "    fill: var(--button-hover-fill-color);\n",
              "  }\n",
              "\n",
              "  .colab-df-quickchart-complete:disabled,\n",
              "  .colab-df-quickchart-complete:disabled:hover {\n",
              "    background-color: var(--disabled-bg-color);\n",
              "    fill: var(--disabled-fill-color);\n",
              "    box-shadow: none;\n",
              "  }\n",
              "\n",
              "  .colab-df-spinner {\n",
              "    border: 2px solid var(--fill-color);\n",
              "    border-color: transparent;\n",
              "    border-bottom-color: var(--fill-color);\n",
              "    animation:\n",
              "      spin 1s steps(1) infinite;\n",
              "  }\n",
              "\n",
              "  @keyframes spin {\n",
              "    0% {\n",
              "      border-color: transparent;\n",
              "      border-bottom-color: var(--fill-color);\n",
              "      border-left-color: var(--fill-color);\n",
              "    }\n",
              "    20% {\n",
              "      border-color: transparent;\n",
              "      border-left-color: var(--fill-color);\n",
              "      border-top-color: var(--fill-color);\n",
              "    }\n",
              "    30% {\n",
              "      border-color: transparent;\n",
              "      border-left-color: var(--fill-color);\n",
              "      border-top-color: var(--fill-color);\n",
              "      border-right-color: var(--fill-color);\n",
              "    }\n",
              "    40% {\n",
              "      border-color: transparent;\n",
              "      border-right-color: var(--fill-color);\n",
              "      border-top-color: var(--fill-color);\n",
              "    }\n",
              "    60% {\n",
              "      border-color: transparent;\n",
              "      border-right-color: var(--fill-color);\n",
              "    }\n",
              "    80% {\n",
              "      border-color: transparent;\n",
              "      border-right-color: var(--fill-color);\n",
              "      border-bottom-color: var(--fill-color);\n",
              "    }\n",
              "    90% {\n",
              "      border-color: transparent;\n",
              "      border-bottom-color: var(--fill-color);\n",
              "    }\n",
              "  }\n",
              "</style>\n",
              "\n",
              "  <script>\n",
              "    async function quickchart(key) {\n",
              "      const quickchartButtonEl =\n",
              "        document.querySelector('#' + key + ' button');\n",
              "      quickchartButtonEl.disabled = true;  // To prevent multiple clicks.\n",
              "      quickchartButtonEl.classList.add('colab-df-spinner');\n",
              "      try {\n",
              "        const charts = await google.colab.kernel.invokeFunction(\n",
              "            'suggestCharts', [key], {});\n",
              "      } catch (error) {\n",
              "        console.error('Error during call to suggestCharts:', error);\n",
              "      }\n",
              "      quickchartButtonEl.classList.remove('colab-df-spinner');\n",
              "      quickchartButtonEl.classList.add('colab-df-quickchart-complete');\n",
              "    }\n",
              "    (() => {\n",
              "      let quickchartButtonEl =\n",
              "        document.querySelector('#df-78088dbe-2fcc-4cf3-b1a2-1b63bc749b5d button');\n",
              "      quickchartButtonEl.style.display =\n",
              "        google.colab.kernel.accessAllowed ? 'block' : 'none';\n",
              "    })();\n",
              "  </script>\n",
              "</div>\n",
              "\n",
              "    </div>\n",
              "  </div>\n"
            ],
            "application/vnd.google.colaboratory.intrinsic+json": {
              "type": "dataframe",
              "variable_name": "data"
            }
          },
          "metadata": {},
          "execution_count": 18
        }
      ]
    },
    {
      "cell_type": "code",
      "source": [
        "data.rename(columns={\"Sentence #\":\"sentence_id\",\"Word\":\"words\",\"Tag\":\"labels\"}, inplace =True)"
      ],
      "metadata": {
        "id": "k3wjReyS1EhI"
      },
      "execution_count": 26,
      "outputs": []
    },
    {
      "cell_type": "code",
      "source": [
        "##Lower case for words, and upper case for lables\n",
        "data[\"labels\"] = data[\"labels\"].str.upper()\n",
        "data[\"words\"] = data[\"words\"].str.lower()\n",
        "\n",
        "\n"
      ],
      "metadata": {
        "id": "eCMGXsZf13GY"
      },
      "execution_count": null,
      "outputs": []
    },
    {
      "cell_type": "code",
      "source": [],
      "metadata": {
        "id": "r6Y9Rvd_IInD"
      },
      "execution_count": null,
      "outputs": []
    },
    {
      "cell_type": "code",
      "source": [],
      "metadata": {
        "id": "wyP8BIQGIItO"
      },
      "execution_count": null,
      "outputs": []
    },
    {
      "cell_type": "code",
      "source": [],
      "metadata": {
        "id": "pRjKLulKII0O"
      },
      "execution_count": null,
      "outputs": []
    },
    {
      "cell_type": "code",
      "source": [],
      "metadata": {
        "id": "rByxCw3BIICS"
      },
      "execution_count": null,
      "outputs": []
    },
    {
      "cell_type": "code",
      "source": [],
      "metadata": {
        "id": "GM5kSPOxsscQ"
      },
      "execution_count": null,
      "outputs": []
    },
    {
      "cell_type": "code",
      "source": [
        "###\n",
        "X= data[[\"sentence_id\",\"words\"]]\n",
        "Y =data[\"labels\"]"
      ],
      "metadata": {
        "id": "kP4Uiew416Ls"
      },
      "execution_count": 28,
      "outputs": []
    },
    {
      "cell_type": "code",
      "source": [
        "\n",
        "x_train, x_test, y_train, y_test = train_test_split(X,Y, test_size =0.2)"
      ],
      "metadata": {
        "id": "c5Kh2Vp02Gos"
      },
      "execution_count": 29,
      "outputs": []
    },
    {
      "cell_type": "code",
      "source": [
        "\n",
        "#building up train data and test data\n",
        "train_data = pd.DataFrame({\"sentence_id\":x_train[\"sentence_id\"],\"words\":x_train[\"words\"],\"labels\":y_train})\n",
        "test_data = pd.DataFrame({\"sentence_id\":x_test[\"sentence_id\"],\"words\":x_test[\"words\"],\"labels\":y_test})"
      ],
      "metadata": {
        "id": "XPa4W8fU3mfT"
      },
      "execution_count": null,
      "outputs": []
    },
    {
      "cell_type": "code",
      "source": [
        "#### Validation data kept separately for final validation\n",
        "val_data = test_data.copy()"
      ],
      "metadata": {
        "id": "H-e3UPsebGKu"
      },
      "execution_count": null,
      "outputs": []
    },
    {
      "cell_type": "code",
      "source": [
        "X2= train_data[[\"sentence_id\",\"words\"]]\n",
        "Y2 =train_data[\"labels\"]"
      ],
      "metadata": {
        "id": "zaGXSrMmbrGs"
      },
      "execution_count": null,
      "outputs": []
    },
    {
      "cell_type": "code",
      "source": [
        "x_train, x_test, y_train, y_test = train_test_split(X2,Y2, test_size =0.2)"
      ],
      "metadata": {
        "id": "cwTZ97lTbzej"
      },
      "execution_count": null,
      "outputs": []
    },
    {
      "cell_type": "code",
      "source": [
        "\n",
        "#re building the train data and test data\n",
        "train_data = pd.DataFrame({\"sentence_id\":x_train[\"sentence_id\"],\"words\":x_train[\"words\"],\"labels\":y_train})\n",
        "test_data = pd.DataFrame({\"sentence_id\":x_test[\"sentence_id\"],\"words\":x_test[\"words\"],\"labels\":y_test})"
      ],
      "metadata": {
        "id": "U5XoflTnb6Mr"
      },
      "execution_count": null,
      "outputs": []
    },
    {
      "cell_type": "code",
      "source": [
        "## dimensions of train, test and validation\n",
        "print(train_data.shape)\n",
        "print(test_data.shape)\n",
        "print(val_data.shape)\n",
        "\n"
      ],
      "metadata": {
        "id": "NHZgLKIn3qM3",
        "outputId": "c3c228d4-7403-4d40-cda1-1d8c88df2a2c",
        "colab": {
          "base_uri": "https://localhost:8080/"
        }
      },
      "execution_count": null,
      "outputs": [
        {
          "output_type": "stream",
          "name": "stdout",
          "text": [
            "(671088, 3)\n",
            "(167772, 3)\n",
            "(209715, 3)\n"
          ]
        }
      ]
    },
    {
      "cell_type": "code",
      "source": [
        "del X\n",
        "del Y\n",
        "del X2\n",
        "del Y2\n"
      ],
      "metadata": {
        "id": "p9Rw7ShiLs8f"
      },
      "execution_count": null,
      "outputs": []
    },
    {
      "cell_type": "code",
      "source": [
        "%%time\n",
        "vectorizer = CountVectorizer(stop_words= \"english\")"
      ],
      "metadata": {
        "colab": {
          "base_uri": "https://localhost:8080/"
        },
        "id": "n3WxbYo18n1R",
        "outputId": "774dad63-96f7-4732-d5f3-07586c0c346d"
      },
      "execution_count": null,
      "outputs": [
        {
          "output_type": "stream",
          "name": "stdout",
          "text": [
            "CPU times: user 35 µs, sys: 0 ns, total: 35 µs\n",
            "Wall time: 38.4 µs\n"
          ]
        }
      ]
    },
    {
      "cell_type": "code",
      "source": [
        "%%time\n",
        "x= vectorizer.fit_transform(train_data['words'].values.astype('U'))\n",
        "x_test = vectorizer.transform(test_data['words'].values.astype('U'))\n",
        "x_val = vectorizer.transform(val_data['words'].values.astype('U'))"
      ],
      "metadata": {
        "colab": {
          "base_uri": "https://localhost:8080/"
        },
        "id": "bCYeLY-t8yRh",
        "outputId": "9e00550b-66cf-4946-ac19-6f6f37190584"
      },
      "execution_count": null,
      "outputs": [
        {
          "output_type": "stream",
          "name": "stdout",
          "text": [
            "CPU times: user 5.31 s, sys: 120 ms, total: 5.43 s\n",
            "Wall time: 5.49 s\n"
          ]
        }
      ]
    },
    {
      "cell_type": "code",
      "source": [
        "y = train_data['labels']\n",
        "y_test = test_data['labels']\n",
        "y_val = val_data['labels']"
      ],
      "metadata": {
        "id": "WIDRwWmV9wHf"
      },
      "execution_count": null,
      "outputs": []
    },
    {
      "cell_type": "code",
      "source": [
        "classes = np.unique(y)\n",
        "classes = classes.tolist()"
      ],
      "metadata": {
        "id": "1tJ1l8GHRk3U"
      },
      "execution_count": null,
      "outputs": []
    },
    {
      "cell_type": "markdown",
      "source": [
        "Linear classifier with SGD"
      ],
      "metadata": {
        "id": "-wNMBSecLMM-"
      }
    },
    {
      "cell_type": "code",
      "source": [
        "#training the model\n",
        "sgd = SGDClassifier()\n",
        "sgd.partial_fit(x, y, classes)\n"
      ],
      "metadata": {
        "colab": {
          "base_uri": "https://localhost:8080/",
          "height": 75
        },
        "id": "2urGDAkfLK0B",
        "outputId": "0db8a80a-5009-4621-aaad-399b7d0cfe49"
      },
      "execution_count": null,
      "outputs": [
        {
          "output_type": "execute_result",
          "data": {
            "text/plain": [
              "SGDClassifier()"
            ],
            "text/html": [
              "<style>#sk-container-id-1 {color: black;background-color: white;}#sk-container-id-1 pre{padding: 0;}#sk-container-id-1 div.sk-toggleable {background-color: white;}#sk-container-id-1 label.sk-toggleable__label {cursor: pointer;display: block;width: 100%;margin-bottom: 0;padding: 0.3em;box-sizing: border-box;text-align: center;}#sk-container-id-1 label.sk-toggleable__label-arrow:before {content: \"▸\";float: left;margin-right: 0.25em;color: #696969;}#sk-container-id-1 label.sk-toggleable__label-arrow:hover:before {color: black;}#sk-container-id-1 div.sk-estimator:hover label.sk-toggleable__label-arrow:before {color: black;}#sk-container-id-1 div.sk-toggleable__content {max-height: 0;max-width: 0;overflow: hidden;text-align: left;background-color: #f0f8ff;}#sk-container-id-1 div.sk-toggleable__content pre {margin: 0.2em;color: black;border-radius: 0.25em;background-color: #f0f8ff;}#sk-container-id-1 input.sk-toggleable__control:checked~div.sk-toggleable__content {max-height: 200px;max-width: 100%;overflow: auto;}#sk-container-id-1 input.sk-toggleable__control:checked~label.sk-toggleable__label-arrow:before {content: \"▾\";}#sk-container-id-1 div.sk-estimator input.sk-toggleable__control:checked~label.sk-toggleable__label {background-color: #d4ebff;}#sk-container-id-1 div.sk-label input.sk-toggleable__control:checked~label.sk-toggleable__label {background-color: #d4ebff;}#sk-container-id-1 input.sk-hidden--visually {border: 0;clip: rect(1px 1px 1px 1px);clip: rect(1px, 1px, 1px, 1px);height: 1px;margin: -1px;overflow: hidden;padding: 0;position: absolute;width: 1px;}#sk-container-id-1 div.sk-estimator {font-family: monospace;background-color: #f0f8ff;border: 1px dotted black;border-radius: 0.25em;box-sizing: border-box;margin-bottom: 0.5em;}#sk-container-id-1 div.sk-estimator:hover {background-color: #d4ebff;}#sk-container-id-1 div.sk-parallel-item::after {content: \"\";width: 100%;border-bottom: 1px solid gray;flex-grow: 1;}#sk-container-id-1 div.sk-label:hover label.sk-toggleable__label {background-color: #d4ebff;}#sk-container-id-1 div.sk-serial::before {content: \"\";position: absolute;border-left: 1px solid gray;box-sizing: border-box;top: 0;bottom: 0;left: 50%;z-index: 0;}#sk-container-id-1 div.sk-serial {display: flex;flex-direction: column;align-items: center;background-color: white;padding-right: 0.2em;padding-left: 0.2em;position: relative;}#sk-container-id-1 div.sk-item {position: relative;z-index: 1;}#sk-container-id-1 div.sk-parallel {display: flex;align-items: stretch;justify-content: center;background-color: white;position: relative;}#sk-container-id-1 div.sk-item::before, #sk-container-id-1 div.sk-parallel-item::before {content: \"\";position: absolute;border-left: 1px solid gray;box-sizing: border-box;top: 0;bottom: 0;left: 50%;z-index: -1;}#sk-container-id-1 div.sk-parallel-item {display: flex;flex-direction: column;z-index: 1;position: relative;background-color: white;}#sk-container-id-1 div.sk-parallel-item:first-child::after {align-self: flex-end;width: 50%;}#sk-container-id-1 div.sk-parallel-item:last-child::after {align-self: flex-start;width: 50%;}#sk-container-id-1 div.sk-parallel-item:only-child::after {width: 0;}#sk-container-id-1 div.sk-dashed-wrapped {border: 1px dashed gray;margin: 0 0.4em 0.5em 0.4em;box-sizing: border-box;padding-bottom: 0.4em;background-color: white;}#sk-container-id-1 div.sk-label label {font-family: monospace;font-weight: bold;display: inline-block;line-height: 1.2em;}#sk-container-id-1 div.sk-label-container {text-align: center;}#sk-container-id-1 div.sk-container {/* jupyter's `normalize.less` sets `[hidden] { display: none; }` but bootstrap.min.css set `[hidden] { display: none !important; }` so we also need the `!important` here to be able to override the default hidden behavior on the sphinx rendered scikit-learn.org. See: https://github.com/scikit-learn/scikit-learn/issues/21755 */display: inline-block !important;position: relative;}#sk-container-id-1 div.sk-text-repr-fallback {display: none;}</style><div id=\"sk-container-id-1\" class=\"sk-top-container\"><div class=\"sk-text-repr-fallback\"><pre>SGDClassifier()</pre><b>In a Jupyter environment, please rerun this cell to show the HTML representation or trust the notebook. <br />On GitHub, the HTML representation is unable to render, please try loading this page with nbviewer.org.</b></div><div class=\"sk-container\" hidden><div class=\"sk-item\"><div class=\"sk-estimator sk-toggleable\"><input class=\"sk-toggleable__control sk-hidden--visually\" id=\"sk-estimator-id-1\" type=\"checkbox\" checked><label for=\"sk-estimator-id-1\" class=\"sk-toggleable__label sk-toggleable__label-arrow\">SGDClassifier</label><div class=\"sk-toggleable__content\"><pre>SGDClassifier()</pre></div></div></div></div></div>"
            ]
          },
          "metadata": {},
          "execution_count": 41
        }
      ]
    },
    {
      "cell_type": "code",
      "source": [
        "#Scoring the model on datasets\n",
        "y_pred = sgd.predict(x)\n",
        "y_test_pred = sgd.predict(x_test)\n",
        "y_val_pred = sgd.predict(x_val)"
      ],
      "metadata": {
        "id": "ejrGsWMYLK7f"
      },
      "execution_count": null,
      "outputs": []
    },
    {
      "cell_type": "code",
      "source": [
        "print(\"Train F1-score:\", f1_score(y,y_pred,average = \"macro\"))\n",
        "print(\"Test F1-score:\", f1_score(y_test,y_test_pred,average = \"macro\"))\n",
        "print(\"Validation F1-score:\", f1_score(y_val,y_val_pred,average = \"macro\"))"
      ],
      "metadata": {
        "colab": {
          "base_uri": "https://localhost:8080/"
        },
        "id": "Xi14_2UGLLBx",
        "outputId": "0396cb91-62d7-4371-bc47-ef379895bfcd"
      },
      "execution_count": null,
      "outputs": [
        {
          "output_type": "stream",
          "name": "stdout",
          "text": [
            "Train F1-score: 0.28765913495920076\n",
            "Test F1-score: 0.28739343386464605\n",
            "Validation F1-score: 0.28825320714004465\n"
          ]
        }
      ]
    },
    {
      "cell_type": "code",
      "source": [
        "print(classification_report(y_pred=sgd.predict(x), y_true=y, labels = classes))"
      ],
      "metadata": {
        "colab": {
          "base_uri": "https://localhost:8080/"
        },
        "id": "s6Kga9HINURK",
        "outputId": "01ef94af-c000-4917-a3d0-9986128d2c23"
      },
      "execution_count": null,
      "outputs": [
        {
          "output_type": "stream",
          "name": "stderr",
          "text": [
            "/usr/local/lib/python3.10/dist-packages/sklearn/metrics/_classification.py:1344: UndefinedMetricWarning: Precision and F-score are ill-defined and being set to 0.0 in labels with no predicted samples. Use `zero_division` parameter to control this behavior.\n",
            "  _warn_prf(average, modifier, msg_start, len(result))\n",
            "/usr/local/lib/python3.10/dist-packages/sklearn/metrics/_classification.py:1344: UndefinedMetricWarning: Precision and F-score are ill-defined and being set to 0.0 in labels with no predicted samples. Use `zero_division` parameter to control this behavior.\n",
            "  _warn_prf(average, modifier, msg_start, len(result))\n"
          ]
        },
        {
          "output_type": "stream",
          "name": "stdout",
          "text": [
            "              precision    recall  f1-score   support\n",
            "\n",
            "       B-ART       0.00      0.00      0.00       252\n",
            "       B-EVE       0.00      0.00      0.00       210\n",
            "       B-GEO       0.82      0.47      0.60     24169\n",
            "       B-GPE       0.92      0.68      0.78     10169\n",
            "       B-NAT       0.00      0.00      0.00       134\n",
            "       B-ORG       0.85      0.20      0.32     12812\n",
            "       B-PER       0.82      0.40      0.54     10940\n",
            "       B-TIM       0.89      0.64      0.75     13002\n",
            "       I-ART       0.00      0.00      0.00       184\n",
            "       I-EVE       0.00      0.00      0.00       178\n",
            "       I-GEO       0.79      0.31      0.45      4784\n",
            "       I-GPE       0.00      0.00      0.00       131\n",
            "       I-NAT       0.00      0.00      0.00        30\n",
            "       I-ORG       0.65      0.12      0.20     10604\n",
            "       I-PER       0.81      0.19      0.30     10917\n",
            "       I-TIM       0.00      0.00      0.00      4119\n",
            "           O       0.90      1.00      0.95    568453\n",
            "\n",
            "    accuracy                           0.90    671088\n",
            "   macro avg       0.44      0.24      0.29    671088\n",
            "weighted avg       0.89      0.90      0.88    671088\n",
            "\n"
          ]
        },
        {
          "output_type": "stream",
          "name": "stderr",
          "text": [
            "/usr/local/lib/python3.10/dist-packages/sklearn/metrics/_classification.py:1344: UndefinedMetricWarning: Precision and F-score are ill-defined and being set to 0.0 in labels with no predicted samples. Use `zero_division` parameter to control this behavior.\n",
            "  _warn_prf(average, modifier, msg_start, len(result))\n"
          ]
        }
      ]
    },
    {
      "cell_type": "code",
      "source": [
        "new_classes = classes.copy()\n",
        "new_classes.pop()\n",
        "new_classes\n"
      ],
      "metadata": {
        "colab": {
          "base_uri": "https://localhost:8080/"
        },
        "id": "mp6by0vCO3hO",
        "outputId": "116aa470-0db4-4dc8-cd72-635863e5958e"
      },
      "execution_count": null,
      "outputs": [
        {
          "output_type": "execute_result",
          "data": {
            "text/plain": [
              "['B-ART',\n",
              " 'B-EVE',\n",
              " 'B-GEO',\n",
              " 'B-GPE',\n",
              " 'B-NAT',\n",
              " 'B-ORG',\n",
              " 'B-PER',\n",
              " 'B-TIM',\n",
              " 'I-ART',\n",
              " 'I-EVE',\n",
              " 'I-GEO',\n",
              " 'I-GPE',\n",
              " 'I-NAT',\n",
              " 'I-ORG',\n",
              " 'I-PER',\n",
              " 'I-TIM']"
            ]
          },
          "metadata": {},
          "execution_count": 52
        }
      ]
    },
    {
      "cell_type": "code",
      "source": [
        "print(classification_report(y_pred=sgd.predict(x), y_true=y, labels = new_classes))"
      ],
      "metadata": {
        "colab": {
          "base_uri": "https://localhost:8080/"
        },
        "id": "lpo71jTqPGkQ",
        "outputId": "5ddd4777-9680-417d-80c6-b9635d109c91"
      },
      "execution_count": null,
      "outputs": [
        {
          "output_type": "stream",
          "name": "stderr",
          "text": [
            "/usr/local/lib/python3.10/dist-packages/sklearn/metrics/_classification.py:1344: UndefinedMetricWarning: Precision and F-score are ill-defined and being set to 0.0 in labels with no predicted samples. Use `zero_division` parameter to control this behavior.\n",
            "  _warn_prf(average, modifier, msg_start, len(result))\n",
            "/usr/local/lib/python3.10/dist-packages/sklearn/metrics/_classification.py:1344: UndefinedMetricWarning: Precision and F-score are ill-defined and being set to 0.0 in labels with no predicted samples. Use `zero_division` parameter to control this behavior.\n",
            "  _warn_prf(average, modifier, msg_start, len(result))\n"
          ]
        },
        {
          "output_type": "stream",
          "name": "stdout",
          "text": [
            "              precision    recall  f1-score   support\n",
            "\n",
            "       B-ART       0.00      0.00      0.00       252\n",
            "       B-EVE       0.00      0.00      0.00       210\n",
            "       B-GEO       0.82      0.47      0.60     24169\n",
            "       B-GPE       0.92      0.68      0.78     10169\n",
            "       B-NAT       0.00      0.00      0.00       134\n",
            "       B-ORG       0.85      0.20      0.32     12812\n",
            "       B-PER       0.82      0.40      0.54     10940\n",
            "       B-TIM       0.89      0.64      0.75     13002\n",
            "       I-ART       0.00      0.00      0.00       184\n",
            "       I-EVE       0.00      0.00      0.00       178\n",
            "       I-GEO       0.79      0.31      0.45      4784\n",
            "       I-GPE       0.00      0.00      0.00       131\n",
            "       I-NAT       0.00      0.00      0.00        30\n",
            "       I-ORG       0.65      0.12      0.20     10604\n",
            "       I-PER       0.81      0.19      0.30     10917\n",
            "       I-TIM       0.00      0.00      0.00      4119\n",
            "\n",
            "   micro avg       0.85      0.37      0.52    102635\n",
            "   macro avg       0.41      0.19      0.25    102635\n",
            "weighted avg       0.78      0.37      0.49    102635\n",
            "\n"
          ]
        },
        {
          "output_type": "stream",
          "name": "stderr",
          "text": [
            "/usr/local/lib/python3.10/dist-packages/sklearn/metrics/_classification.py:1344: UndefinedMetricWarning: Precision and F-score are ill-defined and being set to 0.0 in labels with no predicted samples. Use `zero_division` parameter to control this behavior.\n",
            "  _warn_prf(average, modifier, msg_start, len(result))\n"
          ]
        }
      ]
    },
    {
      "cell_type": "code",
      "source": [
        "##Naive Bayes classifier for multinomial models\n",
        "nb = MultinomialNB(alpha=0.01)\n",
        "nb.partial_fit(x, y, classes)\n"
      ],
      "metadata": {
        "colab": {
          "base_uri": "https://localhost:8080/",
          "height": 75
        },
        "id": "7REd2n-iRYPv",
        "outputId": "b6bb2495-954c-4422-ab27-6db52b5db549"
      },
      "execution_count": null,
      "outputs": [
        {
          "output_type": "execute_result",
          "data": {
            "text/plain": [
              "MultinomialNB(alpha=0.01)"
            ],
            "text/html": [
              "<style>#sk-container-id-2 {color: black;background-color: white;}#sk-container-id-2 pre{padding: 0;}#sk-container-id-2 div.sk-toggleable {background-color: white;}#sk-container-id-2 label.sk-toggleable__label {cursor: pointer;display: block;width: 100%;margin-bottom: 0;padding: 0.3em;box-sizing: border-box;text-align: center;}#sk-container-id-2 label.sk-toggleable__label-arrow:before {content: \"▸\";float: left;margin-right: 0.25em;color: #696969;}#sk-container-id-2 label.sk-toggleable__label-arrow:hover:before {color: black;}#sk-container-id-2 div.sk-estimator:hover label.sk-toggleable__label-arrow:before {color: black;}#sk-container-id-2 div.sk-toggleable__content {max-height: 0;max-width: 0;overflow: hidden;text-align: left;background-color: #f0f8ff;}#sk-container-id-2 div.sk-toggleable__content pre {margin: 0.2em;color: black;border-radius: 0.25em;background-color: #f0f8ff;}#sk-container-id-2 input.sk-toggleable__control:checked~div.sk-toggleable__content {max-height: 200px;max-width: 100%;overflow: auto;}#sk-container-id-2 input.sk-toggleable__control:checked~label.sk-toggleable__label-arrow:before {content: \"▾\";}#sk-container-id-2 div.sk-estimator input.sk-toggleable__control:checked~label.sk-toggleable__label {background-color: #d4ebff;}#sk-container-id-2 div.sk-label input.sk-toggleable__control:checked~label.sk-toggleable__label {background-color: #d4ebff;}#sk-container-id-2 input.sk-hidden--visually {border: 0;clip: rect(1px 1px 1px 1px);clip: rect(1px, 1px, 1px, 1px);height: 1px;margin: -1px;overflow: hidden;padding: 0;position: absolute;width: 1px;}#sk-container-id-2 div.sk-estimator {font-family: monospace;background-color: #f0f8ff;border: 1px dotted black;border-radius: 0.25em;box-sizing: border-box;margin-bottom: 0.5em;}#sk-container-id-2 div.sk-estimator:hover {background-color: #d4ebff;}#sk-container-id-2 div.sk-parallel-item::after {content: \"\";width: 100%;border-bottom: 1px solid gray;flex-grow: 1;}#sk-container-id-2 div.sk-label:hover label.sk-toggleable__label {background-color: #d4ebff;}#sk-container-id-2 div.sk-serial::before {content: \"\";position: absolute;border-left: 1px solid gray;box-sizing: border-box;top: 0;bottom: 0;left: 50%;z-index: 0;}#sk-container-id-2 div.sk-serial {display: flex;flex-direction: column;align-items: center;background-color: white;padding-right: 0.2em;padding-left: 0.2em;position: relative;}#sk-container-id-2 div.sk-item {position: relative;z-index: 1;}#sk-container-id-2 div.sk-parallel {display: flex;align-items: stretch;justify-content: center;background-color: white;position: relative;}#sk-container-id-2 div.sk-item::before, #sk-container-id-2 div.sk-parallel-item::before {content: \"\";position: absolute;border-left: 1px solid gray;box-sizing: border-box;top: 0;bottom: 0;left: 50%;z-index: -1;}#sk-container-id-2 div.sk-parallel-item {display: flex;flex-direction: column;z-index: 1;position: relative;background-color: white;}#sk-container-id-2 div.sk-parallel-item:first-child::after {align-self: flex-end;width: 50%;}#sk-container-id-2 div.sk-parallel-item:last-child::after {align-self: flex-start;width: 50%;}#sk-container-id-2 div.sk-parallel-item:only-child::after {width: 0;}#sk-container-id-2 div.sk-dashed-wrapped {border: 1px dashed gray;margin: 0 0.4em 0.5em 0.4em;box-sizing: border-box;padding-bottom: 0.4em;background-color: white;}#sk-container-id-2 div.sk-label label {font-family: monospace;font-weight: bold;display: inline-block;line-height: 1.2em;}#sk-container-id-2 div.sk-label-container {text-align: center;}#sk-container-id-2 div.sk-container {/* jupyter's `normalize.less` sets `[hidden] { display: none; }` but bootstrap.min.css set `[hidden] { display: none !important; }` so we also need the `!important` here to be able to override the default hidden behavior on the sphinx rendered scikit-learn.org. See: https://github.com/scikit-learn/scikit-learn/issues/21755 */display: inline-block !important;position: relative;}#sk-container-id-2 div.sk-text-repr-fallback {display: none;}</style><div id=\"sk-container-id-2\" class=\"sk-top-container\"><div class=\"sk-text-repr-fallback\"><pre>MultinomialNB(alpha=0.01)</pre><b>In a Jupyter environment, please rerun this cell to show the HTML representation or trust the notebook. <br />On GitHub, the HTML representation is unable to render, please try loading this page with nbviewer.org.</b></div><div class=\"sk-container\" hidden><div class=\"sk-item\"><div class=\"sk-estimator sk-toggleable\"><input class=\"sk-toggleable__control sk-hidden--visually\" id=\"sk-estimator-id-2\" type=\"checkbox\" checked><label for=\"sk-estimator-id-2\" class=\"sk-toggleable__label sk-toggleable__label-arrow\">MultinomialNB</label><div class=\"sk-toggleable__content\"><pre>MultinomialNB(alpha=0.01)</pre></div></div></div></div></div>"
            ]
          },
          "metadata": {},
          "execution_count": 47
        }
      ]
    },
    {
      "cell_type": "code",
      "source": [
        "#Scoring the model on datasets\n",
        "y_pred = nb.predict(x)\n",
        "y_test_pred = nb.predict(x_test)\n",
        "y_val_pred = nb.predict(x_val)"
      ],
      "metadata": {
        "id": "XH4u7Qj8RYUn"
      },
      "execution_count": null,
      "outputs": []
    },
    {
      "cell_type": "code",
      "source": [
        "print(\"Train F1-score:\", f1_score(y,y_pred,average = \"macro\"))\n",
        "print(\"Test F1-score:\", f1_score(y_test,y_test_pred,average = \"macro\"))\n",
        "print(\"Validation F1-score:\", f1_score(y_val,y_val_pred,average = \"macro\"))"
      ],
      "metadata": {
        "colab": {
          "base_uri": "https://localhost:8080/"
        },
        "id": "mIsLn4HORvMI",
        "outputId": "d14fb193-f999-4124-e4ad-c07825e2b2c2"
      },
      "execution_count": null,
      "outputs": [
        {
          "output_type": "stream",
          "name": "stdout",
          "text": [
            "Train F1-score: 0.5086906954845322\n",
            "Test F1-score: 0.41163096944291777\n",
            "Validation F1-score: 0.41402026876637693\n"
          ]
        }
      ]
    },
    {
      "cell_type": "code",
      "source": [
        "print(classification_report(y_pred=y_pred, y_true=y, labels = new_classes))"
      ],
      "metadata": {
        "colab": {
          "base_uri": "https://localhost:8080/"
        },
        "id": "I-8zeyoGTJZp",
        "outputId": "4403df32-90cd-4720-f9f3-e5360343e47a"
      },
      "execution_count": null,
      "outputs": [
        {
          "output_type": "stream",
          "name": "stdout",
          "text": [
            "              precision    recall  f1-score   support\n",
            "\n",
            "       B-ART       0.92      0.27      0.42       252\n",
            "       B-EVE       0.68      0.30      0.41       210\n",
            "       B-GEO       0.81      0.77      0.79     24169\n",
            "       B-GPE       0.93      0.94      0.94     10169\n",
            "       B-NAT       0.78      0.24      0.37       134\n",
            "       B-ORG       0.83      0.40      0.54     12812\n",
            "       B-PER       0.77      0.76      0.77     10940\n",
            "       B-TIM       0.88      0.75      0.81     13002\n",
            "       I-ART       1.00      0.10      0.19       184\n",
            "       I-EVE       1.00      0.02      0.03       178\n",
            "       I-GEO       0.76      0.54      0.63      4784\n",
            "       I-GPE       0.84      0.24      0.38       131\n",
            "       I-NAT       1.00      0.07      0.12        30\n",
            "       I-ORG       0.69      0.21      0.32     10604\n",
            "       I-PER       0.81      0.79      0.80     10917\n",
            "       I-TIM       0.60      0.09      0.16      4119\n",
            "\n",
            "   micro avg       0.82      0.64      0.72    102635\n",
            "   macro avg       0.83      0.40      0.48    102635\n",
            "weighted avg       0.81      0.64      0.69    102635\n",
            "\n"
          ]
        }
      ]
    },
    {
      "cell_type": "code",
      "source": [
        "##Passive aggresive\n",
        "\n",
        "pa =PassiveAggressiveClassifier()\n",
        "pa.partial_fit(x, y, classes)\n"
      ],
      "metadata": {
        "colab": {
          "base_uri": "https://localhost:8080/",
          "height": 75
        },
        "id": "JUQXJ3qpOaB0",
        "outputId": "a690321b-6a8c-46fa-8fbe-9bed9065bc47"
      },
      "execution_count": null,
      "outputs": [
        {
          "output_type": "execute_result",
          "data": {
            "text/plain": [
              "PassiveAggressiveClassifier()"
            ],
            "text/html": [
              "<style>#sk-container-id-4 {color: black;background-color: white;}#sk-container-id-4 pre{padding: 0;}#sk-container-id-4 div.sk-toggleable {background-color: white;}#sk-container-id-4 label.sk-toggleable__label {cursor: pointer;display: block;width: 100%;margin-bottom: 0;padding: 0.3em;box-sizing: border-box;text-align: center;}#sk-container-id-4 label.sk-toggleable__label-arrow:before {content: \"▸\";float: left;margin-right: 0.25em;color: #696969;}#sk-container-id-4 label.sk-toggleable__label-arrow:hover:before {color: black;}#sk-container-id-4 div.sk-estimator:hover label.sk-toggleable__label-arrow:before {color: black;}#sk-container-id-4 div.sk-toggleable__content {max-height: 0;max-width: 0;overflow: hidden;text-align: left;background-color: #f0f8ff;}#sk-container-id-4 div.sk-toggleable__content pre {margin: 0.2em;color: black;border-radius: 0.25em;background-color: #f0f8ff;}#sk-container-id-4 input.sk-toggleable__control:checked~div.sk-toggleable__content {max-height: 200px;max-width: 100%;overflow: auto;}#sk-container-id-4 input.sk-toggleable__control:checked~label.sk-toggleable__label-arrow:before {content: \"▾\";}#sk-container-id-4 div.sk-estimator input.sk-toggleable__control:checked~label.sk-toggleable__label {background-color: #d4ebff;}#sk-container-id-4 div.sk-label input.sk-toggleable__control:checked~label.sk-toggleable__label {background-color: #d4ebff;}#sk-container-id-4 input.sk-hidden--visually {border: 0;clip: rect(1px 1px 1px 1px);clip: rect(1px, 1px, 1px, 1px);height: 1px;margin: -1px;overflow: hidden;padding: 0;position: absolute;width: 1px;}#sk-container-id-4 div.sk-estimator {font-family: monospace;background-color: #f0f8ff;border: 1px dotted black;border-radius: 0.25em;box-sizing: border-box;margin-bottom: 0.5em;}#sk-container-id-4 div.sk-estimator:hover {background-color: #d4ebff;}#sk-container-id-4 div.sk-parallel-item::after {content: \"\";width: 100%;border-bottom: 1px solid gray;flex-grow: 1;}#sk-container-id-4 div.sk-label:hover label.sk-toggleable__label {background-color: #d4ebff;}#sk-container-id-4 div.sk-serial::before {content: \"\";position: absolute;border-left: 1px solid gray;box-sizing: border-box;top: 0;bottom: 0;left: 50%;z-index: 0;}#sk-container-id-4 div.sk-serial {display: flex;flex-direction: column;align-items: center;background-color: white;padding-right: 0.2em;padding-left: 0.2em;position: relative;}#sk-container-id-4 div.sk-item {position: relative;z-index: 1;}#sk-container-id-4 div.sk-parallel {display: flex;align-items: stretch;justify-content: center;background-color: white;position: relative;}#sk-container-id-4 div.sk-item::before, #sk-container-id-4 div.sk-parallel-item::before {content: \"\";position: absolute;border-left: 1px solid gray;box-sizing: border-box;top: 0;bottom: 0;left: 50%;z-index: -1;}#sk-container-id-4 div.sk-parallel-item {display: flex;flex-direction: column;z-index: 1;position: relative;background-color: white;}#sk-container-id-4 div.sk-parallel-item:first-child::after {align-self: flex-end;width: 50%;}#sk-container-id-4 div.sk-parallel-item:last-child::after {align-self: flex-start;width: 50%;}#sk-container-id-4 div.sk-parallel-item:only-child::after {width: 0;}#sk-container-id-4 div.sk-dashed-wrapped {border: 1px dashed gray;margin: 0 0.4em 0.5em 0.4em;box-sizing: border-box;padding-bottom: 0.4em;background-color: white;}#sk-container-id-4 div.sk-label label {font-family: monospace;font-weight: bold;display: inline-block;line-height: 1.2em;}#sk-container-id-4 div.sk-label-container {text-align: center;}#sk-container-id-4 div.sk-container {/* jupyter's `normalize.less` sets `[hidden] { display: none; }` but bootstrap.min.css set `[hidden] { display: none !important; }` so we also need the `!important` here to be able to override the default hidden behavior on the sphinx rendered scikit-learn.org. See: https://github.com/scikit-learn/scikit-learn/issues/21755 */display: inline-block !important;position: relative;}#sk-container-id-4 div.sk-text-repr-fallback {display: none;}</style><div id=\"sk-container-id-4\" class=\"sk-top-container\"><div class=\"sk-text-repr-fallback\"><pre>PassiveAggressiveClassifier()</pre><b>In a Jupyter environment, please rerun this cell to show the HTML representation or trust the notebook. <br />On GitHub, the HTML representation is unable to render, please try loading this page with nbviewer.org.</b></div><div class=\"sk-container\" hidden><div class=\"sk-item\"><div class=\"sk-estimator sk-toggleable\"><input class=\"sk-toggleable__control sk-hidden--visually\" id=\"sk-estimator-id-4\" type=\"checkbox\" checked><label for=\"sk-estimator-id-4\" class=\"sk-toggleable__label sk-toggleable__label-arrow\">PassiveAggressiveClassifier</label><div class=\"sk-toggleable__content\"><pre>PassiveAggressiveClassifier()</pre></div></div></div></div></div>"
            ]
          },
          "metadata": {},
          "execution_count": 90
        }
      ]
    },
    {
      "cell_type": "code",
      "source": [
        "#Scoring the model on datasets\n",
        "y_pred = pa.predict(x)\n",
        "y_test_pred = pa.predict(x_test)\n",
        "y_val_pred = pa.predict(x_val)"
      ],
      "metadata": {
        "id": "I375VPnWQM9u"
      },
      "execution_count": null,
      "outputs": []
    },
    {
      "cell_type": "code",
      "source": [
        "print(\"Train F1-score:\", f1_score(y,y_pred,average = \"macro\"))\n",
        "print(\"Test F1-score:\", f1_score(y_test,y_test_pred,average = \"macro\"))\n",
        "print(\"Validation F1-score:\", f1_score(y_val,y_val_pred,average = \"macro\"))"
      ],
      "metadata": {
        "colab": {
          "base_uri": "https://localhost:8080/"
        },
        "id": "ubjz-T3aSHpP",
        "outputId": "aa0e8dc1-7318-4363-be42-621414469fc3"
      },
      "execution_count": null,
      "outputs": [
        {
          "output_type": "stream",
          "name": "stdout",
          "text": [
            "Train F1-score: 0.52249615751443\n",
            "Test F1-score: 0.4620799884054096\n",
            "Validation F1-score: 0.47058916311507915\n"
          ]
        }
      ]
    },
    {
      "cell_type": "code",
      "source": [
        "print(classification_report(y_pred=y_pred, y_true=y, labels = new_classes))"
      ],
      "metadata": {
        "colab": {
          "base_uri": "https://localhost:8080/"
        },
        "id": "4iOE_5oRSHvt",
        "outputId": "ac0acef6-f357-4746-a1f3-8ac7b05c1a2a"
      },
      "execution_count": null,
      "outputs": [
        {
          "output_type": "stream",
          "name": "stdout",
          "text": [
            "              precision    recall  f1-score   support\n",
            "\n",
            "       B-ART       0.04      0.30      0.08       265\n",
            "       B-EVE       0.66      0.28      0.39       210\n",
            "       B-GEO       0.80      0.77      0.78     24161\n",
            "       B-GPE       0.92      0.94      0.93     10125\n",
            "       B-NAT       0.41      0.38      0.39       137\n",
            "       B-ORG       0.73      0.43      0.55     12900\n",
            "       B-PER       0.71      0.76      0.73     10901\n",
            "       B-TIM       0.86      0.72      0.79     13148\n",
            "       I-ART       0.55      0.14      0.22       187\n",
            "       I-EVE       0.65      0.07      0.13       157\n",
            "       I-GEO       0.68      0.55      0.61      4712\n",
            "       I-GPE       0.63      0.48      0.54       130\n",
            "       I-NAT       0.56      0.28      0.38        32\n",
            "       I-ORG       0.56      0.27      0.36     10650\n",
            "       I-PER       0.78      0.80      0.79     11022\n",
            "       I-TIM       0.43      0.17      0.24      4183\n",
            "\n",
            "   micro avg       0.76      0.65      0.70    102920\n",
            "   macro avg       0.62      0.46      0.49    102920\n",
            "weighted avg       0.75      0.65      0.68    102920\n",
            "\n"
          ]
        }
      ]
    },
    {
      "cell_type": "markdown",
      "source": [
        "**The results from the first approach are not encouraging , and may require further exploration**"
      ],
      "metadata": {
        "id": "cUADl5s0Stwa"
      }
    },
    {
      "cell_type": "code",
      "source": [],
      "metadata": {
        "id": "bS9Kfslc94B8"
      },
      "execution_count": null,
      "outputs": []
    },
    {
      "cell_type": "markdown",
      "source": [
        "**Second approach : Using Sequenctial Conditional Random Field (CRF) model**"
      ],
      "metadata": {
        "id": "cO1njM_nTLCR"
      }
    },
    {
      "cell_type": "code",
      "source": [
        "!pip install sklearn-crfsuite"
      ],
      "metadata": {
        "colab": {
          "base_uri": "https://localhost:8080/"
        },
        "id": "EaDDzwxmUc0m",
        "outputId": "8207ed36-51d5-4024-9913-269f742cba72",
        "collapsed": true
      },
      "execution_count": 31,
      "outputs": [
        {
          "output_type": "stream",
          "name": "stdout",
          "text": [
            "Collecting sklearn-crfsuite\n",
            "  Downloading sklearn_crfsuite-0.5.0-py2.py3-none-any.whl (10 kB)\n",
            "Collecting python-crfsuite>=0.9.7 (from sklearn-crfsuite)\n",
            "  Downloading python_crfsuite-0.9.10-cp310-cp310-manylinux_2_17_x86_64.manylinux2014_x86_64.whl (1.1 MB)\n",
            "\u001b[2K     \u001b[90m━━━━━━━━━━━━━━━━━━━━━━━━━━━━━━━━━━━━━━━━\u001b[0m \u001b[32m1.1/1.1 MB\u001b[0m \u001b[31m20.0 MB/s\u001b[0m eta \u001b[36m0:00:00\u001b[0m\n",
            "\u001b[?25hRequirement already satisfied: scikit-learn>=0.24.0 in /usr/local/lib/python3.10/dist-packages (from sklearn-crfsuite) (1.2.2)\n",
            "Requirement already satisfied: tabulate>=0.4.2 in /usr/local/lib/python3.10/dist-packages (from sklearn-crfsuite) (0.9.0)\n",
            "Requirement already satisfied: tqdm>=2.0 in /usr/local/lib/python3.10/dist-packages (from sklearn-crfsuite) (4.66.4)\n",
            "Requirement already satisfied: numpy>=1.17.3 in /usr/local/lib/python3.10/dist-packages (from scikit-learn>=0.24.0->sklearn-crfsuite) (1.25.2)\n",
            "Requirement already satisfied: scipy>=1.3.2 in /usr/local/lib/python3.10/dist-packages (from scikit-learn>=0.24.0->sklearn-crfsuite) (1.11.4)\n",
            "Requirement already satisfied: joblib>=1.1.1 in /usr/local/lib/python3.10/dist-packages (from scikit-learn>=0.24.0->sklearn-crfsuite) (1.4.2)\n",
            "Requirement already satisfied: threadpoolctl>=2.0.0 in /usr/local/lib/python3.10/dist-packages (from scikit-learn>=0.24.0->sklearn-crfsuite) (3.5.0)\n",
            "Installing collected packages: python-crfsuite, sklearn-crfsuite\n",
            "Successfully installed python-crfsuite-0.9.10 sklearn-crfsuite-0.5.0\n"
          ]
        }
      ]
    },
    {
      "cell_type": "code",
      "source": [
        "import sklearn_crfsuite\n",
        "from sklearn_crfsuite import scorers\n"
      ],
      "metadata": {
        "id": "uy3GmPVhTIIx"
      },
      "execution_count": 32,
      "outputs": []
    },
    {
      "cell_type": "code",
      "source": [
        "data.head()"
      ],
      "metadata": {
        "colab": {
          "base_uri": "https://localhost:8080/",
          "height": 206
        },
        "id": "XVbCzmRmTIMW",
        "outputId": "cdfeed26-1703-4656-fcc3-92d8d6ec7d85"
      },
      "execution_count": 33,
      "outputs": [
        {
          "output_type": "execute_result",
          "data": {
            "text/plain": [
              "   sentence_id          words  POS labels\n",
              "0            0      Thousands  NNS      O\n",
              "1            0             of   IN      O\n",
              "2            0  demonstrators  NNS      O\n",
              "3            0           have  VBP      O\n",
              "4            0        marched  VBN      O"
            ],
            "text/html": [
              "\n",
              "  <div id=\"df-14e17d46-a476-4bb6-9ef5-d165083e3d42\" class=\"colab-df-container\">\n",
              "    <div>\n",
              "<style scoped>\n",
              "    .dataframe tbody tr th:only-of-type {\n",
              "        vertical-align: middle;\n",
              "    }\n",
              "\n",
              "    .dataframe tbody tr th {\n",
              "        vertical-align: top;\n",
              "    }\n",
              "\n",
              "    .dataframe thead th {\n",
              "        text-align: right;\n",
              "    }\n",
              "</style>\n",
              "<table border=\"1\" class=\"dataframe\">\n",
              "  <thead>\n",
              "    <tr style=\"text-align: right;\">\n",
              "      <th></th>\n",
              "      <th>sentence_id</th>\n",
              "      <th>words</th>\n",
              "      <th>POS</th>\n",
              "      <th>labels</th>\n",
              "    </tr>\n",
              "  </thead>\n",
              "  <tbody>\n",
              "    <tr>\n",
              "      <th>0</th>\n",
              "      <td>0</td>\n",
              "      <td>Thousands</td>\n",
              "      <td>NNS</td>\n",
              "      <td>O</td>\n",
              "    </tr>\n",
              "    <tr>\n",
              "      <th>1</th>\n",
              "      <td>0</td>\n",
              "      <td>of</td>\n",
              "      <td>IN</td>\n",
              "      <td>O</td>\n",
              "    </tr>\n",
              "    <tr>\n",
              "      <th>2</th>\n",
              "      <td>0</td>\n",
              "      <td>demonstrators</td>\n",
              "      <td>NNS</td>\n",
              "      <td>O</td>\n",
              "    </tr>\n",
              "    <tr>\n",
              "      <th>3</th>\n",
              "      <td>0</td>\n",
              "      <td>have</td>\n",
              "      <td>VBP</td>\n",
              "      <td>O</td>\n",
              "    </tr>\n",
              "    <tr>\n",
              "      <th>4</th>\n",
              "      <td>0</td>\n",
              "      <td>marched</td>\n",
              "      <td>VBN</td>\n",
              "      <td>O</td>\n",
              "    </tr>\n",
              "  </tbody>\n",
              "</table>\n",
              "</div>\n",
              "    <div class=\"colab-df-buttons\">\n",
              "\n",
              "  <div class=\"colab-df-container\">\n",
              "    <button class=\"colab-df-convert\" onclick=\"convertToInteractive('df-14e17d46-a476-4bb6-9ef5-d165083e3d42')\"\n",
              "            title=\"Convert this dataframe to an interactive table.\"\n",
              "            style=\"display:none;\">\n",
              "\n",
              "  <svg xmlns=\"http://www.w3.org/2000/svg\" height=\"24px\" viewBox=\"0 -960 960 960\">\n",
              "    <path d=\"M120-120v-720h720v720H120Zm60-500h600v-160H180v160Zm220 220h160v-160H400v160Zm0 220h160v-160H400v160ZM180-400h160v-160H180v160Zm440 0h160v-160H620v160ZM180-180h160v-160H180v160Zm440 0h160v-160H620v160Z\"/>\n",
              "  </svg>\n",
              "    </button>\n",
              "\n",
              "  <style>\n",
              "    .colab-df-container {\n",
              "      display:flex;\n",
              "      gap: 12px;\n",
              "    }\n",
              "\n",
              "    .colab-df-convert {\n",
              "      background-color: #E8F0FE;\n",
              "      border: none;\n",
              "      border-radius: 50%;\n",
              "      cursor: pointer;\n",
              "      display: none;\n",
              "      fill: #1967D2;\n",
              "      height: 32px;\n",
              "      padding: 0 0 0 0;\n",
              "      width: 32px;\n",
              "    }\n",
              "\n",
              "    .colab-df-convert:hover {\n",
              "      background-color: #E2EBFA;\n",
              "      box-shadow: 0px 1px 2px rgba(60, 64, 67, 0.3), 0px 1px 3px 1px rgba(60, 64, 67, 0.15);\n",
              "      fill: #174EA6;\n",
              "    }\n",
              "\n",
              "    .colab-df-buttons div {\n",
              "      margin-bottom: 4px;\n",
              "    }\n",
              "\n",
              "    [theme=dark] .colab-df-convert {\n",
              "      background-color: #3B4455;\n",
              "      fill: #D2E3FC;\n",
              "    }\n",
              "\n",
              "    [theme=dark] .colab-df-convert:hover {\n",
              "      background-color: #434B5C;\n",
              "      box-shadow: 0px 1px 3px 1px rgba(0, 0, 0, 0.15);\n",
              "      filter: drop-shadow(0px 1px 2px rgba(0, 0, 0, 0.3));\n",
              "      fill: #FFFFFF;\n",
              "    }\n",
              "  </style>\n",
              "\n",
              "    <script>\n",
              "      const buttonEl =\n",
              "        document.querySelector('#df-14e17d46-a476-4bb6-9ef5-d165083e3d42 button.colab-df-convert');\n",
              "      buttonEl.style.display =\n",
              "        google.colab.kernel.accessAllowed ? 'block' : 'none';\n",
              "\n",
              "      async function convertToInteractive(key) {\n",
              "        const element = document.querySelector('#df-14e17d46-a476-4bb6-9ef5-d165083e3d42');\n",
              "        const dataTable =\n",
              "          await google.colab.kernel.invokeFunction('convertToInteractive',\n",
              "                                                    [key], {});\n",
              "        if (!dataTable) return;\n",
              "\n",
              "        const docLinkHtml = 'Like what you see? Visit the ' +\n",
              "          '<a target=\"_blank\" href=https://colab.research.google.com/notebooks/data_table.ipynb>data table notebook</a>'\n",
              "          + ' to learn more about interactive tables.';\n",
              "        element.innerHTML = '';\n",
              "        dataTable['output_type'] = 'display_data';\n",
              "        await google.colab.output.renderOutput(dataTable, element);\n",
              "        const docLink = document.createElement('div');\n",
              "        docLink.innerHTML = docLinkHtml;\n",
              "        element.appendChild(docLink);\n",
              "      }\n",
              "    </script>\n",
              "  </div>\n",
              "\n",
              "\n",
              "<div id=\"df-6a494079-10c6-4fe5-a2bb-63cd478bc9ce\">\n",
              "  <button class=\"colab-df-quickchart\" onclick=\"quickchart('df-6a494079-10c6-4fe5-a2bb-63cd478bc9ce')\"\n",
              "            title=\"Suggest charts\"\n",
              "            style=\"display:none;\">\n",
              "\n",
              "<svg xmlns=\"http://www.w3.org/2000/svg\" height=\"24px\"viewBox=\"0 0 24 24\"\n",
              "     width=\"24px\">\n",
              "    <g>\n",
              "        <path d=\"M19 3H5c-1.1 0-2 .9-2 2v14c0 1.1.9 2 2 2h14c1.1 0 2-.9 2-2V5c0-1.1-.9-2-2-2zM9 17H7v-7h2v7zm4 0h-2V7h2v10zm4 0h-2v-4h2v4z\"/>\n",
              "    </g>\n",
              "</svg>\n",
              "  </button>\n",
              "\n",
              "<style>\n",
              "  .colab-df-quickchart {\n",
              "      --bg-color: #E8F0FE;\n",
              "      --fill-color: #1967D2;\n",
              "      --hover-bg-color: #E2EBFA;\n",
              "      --hover-fill-color: #174EA6;\n",
              "      --disabled-fill-color: #AAA;\n",
              "      --disabled-bg-color: #DDD;\n",
              "  }\n",
              "\n",
              "  [theme=dark] .colab-df-quickchart {\n",
              "      --bg-color: #3B4455;\n",
              "      --fill-color: #D2E3FC;\n",
              "      --hover-bg-color: #434B5C;\n",
              "      --hover-fill-color: #FFFFFF;\n",
              "      --disabled-bg-color: #3B4455;\n",
              "      --disabled-fill-color: #666;\n",
              "  }\n",
              "\n",
              "  .colab-df-quickchart {\n",
              "    background-color: var(--bg-color);\n",
              "    border: none;\n",
              "    border-radius: 50%;\n",
              "    cursor: pointer;\n",
              "    display: none;\n",
              "    fill: var(--fill-color);\n",
              "    height: 32px;\n",
              "    padding: 0;\n",
              "    width: 32px;\n",
              "  }\n",
              "\n",
              "  .colab-df-quickchart:hover {\n",
              "    background-color: var(--hover-bg-color);\n",
              "    box-shadow: 0 1px 2px rgba(60, 64, 67, 0.3), 0 1px 3px 1px rgba(60, 64, 67, 0.15);\n",
              "    fill: var(--button-hover-fill-color);\n",
              "  }\n",
              "\n",
              "  .colab-df-quickchart-complete:disabled,\n",
              "  .colab-df-quickchart-complete:disabled:hover {\n",
              "    background-color: var(--disabled-bg-color);\n",
              "    fill: var(--disabled-fill-color);\n",
              "    box-shadow: none;\n",
              "  }\n",
              "\n",
              "  .colab-df-spinner {\n",
              "    border: 2px solid var(--fill-color);\n",
              "    border-color: transparent;\n",
              "    border-bottom-color: var(--fill-color);\n",
              "    animation:\n",
              "      spin 1s steps(1) infinite;\n",
              "  }\n",
              "\n",
              "  @keyframes spin {\n",
              "    0% {\n",
              "      border-color: transparent;\n",
              "      border-bottom-color: var(--fill-color);\n",
              "      border-left-color: var(--fill-color);\n",
              "    }\n",
              "    20% {\n",
              "      border-color: transparent;\n",
              "      border-left-color: var(--fill-color);\n",
              "      border-top-color: var(--fill-color);\n",
              "    }\n",
              "    30% {\n",
              "      border-color: transparent;\n",
              "      border-left-color: var(--fill-color);\n",
              "      border-top-color: var(--fill-color);\n",
              "      border-right-color: var(--fill-color);\n",
              "    }\n",
              "    40% {\n",
              "      border-color: transparent;\n",
              "      border-right-color: var(--fill-color);\n",
              "      border-top-color: var(--fill-color);\n",
              "    }\n",
              "    60% {\n",
              "      border-color: transparent;\n",
              "      border-right-color: var(--fill-color);\n",
              "    }\n",
              "    80% {\n",
              "      border-color: transparent;\n",
              "      border-right-color: var(--fill-color);\n",
              "      border-bottom-color: var(--fill-color);\n",
              "    }\n",
              "    90% {\n",
              "      border-color: transparent;\n",
              "      border-bottom-color: var(--fill-color);\n",
              "    }\n",
              "  }\n",
              "</style>\n",
              "\n",
              "  <script>\n",
              "    async function quickchart(key) {\n",
              "      const quickchartButtonEl =\n",
              "        document.querySelector('#' + key + ' button');\n",
              "      quickchartButtonEl.disabled = true;  // To prevent multiple clicks.\n",
              "      quickchartButtonEl.classList.add('colab-df-spinner');\n",
              "      try {\n",
              "        const charts = await google.colab.kernel.invokeFunction(\n",
              "            'suggestCharts', [key], {});\n",
              "      } catch (error) {\n",
              "        console.error('Error during call to suggestCharts:', error);\n",
              "      }\n",
              "      quickchartButtonEl.classList.remove('colab-df-spinner');\n",
              "      quickchartButtonEl.classList.add('colab-df-quickchart-complete');\n",
              "    }\n",
              "    (() => {\n",
              "      let quickchartButtonEl =\n",
              "        document.querySelector('#df-6a494079-10c6-4fe5-a2bb-63cd478bc9ce button');\n",
              "      quickchartButtonEl.style.display =\n",
              "        google.colab.kernel.accessAllowed ? 'block' : 'none';\n",
              "    })();\n",
              "  </script>\n",
              "</div>\n",
              "\n",
              "    </div>\n",
              "  </div>\n"
            ],
            "application/vnd.google.colaboratory.intrinsic+json": {
              "type": "dataframe",
              "variable_name": "data"
            }
          },
          "metadata": {},
          "execution_count": 33
        }
      ]
    },
    {
      "cell_type": "code",
      "source": [
        "# A class to retrieve the sentences from the dataset\n",
        "class SentenceGetter(object):\n",
        "\n",
        "    def __init__(self, dataset, word_col, tag_col, sent_id_col):\n",
        "        self.n_sent = 1\n",
        "        self.dataset = dataset\n",
        "        self.empty = False\n",
        "        agg_func = lambda s: [\n",
        "            (w, t) for w,t in zip(s[word_col].values.tolist(), s[tag_col].values.tolist())\n",
        "        ]\n",
        "        self.grouped = self.dataset.groupby(sent_id_col).apply(agg_func)\n",
        "        self.sentences = [s for s in self.grouped]\n",
        "\n",
        "    def get_next(self):\n",
        "        try:\n",
        "            s = self.grouped[\"Sentence: {}\".format(self.n_sent)]\n",
        "            self.n_sent += 1\n",
        "            return s\n",
        "        except:\n",
        "            return None"
      ],
      "metadata": {
        "id": "_7wLf8N-TIPU"
      },
      "execution_count": 121,
      "outputs": []
    },
    {
      "cell_type": "code",
      "source": [
        "%%time\n",
        "\n",
        "getter = SentenceGetter(dataset=data, word_col='words', tag_col='labels', sent_id_col='sentence_id')\n",
        "sentences = getter.sentences\n",
        "print(sentences[0])"
      ],
      "metadata": {
        "id": "_gMTO3W8TISc",
        "colab": {
          "base_uri": "https://localhost:8080/"
        },
        "outputId": "80a67b3c-5c2f-4541-f99b-c40fd0fb0e83"
      },
      "execution_count": 124,
      "outputs": [
        {
          "output_type": "stream",
          "name": "stdout",
          "text": [
            "[('Thousands', 'O'), ('of', 'O'), ('demonstrators', 'O'), ('have', 'O'), ('marched', 'O'), ('through', 'O'), ('London', 'B-geo'), ('to', 'O'), ('protest', 'O'), ('the', 'O'), ('war', 'O'), ('in', 'O'), ('Iraq', 'B-geo'), ('and', 'O'), ('demand', 'O'), ('the', 'O'), ('withdrawal', 'O'), ('of', 'O'), ('British', 'B-gpe'), ('troops', 'O'), ('from', 'O'), ('that', 'O'), ('country', 'O'), ('.', 'O')]\n",
            "CPU times: user 6.53 s, sys: 222 ms, total: 6.75 s\n",
            "Wall time: 6.78 s\n"
          ]
        }
      ]
    },
    {
      "cell_type": "code",
      "source": [
        "data['sentence_id'].nunique(), data.words.nunique(), data.labels.nunique()"
      ],
      "metadata": {
        "colab": {
          "base_uri": "https://localhost:8080/"
        },
        "id": "HWrfc0K5Daik",
        "outputId": "820b0031-d476-4a4c-c513-473ee5b3ff12"
      },
      "execution_count": 125,
      "outputs": [
        {
          "output_type": "execute_result",
          "data": {
            "text/plain": [
              "(47959, 35177, 17)"
            ]
          },
          "metadata": {},
          "execution_count": 125
        }
      ]
    },
    {
      "cell_type": "code",
      "source": [
        "print(type(getter))\n",
        "\n",
        "print(len(getter.sentences))"
      ],
      "metadata": {
        "colab": {
          "base_uri": "https://localhost:8080/"
        },
        "id": "h0fEm792DNPS",
        "outputId": "26b0ff7a-c5be-4b92-9ac7-8fbfa3ea0e8c"
      },
      "execution_count": 126,
      "outputs": [
        {
          "output_type": "stream",
          "name": "stdout",
          "text": [
            "<class '__main__.SentenceGetter'>\n",
            "47959\n"
          ]
        }
      ]
    },
    {
      "cell_type": "code",
      "source": [
        "sentences = getter.sentences\n",
        "#ths is how a sentence will look like.\n",
        "print(sentences[1])"
      ],
      "metadata": {
        "colab": {
          "base_uri": "https://localhost:8080/"
        },
        "id": "ViOy1B0-YIis",
        "outputId": "3419443d-9b40-4336-fcd8-43ec4abde7ba"
      },
      "execution_count": 127,
      "outputs": [
        {
          "output_type": "stream",
          "name": "stdout",
          "text": [
            "[('Iranian', 'B-gpe'), ('officials', 'O'), ('say', 'O'), ('they', 'O'), ('expect', 'O'), ('to', 'O'), ('get', 'O'), ('access', 'O'), ('to', 'O'), ('sealed', 'O'), ('sensitive', 'O'), ('parts', 'O'), ('of', 'O'), ('the', 'O'), ('plant', 'O'), ('Wednesday', 'B-tim'), (',', 'O'), ('after', 'O'), ('an', 'O'), ('IAEA', 'B-org'), ('surveillance', 'O'), ('system', 'O'), ('begins', 'O'), ('functioning', 'O'), ('.', 'O')]\n"
          ]
        }
      ]
    },
    {
      "cell_type": "code",
      "source": [
        "#Lets find the number of words in the dataset\n",
        "words = list(set(data[\"words\"].values))\n",
        "n_words = len(words)\n",
        "print(n_words)"
      ],
      "metadata": {
        "colab": {
          "base_uri": "https://localhost:8080/"
        },
        "id": "G33E8YNTeae7",
        "outputId": "33f00d98-6ce7-4652-919d-d0bc84f529d0"
      },
      "execution_count": 128,
      "outputs": [
        {
          "output_type": "stream",
          "name": "stdout",
          "text": [
            "35177\n"
          ]
        }
      ]
    },
    {
      "cell_type": "code",
      "source": [
        "#Lets visualize how the sentences are distributed by their length\n",
        "plt.style.use(\"ggplot\")\n",
        "plt.hist([len(s) for s in sentences], bins=50)\n",
        "plt.show()"
      ],
      "metadata": {
        "colab": {
          "base_uri": "https://localhost:8080/",
          "height": 422
        },
        "id": "VeySampCYEKq",
        "outputId": "85e7fc1d-7a65-402c-df1e-9dc551cd4793"
      },
      "execution_count": 129,
      "outputs": [
        {
          "output_type": "display_data",
          "data": {
            "text/plain": [
              "<Figure size 640x480 with 1 Axes>"
            ],
            "image/svg+xml": "<?xml version=\"1.0\" encoding=\"utf-8\" standalone=\"no\"?>\n<!DOCTYPE svg PUBLIC \"-//W3C//DTD SVG 1.1//EN\"\n  \"http://www.w3.org/Graphics/SVG/1.1/DTD/svg11.dtd\">\n<svg xmlns:xlink=\"http://www.w3.org/1999/xlink\" width=\"409.015pt\" height=\"300.657937pt\" viewBox=\"0 0 409.015 300.657937\" xmlns=\"http://www.w3.org/2000/svg\" version=\"1.1\">\n <metadata>\n  <rdf:RDF xmlns:dc=\"http://purl.org/dc/elements/1.1/\" xmlns:cc=\"http://creativecommons.org/ns#\" xmlns:rdf=\"http://www.w3.org/1999/02/22-rdf-syntax-ns#\">\n   <cc:Work>\n    <dc:type rdf:resource=\"http://purl.org/dc/dcmitype/StillImage\"/>\n    <dc:date>2024-06-27T11:21:44.240427</dc:date>\n    <dc:format>image/svg+xml</dc:format>\n    <dc:creator>\n     <cc:Agent>\n      <dc:title>Matplotlib v3.7.1, https://matplotlib.org/</dc:title>\n     </cc:Agent>\n    </dc:creator>\n   </cc:Work>\n  </rdf:RDF>\n </metadata>\n <defs>\n  <style type=\"text/css\">*{stroke-linejoin: round; stroke-linecap: butt}</style>\n </defs>\n <g id=\"figure_1\">\n  <g id=\"patch_1\">\n   <path d=\"M 0 300.657937 \nL 409.015 300.657937 \nL 409.015 0 \nL 0 0 \nz\n\" style=\"fill: #ffffff\"/>\n  </g>\n  <g id=\"axes_1\">\n   <g id=\"patch_2\">\n    <path d=\"M 44.695 273.312 \nL 401.815 273.312 \nL 401.815 7.2 \nL 44.695 7.2 \nz\n\" style=\"fill: #e5e5e5\"/>\n   </g>\n   <g id=\"matplotlib.axis_1\">\n    <g id=\"xtick_1\">\n     <g id=\"line2d_1\">\n      <path d=\"M 57.775741 273.312 \nL 57.775741 7.2 \n\" clip-path=\"url(#pa174944c42)\" style=\"fill: none; stroke: #ffffff; stroke-linecap: round\"/>\n     </g>\n     <g id=\"text_1\">\n      <!-- 0 -->\n      <g style=\"fill: #555555\" transform=\"translate(54.276366 291.170281) scale(0.11 -0.11)\">\n       <defs>\n        <path id=\"DejaVuSans-30\" d=\"M 2034 4250 \nQ 1547 4250 1301 3770 \nQ 1056 3291 1056 2328 \nQ 1056 1369 1301 889 \nQ 1547 409 2034 409 \nQ 2525 409 2770 889 \nQ 3016 1369 3016 2328 \nQ 3016 3291 2770 3770 \nQ 2525 4250 2034 4250 \nz\nM 2034 4750 \nQ 2819 4750 3233 4129 \nQ 3647 3509 3647 2328 \nQ 3647 1150 3233 529 \nQ 2819 -91 2034 -91 \nQ 1250 -91 836 529 \nQ 422 1150 422 2328 \nQ 422 3509 836 4129 \nQ 1250 4750 2034 4750 \nz\n\" transform=\"scale(0.015625)\"/>\n       </defs>\n       <use xlink:href=\"#DejaVuSans-30\"/>\n      </g>\n     </g>\n    </g>\n    <g id=\"xtick_2\">\n     <g id=\"line2d_2\">\n      <path d=\"M 120.815459 273.312 \nL 120.815459 7.2 \n\" clip-path=\"url(#pa174944c42)\" style=\"fill: none; stroke: #ffffff; stroke-linecap: round\"/>\n     </g>\n     <g id=\"text_2\">\n      <!-- 20 -->\n      <g style=\"fill: #555555\" transform=\"translate(113.816709 291.170281) scale(0.11 -0.11)\">\n       <defs>\n        <path id=\"DejaVuSans-32\" d=\"M 1228 531 \nL 3431 531 \nL 3431 0 \nL 469 0 \nL 469 531 \nQ 828 903 1448 1529 \nQ 2069 2156 2228 2338 \nQ 2531 2678 2651 2914 \nQ 2772 3150 2772 3378 \nQ 2772 3750 2511 3984 \nQ 2250 4219 1831 4219 \nQ 1534 4219 1204 4116 \nQ 875 4013 500 3803 \nL 500 4441 \nQ 881 4594 1212 4672 \nQ 1544 4750 1819 4750 \nQ 2544 4750 2975 4387 \nQ 3406 4025 3406 3419 \nQ 3406 3131 3298 2873 \nQ 3191 2616 2906 2266 \nQ 2828 2175 2409 1742 \nQ 1991 1309 1228 531 \nz\n\" transform=\"scale(0.015625)\"/>\n       </defs>\n       <use xlink:href=\"#DejaVuSans-32\"/>\n       <use xlink:href=\"#DejaVuSans-30\" x=\"63.623047\"/>\n      </g>\n     </g>\n    </g>\n    <g id=\"xtick_3\">\n     <g id=\"line2d_3\">\n      <path d=\"M 183.855177 273.312 \nL 183.855177 7.2 \n\" clip-path=\"url(#pa174944c42)\" style=\"fill: none; stroke: #ffffff; stroke-linecap: round\"/>\n     </g>\n     <g id=\"text_3\">\n      <!-- 40 -->\n      <g style=\"fill: #555555\" transform=\"translate(176.856427 291.170281) scale(0.11 -0.11)\">\n       <defs>\n        <path id=\"DejaVuSans-34\" d=\"M 2419 4116 \nL 825 1625 \nL 2419 1625 \nL 2419 4116 \nz\nM 2253 4666 \nL 3047 4666 \nL 3047 1625 \nL 3713 1625 \nL 3713 1100 \nL 3047 1100 \nL 3047 0 \nL 2419 0 \nL 2419 1100 \nL 313 1100 \nL 313 1709 \nL 2253 4666 \nz\n\" transform=\"scale(0.015625)\"/>\n       </defs>\n       <use xlink:href=\"#DejaVuSans-34\"/>\n       <use xlink:href=\"#DejaVuSans-30\" x=\"63.623047\"/>\n      </g>\n     </g>\n    </g>\n    <g id=\"xtick_4\">\n     <g id=\"line2d_4\">\n      <path d=\"M 246.894894 273.312 \nL 246.894894 7.2 \n\" clip-path=\"url(#pa174944c42)\" style=\"fill: none; stroke: #ffffff; stroke-linecap: round\"/>\n     </g>\n     <g id=\"text_4\">\n      <!-- 60 -->\n      <g style=\"fill: #555555\" transform=\"translate(239.896144 291.170281) scale(0.11 -0.11)\">\n       <defs>\n        <path id=\"DejaVuSans-36\" d=\"M 2113 2584 \nQ 1688 2584 1439 2293 \nQ 1191 2003 1191 1497 \nQ 1191 994 1439 701 \nQ 1688 409 2113 409 \nQ 2538 409 2786 701 \nQ 3034 994 3034 1497 \nQ 3034 2003 2786 2293 \nQ 2538 2584 2113 2584 \nz\nM 3366 4563 \nL 3366 3988 \nQ 3128 4100 2886 4159 \nQ 2644 4219 2406 4219 \nQ 1781 4219 1451 3797 \nQ 1122 3375 1075 2522 \nQ 1259 2794 1537 2939 \nQ 1816 3084 2150 3084 \nQ 2853 3084 3261 2657 \nQ 3669 2231 3669 1497 \nQ 3669 778 3244 343 \nQ 2819 -91 2113 -91 \nQ 1303 -91 875 529 \nQ 447 1150 447 2328 \nQ 447 3434 972 4092 \nQ 1497 4750 2381 4750 \nQ 2619 4750 2861 4703 \nQ 3103 4656 3366 4563 \nz\n\" transform=\"scale(0.015625)\"/>\n       </defs>\n       <use xlink:href=\"#DejaVuSans-36\"/>\n       <use xlink:href=\"#DejaVuSans-30\" x=\"63.623047\"/>\n      </g>\n     </g>\n    </g>\n    <g id=\"xtick_5\">\n     <g id=\"line2d_5\">\n      <path d=\"M 309.934612 273.312 \nL 309.934612 7.2 \n\" clip-path=\"url(#pa174944c42)\" style=\"fill: none; stroke: #ffffff; stroke-linecap: round\"/>\n     </g>\n     <g id=\"text_5\">\n      <!-- 80 -->\n      <g style=\"fill: #555555\" transform=\"translate(302.935862 291.170281) scale(0.11 -0.11)\">\n       <defs>\n        <path id=\"DejaVuSans-38\" d=\"M 2034 2216 \nQ 1584 2216 1326 1975 \nQ 1069 1734 1069 1313 \nQ 1069 891 1326 650 \nQ 1584 409 2034 409 \nQ 2484 409 2743 651 \nQ 3003 894 3003 1313 \nQ 3003 1734 2745 1975 \nQ 2488 2216 2034 2216 \nz\nM 1403 2484 \nQ 997 2584 770 2862 \nQ 544 3141 544 3541 \nQ 544 4100 942 4425 \nQ 1341 4750 2034 4750 \nQ 2731 4750 3128 4425 \nQ 3525 4100 3525 3541 \nQ 3525 3141 3298 2862 \nQ 3072 2584 2669 2484 \nQ 3125 2378 3379 2068 \nQ 3634 1759 3634 1313 \nQ 3634 634 3220 271 \nQ 2806 -91 2034 -91 \nQ 1263 -91 848 271 \nQ 434 634 434 1313 \nQ 434 1759 690 2068 \nQ 947 2378 1403 2484 \nz\nM 1172 3481 \nQ 1172 3119 1398 2916 \nQ 1625 2713 2034 2713 \nQ 2441 2713 2670 2916 \nQ 2900 3119 2900 3481 \nQ 2900 3844 2670 4047 \nQ 2441 4250 2034 4250 \nQ 1625 4250 1398 4047 \nQ 1172 3844 1172 3481 \nz\n\" transform=\"scale(0.015625)\"/>\n       </defs>\n       <use xlink:href=\"#DejaVuSans-38\"/>\n       <use xlink:href=\"#DejaVuSans-30\" x=\"63.623047\"/>\n      </g>\n     </g>\n    </g>\n    <g id=\"xtick_6\">\n     <g id=\"line2d_6\">\n      <path d=\"M 372.974329 273.312 \nL 372.974329 7.2 \n\" clip-path=\"url(#pa174944c42)\" style=\"fill: none; stroke: #ffffff; stroke-linecap: round\"/>\n     </g>\n     <g id=\"text_6\">\n      <!-- 100 -->\n      <g style=\"fill: #555555\" transform=\"translate(362.476204 291.170281) scale(0.11 -0.11)\">\n       <defs>\n        <path id=\"DejaVuSans-31\" d=\"M 794 531 \nL 1825 531 \nL 1825 4091 \nL 703 3866 \nL 703 4441 \nL 1819 4666 \nL 2450 4666 \nL 2450 531 \nL 3481 531 \nL 3481 0 \nL 794 0 \nL 794 531 \nz\n\" transform=\"scale(0.015625)\"/>\n       </defs>\n       <use xlink:href=\"#DejaVuSans-31\"/>\n       <use xlink:href=\"#DejaVuSans-30\" x=\"63.623047\"/>\n       <use xlink:href=\"#DejaVuSans-30\" x=\"127.246094\"/>\n      </g>\n     </g>\n    </g>\n   </g>\n   <g id=\"matplotlib.axis_2\">\n    <g id=\"ytick_1\">\n     <g id=\"line2d_7\">\n      <path d=\"M 44.695 273.312 \nL 401.815 273.312 \n\" clip-path=\"url(#pa174944c42)\" style=\"fill: none; stroke: #ffffff; stroke-linecap: round\"/>\n     </g>\n     <g id=\"text_7\">\n      <!-- 0 -->\n      <g style=\"fill: #555555\" transform=\"translate(28.19625 277.491141) scale(0.11 -0.11)\">\n       <use xlink:href=\"#DejaVuSans-30\"/>\n      </g>\n     </g>\n    </g>\n    <g id=\"ytick_2\">\n     <g id=\"line2d_8\">\n      <path d=\"M 44.695 221.045553 \nL 401.815 221.045553 \n\" clip-path=\"url(#pa174944c42)\" style=\"fill: none; stroke: #ffffff; stroke-linecap: round\"/>\n     </g>\n     <g id=\"text_8\">\n      <!-- 1000 -->\n      <g style=\"fill: #555555\" transform=\"translate(7.2 225.224694) scale(0.11 -0.11)\">\n       <use xlink:href=\"#DejaVuSans-31\"/>\n       <use xlink:href=\"#DejaVuSans-30\" x=\"63.623047\"/>\n       <use xlink:href=\"#DejaVuSans-30\" x=\"127.246094\"/>\n       <use xlink:href=\"#DejaVuSans-30\" x=\"190.869141\"/>\n      </g>\n     </g>\n    </g>\n    <g id=\"ytick_3\">\n     <g id=\"line2d_9\">\n      <path d=\"M 44.695 168.779107 \nL 401.815 168.779107 \n\" clip-path=\"url(#pa174944c42)\" style=\"fill: none; stroke: #ffffff; stroke-linecap: round\"/>\n     </g>\n     <g id=\"text_9\">\n      <!-- 2000 -->\n      <g style=\"fill: #555555\" transform=\"translate(7.2 172.958247) scale(0.11 -0.11)\">\n       <use xlink:href=\"#DejaVuSans-32\"/>\n       <use xlink:href=\"#DejaVuSans-30\" x=\"63.623047\"/>\n       <use xlink:href=\"#DejaVuSans-30\" x=\"127.246094\"/>\n       <use xlink:href=\"#DejaVuSans-30\" x=\"190.869141\"/>\n      </g>\n     </g>\n    </g>\n    <g id=\"ytick_4\">\n     <g id=\"line2d_10\">\n      <path d=\"M 44.695 116.51266 \nL 401.815 116.51266 \n\" clip-path=\"url(#pa174944c42)\" style=\"fill: none; stroke: #ffffff; stroke-linecap: round\"/>\n     </g>\n     <g id=\"text_10\">\n      <!-- 3000 -->\n      <g style=\"fill: #555555\" transform=\"translate(7.2 120.691801) scale(0.11 -0.11)\">\n       <defs>\n        <path id=\"DejaVuSans-33\" d=\"M 2597 2516 \nQ 3050 2419 3304 2112 \nQ 3559 1806 3559 1356 \nQ 3559 666 3084 287 \nQ 2609 -91 1734 -91 \nQ 1441 -91 1130 -33 \nQ 819 25 488 141 \nL 488 750 \nQ 750 597 1062 519 \nQ 1375 441 1716 441 \nQ 2309 441 2620 675 \nQ 2931 909 2931 1356 \nQ 2931 1769 2642 2001 \nQ 2353 2234 1838 2234 \nL 1294 2234 \nL 1294 2753 \nL 1863 2753 \nQ 2328 2753 2575 2939 \nQ 2822 3125 2822 3475 \nQ 2822 3834 2567 4026 \nQ 2313 4219 1838 4219 \nQ 1578 4219 1281 4162 \nQ 984 4106 628 3988 \nL 628 4550 \nQ 988 4650 1302 4700 \nQ 1616 4750 1894 4750 \nQ 2613 4750 3031 4423 \nQ 3450 4097 3450 3541 \nQ 3450 3153 3228 2886 \nQ 3006 2619 2597 2516 \nz\n\" transform=\"scale(0.015625)\"/>\n       </defs>\n       <use xlink:href=\"#DejaVuSans-33\"/>\n       <use xlink:href=\"#DejaVuSans-30\" x=\"63.623047\"/>\n       <use xlink:href=\"#DejaVuSans-30\" x=\"127.246094\"/>\n       <use xlink:href=\"#DejaVuSans-30\" x=\"190.869141\"/>\n      </g>\n     </g>\n    </g>\n    <g id=\"ytick_5\">\n     <g id=\"line2d_11\">\n      <path d=\"M 44.695 64.246213 \nL 401.815 64.246213 \n\" clip-path=\"url(#pa174944c42)\" style=\"fill: none; stroke: #ffffff; stroke-linecap: round\"/>\n     </g>\n     <g id=\"text_11\">\n      <!-- 4000 -->\n      <g style=\"fill: #555555\" transform=\"translate(7.2 68.425354) scale(0.11 -0.11)\">\n       <use xlink:href=\"#DejaVuSans-34\"/>\n       <use xlink:href=\"#DejaVuSans-30\" x=\"63.623047\"/>\n       <use xlink:href=\"#DejaVuSans-30\" x=\"127.246094\"/>\n       <use xlink:href=\"#DejaVuSans-30\" x=\"190.869141\"/>\n      </g>\n     </g>\n    </g>\n    <g id=\"ytick_6\">\n     <g id=\"line2d_12\">\n      <path d=\"M 44.695 11.979767 \nL 401.815 11.979767 \n\" clip-path=\"url(#pa174944c42)\" style=\"fill: none; stroke: #ffffff; stroke-linecap: round\"/>\n     </g>\n     <g id=\"text_12\">\n      <!-- 5000 -->\n      <g style=\"fill: #555555\" transform=\"translate(7.2 16.158907) scale(0.11 -0.11)\">\n       <defs>\n        <path id=\"DejaVuSans-35\" d=\"M 691 4666 \nL 3169 4666 \nL 3169 4134 \nL 1269 4134 \nL 1269 2991 \nQ 1406 3038 1543 3061 \nQ 1681 3084 1819 3084 \nQ 2600 3084 3056 2656 \nQ 3513 2228 3513 1497 \nQ 3513 744 3044 326 \nQ 2575 -91 1722 -91 \nQ 1428 -91 1123 -41 \nQ 819 9 494 109 \nL 494 744 \nQ 775 591 1075 516 \nQ 1375 441 1709 441 \nQ 2250 441 2565 725 \nQ 2881 1009 2881 1497 \nQ 2881 1984 2565 2268 \nQ 2250 2553 1709 2553 \nQ 1456 2553 1204 2497 \nQ 953 2441 691 2322 \nL 691 4666 \nz\n\" transform=\"scale(0.015625)\"/>\n       </defs>\n       <use xlink:href=\"#DejaVuSans-35\"/>\n       <use xlink:href=\"#DejaVuSans-30\" x=\"63.623047\"/>\n       <use xlink:href=\"#DejaVuSans-30\" x=\"127.246094\"/>\n       <use xlink:href=\"#DejaVuSans-30\" x=\"190.869141\"/>\n      </g>\n     </g>\n    </g>\n   </g>\n   <g id=\"patch_3\">\n    <path d=\"M 60.927727 273.312 \nL 67.420818 273.312 \nL 67.420818 272.632536 \nL 60.927727 272.632536 \nz\n\" clip-path=\"url(#pa174944c42)\" style=\"fill: #e24a33; stroke: #eeeeee; stroke-width: 0.5; stroke-linejoin: miter\"/>\n   </g>\n   <g id=\"patch_4\">\n    <path d=\"M 67.420818 273.312 \nL 73.913909 273.312 \nL 73.913909 263.90404 \nL 67.420818 263.90404 \nz\n\" clip-path=\"url(#pa174944c42)\" style=\"fill: #e24a33; stroke: #eeeeee; stroke-width: 0.5; stroke-linejoin: miter\"/>\n   </g>\n   <g id=\"patch_5\">\n    <path d=\"M 73.913909 273.312 \nL 80.407 273.312 \nL 80.407 236.568688 \nL 73.913909 236.568688 \nz\n\" clip-path=\"url(#pa174944c42)\" style=\"fill: #e24a33; stroke: #eeeeee; stroke-width: 0.5; stroke-linejoin: miter\"/>\n   </g>\n   <g id=\"patch_6\">\n    <path d=\"M 80.407 273.312 \nL 86.900091 273.312 \nL 86.900091 202.072833 \nL 80.407 202.072833 \nz\n\" clip-path=\"url(#pa174944c42)\" style=\"fill: #e24a33; stroke: #eeeeee; stroke-width: 0.5; stroke-linejoin: miter\"/>\n   </g>\n   <g id=\"patch_7\">\n    <path d=\"M 86.900091 273.312 \nL 93.393182 273.312 \nL 93.393182 160.834607 \nL 86.900091 160.834607 \nz\n\" clip-path=\"url(#pa174944c42)\" style=\"fill: #e24a33; stroke: #eeeeee; stroke-width: 0.5; stroke-linejoin: miter\"/>\n   </g>\n   <g id=\"patch_8\">\n    <path d=\"M 93.393182 273.312 \nL 99.886273 273.312 \nL 99.886273 126.80915 \nL 93.393182 126.80915 \nz\n\" clip-path=\"url(#pa174944c42)\" style=\"fill: #e24a33; stroke: #eeeeee; stroke-width: 0.5; stroke-linejoin: miter\"/>\n   </g>\n   <g id=\"patch_9\">\n    <path d=\"M 99.886273 273.312 \nL 106.379364 273.312 \nL 106.379364 90.588502 \nL 99.886273 90.588502 \nz\n\" clip-path=\"url(#pa174944c42)\" style=\"fill: #e24a33; stroke: #eeeeee; stroke-width: 0.5; stroke-linejoin: miter\"/>\n   </g>\n   <g id=\"patch_10\">\n    <path d=\"M 106.379364 273.312 \nL 112.872455 273.312 \nL 112.872455 66.075539 \nL 106.379364 66.075539 \nz\n\" clip-path=\"url(#pa174944c42)\" style=\"fill: #e24a33; stroke: #eeeeee; stroke-width: 0.5; stroke-linejoin: miter\"/>\n   </g>\n   <g id=\"patch_11\">\n    <path d=\"M 112.872455 273.312 \nL 119.365545 273.312 \nL 119.365545 35.02927 \nL 112.872455 35.02927 \nz\n\" clip-path=\"url(#pa174944c42)\" style=\"fill: #e24a33; stroke: #eeeeee; stroke-width: 0.5; stroke-linejoin: miter\"/>\n   </g>\n   <g id=\"patch_12\">\n    <path d=\"M 119.365545 273.312 \nL 125.858636 273.312 \nL 125.858636 19.872 \nL 119.365545 19.872 \nz\n\" clip-path=\"url(#pa174944c42)\" style=\"fill: #e24a33; stroke: #eeeeee; stroke-width: 0.5; stroke-linejoin: miter\"/>\n   </g>\n   <g id=\"patch_13\">\n    <path d=\"M 125.858636 273.312 \nL 132.351727 273.312 \nL 132.351727 27.346102 \nL 125.858636 27.346102 \nz\n\" clip-path=\"url(#pa174944c42)\" style=\"fill: #e24a33; stroke: #eeeeee; stroke-width: 0.5; stroke-linejoin: miter\"/>\n   </g>\n   <g id=\"patch_14\">\n    <path d=\"M 132.351727 273.312 \nL 138.844818 273.312 \nL 138.844818 40.883112 \nL 132.351727 40.883112 \nz\n\" clip-path=\"url(#pa174944c42)\" style=\"fill: #e24a33; stroke: #eeeeee; stroke-width: 0.5; stroke-linejoin: miter\"/>\n   </g>\n   <g id=\"patch_15\">\n    <path d=\"M 138.844818 273.312 \nL 145.337909 273.312 \nL 145.337909 73.967772 \nL 138.844818 73.967772 \nz\n\" clip-path=\"url(#pa174944c42)\" style=\"fill: #e24a33; stroke: #eeeeee; stroke-width: 0.5; stroke-linejoin: miter\"/>\n   </g>\n   <g id=\"patch_16\">\n    <path d=\"M 145.337909 273.312 \nL 151.831 273.312 \nL 151.831 110.397486 \nL 145.337909 110.397486 \nz\n\" clip-path=\"url(#pa174944c42)\" style=\"fill: #e24a33; stroke: #eeeeee; stroke-width: 0.5; stroke-linejoin: miter\"/>\n   </g>\n   <g id=\"patch_17\">\n    <path d=\"M 151.831 273.312 \nL 158.324091 273.312 \nL 158.324091 146.147735 \nL 151.831 146.147735 \nz\n\" clip-path=\"url(#pa174944c42)\" style=\"fill: #e24a33; stroke: #eeeeee; stroke-width: 0.5; stroke-linejoin: miter\"/>\n   </g>\n   <g id=\"patch_18\">\n    <path d=\"M 158.324091 273.312 \nL 164.817182 273.312 \nL 164.817182 184.511307 \nL 158.324091 184.511307 \nz\n\" clip-path=\"url(#pa174944c42)\" style=\"fill: #e24a33; stroke: #eeeeee; stroke-width: 0.5; stroke-linejoin: miter\"/>\n   </g>\n   <g id=\"patch_19\">\n    <path d=\"M 164.817182 273.312 \nL 171.310273 273.312 \nL 171.310273 180.957189 \nL 164.817182 180.957189 \nz\n\" clip-path=\"url(#pa174944c42)\" style=\"fill: #e24a33; stroke: #eeeeee; stroke-width: 0.5; stroke-linejoin: miter\"/>\n   </g>\n   <g id=\"patch_20\">\n    <path d=\"M 171.310273 273.312 \nL 177.803364 273.312 \nL 177.803364 239.391076 \nL 171.310273 239.391076 \nz\n\" clip-path=\"url(#pa174944c42)\" style=\"fill: #e24a33; stroke: #eeeeee; stroke-width: 0.5; stroke-linejoin: miter\"/>\n   </g>\n   <g id=\"patch_21\">\n    <path d=\"M 177.803364 273.312 \nL 184.296455 273.312 \nL 184.296455 248.642237 \nL 177.803364 248.642237 \nz\n\" clip-path=\"url(#pa174944c42)\" style=\"fill: #e24a33; stroke: #eeeeee; stroke-width: 0.5; stroke-linejoin: miter\"/>\n   </g>\n   <g id=\"patch_22\">\n    <path d=\"M 184.296455 273.312 \nL 190.789545 273.312 \nL 190.789545 259.409125 \nL 184.296455 259.409125 \nz\n\" clip-path=\"url(#pa174944c42)\" style=\"fill: #e24a33; stroke: #eeeeee; stroke-width: 0.5; stroke-linejoin: miter\"/>\n   </g>\n   <g id=\"patch_23\">\n    <path d=\"M 190.789545 273.312 \nL 197.282636 273.312 \nL 197.282636 264.374438 \nL 190.789545 264.374438 \nz\n\" clip-path=\"url(#pa174944c42)\" style=\"fill: #e24a33; stroke: #eeeeee; stroke-width: 0.5; stroke-linejoin: miter\"/>\n   </g>\n   <g id=\"patch_24\">\n    <path d=\"M 197.282636 273.312 \nL 203.775727 273.312 \nL 203.775727 267.824023 \nL 197.282636 267.824023 \nz\n\" clip-path=\"url(#pa174944c42)\" style=\"fill: #e24a33; stroke: #eeeeee; stroke-width: 0.5; stroke-linejoin: miter\"/>\n   </g>\n   <g id=\"patch_25\">\n    <path d=\"M 203.775727 273.312 \nL 210.268818 273.312 \nL 210.268818 269.496549 \nL 203.775727 269.496549 \nz\n\" clip-path=\"url(#pa174944c42)\" style=\"fill: #e24a33; stroke: #eeeeee; stroke-width: 0.5; stroke-linejoin: miter\"/>\n   </g>\n   <g id=\"patch_26\">\n    <path d=\"M 210.268818 273.312 \nL 216.761909 273.312 \nL 216.761909 270.22828 \nL 210.268818 270.22828 \nz\n\" clip-path=\"url(#pa174944c42)\" style=\"fill: #e24a33; stroke: #eeeeee; stroke-width: 0.5; stroke-linejoin: miter\"/>\n   </g>\n   <g id=\"patch_27\">\n    <path d=\"M 216.761909 273.312 \nL 223.255 273.312 \nL 223.255 272.057605 \nL 216.761909 272.057605 \nz\n\" clip-path=\"url(#pa174944c42)\" style=\"fill: #e24a33; stroke: #eeeeee; stroke-width: 0.5; stroke-linejoin: miter\"/>\n   </g>\n   <g id=\"patch_28\">\n    <path d=\"M 223.255 273.312 \nL 229.748091 273.312 \nL 229.748091 272.371204 \nL 223.255 272.371204 \nz\n\" clip-path=\"url(#pa174944c42)\" style=\"fill: #e24a33; stroke: #eeeeee; stroke-width: 0.5; stroke-linejoin: miter\"/>\n   </g>\n   <g id=\"patch_29\">\n    <path d=\"M 229.748091 273.312 \nL 236.241182 273.312 \nL 236.241182 272.214405 \nL 229.748091 272.214405 \nz\n\" clip-path=\"url(#pa174944c42)\" style=\"fill: #e24a33; stroke: #eeeeee; stroke-width: 0.5; stroke-linejoin: miter\"/>\n   </g>\n   <g id=\"patch_30\">\n    <path d=\"M 236.241182 273.312 \nL 242.734273 273.312 \nL 242.734273 272.998401 \nL 236.241182 272.998401 \nz\n\" clip-path=\"url(#pa174944c42)\" style=\"fill: #e24a33; stroke: #eeeeee; stroke-width: 0.5; stroke-linejoin: miter\"/>\n   </g>\n   <g id=\"patch_31\">\n    <path d=\"M 242.734273 273.312 \nL 249.227364 273.312 \nL 249.227364 272.841602 \nL 242.734273 272.841602 \nz\n\" clip-path=\"url(#pa174944c42)\" style=\"fill: #e24a33; stroke: #eeeeee; stroke-width: 0.5; stroke-linejoin: miter\"/>\n   </g>\n   <g id=\"patch_32\">\n    <path d=\"M 249.227364 273.312 \nL 255.720455 273.312 \nL 255.720455 272.998401 \nL 249.227364 272.998401 \nz\n\" clip-path=\"url(#pa174944c42)\" style=\"fill: #e24a33; stroke: #eeeeee; stroke-width: 0.5; stroke-linejoin: miter\"/>\n   </g>\n   <g id=\"patch_33\">\n    <path d=\"M 255.720455 273.312 \nL 262.213545 273.312 \nL 262.213545 273.207467 \nL 255.720455 273.207467 \nz\n\" clip-path=\"url(#pa174944c42)\" style=\"fill: #e24a33; stroke: #eeeeee; stroke-width: 0.5; stroke-linejoin: miter\"/>\n   </g>\n   <g id=\"patch_34\">\n    <path d=\"M 262.213545 273.312 \nL 268.706636 273.312 \nL 268.706636 273.102934 \nL 262.213545 273.102934 \nz\n\" clip-path=\"url(#pa174944c42)\" style=\"fill: #e24a33; stroke: #eeeeee; stroke-width: 0.5; stroke-linejoin: miter\"/>\n   </g>\n   <g id=\"patch_35\">\n    <path d=\"M 268.706636 273.312 \nL 275.199727 273.312 \nL 275.199727 273.259734 \nL 268.706636 273.259734 \nz\n\" clip-path=\"url(#pa174944c42)\" style=\"fill: #e24a33; stroke: #eeeeee; stroke-width: 0.5; stroke-linejoin: miter\"/>\n   </g>\n   <g id=\"patch_36\">\n    <path d=\"M 275.199727 273.312 \nL 281.692818 273.312 \nL 281.692818 273.155201 \nL 275.199727 273.155201 \nz\n\" clip-path=\"url(#pa174944c42)\" style=\"fill: #e24a33; stroke: #eeeeee; stroke-width: 0.5; stroke-linejoin: miter\"/>\n   </g>\n   <g id=\"patch_37\">\n    <path d=\"M 281.692818 273.312 \nL 288.185909 273.312 \nL 288.185909 273.207467 \nL 281.692818 273.207467 \nz\n\" clip-path=\"url(#pa174944c42)\" style=\"fill: #e24a33; stroke: #eeeeee; stroke-width: 0.5; stroke-linejoin: miter\"/>\n   </g>\n   <g id=\"patch_38\">\n    <path d=\"M 288.185909 273.312 \nL 294.679 273.312 \nL 294.679 273.312 \nL 288.185909 273.312 \nz\n\" clip-path=\"url(#pa174944c42)\" style=\"fill: #e24a33; stroke: #eeeeee; stroke-width: 0.5; stroke-linejoin: miter\"/>\n   </g>\n   <g id=\"patch_39\">\n    <path d=\"M 294.679 273.312 \nL 301.172091 273.312 \nL 301.172091 273.312 \nL 294.679 273.312 \nz\n\" clip-path=\"url(#pa174944c42)\" style=\"fill: #e24a33; stroke: #eeeeee; stroke-width: 0.5; stroke-linejoin: miter\"/>\n   </g>\n   <g id=\"patch_40\">\n    <path d=\"M 301.172091 273.312 \nL 307.665182 273.312 \nL 307.665182 273.312 \nL 301.172091 273.312 \nz\n\" clip-path=\"url(#pa174944c42)\" style=\"fill: #e24a33; stroke: #eeeeee; stroke-width: 0.5; stroke-linejoin: miter\"/>\n   </g>\n   <g id=\"patch_41\">\n    <path d=\"M 307.665182 273.312 \nL 314.158273 273.312 \nL 314.158273 273.259734 \nL 307.665182 273.259734 \nz\n\" clip-path=\"url(#pa174944c42)\" style=\"fill: #e24a33; stroke: #eeeeee; stroke-width: 0.5; stroke-linejoin: miter\"/>\n   </g>\n   <g id=\"patch_42\">\n    <path d=\"M 314.158273 273.312 \nL 320.651364 273.312 \nL 320.651364 273.312 \nL 314.158273 273.312 \nz\n\" clip-path=\"url(#pa174944c42)\" style=\"fill: #e24a33; stroke: #eeeeee; stroke-width: 0.5; stroke-linejoin: miter\"/>\n   </g>\n   <g id=\"patch_43\">\n    <path d=\"M 320.651364 273.312 \nL 327.144455 273.312 \nL 327.144455 273.312 \nL 320.651364 273.312 \nz\n\" clip-path=\"url(#pa174944c42)\" style=\"fill: #e24a33; stroke: #eeeeee; stroke-width: 0.5; stroke-linejoin: miter\"/>\n   </g>\n   <g id=\"patch_44\">\n    <path d=\"M 327.144455 273.312 \nL 333.637545 273.312 \nL 333.637545 273.312 \nL 327.144455 273.312 \nz\n\" clip-path=\"url(#pa174944c42)\" style=\"fill: #e24a33; stroke: #eeeeee; stroke-width: 0.5; stroke-linejoin: miter\"/>\n   </g>\n   <g id=\"patch_45\">\n    <path d=\"M 333.637545 273.312 \nL 340.130636 273.312 \nL 340.130636 273.312 \nL 333.637545 273.312 \nz\n\" clip-path=\"url(#pa174944c42)\" style=\"fill: #e24a33; stroke: #eeeeee; stroke-width: 0.5; stroke-linejoin: miter\"/>\n   </g>\n   <g id=\"patch_46\">\n    <path d=\"M 340.130636 273.312 \nL 346.623727 273.312 \nL 346.623727 273.312 \nL 340.130636 273.312 \nz\n\" clip-path=\"url(#pa174944c42)\" style=\"fill: #e24a33; stroke: #eeeeee; stroke-width: 0.5; stroke-linejoin: miter\"/>\n   </g>\n   <g id=\"patch_47\">\n    <path d=\"M 346.623727 273.312 \nL 353.116818 273.312 \nL 353.116818 273.312 \nL 346.623727 273.312 \nz\n\" clip-path=\"url(#pa174944c42)\" style=\"fill: #e24a33; stroke: #eeeeee; stroke-width: 0.5; stroke-linejoin: miter\"/>\n   </g>\n   <g id=\"patch_48\">\n    <path d=\"M 353.116818 273.312 \nL 359.609909 273.312 \nL 359.609909 273.312 \nL 353.116818 273.312 \nz\n\" clip-path=\"url(#pa174944c42)\" style=\"fill: #e24a33; stroke: #eeeeee; stroke-width: 0.5; stroke-linejoin: miter\"/>\n   </g>\n   <g id=\"patch_49\">\n    <path d=\"M 359.609909 273.312 \nL 366.103 273.312 \nL 366.103 273.312 \nL 359.609909 273.312 \nz\n\" clip-path=\"url(#pa174944c42)\" style=\"fill: #e24a33; stroke: #eeeeee; stroke-width: 0.5; stroke-linejoin: miter\"/>\n   </g>\n   <g id=\"patch_50\">\n    <path d=\"M 366.103 273.312 \nL 372.596091 273.312 \nL 372.596091 273.312 \nL 366.103 273.312 \nz\n\" clip-path=\"url(#pa174944c42)\" style=\"fill: #e24a33; stroke: #eeeeee; stroke-width: 0.5; stroke-linejoin: miter\"/>\n   </g>\n   <g id=\"patch_51\">\n    <path d=\"M 372.596091 273.312 \nL 379.089182 273.312 \nL 379.089182 273.312 \nL 372.596091 273.312 \nz\n\" clip-path=\"url(#pa174944c42)\" style=\"fill: #e24a33; stroke: #eeeeee; stroke-width: 0.5; stroke-linejoin: miter\"/>\n   </g>\n   <g id=\"patch_52\">\n    <path d=\"M 379.089182 273.312 \nL 385.582273 273.312 \nL 385.582273 273.259734 \nL 379.089182 273.259734 \nz\n\" clip-path=\"url(#pa174944c42)\" style=\"fill: #e24a33; stroke: #eeeeee; stroke-width: 0.5; stroke-linejoin: miter\"/>\n   </g>\n   <g id=\"patch_53\">\n    <path d=\"M 44.695 273.312 \nL 44.695 7.2 \n\" style=\"fill: none; stroke: #ffffff; stroke-linejoin: miter; stroke-linecap: square\"/>\n   </g>\n   <g id=\"patch_54\">\n    <path d=\"M 401.815 273.312 \nL 401.815 7.2 \n\" style=\"fill: none; stroke: #ffffff; stroke-linejoin: miter; stroke-linecap: square\"/>\n   </g>\n   <g id=\"patch_55\">\n    <path d=\"M 44.695 273.312 \nL 401.815 273.312 \n\" style=\"fill: none; stroke: #ffffff; stroke-linejoin: miter; stroke-linecap: square\"/>\n   </g>\n   <g id=\"patch_56\">\n    <path d=\"M 44.695 7.2 \nL 401.815 7.2 \n\" style=\"fill: none; stroke: #ffffff; stroke-linejoin: miter; stroke-linecap: square\"/>\n   </g>\n  </g>\n </g>\n <defs>\n  <clipPath id=\"pa174944c42\">\n   <rect x=\"44.695\" y=\"7.2\" width=\"357.12\" height=\"266.112\"/>\n  </clipPath>\n </defs>\n</svg>\n"
          },
          "metadata": {}
        }
      ]
    },
    {
      "cell_type": "code",
      "source": [
        "#Lets find out the longest sentence length in the dataset\n",
        "maxlen = max([len(s) for s in sentences])\n",
        "print ('Maximum sentence length:', maxlen)"
      ],
      "metadata": {
        "colab": {
          "base_uri": "https://localhost:8080/"
        },
        "id": "8LpIuA9NpQSd",
        "outputId": "8ab6aaad-2682-41d1-c704-9bc7708065af"
      },
      "execution_count": 130,
      "outputs": [
        {
          "output_type": "stream",
          "name": "stdout",
          "text": [
            "Maximum sentence length: 104\n"
          ]
        }
      ]
    },
    {
      "cell_type": "code",
      "source": [
        "#Words tagged as B-org\n",
        "data.loc[data['labels'] == 'B-org', 'words'].head()"
      ],
      "metadata": {
        "colab": {
          "base_uri": "https://localhost:8080/"
        },
        "id": "X-3U-iBWexy5",
        "outputId": "58c76d38-bab1-49fa-d50a-7004dac998fb"
      },
      "execution_count": 131,
      "outputs": [
        {
          "output_type": "execute_result",
          "data": {
            "text/plain": [
              "97             Labor\n",
              "154    International\n",
              "215             IAEA\n",
              "234         European\n",
              "248             U.N.\n",
              "Name: words, dtype: object"
            ]
          },
          "metadata": {},
          "execution_count": 131
        }
      ]
    },
    {
      "cell_type": "code",
      "source": [
        "#Words tagged as I-org\n",
        "data.loc[data['labels'] == 'I-org', 'words'].head()"
      ],
      "metadata": {
        "colab": {
          "base_uri": "https://localhost:8080/"
        },
        "id": "18bJgv3GfAB8",
        "outputId": "6b573b06-b32d-4981-a59f-38f4992d3cf2"
      },
      "execution_count": 132,
      "outputs": [
        {
          "output_type": "execute_result",
          "data": {
            "text/plain": [
              "98      Party\n",
              "155    Atomic\n",
              "156    Energy\n",
              "157    Agency\n",
              "235     Union\n",
              "Name: words, dtype: object"
            ]
          },
          "metadata": {},
          "execution_count": 132
        }
      ]
    },
    {
      "cell_type": "code",
      "source": [
        "import seaborn as sns\n",
        "\n",
        "#Words distribution across Tags\n",
        "plt.figure(figsize=(15, 5))\n",
        "ax = sns.countplot('labels',data)\n",
        "ax.set_xticklabels(ax.get_xticklabels(), rotation=90, ha=\"center\")\n",
        "plt.tight_layout()\n",
        "plt.show()"
      ],
      "metadata": {
        "colab": {
          "base_uri": "https://localhost:8080/",
          "height": 0
        },
        "id": "WICt7YbpfHFn",
        "outputId": "75846173-40c6-435d-b4ca-3acbfb24b95b",
        "collapsed": true
      },
      "execution_count": 43,
      "outputs": [
        {
          "output_type": "error",
          "ename": "TypeError",
          "evalue": "countplot() takes from 0 to 1 positional arguments but 2 were given",
          "traceback": [
            "\u001b[0;31m---------------------------------------------------------------------------\u001b[0m",
            "\u001b[0;31mTypeError\u001b[0m                                 Traceback (most recent call last)",
            "\u001b[0;32m<ipython-input-43-df5501ca42f2>\u001b[0m in \u001b[0;36m<cell line: 5>\u001b[0;34m()\u001b[0m\n\u001b[1;32m      3\u001b[0m \u001b[0;31m#Words distribution across Tags\u001b[0m\u001b[0;34m\u001b[0m\u001b[0;34m\u001b[0m\u001b[0m\n\u001b[1;32m      4\u001b[0m \u001b[0mplt\u001b[0m\u001b[0;34m.\u001b[0m\u001b[0mfigure\u001b[0m\u001b[0;34m(\u001b[0m\u001b[0mfigsize\u001b[0m\u001b[0;34m=\u001b[0m\u001b[0;34m(\u001b[0m\u001b[0;36m15\u001b[0m\u001b[0;34m,\u001b[0m \u001b[0;36m5\u001b[0m\u001b[0;34m)\u001b[0m\u001b[0;34m)\u001b[0m\u001b[0;34m\u001b[0m\u001b[0;34m\u001b[0m\u001b[0m\n\u001b[0;32m----> 5\u001b[0;31m \u001b[0max\u001b[0m \u001b[0;34m=\u001b[0m \u001b[0msns\u001b[0m\u001b[0;34m.\u001b[0m\u001b[0mcountplot\u001b[0m\u001b[0;34m(\u001b[0m\u001b[0;34m'labels'\u001b[0m\u001b[0;34m,\u001b[0m\u001b[0mdata\u001b[0m\u001b[0;34m)\u001b[0m\u001b[0;34m\u001b[0m\u001b[0;34m\u001b[0m\u001b[0m\n\u001b[0m\u001b[1;32m      6\u001b[0m \u001b[0max\u001b[0m\u001b[0;34m.\u001b[0m\u001b[0mset_xticklabels\u001b[0m\u001b[0;34m(\u001b[0m\u001b[0max\u001b[0m\u001b[0;34m.\u001b[0m\u001b[0mget_xticklabels\u001b[0m\u001b[0;34m(\u001b[0m\u001b[0;34m)\u001b[0m\u001b[0;34m,\u001b[0m \u001b[0mrotation\u001b[0m\u001b[0;34m=\u001b[0m\u001b[0;36m90\u001b[0m\u001b[0;34m,\u001b[0m \u001b[0mha\u001b[0m\u001b[0;34m=\u001b[0m\u001b[0;34m\"center\"\u001b[0m\u001b[0;34m)\u001b[0m\u001b[0;34m\u001b[0m\u001b[0;34m\u001b[0m\u001b[0m\n\u001b[1;32m      7\u001b[0m \u001b[0mplt\u001b[0m\u001b[0;34m.\u001b[0m\u001b[0mtight_layout\u001b[0m\u001b[0;34m(\u001b[0m\u001b[0;34m)\u001b[0m\u001b[0;34m\u001b[0m\u001b[0;34m\u001b[0m\u001b[0m\n",
            "\u001b[0;31mTypeError\u001b[0m: countplot() takes from 0 to 1 positional arguments but 2 were given"
          ]
        },
        {
          "output_type": "display_data",
          "data": {
            "text/plain": [
              "<Figure size 1500x500 with 0 Axes>"
            ]
          },
          "metadata": {}
        }
      ]
    },
    {
      "cell_type": "code",
      "source": [
        "from itertools import chain\n",
        "\n",
        "import nltk\n",
        "import sklearn\n",
        "import scipy.stats\n",
        "\n",
        "import sklearn_crfsuite\n",
        "from sklearn_crfsuite import scorers,CRF\n",
        "from sklearn_crfsuite.metrics import flat_classification_report\n",
        "from sklearn_crfsuite import metrics"
      ],
      "metadata": {
        "id": "YjzC4ljTftmk"
      },
      "execution_count": 44,
      "outputs": []
    },
    {
      "cell_type": "code",
      "source": [
        "data.head()"
      ],
      "metadata": {
        "colab": {
          "base_uri": "https://localhost:8080/",
          "height": 206
        },
        "id": "TojyXBUocowc",
        "outputId": "da6bfb00-5999-4238-c411-6f81e2d78b1e"
      },
      "execution_count": 138,
      "outputs": [
        {
          "output_type": "execute_result",
          "data": {
            "text/plain": [
              "   sentence_id          words  POS labels\n",
              "0            0      Thousands  NNS      O\n",
              "1            0             of   IN      O\n",
              "2            0  demonstrators  NNS      O\n",
              "3            0           have  VBP      O\n",
              "4            0        marched  VBN      O"
            ],
            "text/html": [
              "\n",
              "  <div id=\"df-08f07259-a30e-42a3-b050-96c09dceed71\" class=\"colab-df-container\">\n",
              "    <div>\n",
              "<style scoped>\n",
              "    .dataframe tbody tr th:only-of-type {\n",
              "        vertical-align: middle;\n",
              "    }\n",
              "\n",
              "    .dataframe tbody tr th {\n",
              "        vertical-align: top;\n",
              "    }\n",
              "\n",
              "    .dataframe thead th {\n",
              "        text-align: right;\n",
              "    }\n",
              "</style>\n",
              "<table border=\"1\" class=\"dataframe\">\n",
              "  <thead>\n",
              "    <tr style=\"text-align: right;\">\n",
              "      <th></th>\n",
              "      <th>sentence_id</th>\n",
              "      <th>words</th>\n",
              "      <th>POS</th>\n",
              "      <th>labels</th>\n",
              "    </tr>\n",
              "  </thead>\n",
              "  <tbody>\n",
              "    <tr>\n",
              "      <th>0</th>\n",
              "      <td>0</td>\n",
              "      <td>Thousands</td>\n",
              "      <td>NNS</td>\n",
              "      <td>O</td>\n",
              "    </tr>\n",
              "    <tr>\n",
              "      <th>1</th>\n",
              "      <td>0</td>\n",
              "      <td>of</td>\n",
              "      <td>IN</td>\n",
              "      <td>O</td>\n",
              "    </tr>\n",
              "    <tr>\n",
              "      <th>2</th>\n",
              "      <td>0</td>\n",
              "      <td>demonstrators</td>\n",
              "      <td>NNS</td>\n",
              "      <td>O</td>\n",
              "    </tr>\n",
              "    <tr>\n",
              "      <th>3</th>\n",
              "      <td>0</td>\n",
              "      <td>have</td>\n",
              "      <td>VBP</td>\n",
              "      <td>O</td>\n",
              "    </tr>\n",
              "    <tr>\n",
              "      <th>4</th>\n",
              "      <td>0</td>\n",
              "      <td>marched</td>\n",
              "      <td>VBN</td>\n",
              "      <td>O</td>\n",
              "    </tr>\n",
              "  </tbody>\n",
              "</table>\n",
              "</div>\n",
              "    <div class=\"colab-df-buttons\">\n",
              "\n",
              "  <div class=\"colab-df-container\">\n",
              "    <button class=\"colab-df-convert\" onclick=\"convertToInteractive('df-08f07259-a30e-42a3-b050-96c09dceed71')\"\n",
              "            title=\"Convert this dataframe to an interactive table.\"\n",
              "            style=\"display:none;\">\n",
              "\n",
              "  <svg xmlns=\"http://www.w3.org/2000/svg\" height=\"24px\" viewBox=\"0 -960 960 960\">\n",
              "    <path d=\"M120-120v-720h720v720H120Zm60-500h600v-160H180v160Zm220 220h160v-160H400v160Zm0 220h160v-160H400v160ZM180-400h160v-160H180v160Zm440 0h160v-160H620v160ZM180-180h160v-160H180v160Zm440 0h160v-160H620v160Z\"/>\n",
              "  </svg>\n",
              "    </button>\n",
              "\n",
              "  <style>\n",
              "    .colab-df-container {\n",
              "      display:flex;\n",
              "      gap: 12px;\n",
              "    }\n",
              "\n",
              "    .colab-df-convert {\n",
              "      background-color: #E8F0FE;\n",
              "      border: none;\n",
              "      border-radius: 50%;\n",
              "      cursor: pointer;\n",
              "      display: none;\n",
              "      fill: #1967D2;\n",
              "      height: 32px;\n",
              "      padding: 0 0 0 0;\n",
              "      width: 32px;\n",
              "    }\n",
              "\n",
              "    .colab-df-convert:hover {\n",
              "      background-color: #E2EBFA;\n",
              "      box-shadow: 0px 1px 2px rgba(60, 64, 67, 0.3), 0px 1px 3px 1px rgba(60, 64, 67, 0.15);\n",
              "      fill: #174EA6;\n",
              "    }\n",
              "\n",
              "    .colab-df-buttons div {\n",
              "      margin-bottom: 4px;\n",
              "    }\n",
              "\n",
              "    [theme=dark] .colab-df-convert {\n",
              "      background-color: #3B4455;\n",
              "      fill: #D2E3FC;\n",
              "    }\n",
              "\n",
              "    [theme=dark] .colab-df-convert:hover {\n",
              "      background-color: #434B5C;\n",
              "      box-shadow: 0px 1px 3px 1px rgba(0, 0, 0, 0.15);\n",
              "      filter: drop-shadow(0px 1px 2px rgba(0, 0, 0, 0.3));\n",
              "      fill: #FFFFFF;\n",
              "    }\n",
              "  </style>\n",
              "\n",
              "    <script>\n",
              "      const buttonEl =\n",
              "        document.querySelector('#df-08f07259-a30e-42a3-b050-96c09dceed71 button.colab-df-convert');\n",
              "      buttonEl.style.display =\n",
              "        google.colab.kernel.accessAllowed ? 'block' : 'none';\n",
              "\n",
              "      async function convertToInteractive(key) {\n",
              "        const element = document.querySelector('#df-08f07259-a30e-42a3-b050-96c09dceed71');\n",
              "        const dataTable =\n",
              "          await google.colab.kernel.invokeFunction('convertToInteractive',\n",
              "                                                    [key], {});\n",
              "        if (!dataTable) return;\n",
              "\n",
              "        const docLinkHtml = 'Like what you see? Visit the ' +\n",
              "          '<a target=\"_blank\" href=https://colab.research.google.com/notebooks/data_table.ipynb>data table notebook</a>'\n",
              "          + ' to learn more about interactive tables.';\n",
              "        element.innerHTML = '';\n",
              "        dataTable['output_type'] = 'display_data';\n",
              "        await google.colab.output.renderOutput(dataTable, element);\n",
              "        const docLink = document.createElement('div');\n",
              "        docLink.innerHTML = docLinkHtml;\n",
              "        element.appendChild(docLink);\n",
              "      }\n",
              "    </script>\n",
              "  </div>\n",
              "\n",
              "\n",
              "<div id=\"df-5cf0a75d-d836-4c6a-9fca-9e3a0f21aa0b\">\n",
              "  <button class=\"colab-df-quickchart\" onclick=\"quickchart('df-5cf0a75d-d836-4c6a-9fca-9e3a0f21aa0b')\"\n",
              "            title=\"Suggest charts\"\n",
              "            style=\"display:none;\">\n",
              "\n",
              "<svg xmlns=\"http://www.w3.org/2000/svg\" height=\"24px\"viewBox=\"0 0 24 24\"\n",
              "     width=\"24px\">\n",
              "    <g>\n",
              "        <path d=\"M19 3H5c-1.1 0-2 .9-2 2v14c0 1.1.9 2 2 2h14c1.1 0 2-.9 2-2V5c0-1.1-.9-2-2-2zM9 17H7v-7h2v7zm4 0h-2V7h2v10zm4 0h-2v-4h2v4z\"/>\n",
              "    </g>\n",
              "</svg>\n",
              "  </button>\n",
              "\n",
              "<style>\n",
              "  .colab-df-quickchart {\n",
              "      --bg-color: #E8F0FE;\n",
              "      --fill-color: #1967D2;\n",
              "      --hover-bg-color: #E2EBFA;\n",
              "      --hover-fill-color: #174EA6;\n",
              "      --disabled-fill-color: #AAA;\n",
              "      --disabled-bg-color: #DDD;\n",
              "  }\n",
              "\n",
              "  [theme=dark] .colab-df-quickchart {\n",
              "      --bg-color: #3B4455;\n",
              "      --fill-color: #D2E3FC;\n",
              "      --hover-bg-color: #434B5C;\n",
              "      --hover-fill-color: #FFFFFF;\n",
              "      --disabled-bg-color: #3B4455;\n",
              "      --disabled-fill-color: #666;\n",
              "  }\n",
              "\n",
              "  .colab-df-quickchart {\n",
              "    background-color: var(--bg-color);\n",
              "    border: none;\n",
              "    border-radius: 50%;\n",
              "    cursor: pointer;\n",
              "    display: none;\n",
              "    fill: var(--fill-color);\n",
              "    height: 32px;\n",
              "    padding: 0;\n",
              "    width: 32px;\n",
              "  }\n",
              "\n",
              "  .colab-df-quickchart:hover {\n",
              "    background-color: var(--hover-bg-color);\n",
              "    box-shadow: 0 1px 2px rgba(60, 64, 67, 0.3), 0 1px 3px 1px rgba(60, 64, 67, 0.15);\n",
              "    fill: var(--button-hover-fill-color);\n",
              "  }\n",
              "\n",
              "  .colab-df-quickchart-complete:disabled,\n",
              "  .colab-df-quickchart-complete:disabled:hover {\n",
              "    background-color: var(--disabled-bg-color);\n",
              "    fill: var(--disabled-fill-color);\n",
              "    box-shadow: none;\n",
              "  }\n",
              "\n",
              "  .colab-df-spinner {\n",
              "    border: 2px solid var(--fill-color);\n",
              "    border-color: transparent;\n",
              "    border-bottom-color: var(--fill-color);\n",
              "    animation:\n",
              "      spin 1s steps(1) infinite;\n",
              "  }\n",
              "\n",
              "  @keyframes spin {\n",
              "    0% {\n",
              "      border-color: transparent;\n",
              "      border-bottom-color: var(--fill-color);\n",
              "      border-left-color: var(--fill-color);\n",
              "    }\n",
              "    20% {\n",
              "      border-color: transparent;\n",
              "      border-left-color: var(--fill-color);\n",
              "      border-top-color: var(--fill-color);\n",
              "    }\n",
              "    30% {\n",
              "      border-color: transparent;\n",
              "      border-left-color: var(--fill-color);\n",
              "      border-top-color: var(--fill-color);\n",
              "      border-right-color: var(--fill-color);\n",
              "    }\n",
              "    40% {\n",
              "      border-color: transparent;\n",
              "      border-right-color: var(--fill-color);\n",
              "      border-top-color: var(--fill-color);\n",
              "    }\n",
              "    60% {\n",
              "      border-color: transparent;\n",
              "      border-right-color: var(--fill-color);\n",
              "    }\n",
              "    80% {\n",
              "      border-color: transparent;\n",
              "      border-right-color: var(--fill-color);\n",
              "      border-bottom-color: var(--fill-color);\n",
              "    }\n",
              "    90% {\n",
              "      border-color: transparent;\n",
              "      border-bottom-color: var(--fill-color);\n",
              "    }\n",
              "  }\n",
              "</style>\n",
              "\n",
              "  <script>\n",
              "    async function quickchart(key) {\n",
              "      const quickchartButtonEl =\n",
              "        document.querySelector('#' + key + ' button');\n",
              "      quickchartButtonEl.disabled = true;  // To prevent multiple clicks.\n",
              "      quickchartButtonEl.classList.add('colab-df-spinner');\n",
              "      try {\n",
              "        const charts = await google.colab.kernel.invokeFunction(\n",
              "            'suggestCharts', [key], {});\n",
              "      } catch (error) {\n",
              "        console.error('Error during call to suggestCharts:', error);\n",
              "      }\n",
              "      quickchartButtonEl.classList.remove('colab-df-spinner');\n",
              "      quickchartButtonEl.classList.add('colab-df-quickchart-complete');\n",
              "    }\n",
              "    (() => {\n",
              "      let quickchartButtonEl =\n",
              "        document.querySelector('#df-5cf0a75d-d836-4c6a-9fca-9e3a0f21aa0b button');\n",
              "      quickchartButtonEl.style.display =\n",
              "        google.colab.kernel.accessAllowed ? 'block' : 'none';\n",
              "    })();\n",
              "  </script>\n",
              "</div>\n",
              "\n",
              "    </div>\n",
              "  </div>\n"
            ],
            "application/vnd.google.colaboratory.intrinsic+json": {
              "type": "dataframe",
              "variable_name": "data"
            }
          },
          "metadata": {},
          "execution_count": 138
        }
      ]
    },
    {
      "cell_type": "code",
      "source": [
        "# Feature set\n",
        "def word2features(sent, i):\n",
        "    word = sent[i][0]\n",
        "    #postag = sent[i][1]\n",
        "\n",
        "    features = {\n",
        "        'bias': 1.0,\n",
        "        'word.lower()': word.lower(),\n",
        "        'word[-3:]': word[-3:],\n",
        "        'word[-2:]': word[-2:],\n",
        "        'word.isupper()': word.isupper(),\n",
        "        'word.istitle()': word.istitle(),\n",
        "        'word.isdigit()': word.isdigit(),\n",
        "     #   'postag': postag,\n",
        "     #   'postag[:2]': postag[:2],\n",
        "    }\n",
        "    if i > 0:\n",
        "        word1 = sent[i-1][0]\n",
        "     #   postag1 = sent[i-1][1]\n",
        "        features.update({\n",
        "            '-1:word.lower()': word1.lower(),\n",
        "            '-1:word.istitle()': word1.istitle(),\n",
        "            '-1:word.isupper()': word1.isupper(),\n",
        "   #         '-1:postag': postag1,\n",
        "    #        '-1:postag[:2]': postag1[:2],\n",
        "        })\n",
        "    else:\n",
        "        features['BOS'] = True\n",
        "\n",
        "    if i < len(sent)-1:\n",
        "        word1 = sent[i+1][0]\n",
        "     #   postag1 = sent[i+1][1]\n",
        "        features.update({\n",
        "            '+1:word.lower()': word1.lower(),\n",
        "            '+1:word.istitle()': word1.istitle(),\n",
        "            '+1:word.isupper()': word1.isupper(),\n",
        "      #      '+1:postag': postag1,\n",
        "       #     '+1:postag[:2]': postag1[:2],\n",
        "        })\n",
        "    else:\n",
        "        features['EOS'] = True\n",
        "\n",
        "    return features"
      ],
      "metadata": {
        "id": "evVzaXb3gBAX"
      },
      "execution_count": 139,
      "outputs": []
    },
    {
      "cell_type": "code",
      "source": [
        "def sent2features(sent):\n",
        "    return [word2features(sent, i) for i in range(len(sent))]\n",
        "\n",
        "def sent2labels(sent):\n",
        "    return [label for token, label in sent]"
      ],
      "metadata": {
        "id": "kFFPEOvCgsnZ"
      },
      "execution_count": 143,
      "outputs": []
    },
    {
      "cell_type": "code",
      "source": [
        "%%time\n",
        "\n",
        "#Creating the train and test set\n",
        "X = [sent2features(s) for s in sentences]\n",
        "y = [sent2labels(s) for s in sentences]"
      ],
      "metadata": {
        "id": "Qgf6YHEPgzam",
        "colab": {
          "base_uri": "https://localhost:8080/"
        },
        "outputId": "ec3c9d92-b53f-4643-a15e-99a9e7bff4db"
      },
      "execution_count": 144,
      "outputs": [
        {
          "output_type": "stream",
          "name": "stdout",
          "text": [
            "CPU times: user 3.65 s, sys: 221 ms, total: 3.87 s\n",
            "Wall time: 4.37 s\n"
          ]
        }
      ]
    },
    {
      "cell_type": "code",
      "source": [
        "\n",
        "print(X[0])\n",
        "print(y[0:15])\n",
        "\n",
        "print(len(X))\n",
        "print(len(y))"
      ],
      "metadata": {
        "colab": {
          "base_uri": "https://localhost:8080/"
        },
        "id": "FYZaJ1t7Au8A",
        "outputId": "1ec4a01b-bc2d-47c2-a718-469d3d20f2a4"
      },
      "execution_count": 145,
      "outputs": [
        {
          "output_type": "stream",
          "name": "stdout",
          "text": [
            "[{'bias': 1.0, 'word.lower()': 'thousands', 'word[-3:]': 'nds', 'word[-2:]': 'ds', 'word.isupper()': False, 'word.istitle()': True, 'word.isdigit()': False, 'BOS': True, '+1:word.lower()': 'of', '+1:word.istitle()': False, '+1:word.isupper()': False}, {'bias': 1.0, 'word.lower()': 'of', 'word[-3:]': 'of', 'word[-2:]': 'of', 'word.isupper()': False, 'word.istitle()': False, 'word.isdigit()': False, '-1:word.lower()': 'thousands', '-1:word.istitle()': True, '-1:word.isupper()': False, '+1:word.lower()': 'demonstrators', '+1:word.istitle()': False, '+1:word.isupper()': False}, {'bias': 1.0, 'word.lower()': 'demonstrators', 'word[-3:]': 'ors', 'word[-2:]': 'rs', 'word.isupper()': False, 'word.istitle()': False, 'word.isdigit()': False, '-1:word.lower()': 'of', '-1:word.istitle()': False, '-1:word.isupper()': False, '+1:word.lower()': 'have', '+1:word.istitle()': False, '+1:word.isupper()': False}, {'bias': 1.0, 'word.lower()': 'have', 'word[-3:]': 'ave', 'word[-2:]': 've', 'word.isupper()': False, 'word.istitle()': False, 'word.isdigit()': False, '-1:word.lower()': 'demonstrators', '-1:word.istitle()': False, '-1:word.isupper()': False, '+1:word.lower()': 'marched', '+1:word.istitle()': False, '+1:word.isupper()': False}, {'bias': 1.0, 'word.lower()': 'marched', 'word[-3:]': 'hed', 'word[-2:]': 'ed', 'word.isupper()': False, 'word.istitle()': False, 'word.isdigit()': False, '-1:word.lower()': 'have', '-1:word.istitle()': False, '-1:word.isupper()': False, '+1:word.lower()': 'through', '+1:word.istitle()': False, '+1:word.isupper()': False}, {'bias': 1.0, 'word.lower()': 'through', 'word[-3:]': 'ugh', 'word[-2:]': 'gh', 'word.isupper()': False, 'word.istitle()': False, 'word.isdigit()': False, '-1:word.lower()': 'marched', '-1:word.istitle()': False, '-1:word.isupper()': False, '+1:word.lower()': 'london', '+1:word.istitle()': True, '+1:word.isupper()': False}, {'bias': 1.0, 'word.lower()': 'london', 'word[-3:]': 'don', 'word[-2:]': 'on', 'word.isupper()': False, 'word.istitle()': True, 'word.isdigit()': False, '-1:word.lower()': 'through', '-1:word.istitle()': False, '-1:word.isupper()': False, '+1:word.lower()': 'to', '+1:word.istitle()': False, '+1:word.isupper()': False}, {'bias': 1.0, 'word.lower()': 'to', 'word[-3:]': 'to', 'word[-2:]': 'to', 'word.isupper()': False, 'word.istitle()': False, 'word.isdigit()': False, '-1:word.lower()': 'london', '-1:word.istitle()': True, '-1:word.isupper()': False, '+1:word.lower()': 'protest', '+1:word.istitle()': False, '+1:word.isupper()': False}, {'bias': 1.0, 'word.lower()': 'protest', 'word[-3:]': 'est', 'word[-2:]': 'st', 'word.isupper()': False, 'word.istitle()': False, 'word.isdigit()': False, '-1:word.lower()': 'to', '-1:word.istitle()': False, '-1:word.isupper()': False, '+1:word.lower()': 'the', '+1:word.istitle()': False, '+1:word.isupper()': False}, {'bias': 1.0, 'word.lower()': 'the', 'word[-3:]': 'the', 'word[-2:]': 'he', 'word.isupper()': False, 'word.istitle()': False, 'word.isdigit()': False, '-1:word.lower()': 'protest', '-1:word.istitle()': False, '-1:word.isupper()': False, '+1:word.lower()': 'war', '+1:word.istitle()': False, '+1:word.isupper()': False}, {'bias': 1.0, 'word.lower()': 'war', 'word[-3:]': 'war', 'word[-2:]': 'ar', 'word.isupper()': False, 'word.istitle()': False, 'word.isdigit()': False, '-1:word.lower()': 'the', '-1:word.istitle()': False, '-1:word.isupper()': False, '+1:word.lower()': 'in', '+1:word.istitle()': False, '+1:word.isupper()': False}, {'bias': 1.0, 'word.lower()': 'in', 'word[-3:]': 'in', 'word[-2:]': 'in', 'word.isupper()': False, 'word.istitle()': False, 'word.isdigit()': False, '-1:word.lower()': 'war', '-1:word.istitle()': False, '-1:word.isupper()': False, '+1:word.lower()': 'iraq', '+1:word.istitle()': True, '+1:word.isupper()': False}, {'bias': 1.0, 'word.lower()': 'iraq', 'word[-3:]': 'raq', 'word[-2:]': 'aq', 'word.isupper()': False, 'word.istitle()': True, 'word.isdigit()': False, '-1:word.lower()': 'in', '-1:word.istitle()': False, '-1:word.isupper()': False, '+1:word.lower()': 'and', '+1:word.istitle()': False, '+1:word.isupper()': False}, {'bias': 1.0, 'word.lower()': 'and', 'word[-3:]': 'and', 'word[-2:]': 'nd', 'word.isupper()': False, 'word.istitle()': False, 'word.isdigit()': False, '-1:word.lower()': 'iraq', '-1:word.istitle()': True, '-1:word.isupper()': False, '+1:word.lower()': 'demand', '+1:word.istitle()': False, '+1:word.isupper()': False}, {'bias': 1.0, 'word.lower()': 'demand', 'word[-3:]': 'and', 'word[-2:]': 'nd', 'word.isupper()': False, 'word.istitle()': False, 'word.isdigit()': False, '-1:word.lower()': 'and', '-1:word.istitle()': False, '-1:word.isupper()': False, '+1:word.lower()': 'the', '+1:word.istitle()': False, '+1:word.isupper()': False}, {'bias': 1.0, 'word.lower()': 'the', 'word[-3:]': 'the', 'word[-2:]': 'he', 'word.isupper()': False, 'word.istitle()': False, 'word.isdigit()': False, '-1:word.lower()': 'demand', '-1:word.istitle()': False, '-1:word.isupper()': False, '+1:word.lower()': 'withdrawal', '+1:word.istitle()': False, '+1:word.isupper()': False}, {'bias': 1.0, 'word.lower()': 'withdrawal', 'word[-3:]': 'wal', 'word[-2:]': 'al', 'word.isupper()': False, 'word.istitle()': False, 'word.isdigit()': False, '-1:word.lower()': 'the', '-1:word.istitle()': False, '-1:word.isupper()': False, '+1:word.lower()': 'of', '+1:word.istitle()': False, '+1:word.isupper()': False}, {'bias': 1.0, 'word.lower()': 'of', 'word[-3:]': 'of', 'word[-2:]': 'of', 'word.isupper()': False, 'word.istitle()': False, 'word.isdigit()': False, '-1:word.lower()': 'withdrawal', '-1:word.istitle()': False, '-1:word.isupper()': False, '+1:word.lower()': 'british', '+1:word.istitle()': True, '+1:word.isupper()': False}, {'bias': 1.0, 'word.lower()': 'british', 'word[-3:]': 'ish', 'word[-2:]': 'sh', 'word.isupper()': False, 'word.istitle()': True, 'word.isdigit()': False, '-1:word.lower()': 'of', '-1:word.istitle()': False, '-1:word.isupper()': False, '+1:word.lower()': 'troops', '+1:word.istitle()': False, '+1:word.isupper()': False}, {'bias': 1.0, 'word.lower()': 'troops', 'word[-3:]': 'ops', 'word[-2:]': 'ps', 'word.isupper()': False, 'word.istitle()': False, 'word.isdigit()': False, '-1:word.lower()': 'british', '-1:word.istitle()': True, '-1:word.isupper()': False, '+1:word.lower()': 'from', '+1:word.istitle()': False, '+1:word.isupper()': False}, {'bias': 1.0, 'word.lower()': 'from', 'word[-3:]': 'rom', 'word[-2:]': 'om', 'word.isupper()': False, 'word.istitle()': False, 'word.isdigit()': False, '-1:word.lower()': 'troops', '-1:word.istitle()': False, '-1:word.isupper()': False, '+1:word.lower()': 'that', '+1:word.istitle()': False, '+1:word.isupper()': False}, {'bias': 1.0, 'word.lower()': 'that', 'word[-3:]': 'hat', 'word[-2:]': 'at', 'word.isupper()': False, 'word.istitle()': False, 'word.isdigit()': False, '-1:word.lower()': 'from', '-1:word.istitle()': False, '-1:word.isupper()': False, '+1:word.lower()': 'country', '+1:word.istitle()': False, '+1:word.isupper()': False}, {'bias': 1.0, 'word.lower()': 'country', 'word[-3:]': 'try', 'word[-2:]': 'ry', 'word.isupper()': False, 'word.istitle()': False, 'word.isdigit()': False, '-1:word.lower()': 'that', '-1:word.istitle()': False, '-1:word.isupper()': False, '+1:word.lower()': '.', '+1:word.istitle()': False, '+1:word.isupper()': False}, {'bias': 1.0, 'word.lower()': '.', 'word[-3:]': '.', 'word[-2:]': '.', 'word.isupper()': False, 'word.istitle()': False, 'word.isdigit()': False, '-1:word.lower()': 'country', '-1:word.istitle()': False, '-1:word.isupper()': False, 'EOS': True}]\n",
            "[['O', 'O', 'O', 'O', 'O', 'O', 'B-geo', 'O', 'O', 'O', 'O', 'O', 'B-geo', 'O', 'O', 'O', 'O', 'O', 'B-gpe', 'O', 'O', 'O', 'O', 'O'], ['B-gpe', 'O', 'O', 'O', 'O', 'O', 'O', 'O', 'O', 'O', 'O', 'O', 'O', 'O', 'O', 'B-tim', 'O', 'O', 'O', 'B-org', 'O', 'O', 'O', 'O', 'O'], ['O', 'O', 'B-tim', 'O', 'O', 'O', 'O', 'O', 'B-geo', 'O', 'O', 'O', 'O', 'O', 'B-org', 'O', 'O', 'O', 'O', 'O', 'O', 'O', 'O', 'O', 'O', 'O', 'O', 'O', 'O', 'B-geo', 'I-geo', 'O'], ['O', 'O', 'O', 'O', 'O', 'O', 'O', 'O', 'O', 'O', 'O'], ['B-geo', 'O', 'O', 'B-per', 'I-per', 'O', 'B-tim', 'O', 'B-geo', 'O', 'B-gpe', 'O', 'B-gpe', 'O', 'O', 'O', 'O', 'O', 'O', 'O', 'O', 'O', 'O', 'O', 'O', 'O', 'B-geo', 'O', 'O', 'O', 'O', 'O', 'O', 'O', 'O'], ['B-per', 'I-per', 'O', 'O', 'O', 'O', 'O', 'O', 'O', 'O', 'O', 'O', 'O', 'O', 'O', 'O', 'O', 'O', 'O', 'O', 'O', 'O', 'B-tim', 'O', 'B-per', 'B-gpe', 'O', 'O', 'B-geo', 'O', 'B-geo', 'O'], ['O', 'O', 'O', 'O', 'O', 'O', 'O', 'O', 'O', 'O', 'O', 'O', 'O', 'O', 'O', 'O', 'O', 'O', 'B-geo', 'O', 'B-geo', 'O'], ['O', 'O', 'O', 'O', 'O', 'O', 'O'], ['O', 'O', 'O', 'O', 'O', 'O', 'O', 'O', 'O', 'O', 'B-geo', 'O', 'O', 'O', 'O', 'O', 'O', 'O', 'O', 'O', 'O', 'O', 'O', 'O'], ['B-gpe', 'O', 'O', 'O', 'B-tim', 'O', 'O', 'O', 'O', 'O', 'O', 'O', 'O', 'B-geo', 'O', 'O', 'O', 'O', 'O', 'O', 'O', 'O', 'O', 'O', 'O', 'O', 'O'], ['O', 'B-geo', 'O', 'O', 'O', 'O', 'O', 'O', 'O', 'O', 'O', 'O', 'O', 'O', 'B-org', 'I-org', 'O', 'O', 'B-geo', 'I-geo', 'O', 'B-per', 'O', 'B-per', 'I-per', 'O', 'O', 'B-gpe', 'O', 'O', 'O', 'O', 'O', 'O', 'O', 'O', 'O', 'O', 'O', 'O'], ['O', 'O', 'O', 'O', 'O', 'O', 'O', 'O', 'O', 'O', 'O', 'O', 'O', 'O', 'O', 'B-tim', 'O', 'O', 'O', 'O', 'O', 'O', 'O', 'O', 'O'], ['B-geo', 'O', 'O', 'O', 'O', 'O', 'O', 'O', 'O', 'O', 'O', 'O', 'B-tim', 'O', 'O', 'O', 'B-per', 'O', 'B-per', 'I-per', 'O', 'O', 'O', 'O', 'O'], ['B-geo', 'O', 'O', 'O', 'O', 'O', 'O', 'O', 'O', 'O', 'O', 'B-tim', 'O', 'O', 'O', 'O', 'O', 'B-geo', 'O', 'B-per', 'I-per', 'O', 'O', 'O', 'O', 'B-geo', 'O', 'O', 'O', 'B-gpe', 'O', 'O', 'O', 'O', 'O'], ['O', 'O', 'O', 'O', 'O', 'O', 'B-org', 'O', 'O', 'O', 'O', 'O']]\n",
            "47959\n",
            "47959\n"
          ]
        }
      ]
    },
    {
      "cell_type": "code",
      "source": [],
      "metadata": {
        "id": "aVqCqJgp_uH1"
      },
      "execution_count": null,
      "outputs": []
    },
    {
      "cell_type": "code",
      "source": [
        "X_train, X_test, y_train, y_test = train_test_split(X, y, test_size=0.20, random_state=0)"
      ],
      "metadata": {
        "id": "Zhlb3Hvx_uRk"
      },
      "execution_count": 146,
      "outputs": []
    },
    {
      "cell_type": "code",
      "source": [
        "print(len(X_train) , len(y_train), len(X_test), len(y_test))"
      ],
      "metadata": {
        "colab": {
          "base_uri": "https://localhost:8080/"
        },
        "id": "uLnCN4O6_ua3",
        "outputId": "dfbdf931-0c01-4562-fa17-5282b82df952"
      },
      "execution_count": 147,
      "outputs": [
        {
          "output_type": "stream",
          "name": "stdout",
          "text": [
            "38367 38367 9592 9592\n"
          ]
        }
      ]
    },
    {
      "cell_type": "code",
      "source": [
        "X_val = X_test.copy()\n",
        "y_val = y_test.copy()"
      ],
      "metadata": {
        "id": "tDlJkylbJasb"
      },
      "execution_count": 148,
      "outputs": []
    },
    {
      "cell_type": "code",
      "source": [
        "X_train, X_test, y_train, y_test = train_test_split(X_train, y_train, test_size=0.20, random_state=0)"
      ],
      "metadata": {
        "id": "5TWIQCKfJ9K3"
      },
      "execution_count": 149,
      "outputs": []
    },
    {
      "cell_type": "code",
      "source": [
        "print(len(X_train) , len(y_train), len(X_test), len(y_test),len(X_val), len(y_val))"
      ],
      "metadata": {
        "colab": {
          "base_uri": "https://localhost:8080/"
        },
        "id": "yv_VF9gk_uhJ",
        "outputId": "2dcc741b-adc1-4ea1-e010-b507564abafa"
      },
      "execution_count": 150,
      "outputs": [
        {
          "output_type": "stream",
          "name": "stdout",
          "text": [
            "30693 30693 7674 7674 9592 9592\n"
          ]
        }
      ]
    },
    {
      "cell_type": "code",
      "source": [
        "#Creating the CRF model\n",
        "crf = CRF(algorithm='lbfgs',\n",
        "          c1=0.1,\n",
        "          c2=0.1,\n",
        "          max_iterations=100,\n",
        "          all_possible_transitions=False)\n"
      ],
      "metadata": {
        "id": "aBqzG3qhhQ7D"
      },
      "execution_count": 151,
      "outputs": []
    },
    {
      "cell_type": "code",
      "source": [
        "#Data analysis\n",
        "import pandas as pd\n",
        "import numpy as np\n",
        "#Data visualisation\n",
        "import matplotlib.pyplot as plt\n",
        "import seaborn as sns\n",
        "sns.set(color_codes=True)\n",
        "sns.set(font_scale=1)\n",
        "%matplotlib inline\n",
        "%config InlineBackend.figure_format = 'svg'\n",
        "#Modeling\n",
        "from sklearn.model_selection import cross_val_predict, cross_val_score\n",
        "from sklearn.ensemble import RandomForestClassifier\n",
        "from sklearn_crfsuite import CRF, scorers, metrics\n",
        "import sklearn_crfsuite\n",
        "from sklearn_crfsuite import scorers\n",
        "from sklearn_crfsuite import metrics\n",
        "from sklearn_crfsuite.metrics import flat_classification_report\n",
        "from sklearn.metrics import classification_report, make_scorer\n",
        "from sklearn.model_selection import RandomizedSearchCV\n",
        "from sklearn.model_selection import GridSearchCV\n",
        "import scipy.stats\n",
        "\n"
      ],
      "metadata": {
        "id": "4R0XybQWhpER"
      },
      "execution_count": 90,
      "outputs": []
    },
    {
      "cell_type": "code",
      "source": [
        "!pip install eli5\n",
        "import eli5"
      ],
      "metadata": {
        "collapsed": true,
        "colab": {
          "base_uri": "https://localhost:8080/"
        },
        "id": "kfucZ5ZziG00",
        "outputId": "9c33307a-ca27-4ada-961f-5540ea9d112a"
      },
      "execution_count": 83,
      "outputs": [
        {
          "output_type": "stream",
          "name": "stdout",
          "text": [
            "Collecting eli5\n",
            "  Downloading eli5-0.13.0.tar.gz (216 kB)\n",
            "\u001b[?25l     \u001b[90m━━━━━━━━━━━━━━━━━━━━━━━━━━━━━━━━━━━━━━━━\u001b[0m \u001b[32m0.0/216.2 kB\u001b[0m \u001b[31m?\u001b[0m eta \u001b[36m-:--:--\u001b[0m\r\u001b[2K     \u001b[91m━━━━━━━━━━━━━━━━━━━━━━━━━━━━━━━━━━━━━━━\u001b[0m\u001b[91m╸\u001b[0m \u001b[32m215.0/216.2 kB\u001b[0m \u001b[31m6.4 MB/s\u001b[0m eta \u001b[36m0:00:01\u001b[0m\r\u001b[2K     \u001b[90m━━━━━━━━━━━━━━━━━━━━━━━━━━━━━━━━━━━━━━━━\u001b[0m \u001b[32m216.2/216.2 kB\u001b[0m \u001b[31m5.0 MB/s\u001b[0m eta \u001b[36m0:00:00\u001b[0m\n",
            "\u001b[?25h  Preparing metadata (setup.py) ... \u001b[?25l\u001b[?25hdone\n",
            "Requirement already satisfied: attrs>17.1.0 in /usr/local/lib/python3.10/dist-packages (from eli5) (23.2.0)\n",
            "Requirement already satisfied: jinja2>=3.0.0 in /usr/local/lib/python3.10/dist-packages (from eli5) (3.1.4)\n",
            "Requirement already satisfied: numpy>=1.9.0 in /usr/local/lib/python3.10/dist-packages (from eli5) (1.25.2)\n",
            "Requirement already satisfied: scipy in /usr/local/lib/python3.10/dist-packages (from eli5) (1.11.4)\n",
            "Requirement already satisfied: six in /usr/local/lib/python3.10/dist-packages (from eli5) (1.16.0)\n",
            "Requirement already satisfied: scikit-learn>=0.20 in /usr/local/lib/python3.10/dist-packages (from eli5) (1.2.2)\n",
            "Requirement already satisfied: graphviz in /usr/local/lib/python3.10/dist-packages (from eli5) (0.20.3)\n",
            "Requirement already satisfied: tabulate>=0.7.7 in /usr/local/lib/python3.10/dist-packages (from eli5) (0.9.0)\n",
            "Requirement already satisfied: MarkupSafe>=2.0 in /usr/local/lib/python3.10/dist-packages (from jinja2>=3.0.0->eli5) (2.1.5)\n",
            "Requirement already satisfied: joblib>=1.1.1 in /usr/local/lib/python3.10/dist-packages (from scikit-learn>=0.20->eli5) (1.4.2)\n",
            "Requirement already satisfied: threadpoolctl>=2.0.0 in /usr/local/lib/python3.10/dist-packages (from scikit-learn>=0.20->eli5) (3.5.0)\n",
            "Building wheels for collected packages: eli5\n",
            "  Building wheel for eli5 (setup.py) ... \u001b[?25l\u001b[?25hdone\n",
            "  Created wheel for eli5: filename=eli5-0.13.0-py2.py3-none-any.whl size=107720 sha256=dada99e8e40edd1d4f222a4530930206562426fc716a2c7a2e4266fa0a6e533b\n",
            "  Stored in directory: /root/.cache/pip/wheels/b8/58/ef/2cf4c306898c2338d51540e0922c8e0d6028e07007085c0004\n",
            "Successfully built eli5\n",
            "Installing collected packages: eli5\n",
            "Successfully installed eli5-0.13.0\n"
          ]
        }
      ]
    },
    {
      "cell_type": "code",
      "source": [
        "%%time\n",
        "#We predcit using the same 5 fold cross validation\n",
        "crf = sklearn_crfsuite.CRF(algorithm='lbfgs',\n",
        "          c1=0.1,\n",
        "          c2=0.1,\n",
        "          max_iterations=1000,\n",
        "          all_possible_transitions=False)\n",
        "try:\n",
        "    crf.fit(X_train, y_train)\n",
        "except AttributeError:\n",
        "    pass\n",
        "predictions = crf.predict(X_test)"
      ],
      "metadata": {
        "id": "vG-9YJDQha5O",
        "outputId": "fc9b23dc-26bb-4b9e-92c8-cf322d890ee3",
        "colab": {
          "base_uri": "https://localhost:8080/"
        }
      },
      "execution_count": 153,
      "outputs": [
        {
          "output_type": "stream",
          "name": "stdout",
          "text": [
            "CPU times: user 19min, sys: 5.93 s, total: 19min 6s\n",
            "Wall time: 19min 22s\n"
          ]
        }
      ]
    },
    {
      "cell_type": "code",
      "source": [
        "y_train_pred = crf.predict(X_train)\n",
        "y_test_pred = crf.predict(X_test)\n",
        "y_val_pred = crf.predict(X_val)"
      ],
      "metadata": {
        "id": "vDFbYjJ5XNmg"
      },
      "execution_count": 155,
      "outputs": []
    },
    {
      "cell_type": "code",
      "source": [
        "labels = list(crf.classes_)\n",
        "labels"
      ],
      "metadata": {
        "colab": {
          "base_uri": "https://localhost:8080/"
        },
        "id": "mM4q4Oozjgwj",
        "outputId": "f360e22f-a9a5-42b8-feba-2edee7de7bbb"
      },
      "execution_count": 162,
      "outputs": [
        {
          "output_type": "execute_result",
          "data": {
            "text/plain": [
              "['O',\n",
              " 'B-org',\n",
              " 'B-per',\n",
              " 'I-per',\n",
              " 'B-geo',\n",
              " 'B-tim',\n",
              " 'I-geo',\n",
              " 'B-gpe',\n",
              " 'I-org',\n",
              " 'I-tim',\n",
              " 'B-art',\n",
              " 'I-art',\n",
              " 'I-gpe',\n",
              " 'B-nat',\n",
              " 'B-eve',\n",
              " 'I-eve',\n",
              " 'I-nat']"
            ]
          },
          "metadata": {},
          "execution_count": 162
        }
      ]
    },
    {
      "cell_type": "code",
      "source": [
        "print(\"Train F1-score:\", metrics.flat_f1_score(y_train,y_train_pred, average='macro',labels=labels))\n",
        "print(\"Test F1-score:\", metrics.flat_f1_score(y_test,y_test_pred, average='macro',labels=labels))\n",
        "print(\"Validation F1-score:\", metrics.flat_f1_score(y_val,y_val_pred, average='weighted',labels=labels))\n",
        "\n"
      ],
      "metadata": {
        "colab": {
          "base_uri": "https://localhost:8080/"
        },
        "id": "vJI98gD-gf_-",
        "outputId": "d64a6bee-d312-48a6-cd9e-097ab06da4a5"
      },
      "execution_count": 160,
      "outputs": [
        {
          "output_type": "stream",
          "name": "stdout",
          "text": [
            "Train F1-score: 0.88538602849107\n",
            "Test F1-score: 0.6295428299576049\n",
            "Validation F1-score: 0.9687361904875875\n"
          ]
        }
      ]
    },
    {
      "cell_type": "code",
      "source": [],
      "metadata": {
        "id": "rIYYCOGsiyVI"
      },
      "execution_count": null,
      "outputs": []
    },
    {
      "cell_type": "code",
      "source": [
        "%%time\n",
        "print(\"Model evaluation metrics for train dataset\")\n",
        "print(flat_classification_report(y_pred=y_train_pred, y_true=y_train))\n",
        "\n",
        "print(\"Model evaluation metrics for test dataset\")\n",
        "print(flat_classification_report(y_pred=y_test_pred, y_true=y_test))\n",
        "\n",
        "print(\"Model evaluation metrics for Val dataset\")\n",
        "print(flat_classification_report(y_pred=y_val_pred, y_true=y_val))\n",
        "\n",
        "##report = flat_classification_report(y_pred=pred, y_true=y)\n",
        "#print(report)"
      ],
      "metadata": {
        "colab": {
          "base_uri": "https://localhost:8080/"
        },
        "id": "y1nZ_VY9PGyH",
        "outputId": "59f1366b-a785-4369-c432-993eec825fac"
      },
      "execution_count": 163,
      "outputs": [
        {
          "output_type": "stream",
          "name": "stdout",
          "text": [
            "Model evaluation metrics for train dataset\n",
            "              precision    recall  f1-score   support\n",
            "\n",
            "       B-art       0.92      0.68      0.78       247\n",
            "       B-eve       0.87      0.73      0.79       193\n",
            "       B-geo       0.91      0.95      0.93     24009\n",
            "       B-gpe       0.98      0.96      0.97     10106\n",
            "       B-nat       0.88      0.67      0.76       126\n",
            "       B-org       0.92      0.85      0.89     12945\n",
            "       B-per       0.95      0.93      0.94     10918\n",
            "       B-tim       0.96      0.93      0.95     12922\n",
            "       I-art       0.95      0.79      0.86       183\n",
            "       I-eve       0.87      0.75      0.80       157\n",
            "       I-geo       0.91      0.93      0.92      4713\n",
            "       I-gpe       0.99      0.67      0.80       122\n",
            "       I-nat       0.96      0.76      0.85        29\n",
            "       I-org       0.95      0.94      0.94     10688\n",
            "       I-per       0.94      0.96      0.95     11032\n",
            "       I-tim       0.94      0.90      0.92      4121\n",
            "           O       1.00      1.00      1.00    569166\n",
            "\n",
            "    accuracy                           0.99    671677\n",
            "   macro avg       0.94      0.85      0.89    671677\n",
            "weighted avg       0.99      0.99      0.99    671677\n",
            "\n",
            "Model evaluation metrics for test dataset\n",
            "              precision    recall  f1-score   support\n",
            "\n",
            "       B-art       0.18      0.03      0.05        64\n",
            "       B-eve       0.45      0.28      0.35        50\n",
            "       B-geo       0.87      0.90      0.89      6051\n",
            "       B-gpe       0.96      0.92      0.94      2569\n",
            "       B-nat       0.56      0.32      0.41        28\n",
            "       B-org       0.80      0.73      0.76      3162\n",
            "       B-per       0.85      0.82      0.84      2669\n",
            "       B-tim       0.93      0.88      0.90      3262\n",
            "       I-art       0.18      0.04      0.06        55\n",
            "       I-eve       0.31      0.23      0.26        40\n",
            "       I-geo       0.80      0.80      0.80      1161\n",
            "       I-gpe       0.90      0.58      0.70        33\n",
            "       I-nat       0.40      0.22      0.29         9\n",
            "       I-org       0.80      0.80      0.80      2695\n",
            "       I-per       0.85      0.89      0.87      2757\n",
            "       I-tim       0.84      0.76      0.80      1067\n",
            "           O       0.99      0.99      0.99    142019\n",
            "\n",
            "    accuracy                           0.97    167691\n",
            "   macro avg       0.69      0.60      0.63    167691\n",
            "weighted avg       0.97      0.97      0.97    167691\n",
            "\n",
            "Model evaluation metrics for Val dataset\n",
            "              precision    recall  f1-score   support\n",
            "\n",
            "       B-art       0.48      0.12      0.19        91\n",
            "       B-eve       0.57      0.48      0.52        65\n",
            "       B-geo       0.86      0.90      0.88      7584\n",
            "       B-gpe       0.96      0.94      0.95      3195\n",
            "       B-nat       0.81      0.47      0.59        47\n",
            "       B-org       0.80      0.72      0.75      4036\n",
            "       B-per       0.84      0.82      0.83      3403\n",
            "       B-tim       0.92      0.87      0.90      4149\n",
            "       I-art       0.11      0.03      0.05        59\n",
            "       I-eve       0.43      0.36      0.39        56\n",
            "       I-geo       0.82      0.78      0.80      1540\n",
            "       I-gpe       0.83      0.56      0.67        43\n",
            "       I-nat       0.80      0.62      0.70        13\n",
            "       I-org       0.80      0.79      0.79      3401\n",
            "       I-per       0.84      0.89      0.87      3462\n",
            "       I-tim       0.82      0.72      0.77      1340\n",
            "           O       0.99      0.99      0.99    176723\n",
            "\n",
            "    accuracy                           0.97    209207\n",
            "   macro avg       0.75      0.65      0.68    209207\n",
            "weighted avg       0.97      0.97      0.97    209207\n",
            "\n",
            "CPU times: user 15.3 s, sys: 68.7 ms, total: 15.4 s\n",
            "Wall time: 17.9 s\n"
          ]
        }
      ]
    },
    {
      "cell_type": "code",
      "source": [
        "def print_transitions(trans_features):\n",
        "    for (label_from, label_to), weight in trans_features:\n",
        "        print(\"%-6s -> %-7s %0.6f\" % (label_from, label_to, weight))"
      ],
      "metadata": {
        "id": "61mIbBBOP_VL"
      },
      "execution_count": 164,
      "outputs": []
    },
    {
      "cell_type": "markdown",
      "source": [],
      "metadata": {
        "id": "_KXLzNcyaA5y"
      }
    },
    {
      "cell_type": "code",
      "source": [
        "from collections import Counter"
      ],
      "metadata": {
        "id": "deXCptMnRMEz"
      },
      "execution_count": 115,
      "outputs": []
    },
    {
      "cell_type": "code",
      "source": [
        "print(\"Top likely transitions:\")\n",
        "print_transitions(Counter(crf.transition_features_).most_common(20))"
      ],
      "metadata": {
        "colab": {
          "base_uri": "https://localhost:8080/"
        },
        "id": "ydRi5A6_Qr_N",
        "outputId": "50bfc5fe-ce7d-4f58-f620-9c1d19dd0530"
      },
      "execution_count": 166,
      "outputs": [
        {
          "output_type": "stream",
          "name": "stdout",
          "text": [
            "Top likely transitions:\n",
            "B-geo  -> I-geo   12.169285\n",
            "B-per  -> I-per   11.626877\n",
            "B-tim  -> I-tim   10.135371\n",
            "I-per  -> I-per   9.459382\n",
            "I-geo  -> I-geo   9.290563\n",
            "B-org  -> I-org   9.227148\n",
            "I-tim  -> I-tim   9.097124\n",
            "I-org  -> I-org   8.980181\n",
            "B-art  -> I-art   7.753820\n",
            "I-eve  -> I-eve   7.598324\n",
            "I-art  -> I-art   7.528331\n",
            "B-eve  -> I-eve   7.215390\n",
            "O      -> B-per   6.874019\n",
            "B-nat  -> I-nat   6.350902\n",
            "B-gpe  -> I-gpe   6.310354\n",
            "O      -> B-tim   5.636777\n",
            "O      -> B-org   5.626709\n",
            "I-gpe  -> I-gpe   5.313979\n",
            "O      -> O       5.256330\n",
            "B-per  -> B-org   5.168658\n"
          ]
        }
      ]
    },
    {
      "cell_type": "code",
      "source": [
        "print(\"\\nTop unlikely transitions:\")\n",
        "print_transitions(Counter(crf.transition_features_).most_common()[-20:])\n"
      ],
      "metadata": {
        "colab": {
          "base_uri": "https://localhost:8080/"
        },
        "id": "c7saeVDpYTpw",
        "outputId": "da81a3e6-c9d1-4fc5-8d8d-82290f53fce1"
      },
      "execution_count": 167,
      "outputs": [
        {
          "output_type": "stream",
          "name": "stdout",
          "text": [
            "\n",
            "Top unlikely transitions:\n",
            "B-org  -> O       0.486613\n",
            "I-gpe  -> B-per   0.335206\n",
            "I-tim  -> B-eve   0.288400\n",
            "I-gpe  -> B-geo   0.262529\n",
            "I-eve  -> O       0.203654\n",
            "I-org  -> B-geo   0.196380\n",
            "B-org  -> B-eve   0.140726\n",
            "B-art  -> B-geo   0.075363\n",
            "I-org  -> O       -0.145415\n",
            "I-tim  -> B-gpe   -0.177432\n",
            "I-tim  -> O       -0.200704\n",
            "I-geo  -> B-gpe   -0.316178\n",
            "I-per  -> B-geo   -0.399709\n",
            "I-geo  -> O       -0.451601\n",
            "B-nat  -> O       -0.624926\n",
            "B-art  -> O       -0.766541\n",
            "I-gpe  -> O       -0.896696\n",
            "I-art  -> O       -1.094595\n",
            "B-eve  -> O       -1.170437\n",
            "I-nat  -> O       -1.419632\n"
          ]
        }
      ]
    },
    {
      "cell_type": "markdown",
      "source": [
        "Conclusion on CRF"
      ],
      "metadata": {
        "id": "veGyI5J_aCoy"
      }
    },
    {
      "cell_type": "markdown",
      "source": [
        "NER tagging by Deep Learning (Tensrflow)"
      ],
      "metadata": {
        "id": "peYnogbAaJmT"
      }
    },
    {
      "cell_type": "code",
      "source": [
        "print(data.head())\n",
        "print(data.shape)"
      ],
      "metadata": {
        "colab": {
          "base_uri": "https://localhost:8080/"
        },
        "id": "CFgsKREhah7s",
        "outputId": "3378c1cd-a786-4151-f0e9-715567b045f8"
      },
      "execution_count": 231,
      "outputs": [
        {
          "output_type": "stream",
          "name": "stdout",
          "text": [
            "   sentence_id          words  POS labels\n",
            "0            0      Thousands  NNS      O\n",
            "1            0             of   IN      O\n",
            "2            0  demonstrators  NNS      O\n",
            "3            0           have  VBP      O\n",
            "4            0        marched  VBN      O\n",
            "(1048575, 4)\n"
          ]
        }
      ]
    },
    {
      "cell_type": "code",
      "source": [
        "words = pd.DataFrame(data.groupby('sentence_id')['words'].apply(list))\n",
        "tags = data.groupby('sentence_id')['labels'].apply(list)\n",
        "words['tag'] = tags\n",
        "words['sentence'] = words['words'].apply(lambda x: ' '.join(x))\n",
        "words['tag_combine'] = words['tag'].apply(lambda x: ' '.join(x))\n",
        "words = words.reset_index()\n",
        "words.head()"
      ],
      "metadata": {
        "colab": {
          "base_uri": "https://localhost:8080/",
          "height": 449
        },
        "id": "RTstEtVxMQJO",
        "outputId": "b1def446-ce74-4c3c-df71-3bf35a2689d4"
      },
      "execution_count": 243,
      "outputs": [
        {
          "output_type": "execute_result",
          "data": {
            "text/plain": [
              "   sentence_id                                              words  \\\n",
              "0            0  [Thousands, of, demonstrators, have, marched, ...   \n",
              "1            1  [Iranian, officials, say, they, expect, to, ge...   \n",
              "2            2  [Helicopter, gunships, Saturday, pounded, mili...   \n",
              "3            3  [They, left, after, a, tense, hour-long, stand...   \n",
              "4            4  [U.N., relief, coordinator, Jan, Egeland, said...   \n",
              "\n",
              "                                                 tag  \\\n",
              "0  [O, O, O, O, O, O, B-geo, O, O, O, O, O, B-geo...   \n",
              "1  [B-gpe, O, O, O, O, O, O, O, O, O, O, O, O, O,...   \n",
              "2  [O, O, B-tim, O, O, O, O, O, B-geo, O, O, O, O...   \n",
              "3                  [O, O, O, O, O, O, O, O, O, O, O]   \n",
              "4  [B-geo, O, O, B-per, I-per, O, B-tim, O, B-geo...   \n",
              "\n",
              "                                            sentence  \\\n",
              "0  Thousands of demonstrators have marched throug...   \n",
              "1  Iranian officials say they expect to get acces...   \n",
              "2  Helicopter gunships Saturday pounded militant ...   \n",
              "3  They left after a tense hour-long standoff wit...   \n",
              "4  U.N. relief coordinator Jan Egeland said Sunda...   \n",
              "\n",
              "                                         tag_combine  \n",
              "0  O O O O O O B-geo O O O O O B-geo O O O O O B-...  \n",
              "1  B-gpe O O O O O O O O O O O O O O B-tim O O O ...  \n",
              "2  O O B-tim O O O O O B-geo O O O O O B-org O O ...  \n",
              "3                              O O O O O O O O O O O  \n",
              "4  B-geo O O B-per I-per O B-tim O B-geo O B-gpe ...  "
            ],
            "text/html": [
              "\n",
              "  <div id=\"df-9a05c576-90f5-42b8-91f0-8de2afbcabf2\" class=\"colab-df-container\">\n",
              "    <div>\n",
              "<style scoped>\n",
              "    .dataframe tbody tr th:only-of-type {\n",
              "        vertical-align: middle;\n",
              "    }\n",
              "\n",
              "    .dataframe tbody tr th {\n",
              "        vertical-align: top;\n",
              "    }\n",
              "\n",
              "    .dataframe thead th {\n",
              "        text-align: right;\n",
              "    }\n",
              "</style>\n",
              "<table border=\"1\" class=\"dataframe\">\n",
              "  <thead>\n",
              "    <tr style=\"text-align: right;\">\n",
              "      <th></th>\n",
              "      <th>sentence_id</th>\n",
              "      <th>words</th>\n",
              "      <th>tag</th>\n",
              "      <th>sentence</th>\n",
              "      <th>tag_combine</th>\n",
              "    </tr>\n",
              "  </thead>\n",
              "  <tbody>\n",
              "    <tr>\n",
              "      <th>0</th>\n",
              "      <td>0</td>\n",
              "      <td>[Thousands, of, demonstrators, have, marched, ...</td>\n",
              "      <td>[O, O, O, O, O, O, B-geo, O, O, O, O, O, B-geo...</td>\n",
              "      <td>Thousands of demonstrators have marched throug...</td>\n",
              "      <td>O O O O O O B-geo O O O O O B-geo O O O O O B-...</td>\n",
              "    </tr>\n",
              "    <tr>\n",
              "      <th>1</th>\n",
              "      <td>1</td>\n",
              "      <td>[Iranian, officials, say, they, expect, to, ge...</td>\n",
              "      <td>[B-gpe, O, O, O, O, O, O, O, O, O, O, O, O, O,...</td>\n",
              "      <td>Iranian officials say they expect to get acces...</td>\n",
              "      <td>B-gpe O O O O O O O O O O O O O O B-tim O O O ...</td>\n",
              "    </tr>\n",
              "    <tr>\n",
              "      <th>2</th>\n",
              "      <td>2</td>\n",
              "      <td>[Helicopter, gunships, Saturday, pounded, mili...</td>\n",
              "      <td>[O, O, B-tim, O, O, O, O, O, B-geo, O, O, O, O...</td>\n",
              "      <td>Helicopter gunships Saturday pounded militant ...</td>\n",
              "      <td>O O B-tim O O O O O B-geo O O O O O B-org O O ...</td>\n",
              "    </tr>\n",
              "    <tr>\n",
              "      <th>3</th>\n",
              "      <td>3</td>\n",
              "      <td>[They, left, after, a, tense, hour-long, stand...</td>\n",
              "      <td>[O, O, O, O, O, O, O, O, O, O, O]</td>\n",
              "      <td>They left after a tense hour-long standoff wit...</td>\n",
              "      <td>O O O O O O O O O O O</td>\n",
              "    </tr>\n",
              "    <tr>\n",
              "      <th>4</th>\n",
              "      <td>4</td>\n",
              "      <td>[U.N., relief, coordinator, Jan, Egeland, said...</td>\n",
              "      <td>[B-geo, O, O, B-per, I-per, O, B-tim, O, B-geo...</td>\n",
              "      <td>U.N. relief coordinator Jan Egeland said Sunda...</td>\n",
              "      <td>B-geo O O B-per I-per O B-tim O B-geo O B-gpe ...</td>\n",
              "    </tr>\n",
              "  </tbody>\n",
              "</table>\n",
              "</div>\n",
              "    <div class=\"colab-df-buttons\">\n",
              "\n",
              "  <div class=\"colab-df-container\">\n",
              "    <button class=\"colab-df-convert\" onclick=\"convertToInteractive('df-9a05c576-90f5-42b8-91f0-8de2afbcabf2')\"\n",
              "            title=\"Convert this dataframe to an interactive table.\"\n",
              "            style=\"display:none;\">\n",
              "\n",
              "  <svg xmlns=\"http://www.w3.org/2000/svg\" height=\"24px\" viewBox=\"0 -960 960 960\">\n",
              "    <path d=\"M120-120v-720h720v720H120Zm60-500h600v-160H180v160Zm220 220h160v-160H400v160Zm0 220h160v-160H400v160ZM180-400h160v-160H180v160Zm440 0h160v-160H620v160ZM180-180h160v-160H180v160Zm440 0h160v-160H620v160Z\"/>\n",
              "  </svg>\n",
              "    </button>\n",
              "\n",
              "  <style>\n",
              "    .colab-df-container {\n",
              "      display:flex;\n",
              "      gap: 12px;\n",
              "    }\n",
              "\n",
              "    .colab-df-convert {\n",
              "      background-color: #E8F0FE;\n",
              "      border: none;\n",
              "      border-radius: 50%;\n",
              "      cursor: pointer;\n",
              "      display: none;\n",
              "      fill: #1967D2;\n",
              "      height: 32px;\n",
              "      padding: 0 0 0 0;\n",
              "      width: 32px;\n",
              "    }\n",
              "\n",
              "    .colab-df-convert:hover {\n",
              "      background-color: #E2EBFA;\n",
              "      box-shadow: 0px 1px 2px rgba(60, 64, 67, 0.3), 0px 1px 3px 1px rgba(60, 64, 67, 0.15);\n",
              "      fill: #174EA6;\n",
              "    }\n",
              "\n",
              "    .colab-df-buttons div {\n",
              "      margin-bottom: 4px;\n",
              "    }\n",
              "\n",
              "    [theme=dark] .colab-df-convert {\n",
              "      background-color: #3B4455;\n",
              "      fill: #D2E3FC;\n",
              "    }\n",
              "\n",
              "    [theme=dark] .colab-df-convert:hover {\n",
              "      background-color: #434B5C;\n",
              "      box-shadow: 0px 1px 3px 1px rgba(0, 0, 0, 0.15);\n",
              "      filter: drop-shadow(0px 1px 2px rgba(0, 0, 0, 0.3));\n",
              "      fill: #FFFFFF;\n",
              "    }\n",
              "  </style>\n",
              "\n",
              "    <script>\n",
              "      const buttonEl =\n",
              "        document.querySelector('#df-9a05c576-90f5-42b8-91f0-8de2afbcabf2 button.colab-df-convert');\n",
              "      buttonEl.style.display =\n",
              "        google.colab.kernel.accessAllowed ? 'block' : 'none';\n",
              "\n",
              "      async function convertToInteractive(key) {\n",
              "        const element = document.querySelector('#df-9a05c576-90f5-42b8-91f0-8de2afbcabf2');\n",
              "        const dataTable =\n",
              "          await google.colab.kernel.invokeFunction('convertToInteractive',\n",
              "                                                    [key], {});\n",
              "        if (!dataTable) return;\n",
              "\n",
              "        const docLinkHtml = 'Like what you see? Visit the ' +\n",
              "          '<a target=\"_blank\" href=https://colab.research.google.com/notebooks/data_table.ipynb>data table notebook</a>'\n",
              "          + ' to learn more about interactive tables.';\n",
              "        element.innerHTML = '';\n",
              "        dataTable['output_type'] = 'display_data';\n",
              "        await google.colab.output.renderOutput(dataTable, element);\n",
              "        const docLink = document.createElement('div');\n",
              "        docLink.innerHTML = docLinkHtml;\n",
              "        element.appendChild(docLink);\n",
              "      }\n",
              "    </script>\n",
              "  </div>\n",
              "\n",
              "\n",
              "<div id=\"df-150dd981-ef98-4bc7-870a-42e4661b3400\">\n",
              "  <button class=\"colab-df-quickchart\" onclick=\"quickchart('df-150dd981-ef98-4bc7-870a-42e4661b3400')\"\n",
              "            title=\"Suggest charts\"\n",
              "            style=\"display:none;\">\n",
              "\n",
              "<svg xmlns=\"http://www.w3.org/2000/svg\" height=\"24px\"viewBox=\"0 0 24 24\"\n",
              "     width=\"24px\">\n",
              "    <g>\n",
              "        <path d=\"M19 3H5c-1.1 0-2 .9-2 2v14c0 1.1.9 2 2 2h14c1.1 0 2-.9 2-2V5c0-1.1-.9-2-2-2zM9 17H7v-7h2v7zm4 0h-2V7h2v10zm4 0h-2v-4h2v4z\"/>\n",
              "    </g>\n",
              "</svg>\n",
              "  </button>\n",
              "\n",
              "<style>\n",
              "  .colab-df-quickchart {\n",
              "      --bg-color: #E8F0FE;\n",
              "      --fill-color: #1967D2;\n",
              "      --hover-bg-color: #E2EBFA;\n",
              "      --hover-fill-color: #174EA6;\n",
              "      --disabled-fill-color: #AAA;\n",
              "      --disabled-bg-color: #DDD;\n",
              "  }\n",
              "\n",
              "  [theme=dark] .colab-df-quickchart {\n",
              "      --bg-color: #3B4455;\n",
              "      --fill-color: #D2E3FC;\n",
              "      --hover-bg-color: #434B5C;\n",
              "      --hover-fill-color: #FFFFFF;\n",
              "      --disabled-bg-color: #3B4455;\n",
              "      --disabled-fill-color: #666;\n",
              "  }\n",
              "\n",
              "  .colab-df-quickchart {\n",
              "    background-color: var(--bg-color);\n",
              "    border: none;\n",
              "    border-radius: 50%;\n",
              "    cursor: pointer;\n",
              "    display: none;\n",
              "    fill: var(--fill-color);\n",
              "    height: 32px;\n",
              "    padding: 0;\n",
              "    width: 32px;\n",
              "  }\n",
              "\n",
              "  .colab-df-quickchart:hover {\n",
              "    background-color: var(--hover-bg-color);\n",
              "    box-shadow: 0 1px 2px rgba(60, 64, 67, 0.3), 0 1px 3px 1px rgba(60, 64, 67, 0.15);\n",
              "    fill: var(--button-hover-fill-color);\n",
              "  }\n",
              "\n",
              "  .colab-df-quickchart-complete:disabled,\n",
              "  .colab-df-quickchart-complete:disabled:hover {\n",
              "    background-color: var(--disabled-bg-color);\n",
              "    fill: var(--disabled-fill-color);\n",
              "    box-shadow: none;\n",
              "  }\n",
              "\n",
              "  .colab-df-spinner {\n",
              "    border: 2px solid var(--fill-color);\n",
              "    border-color: transparent;\n",
              "    border-bottom-color: var(--fill-color);\n",
              "    animation:\n",
              "      spin 1s steps(1) infinite;\n",
              "  }\n",
              "\n",
              "  @keyframes spin {\n",
              "    0% {\n",
              "      border-color: transparent;\n",
              "      border-bottom-color: var(--fill-color);\n",
              "      border-left-color: var(--fill-color);\n",
              "    }\n",
              "    20% {\n",
              "      border-color: transparent;\n",
              "      border-left-color: var(--fill-color);\n",
              "      border-top-color: var(--fill-color);\n",
              "    }\n",
              "    30% {\n",
              "      border-color: transparent;\n",
              "      border-left-color: var(--fill-color);\n",
              "      border-top-color: var(--fill-color);\n",
              "      border-right-color: var(--fill-color);\n",
              "    }\n",
              "    40% {\n",
              "      border-color: transparent;\n",
              "      border-right-color: var(--fill-color);\n",
              "      border-top-color: var(--fill-color);\n",
              "    }\n",
              "    60% {\n",
              "      border-color: transparent;\n",
              "      border-right-color: var(--fill-color);\n",
              "    }\n",
              "    80% {\n",
              "      border-color: transparent;\n",
              "      border-right-color: var(--fill-color);\n",
              "      border-bottom-color: var(--fill-color);\n",
              "    }\n",
              "    90% {\n",
              "      border-color: transparent;\n",
              "      border-bottom-color: var(--fill-color);\n",
              "    }\n",
              "  }\n",
              "</style>\n",
              "\n",
              "  <script>\n",
              "    async function quickchart(key) {\n",
              "      const quickchartButtonEl =\n",
              "        document.querySelector('#' + key + ' button');\n",
              "      quickchartButtonEl.disabled = true;  // To prevent multiple clicks.\n",
              "      quickchartButtonEl.classList.add('colab-df-spinner');\n",
              "      try {\n",
              "        const charts = await google.colab.kernel.invokeFunction(\n",
              "            'suggestCharts', [key], {});\n",
              "      } catch (error) {\n",
              "        console.error('Error during call to suggestCharts:', error);\n",
              "      }\n",
              "      quickchartButtonEl.classList.remove('colab-df-spinner');\n",
              "      quickchartButtonEl.classList.add('colab-df-quickchart-complete');\n",
              "    }\n",
              "    (() => {\n",
              "      let quickchartButtonEl =\n",
              "        document.querySelector('#df-150dd981-ef98-4bc7-870a-42e4661b3400 button');\n",
              "      quickchartButtonEl.style.display =\n",
              "        google.colab.kernel.accessAllowed ? 'block' : 'none';\n",
              "    })();\n",
              "  </script>\n",
              "</div>\n",
              "\n",
              "    </div>\n",
              "  </div>\n"
            ],
            "application/vnd.google.colaboratory.intrinsic+json": {
              "type": "dataframe",
              "variable_name": "words",
              "summary": "{\n  \"name\": \"words\",\n  \"rows\": 47959,\n  \"fields\": [\n    {\n      \"column\": \"sentence_id\",\n      \"properties\": {\n        \"dtype\": \"number\",\n        \"std\": 13844,\n        \"min\": 0,\n        \"max\": 47958,\n        \"num_unique_values\": 47959,\n        \"samples\": [\n          13389,\n          3035,\n          6013\n        ],\n        \"semantic_type\": \"\",\n        \"description\": \"\"\n      }\n    },\n    {\n      \"column\": \"words\",\n      \"properties\": {\n        \"dtype\": \"object\",\n        \"semantic_type\": \"\",\n        \"description\": \"\"\n      }\n    },\n    {\n      \"column\": \"tag\",\n      \"properties\": {\n        \"dtype\": \"object\",\n        \"semantic_type\": \"\",\n        \"description\": \"\"\n      }\n    },\n    {\n      \"column\": \"sentence\",\n      \"properties\": {\n        \"dtype\": \"string\",\n        \"num_unique_values\": 47575,\n        \"samples\": [\n          \"The Afghan civilians were killed during a firefight between the Polish troops and militants on August 16 .\",\n          \"President Bush is to travel to Europe in June to attend a summit of the Group of Eight industrialized nations in Germany .\",\n          \"Russian news reports say a court ruled Monday that Mikhail Khodorkovsky and his business partner are guilty of embezzling property .\"\n        ],\n        \"semantic_type\": \"\",\n        \"description\": \"\"\n      }\n    },\n    {\n      \"column\": \"tag_combine\",\n      \"properties\": {\n        \"dtype\": \"string\",\n        \"num_unique_values\": 33318,\n        \"samples\": [\n          \"O O O O O B-per B-org O O O O O O O O O O O O B-gpe O O\",\n          \"O B-tim O B-gpe O O O B-gpe O O O O O O O O O O O O B-gpe O O O B-gpe O O\",\n          \"O O O O O O O O O O O O O B-tim O O O O O O O O O B-geo O\"\n        ],\n        \"semantic_type\": \"\",\n        \"description\": \"\"\n      }\n    }\n  ]\n}"
            }
          },
          "metadata": {},
          "execution_count": 243
        }
      ]
    },
    {
      "cell_type": "code",
      "source": [
        "spacy_data = []\n",
        "for idx, row in words.iterrows():\n",
        "    tokens = row['words']\n",
        "    tags = row['tag']\n",
        "    entities = [\n",
        "        (len(' '.join(tokens[:i])) + 1, len(' '.join(tokens[:i])) + len(tokens[i]) + 1, tags[i])\n",
        "        if i != 0 else\n",
        "        (len(' '.join(tokens[:i])), len(' '.join(tokens[:i])) + len(tokens[i]), tags[i])\n",
        "        for i in range(len(tags)) if tags[i] != 'O'\n",
        "    ]\n",
        "    data_tuple = (row['sentence'], {'entities': entities})\n",
        "    spacy_data.append(data_tuple)\n",
        "spacy_data[:5]"
      ],
      "metadata": {
        "colab": {
          "base_uri": "https://localhost:8080/"
        },
        "id": "4xQTCzlHL8kk",
        "outputId": "a5d70bc4-e983-476a-9e35-d3f02f9dab9b"
      },
      "execution_count": 245,
      "outputs": [
        {
          "output_type": "execute_result",
          "data": {
            "text/plain": [
              "[('Thousands of demonstrators have marched through London to protest the war in Iraq and demand the withdrawal of British troops from that country .',\n",
              "  {'entities': [(48, 54, 'B-geo'), (77, 81, 'B-geo'), (111, 118, 'B-gpe')]}),\n",
              " ('Iranian officials say they expect to get access to sealed sensitive parts of the plant Wednesday , after an IAEA surveillance system begins functioning .',\n",
              "  {'entities': [(0, 7, 'B-gpe'), (87, 96, 'B-tim'), (108, 112, 'B-org')]}),\n",
              " ('Helicopter gunships Saturday pounded militant hideouts in the Orakzai tribal region , where many Taliban militants are believed to have fled to avoid an earlier military offensive in nearby South Waziristan .',\n",
              "  {'entities': [(20, 28, 'B-tim'),\n",
              "    (62, 69, 'B-geo'),\n",
              "    (97, 104, 'B-org'),\n",
              "    (190, 195, 'B-geo'),\n",
              "    (196, 206, 'I-geo')]}),\n",
              " ('They left after a tense hour-long standoff with riot police .',\n",
              "  {'entities': []}),\n",
              " ('U.N. relief coordinator Jan Egeland said Sunday , U.S. , Indonesian and Australian military helicopters are ferrying out food and supplies to remote areas of western Aceh province that ground crews can not reach .',\n",
              "  {'entities': [(0, 4, 'B-geo'),\n",
              "    (24, 27, 'B-per'),\n",
              "    (28, 35, 'I-per'),\n",
              "    (41, 47, 'B-tim'),\n",
              "    (50, 54, 'B-geo'),\n",
              "    (57, 67, 'B-gpe'),\n",
              "    (72, 82, 'B-gpe'),\n",
              "    (166, 170, 'B-geo')]})]"
            ]
          },
          "metadata": {},
          "execution_count": 245
        }
      ]
    },
    {
      "cell_type": "code",
      "source": [
        "def num_words_tags (tags, data):\n",
        "\n",
        "    \"\"\"This functions takes the tags we want to count and the datafram\n",
        "    and return a dict where the key is the tag and the value is the frequency\n",
        "    of that tag\"\"\"\n",
        "\n",
        "    tags_count = {}\n",
        "\n",
        "    for tag in tags:\n",
        "        len_tag = len(data[data['labels'] == tag])\n",
        "        tags_count[tag] = len_tag\n",
        "\n",
        "    return tags_count\n",
        "\n",
        "tags = data[\"labels\"].unique()\n",
        "tags_count = num_words_tags(tags, data)\n",
        "tags_count"
      ],
      "metadata": {
        "colab": {
          "base_uri": "https://localhost:8080/"
        },
        "id": "ZaOCUPKIL8oi",
        "outputId": "d6ae131b-85e9-41b1-dfa7-d9ff1dadbb91"
      },
      "execution_count": 248,
      "outputs": [
        {
          "output_type": "execute_result",
          "data": {
            "text/plain": [
              "{'O': 887908,\n",
              " 'B-geo': 37644,\n",
              " 'B-gpe': 15870,\n",
              " 'B-per': 16990,\n",
              " 'I-geo': 7414,\n",
              " 'B-org': 20143,\n",
              " 'I-org': 16784,\n",
              " 'B-tim': 20333,\n",
              " 'B-art': 402,\n",
              " 'I-art': 297,\n",
              " 'I-per': 17251,\n",
              " 'I-gpe': 198,\n",
              " 'I-tim': 6528,\n",
              " 'B-nat': 201,\n",
              " 'B-eve': 308,\n",
              " 'I-eve': 253,\n",
              " 'I-nat': 51}"
            ]
          },
          "metadata": {},
          "execution_count": 248
        }
      ]
    },
    {
      "cell_type": "code",
      "source": [
        "X = list(words['sentence'])\n",
        "Y = list(words['tag'])"
      ],
      "metadata": {
        "id": "lRQbr0evL8s0"
      },
      "execution_count": 249,
      "outputs": []
    },
    {
      "cell_type": "code",
      "source": [
        "print(X[0])\n",
        "print(Y[0])"
      ],
      "metadata": {
        "colab": {
          "base_uri": "https://localhost:8080/"
        },
        "id": "SEP94E-9L8wj",
        "outputId": "9a5f32cb-2f09-44a9-9e7f-eba4c3d5a90d"
      },
      "execution_count": 250,
      "outputs": [
        {
          "output_type": "stream",
          "name": "stdout",
          "text": [
            "Thousands of demonstrators have marched through London to protest the war in Iraq and demand the withdrawal of British troops from that country .\n",
            "['O', 'O', 'O', 'O', 'O', 'O', 'B-geo', 'O', 'O', 'O', 'O', 'O', 'B-geo', 'O', 'O', 'O', 'O', 'O', 'B-gpe', 'O', 'O', 'O', 'O', 'O']\n"
          ]
        }
      ]
    },
    {
      "cell_type": "code",
      "source": [
        "from ast import literal_eval\n",
        "Y_ready = []\n",
        "for sen_tags in Y:\n",
        "    Y_ready.append(literal_eval(str(sen_tags)))"
      ],
      "metadata": {
        "id": "teTvnRbZYzOw"
      },
      "execution_count": 251,
      "outputs": []
    },
    {
      "cell_type": "code",
      "source": [
        "# cutoff reviews after 110 words\n",
        "maxlen = 110\n",
        "\n",
        "# consider the top 36000 words in the dataset\n",
        "max_words = 36000\n",
        "\n",
        "# tokenize each sentence in the dataset\n",
        "tokenizer = Tokenizer(num_words=max_words)\n",
        "tokenizer.fit_on_texts(X)\n",
        "print(tokenizer)"
      ],
      "metadata": {
        "colab": {
          "base_uri": "https://localhost:8080/"
        },
        "id": "JmHcptafYzSt",
        "outputId": "94838a7b-6a45-4c6c-bc32-21b01a299405"
      },
      "execution_count": 252,
      "outputs": [
        {
          "output_type": "stream",
          "name": "stdout",
          "text": [
            "<keras.src.preprocessing.text.Tokenizer object at 0x7861d99244f0>\n"
          ]
        }
      ]
    },
    {
      "cell_type": "code",
      "source": [
        "sequences = tokenizer.texts_to_sequences(X)\n",
        "word_index = tokenizer.word_index\n",
        "print(\"Found {} unique tokens.\".format(len(word_index)))"
      ],
      "metadata": {
        "colab": {
          "base_uri": "https://localhost:8080/"
        },
        "id": "hpIllqdsYzXG",
        "outputId": "0ac590c9-4cb3-43a3-f725-f64fea191065"
      },
      "execution_count": 253,
      "outputs": [
        {
          "output_type": "stream",
          "name": "stdout",
          "text": [
            "Found 27953 unique tokens.\n"
          ]
        }
      ]
    },
    {
      "cell_type": "code",
      "source": [
        "ind2word = dict([(value, key) for (key, value) in word_index.items()])\n",
        "word2id = word_index\n",
        "id2word = {}\n",
        "for key, value in word2id.items():\n",
        "    id2word[value] = key"
      ],
      "metadata": {
        "id": "p6aHG1M9Yza0"
      },
      "execution_count": 254,
      "outputs": []
    },
    {
      "cell_type": "code",
      "source": [
        "from tensorflow.keras.preprocessing.text import Tokenizer\n",
        "from tensorflow.keras.preprocessing.sequence import pad_sequences"
      ],
      "metadata": {
        "id": "PRzWP8TQZSfa"
      },
      "execution_count": 257,
      "outputs": []
    },
    {
      "cell_type": "code",
      "source": [
        "X_preprocessed = pad_sequences(sequences, maxlen=maxlen, padding='post')\n",
        "X_preprocessed[0]"
      ],
      "metadata": {
        "colab": {
          "base_uri": "https://localhost:8080/"
        },
        "id": "iJN3zWRTZHy5",
        "outputId": "d6fe7df1-cf09-4917-89f8-1f9521de2206"
      },
      "execution_count": 258,
      "outputs": [
        {
          "output_type": "execute_result",
          "data": {
            "text/plain": [
              "array([ 260,    3,  997,   13, 1838,  245,  452,    4,  545,    1,  121,\n",
              "          2,   60,    6,  595,    1,  861,    3,  184,   89,   21,   12,\n",
              "         54,    0,    0,    0,    0,    0,    0,    0,    0,    0,    0,\n",
              "          0,    0,    0,    0,    0,    0,    0,    0,    0,    0,    0,\n",
              "          0,    0,    0,    0,    0,    0,    0,    0,    0,    0,    0,\n",
              "          0,    0,    0,    0,    0,    0,    0,    0,    0,    0,    0,\n",
              "          0,    0,    0,    0,    0,    0,    0,    0,    0,    0,    0,\n",
              "          0,    0,    0,    0,    0,    0,    0,    0,    0,    0,    0,\n",
              "          0,    0,    0,    0,    0,    0,    0,    0,    0,    0,    0,\n",
              "          0,    0,    0,    0,    0,    0,    0,    0,    0,    0,    0],\n",
              "      dtype=int32)"
            ]
          },
          "metadata": {},
          "execution_count": 258
        }
      ]
    },
    {
      "cell_type": "code",
      "source": [
        "tags2id = {}\n",
        "for i, tag in enumerate(tags):\n",
        "    tags2id[tag] = i\n",
        "tags2id"
      ],
      "metadata": {
        "colab": {
          "base_uri": "https://localhost:8080/"
        },
        "id": "TQdD3rPtZH-L",
        "outputId": "dec8e258-c348-4be1-b786-4e08eddb3692"
      },
      "execution_count": 259,
      "outputs": [
        {
          "output_type": "execute_result",
          "data": {
            "text/plain": [
              "{'O': 0,\n",
              " 'B-geo': 1,\n",
              " 'B-gpe': 2,\n",
              " 'B-per': 3,\n",
              " 'I-geo': 4,\n",
              " 'B-org': 5,\n",
              " 'I-org': 6,\n",
              " 'B-tim': 7,\n",
              " 'B-art': 8,\n",
              " 'I-art': 9,\n",
              " 'I-per': 10,\n",
              " 'I-gpe': 11,\n",
              " 'I-tim': 12,\n",
              " 'B-nat': 13,\n",
              " 'B-eve': 14,\n",
              " 'I-eve': 15,\n",
              " 'I-nat': 16}"
            ]
          },
          "metadata": {},
          "execution_count": 259
        }
      ]
    },
    {
      "cell_type": "code",
      "source": [
        "id2tag = {}\n",
        "for key, value in tags2id.items():\n",
        "    id2tag[value] = key\n",
        "id2tag"
      ],
      "metadata": {
        "colab": {
          "base_uri": "https://localhost:8080/"
        },
        "id": "M21PZsIbZIBy",
        "outputId": "d4e6583e-add5-47f1-d43c-90fbd25daf8e"
      },
      "execution_count": 260,
      "outputs": [
        {
          "output_type": "execute_result",
          "data": {
            "text/plain": [
              "{0: 'O',\n",
              " 1: 'B-geo',\n",
              " 2: 'B-gpe',\n",
              " 3: 'B-per',\n",
              " 4: 'I-geo',\n",
              " 5: 'B-org',\n",
              " 6: 'I-org',\n",
              " 7: 'B-tim',\n",
              " 8: 'B-art',\n",
              " 9: 'I-art',\n",
              " 10: 'I-per',\n",
              " 11: 'I-gpe',\n",
              " 12: 'I-tim',\n",
              " 13: 'B-nat',\n",
              " 14: 'B-eve',\n",
              " 15: 'I-eve',\n",
              " 16: 'I-nat'}"
            ]
          },
          "metadata": {},
          "execution_count": 260
        }
      ]
    },
    {
      "cell_type": "code",
      "source": [
        "def preprocess_tags(tags2id, Y_ready):\n",
        "\n",
        "    Y_preprocessed = []\n",
        "    maxlen = 110\n",
        "    i = 0\n",
        "    # for each target\n",
        "    for y in Y_ready:\n",
        "        j = 0\n",
        "        # place holder to store the new preprocessed tag list\n",
        "        Y_place_holder = []\n",
        "\n",
        "        # for each tag in rhe tag list\n",
        "        for tag in y:\n",
        "            if(j >= 110):\n",
        "                pass\n",
        "            else:\n",
        "                Y_place_holder.append(tags2id[tag])\n",
        "            j +=1\n",
        "\n",
        "        # find the lenght of the new preprocessed tag list\n",
        "        len_new_tag_list = len(Y_place_holder)\n",
        "        # find the differance in length between the len of tag list and padded sentences\n",
        "        num_O_to_add = maxlen - len_new_tag_list\n",
        "\n",
        "        # add 'O's to padd the tag lists\n",
        "        padded_tags = Y_place_holder + ([tags2id['O']] * num_O_to_add)\n",
        "        Y_preprocessed.append(padded_tags)\n",
        "\n",
        "    return Y_preprocessed"
      ],
      "metadata": {
        "id": "Yhwl5YfQZIFw"
      },
      "execution_count": 261,
      "outputs": []
    },
    {
      "cell_type": "code",
      "source": [
        "Y_preprocessed = preprocess_tags(tags2id, Y_ready)\n",
        "print(\"The Lenght of training examples: {}\".format(len(X_preprocessed)))\n",
        "print(\"The Lenght of training targets: {}\".format(len(Y_preprocessed)))"
      ],
      "metadata": {
        "colab": {
          "base_uri": "https://localhost:8080/"
        },
        "id": "l0BxTQReZmPd",
        "outputId": "641025e0-6453-47a0-9d8b-943e43e6ce17"
      },
      "execution_count": 262,
      "outputs": [
        {
          "output_type": "stream",
          "name": "stdout",
          "text": [
            "The Lenght of training examples: 47959\n",
            "The Lenght of training targets: 47959\n"
          ]
        }
      ]
    },
    {
      "cell_type": "code",
      "source": [
        "X_preprocessed = np.asarray(X_preprocessed)\n",
        "Y_preprocessed = np.asarray(Y_preprocessed)"
      ],
      "metadata": {
        "id": "smCnD12-ZmTE"
      },
      "execution_count": 263,
      "outputs": []
    },
    {
      "cell_type": "code",
      "source": [
        "# 70% of the datat will be used for training\n",
        "training_samples = 0.6\n",
        "# 15% of the datat will be used for validation\n",
        "validation_samples = 0.20\n",
        "# 15% of the datat will be used for testing\n",
        "testing_samples = 0.20"
      ],
      "metadata": {
        "id": "Wa_tw_76ZmXN"
      },
      "execution_count": 264,
      "outputs": []
    },
    {
      "cell_type": "code",
      "source": [
        "indices = np.arange(len(Y_preprocessed))\n",
        "np.random.seed(seed=555)\n",
        "np.random.shuffle(indices)\n",
        "X_preprocessed = X_preprocessed[indices]\n",
        "Y_preprocessed = Y_preprocessed[indices]\n",
        "\n",
        "X_train = X_preprocessed[: int(0.7 * len(X_preprocessed))]\n",
        "print(\"Number of training examples: {}\".format(len(X_train)))\n",
        "\n",
        "\n",
        "X_val = X_preprocessed[int(0.7 * len(X_preprocessed)) : int(0.7 * len(X_preprocessed)) + (int(0.15 * len(X_preprocessed)) + 1)]\n",
        "print(\"Number of validation examples: {}\".format(len(X_val)))\n",
        "\n",
        "\n",
        "X_test = X_preprocessed[int(0.7 * len(X_preprocessed)) + (int(0.15 * len(X_preprocessed)) + 1) : ]\n",
        "print(\"Number of testing examples: {}\".format(len(X_test)))\n",
        "\n",
        "\n",
        "Y_train = Y_preprocessed[: int(0.7 * len(X_preprocessed))]\n",
        "Y_val = Y_preprocessed[int(0.7 * len(X_preprocessed)) : int(0.7 * len(X_preprocessed)) + (int(0.15 * len(X_preprocessed)) + 1)]\n",
        "Y_test = Y_preprocessed[int(0.7 * len(X_preprocessed)) + (int(0.15 * len(X_preprocessed)) + 1) : ]\n",
        "\n",
        "print(\"Total number of examples after shuffling and splitting: {}\".format(len(X_train) + len(X_val) + len(X_test)))"
      ],
      "metadata": {
        "colab": {
          "base_uri": "https://localhost:8080/"
        },
        "id": "bAQgI-52ZmbK",
        "outputId": "a6ae4cb3-a61c-4ccd-d936-fe91e49f21f9"
      },
      "execution_count": 265,
      "outputs": [
        {
          "output_type": "stream",
          "name": "stdout",
          "text": [
            "Number of training examples: 33571\n",
            "Number of validation examples: 7194\n",
            "Number of testing examples: 7194\n",
            "Total number of examples after shuffling and splitting: 47959\n"
          ]
        }
      ]
    },
    {
      "cell_type": "code",
      "source": [
        "X_train = X_train.reshape(-1, 1, 110)\n",
        "X_val  = X_val.reshape(-1, 1, 110)\n",
        "X_test = X_test.reshape(-1, 1, 110)\n",
        "Y_train = Y_train.reshape(-1, 1, 110)\n",
        "Y_val = Y_val.reshape(-1, 1, 110)\n",
        "Y_test = Y_test.reshape(-1, 1, 110)\n",
        "\n",
        "train_dataset = tf.data.Dataset.from_tensor_slices((X_train, Y_train))\n",
        "val_dataset = tf.data.Dataset.from_tensor_slices((X_val, Y_val))\n",
        "test_dataset = tf.data.Dataset.from_tensor_slices((X_test, Y_test))\n"
      ],
      "metadata": {
        "id": "YU2OVZS0ZIJu"
      },
      "execution_count": 266,
      "outputs": []
    },
    {
      "cell_type": "code",
      "source": [
        "embedding_dim = 300\n",
        "maxlen = 110\n",
        "max_words = 36000\n",
        "num_tags = len(tags)\n",
        "\n",
        "model = tf.keras.models.Sequential([\n",
        "    tf.keras.layers.Embedding(max_words, embedding_dim, input_length=maxlen),\n",
        "    tf.keras.layers.Bidirectional(tf.keras.layers.LSTM(units=100, activation='tanh', return_sequences=True)),\n",
        "    tf.keras.layers.Bidirectional(tf.keras.layers.LSTM(units=100, activation='tanh', return_sequences=True)),\n",
        "    tf.keras.layers.TimeDistributed(tf.keras.layers.Dense(num_tags, activation='softmax'))\n",
        "])\n",
        "\n",
        "model.summary()"
      ],
      "metadata": {
        "colab": {
          "base_uri": "https://localhost:8080/"
        },
        "id": "EsfMHTdDaUDH",
        "outputId": "09acee96-c36a-4524-98ca-bc7dab8132a4"
      },
      "execution_count": 267,
      "outputs": [
        {
          "output_type": "stream",
          "name": "stdout",
          "text": [
            "Model: \"sequential_2\"\n",
            "_________________________________________________________________\n",
            " Layer (type)                Output Shape              Param #   \n",
            "=================================================================\n",
            " embedding_2 (Embedding)     (None, 110, 300)          10800000  \n",
            "                                                                 \n",
            " bidirectional_2 (Bidirecti  (None, 110, 200)          320800    \n",
            " onal)                                                           \n",
            "                                                                 \n",
            " bidirectional_3 (Bidirecti  (None, 110, 200)          240800    \n",
            " onal)                                                           \n",
            "                                                                 \n",
            " time_distributed_2 (TimeDi  (None, 110, 17)           3417      \n",
            " stributed)                                                      \n",
            "                                                                 \n",
            "=================================================================\n",
            "Total params: 11365017 (43.35 MB)\n",
            "Trainable params: 11365017 (43.35 MB)\n",
            "Non-trainable params: 0 (0.00 Byte)\n",
            "_________________________________________________________________\n"
          ]
        }
      ]
    },
    {
      "cell_type": "code",
      "source": [
        "model.compile(loss='sparse_categorical_crossentropy',\n",
        "              optimizer='adam',\n",
        "              metrics=['accuracy'])"
      ],
      "metadata": {
        "id": "LdXrbWE6aUHN"
      },
      "execution_count": 268,
      "outputs": []
    },
    {
      "cell_type": "code",
      "source": [
        "%%time\n",
        "\n",
        "history = model.fit(train_dataset,\n",
        "                    validation_data=val_dataset,\n",
        "                    epochs=3)"
      ],
      "metadata": {
        "colab": {
          "base_uri": "https://localhost:8080/"
        },
        "id": "AZhyEZFsaUMC",
        "outputId": "cc2e1f32-750f-47be-e4ff-e12306a370b2"
      },
      "execution_count": null,
      "outputs": [
        {
          "output_type": "stream",
          "name": "stdout",
          "text": [
            "Epoch 1/3\n",
            " 2565/33571 [=>............................] - ETA: 3:59:53 - loss: 0.1254 - accuracy: 0.9708"
          ]
        }
      ]
    },
    {
      "cell_type": "code",
      "source": [],
      "metadata": {
        "id": "rQQPvkmMaUQP"
      },
      "execution_count": null,
      "outputs": []
    },
    {
      "cell_type": "code",
      "source": [],
      "metadata": {
        "id": "1fp6bOqxaUik"
      },
      "execution_count": null,
      "outputs": []
    },
    {
      "cell_type": "code",
      "source": [],
      "metadata": {
        "id": "pt15oYELZINp"
      },
      "execution_count": null,
      "outputs": []
    },
    {
      "cell_type": "code",
      "source": [
        "## here we will use the same sentence getter function used previosuly\n",
        "\n",
        "sentences = getter.sentences\n",
        "#ths is how a sentence will look like.\n",
        "print(sentences[1])\n"
      ],
      "metadata": {
        "colab": {
          "base_uri": "https://localhost:8080/"
        },
        "id": "vSRGIS-qaHzt",
        "outputId": "716c91c2-b872-4ad3-d534-679db122b5b9"
      },
      "execution_count": 169,
      "outputs": [
        {
          "output_type": "stream",
          "name": "stdout",
          "text": [
            "[('Iranian', 'B-gpe'), ('officials', 'O'), ('say', 'O'), ('they', 'O'), ('expect', 'O'), ('to', 'O'), ('get', 'O'), ('access', 'O'), ('to', 'O'), ('sealed', 'O'), ('sensitive', 'O'), ('parts', 'O'), ('of', 'O'), ('the', 'O'), ('plant', 'O'), ('Wednesday', 'B-tim'), (',', 'O'), ('after', 'O'), ('an', 'O'), ('IAEA', 'B-org'), ('surveillance', 'O'), ('system', 'O'), ('begins', 'O'), ('functioning', 'O'), ('.', 'O')]\n"
          ]
        }
      ]
    },
    {
      "cell_type": "code",
      "source": [
        "fig, ax = plt.subplots(figsize=(20, 6))\n",
        "ax.hist([len(s) for s in sentences], bins=50)\n",
        "ax.set_title('Number of words in each Sentence')\n",
        "\n",
        "maxlen = max([len(s) for s in sentences])\n",
        "print('Number of Sentences:', len(sentences))\n",
        "print ('Maximum sequence length:', maxlen)\n",
        "\n",
        "words = list(set(data[\"words\"].values))\n",
        "words.append(\"ENDPAD\")\n",
        "n_words = len(words)\n",
        "print('Number of unique words:', n_words)"
      ],
      "metadata": {
        "colab": {
          "base_uri": "https://localhost:8080/",
          "height": 606
        },
        "id": "E92h9UvtaISW",
        "outputId": "3eb45f95-2145-4890-bd91-615e971bf0f6"
      },
      "execution_count": 171,
      "outputs": [
        {
          "output_type": "stream",
          "name": "stdout",
          "text": [
            "Number of Sentences: 47959\n",
            "Maximum sequence length: 104\n",
            "Number of unique words: 35178\n"
          ]
        },
        {
          "output_type": "display_data",
          "data": {
            "text/plain": [
              "<Figure size 2000x600 with 1 Axes>"
            ],
            "image/svg+xml": "<?xml version=\"1.0\" encoding=\"utf-8\" standalone=\"no\"?>\n<!DOCTYPE svg PUBLIC \"-//W3C//DTD SVG 1.1//EN\"\n  \"http://www.w3.org/Graphics/SVG/1.1/DTD/svg11.dtd\">\n<svg xmlns:xlink=\"http://www.w3.org/1999/xlink\" width=\"1167.895pt\" height=\"384.127687pt\" viewBox=\"0 0 1167.895 384.127687\" xmlns=\"http://www.w3.org/2000/svg\" version=\"1.1\">\n <metadata>\n  <rdf:RDF xmlns:dc=\"http://purl.org/dc/elements/1.1/\" xmlns:cc=\"http://creativecommons.org/ns#\" xmlns:rdf=\"http://www.w3.org/1999/02/22-rdf-syntax-ns#\">\n   <cc:Work>\n    <dc:type rdf:resource=\"http://purl.org/dc/dcmitype/StillImage\"/>\n    <dc:date>2024-06-27T12:03:28.104669</dc:date>\n    <dc:format>image/svg+xml</dc:format>\n    <dc:creator>\n     <cc:Agent>\n      <dc:title>Matplotlib v3.7.1, https://matplotlib.org/</dc:title>\n     </cc:Agent>\n    </dc:creator>\n   </cc:Work>\n  </rdf:RDF>\n </metadata>\n <defs>\n  <style type=\"text/css\">*{stroke-linejoin: round; stroke-linecap: butt}</style>\n </defs>\n <g id=\"figure_1\">\n  <g id=\"patch_1\">\n   <path d=\"M 0 384.127687 \nL 1167.895 384.127687 \nL 1167.895 0 \nL 0 0 \nz\n\" style=\"fill: #ffffff\"/>\n  </g>\n  <g id=\"axes_1\">\n   <g id=\"patch_2\">\n    <path d=\"M 44.695 356.78175 \nL 1160.695 356.78175 \nL 1160.695 24.14175 \nL 44.695 24.14175 \nz\n\" style=\"fill: #e5e5e5\"/>\n   </g>\n   <g id=\"matplotlib.axis_1\">\n    <g id=\"xtick_1\">\n     <g id=\"line2d_1\">\n      <path d=\"M 85.572317 356.78175 \nL 85.572317 24.14175 \n\" clip-path=\"url(#p9aedc15623)\" style=\"fill: none; stroke: #ffffff; stroke-linecap: round\"/>\n     </g>\n     <g id=\"text_1\">\n      <!-- 0 -->\n      <g style=\"fill: #555555\" transform=\"translate(82.072942 374.640031) scale(0.11 -0.11)\">\n       <defs>\n        <path id=\"DejaVuSans-30\" d=\"M 2034 4250 \nQ 1547 4250 1301 3770 \nQ 1056 3291 1056 2328 \nQ 1056 1369 1301 889 \nQ 1547 409 2034 409 \nQ 2525 409 2770 889 \nQ 3016 1369 3016 2328 \nQ 3016 3291 2770 3770 \nQ 2525 4250 2034 4250 \nz\nM 2034 4750 \nQ 2819 4750 3233 4129 \nQ 3647 3509 3647 2328 \nQ 3647 1150 3233 529 \nQ 2819 -91 2034 -91 \nQ 1250 -91 836 529 \nQ 422 1150 422 2328 \nQ 422 3509 836 4129 \nQ 1250 4750 2034 4750 \nz\n\" transform=\"scale(0.015625)\"/>\n       </defs>\n       <use xlink:href=\"#DejaVuSans-30\"/>\n      </g>\n     </g>\n    </g>\n    <g id=\"xtick_2\">\n     <g id=\"line2d_2\">\n      <path d=\"M 282.571434 356.78175 \nL 282.571434 24.14175 \n\" clip-path=\"url(#p9aedc15623)\" style=\"fill: none; stroke: #ffffff; stroke-linecap: round\"/>\n     </g>\n     <g id=\"text_2\">\n      <!-- 20 -->\n      <g style=\"fill: #555555\" transform=\"translate(275.572684 374.640031) scale(0.11 -0.11)\">\n       <defs>\n        <path id=\"DejaVuSans-32\" d=\"M 1228 531 \nL 3431 531 \nL 3431 0 \nL 469 0 \nL 469 531 \nQ 828 903 1448 1529 \nQ 2069 2156 2228 2338 \nQ 2531 2678 2651 2914 \nQ 2772 3150 2772 3378 \nQ 2772 3750 2511 3984 \nQ 2250 4219 1831 4219 \nQ 1534 4219 1204 4116 \nQ 875 4013 500 3803 \nL 500 4441 \nQ 881 4594 1212 4672 \nQ 1544 4750 1819 4750 \nQ 2544 4750 2975 4387 \nQ 3406 4025 3406 3419 \nQ 3406 3131 3298 2873 \nQ 3191 2616 2906 2266 \nQ 2828 2175 2409 1742 \nQ 1991 1309 1228 531 \nz\n\" transform=\"scale(0.015625)\"/>\n       </defs>\n       <use xlink:href=\"#DejaVuSans-32\"/>\n       <use xlink:href=\"#DejaVuSans-30\" x=\"63.623047\"/>\n      </g>\n     </g>\n    </g>\n    <g id=\"xtick_3\">\n     <g id=\"line2d_3\">\n      <path d=\"M 479.570552 356.78175 \nL 479.570552 24.14175 \n\" clip-path=\"url(#p9aedc15623)\" style=\"fill: none; stroke: #ffffff; stroke-linecap: round\"/>\n     </g>\n     <g id=\"text_3\">\n      <!-- 40 -->\n      <g style=\"fill: #555555\" transform=\"translate(472.571802 374.640031) scale(0.11 -0.11)\">\n       <defs>\n        <path id=\"DejaVuSans-34\" d=\"M 2419 4116 \nL 825 1625 \nL 2419 1625 \nL 2419 4116 \nz\nM 2253 4666 \nL 3047 4666 \nL 3047 1625 \nL 3713 1625 \nL 3713 1100 \nL 3047 1100 \nL 3047 0 \nL 2419 0 \nL 2419 1100 \nL 313 1100 \nL 313 1709 \nL 2253 4666 \nz\n\" transform=\"scale(0.015625)\"/>\n       </defs>\n       <use xlink:href=\"#DejaVuSans-34\"/>\n       <use xlink:href=\"#DejaVuSans-30\" x=\"63.623047\"/>\n      </g>\n     </g>\n    </g>\n    <g id=\"xtick_4\">\n     <g id=\"line2d_4\">\n      <path d=\"M 676.569669 356.78175 \nL 676.569669 24.14175 \n\" clip-path=\"url(#p9aedc15623)\" style=\"fill: none; stroke: #ffffff; stroke-linecap: round\"/>\n     </g>\n     <g id=\"text_4\">\n      <!-- 60 -->\n      <g style=\"fill: #555555\" transform=\"translate(669.570919 374.640031) scale(0.11 -0.11)\">\n       <defs>\n        <path id=\"DejaVuSans-36\" d=\"M 2113 2584 \nQ 1688 2584 1439 2293 \nQ 1191 2003 1191 1497 \nQ 1191 994 1439 701 \nQ 1688 409 2113 409 \nQ 2538 409 2786 701 \nQ 3034 994 3034 1497 \nQ 3034 2003 2786 2293 \nQ 2538 2584 2113 2584 \nz\nM 3366 4563 \nL 3366 3988 \nQ 3128 4100 2886 4159 \nQ 2644 4219 2406 4219 \nQ 1781 4219 1451 3797 \nQ 1122 3375 1075 2522 \nQ 1259 2794 1537 2939 \nQ 1816 3084 2150 3084 \nQ 2853 3084 3261 2657 \nQ 3669 2231 3669 1497 \nQ 3669 778 3244 343 \nQ 2819 -91 2113 -91 \nQ 1303 -91 875 529 \nQ 447 1150 447 2328 \nQ 447 3434 972 4092 \nQ 1497 4750 2381 4750 \nQ 2619 4750 2861 4703 \nQ 3103 4656 3366 4563 \nz\n\" transform=\"scale(0.015625)\"/>\n       </defs>\n       <use xlink:href=\"#DejaVuSans-36\"/>\n       <use xlink:href=\"#DejaVuSans-30\" x=\"63.623047\"/>\n      </g>\n     </g>\n    </g>\n    <g id=\"xtick_5\">\n     <g id=\"line2d_5\">\n      <path d=\"M 873.568786 356.78175 \nL 873.568786 24.14175 \n\" clip-path=\"url(#p9aedc15623)\" style=\"fill: none; stroke: #ffffff; stroke-linecap: round\"/>\n     </g>\n     <g id=\"text_5\">\n      <!-- 80 -->\n      <g style=\"fill: #555555\" transform=\"translate(866.570036 374.640031) scale(0.11 -0.11)\">\n       <defs>\n        <path id=\"DejaVuSans-38\" d=\"M 2034 2216 \nQ 1584 2216 1326 1975 \nQ 1069 1734 1069 1313 \nQ 1069 891 1326 650 \nQ 1584 409 2034 409 \nQ 2484 409 2743 651 \nQ 3003 894 3003 1313 \nQ 3003 1734 2745 1975 \nQ 2488 2216 2034 2216 \nz\nM 1403 2484 \nQ 997 2584 770 2862 \nQ 544 3141 544 3541 \nQ 544 4100 942 4425 \nQ 1341 4750 2034 4750 \nQ 2731 4750 3128 4425 \nQ 3525 4100 3525 3541 \nQ 3525 3141 3298 2862 \nQ 3072 2584 2669 2484 \nQ 3125 2378 3379 2068 \nQ 3634 1759 3634 1313 \nQ 3634 634 3220 271 \nQ 2806 -91 2034 -91 \nQ 1263 -91 848 271 \nQ 434 634 434 1313 \nQ 434 1759 690 2068 \nQ 947 2378 1403 2484 \nz\nM 1172 3481 \nQ 1172 3119 1398 2916 \nQ 1625 2713 2034 2713 \nQ 2441 2713 2670 2916 \nQ 2900 3119 2900 3481 \nQ 2900 3844 2670 4047 \nQ 2441 4250 2034 4250 \nQ 1625 4250 1398 4047 \nQ 1172 3844 1172 3481 \nz\n\" transform=\"scale(0.015625)\"/>\n       </defs>\n       <use xlink:href=\"#DejaVuSans-38\"/>\n       <use xlink:href=\"#DejaVuSans-30\" x=\"63.623047\"/>\n      </g>\n     </g>\n    </g>\n    <g id=\"xtick_6\">\n     <g id=\"line2d_6\">\n      <path d=\"M 1070.567904 356.78175 \nL 1070.567904 24.14175 \n\" clip-path=\"url(#p9aedc15623)\" style=\"fill: none; stroke: #ffffff; stroke-linecap: round\"/>\n     </g>\n     <g id=\"text_6\">\n      <!-- 100 -->\n      <g style=\"fill: #555555\" transform=\"translate(1060.069779 374.640031) scale(0.11 -0.11)\">\n       <defs>\n        <path id=\"DejaVuSans-31\" d=\"M 794 531 \nL 1825 531 \nL 1825 4091 \nL 703 3866 \nL 703 4441 \nL 1819 4666 \nL 2450 4666 \nL 2450 531 \nL 3481 531 \nL 3481 0 \nL 794 0 \nL 794 531 \nz\n\" transform=\"scale(0.015625)\"/>\n       </defs>\n       <use xlink:href=\"#DejaVuSans-31\"/>\n       <use xlink:href=\"#DejaVuSans-30\" x=\"63.623047\"/>\n       <use xlink:href=\"#DejaVuSans-30\" x=\"127.246094\"/>\n      </g>\n     </g>\n    </g>\n   </g>\n   <g id=\"matplotlib.axis_2\">\n    <g id=\"ytick_1\">\n     <g id=\"line2d_7\">\n      <path d=\"M 44.695 356.78175 \nL 1160.695 356.78175 \n\" clip-path=\"url(#p9aedc15623)\" style=\"fill: none; stroke: #ffffff; stroke-linecap: round\"/>\n     </g>\n     <g id=\"text_7\">\n      <!-- 0 -->\n      <g style=\"fill: #555555\" transform=\"translate(28.19625 360.960891) scale(0.11 -0.11)\">\n       <use xlink:href=\"#DejaVuSans-30\"/>\n      </g>\n     </g>\n    </g>\n    <g id=\"ytick_2\">\n     <g id=\"line2d_8\">\n      <path d=\"M 44.695 291.448692 \nL 1160.695 291.448692 \n\" clip-path=\"url(#p9aedc15623)\" style=\"fill: none; stroke: #ffffff; stroke-linecap: round\"/>\n     </g>\n     <g id=\"text_8\">\n      <!-- 1000 -->\n      <g style=\"fill: #555555\" transform=\"translate(7.2 295.627832) scale(0.11 -0.11)\">\n       <use xlink:href=\"#DejaVuSans-31\"/>\n       <use xlink:href=\"#DejaVuSans-30\" x=\"63.623047\"/>\n       <use xlink:href=\"#DejaVuSans-30\" x=\"127.246094\"/>\n       <use xlink:href=\"#DejaVuSans-30\" x=\"190.869141\"/>\n      </g>\n     </g>\n    </g>\n    <g id=\"ytick_3\">\n     <g id=\"line2d_9\">\n      <path d=\"M 44.695 226.115633 \nL 1160.695 226.115633 \n\" clip-path=\"url(#p9aedc15623)\" style=\"fill: none; stroke: #ffffff; stroke-linecap: round\"/>\n     </g>\n     <g id=\"text_9\">\n      <!-- 2000 -->\n      <g style=\"fill: #555555\" transform=\"translate(7.2 230.294774) scale(0.11 -0.11)\">\n       <use xlink:href=\"#DejaVuSans-32\"/>\n       <use xlink:href=\"#DejaVuSans-30\" x=\"63.623047\"/>\n       <use xlink:href=\"#DejaVuSans-30\" x=\"127.246094\"/>\n       <use xlink:href=\"#DejaVuSans-30\" x=\"190.869141\"/>\n      </g>\n     </g>\n    </g>\n    <g id=\"ytick_4\">\n     <g id=\"line2d_10\">\n      <path d=\"M 44.695 160.782575 \nL 1160.695 160.782575 \n\" clip-path=\"url(#p9aedc15623)\" style=\"fill: none; stroke: #ffffff; stroke-linecap: round\"/>\n     </g>\n     <g id=\"text_10\">\n      <!-- 3000 -->\n      <g style=\"fill: #555555\" transform=\"translate(7.2 164.961716) scale(0.11 -0.11)\">\n       <defs>\n        <path id=\"DejaVuSans-33\" d=\"M 2597 2516 \nQ 3050 2419 3304 2112 \nQ 3559 1806 3559 1356 \nQ 3559 666 3084 287 \nQ 2609 -91 1734 -91 \nQ 1441 -91 1130 -33 \nQ 819 25 488 141 \nL 488 750 \nQ 750 597 1062 519 \nQ 1375 441 1716 441 \nQ 2309 441 2620 675 \nQ 2931 909 2931 1356 \nQ 2931 1769 2642 2001 \nQ 2353 2234 1838 2234 \nL 1294 2234 \nL 1294 2753 \nL 1863 2753 \nQ 2328 2753 2575 2939 \nQ 2822 3125 2822 3475 \nQ 2822 3834 2567 4026 \nQ 2313 4219 1838 4219 \nQ 1578 4219 1281 4162 \nQ 984 4106 628 3988 \nL 628 4550 \nQ 988 4650 1302 4700 \nQ 1616 4750 1894 4750 \nQ 2613 4750 3031 4423 \nQ 3450 4097 3450 3541 \nQ 3450 3153 3228 2886 \nQ 3006 2619 2597 2516 \nz\n\" transform=\"scale(0.015625)\"/>\n       </defs>\n       <use xlink:href=\"#DejaVuSans-33\"/>\n       <use xlink:href=\"#DejaVuSans-30\" x=\"63.623047\"/>\n       <use xlink:href=\"#DejaVuSans-30\" x=\"127.246094\"/>\n       <use xlink:href=\"#DejaVuSans-30\" x=\"190.869141\"/>\n      </g>\n     </g>\n    </g>\n    <g id=\"ytick_5\">\n     <g id=\"line2d_11\">\n      <path d=\"M 44.695 95.449517 \nL 1160.695 95.449517 \n\" clip-path=\"url(#p9aedc15623)\" style=\"fill: none; stroke: #ffffff; stroke-linecap: round\"/>\n     </g>\n     <g id=\"text_11\">\n      <!-- 4000 -->\n      <g style=\"fill: #555555\" transform=\"translate(7.2 99.628657) scale(0.11 -0.11)\">\n       <use xlink:href=\"#DejaVuSans-34\"/>\n       <use xlink:href=\"#DejaVuSans-30\" x=\"63.623047\"/>\n       <use xlink:href=\"#DejaVuSans-30\" x=\"127.246094\"/>\n       <use xlink:href=\"#DejaVuSans-30\" x=\"190.869141\"/>\n      </g>\n     </g>\n    </g>\n    <g id=\"ytick_6\">\n     <g id=\"line2d_12\">\n      <path d=\"M 44.695 30.116458 \nL 1160.695 30.116458 \n\" clip-path=\"url(#p9aedc15623)\" style=\"fill: none; stroke: #ffffff; stroke-linecap: round\"/>\n     </g>\n     <g id=\"text_12\">\n      <!-- 5000 -->\n      <g style=\"fill: #555555\" transform=\"translate(7.2 34.295599) scale(0.11 -0.11)\">\n       <defs>\n        <path id=\"DejaVuSans-35\" d=\"M 691 4666 \nL 3169 4666 \nL 3169 4134 \nL 1269 4134 \nL 1269 2991 \nQ 1406 3038 1543 3061 \nQ 1681 3084 1819 3084 \nQ 2600 3084 3056 2656 \nQ 3513 2228 3513 1497 \nQ 3513 744 3044 326 \nQ 2575 -91 1722 -91 \nQ 1428 -91 1123 -41 \nQ 819 9 494 109 \nL 494 744 \nQ 775 591 1075 516 \nQ 1375 441 1709 441 \nQ 2250 441 2565 725 \nQ 2881 1009 2881 1497 \nQ 2881 1984 2565 2268 \nQ 2250 2553 1709 2553 \nQ 1456 2553 1204 2497 \nQ 953 2441 691 2322 \nL 691 4666 \nz\n\" transform=\"scale(0.015625)\"/>\n       </defs>\n       <use xlink:href=\"#DejaVuSans-35\"/>\n       <use xlink:href=\"#DejaVuSans-30\" x=\"63.623047\"/>\n       <use xlink:href=\"#DejaVuSans-30\" x=\"127.246094\"/>\n       <use xlink:href=\"#DejaVuSans-30\" x=\"190.869141\"/>\n      </g>\n     </g>\n    </g>\n   </g>\n   <g id=\"patch_3\">\n    <path d=\"M 95.422273 356.78175 \nL 115.713182 356.78175 \nL 115.713182 355.93242 \nL 95.422273 355.93242 \nz\n\" clip-path=\"url(#p9aedc15623)\" style=\"fill: #e24a33; stroke: #eeeeee; stroke-width: 0.5; stroke-linejoin: miter\"/>\n   </g>\n   <g id=\"patch_4\">\n    <path d=\"M 115.713182 356.78175 \nL 136.004091 356.78175 \nL 136.004091 345.021799 \nL 115.713182 345.021799 \nz\n\" clip-path=\"url(#p9aedc15623)\" style=\"fill: #e24a33; stroke: #eeeeee; stroke-width: 0.5; stroke-linejoin: miter\"/>\n   </g>\n   <g id=\"patch_5\">\n    <path d=\"M 136.004091 356.78175 \nL 156.295 356.78175 \nL 156.295 310.85261 \nL 136.004091 310.85261 \nz\n\" clip-path=\"url(#p9aedc15623)\" style=\"fill: #e24a33; stroke: #eeeeee; stroke-width: 0.5; stroke-linejoin: miter\"/>\n   </g>\n   <g id=\"patch_6\">\n    <path d=\"M 156.295 356.78175 \nL 176.585909 356.78175 \nL 176.585909 267.732791 \nL 156.295 267.732791 \nz\n\" clip-path=\"url(#p9aedc15623)\" style=\"fill: #e24a33; stroke: #eeeeee; stroke-width: 0.5; stroke-linejoin: miter\"/>\n   </g>\n   <g id=\"patch_7\">\n    <path d=\"M 176.585909 356.78175 \nL 196.876818 356.78175 \nL 196.876818 216.185008 \nL 176.585909 216.185008 \nz\n\" clip-path=\"url(#p9aedc15623)\" style=\"fill: #e24a33; stroke: #eeeeee; stroke-width: 0.5; stroke-linejoin: miter\"/>\n   </g>\n   <g id=\"patch_8\">\n    <path d=\"M 196.876818 356.78175 \nL 217.167727 356.78175 \nL 217.167727 173.653187 \nL 196.876818 173.653187 \nz\n\" clip-path=\"url(#p9aedc15623)\" style=\"fill: #e24a33; stroke: #eeeeee; stroke-width: 0.5; stroke-linejoin: miter\"/>\n   </g>\n   <g id=\"patch_9\">\n    <path d=\"M 217.167727 356.78175 \nL 237.458636 356.78175 \nL 237.458636 128.377378 \nL 217.167727 128.377378 \nz\n\" clip-path=\"url(#p9aedc15623)\" style=\"fill: #e24a33; stroke: #eeeeee; stroke-width: 0.5; stroke-linejoin: miter\"/>\n   </g>\n   <g id=\"patch_10\">\n    <path d=\"M 237.458636 356.78175 \nL 257.749545 356.78175 \nL 257.749545 97.736174 \nL 237.458636 97.736174 \nz\n\" clip-path=\"url(#p9aedc15623)\" style=\"fill: #e24a33; stroke: #eeeeee; stroke-width: 0.5; stroke-linejoin: miter\"/>\n   </g>\n   <g id=\"patch_11\">\n    <path d=\"M 257.749545 356.78175 \nL 278.040455 356.78175 \nL 278.040455 58.928337 \nL 257.749545 58.928337 \nz\n\" clip-path=\"url(#p9aedc15623)\" style=\"fill: #e24a33; stroke: #eeeeee; stroke-width: 0.5; stroke-linejoin: miter\"/>\n   </g>\n   <g id=\"patch_12\">\n    <path d=\"M 278.040455 356.78175 \nL 298.331364 356.78175 \nL 298.331364 39.98175 \nL 278.040455 39.98175 \nz\n\" clip-path=\"url(#p9aedc15623)\" style=\"fill: #e24a33; stroke: #eeeeee; stroke-width: 0.5; stroke-linejoin: miter\"/>\n   </g>\n   <g id=\"patch_13\">\n    <path d=\"M 298.331364 356.78175 \nL 318.622273 356.78175 \nL 318.622273 49.324377 \nL 298.331364 49.324377 \nz\n\" clip-path=\"url(#p9aedc15623)\" style=\"fill: #e24a33; stroke: #eeeeee; stroke-width: 0.5; stroke-linejoin: miter\"/>\n   </g>\n   <g id=\"patch_14\">\n    <path d=\"M 318.622273 356.78175 \nL 338.913182 356.78175 \nL 338.913182 66.245639 \nL 318.622273 66.245639 \nz\n\" clip-path=\"url(#p9aedc15623)\" style=\"fill: #e24a33; stroke: #eeeeee; stroke-width: 0.5; stroke-linejoin: miter\"/>\n   </g>\n   <g id=\"patch_15\">\n    <path d=\"M 338.913182 356.78175 \nL 359.204091 356.78175 \nL 359.204091 107.601465 \nL 338.913182 107.601465 \nz\n\" clip-path=\"url(#p9aedc15623)\" style=\"fill: #e24a33; stroke: #eeeeee; stroke-width: 0.5; stroke-linejoin: miter\"/>\n   </g>\n   <g id=\"patch_16\">\n    <path d=\"M 359.204091 356.78175 \nL 379.495 356.78175 \nL 379.495 153.138607 \nL 359.204091 153.138607 \nz\n\" clip-path=\"url(#p9aedc15623)\" style=\"fill: #e24a33; stroke: #eeeeee; stroke-width: 0.5; stroke-linejoin: miter\"/>\n   </g>\n   <g id=\"patch_17\">\n    <path d=\"M 379.495 356.78175 \nL 399.785909 356.78175 \nL 399.785909 197.826419 \nL 379.495 197.826419 \nz\n\" clip-path=\"url(#p9aedc15623)\" style=\"fill: #e24a33; stroke: #eeeeee; stroke-width: 0.5; stroke-linejoin: miter\"/>\n   </g>\n   <g id=\"patch_18\">\n    <path d=\"M 399.785909 356.78175 \nL 420.076818 356.78175 \nL 420.076818 245.780884 \nL 399.785909 245.780884 \nz\n\" clip-path=\"url(#p9aedc15623)\" style=\"fill: #e24a33; stroke: #eeeeee; stroke-width: 0.5; stroke-linejoin: miter\"/>\n   </g>\n   <g id=\"patch_19\">\n    <path d=\"M 420.076818 356.78175 \nL 440.367727 356.78175 \nL 440.367727 241.338236 \nL 420.076818 241.338236 \nz\n\" clip-path=\"url(#p9aedc15623)\" style=\"fill: #e24a33; stroke: #eeeeee; stroke-width: 0.5; stroke-linejoin: miter\"/>\n   </g>\n   <g id=\"patch_20\">\n    <path d=\"M 440.367727 356.78175 \nL 460.658636 356.78175 \nL 460.658636 314.380595 \nL 440.367727 314.380595 \nz\n\" clip-path=\"url(#p9aedc15623)\" style=\"fill: #e24a33; stroke: #eeeeee; stroke-width: 0.5; stroke-linejoin: miter\"/>\n   </g>\n   <g id=\"patch_21\">\n    <path d=\"M 460.658636 356.78175 \nL 480.949545 356.78175 \nL 480.949545 325.944546 \nL 460.658636 325.944546 \nz\n\" clip-path=\"url(#p9aedc15623)\" style=\"fill: #e24a33; stroke: #eeeeee; stroke-width: 0.5; stroke-linejoin: miter\"/>\n   </g>\n   <g id=\"patch_22\">\n    <path d=\"M 480.949545 356.78175 \nL 501.240455 356.78175 \nL 501.240455 339.403156 \nL 480.949545 339.403156 \nz\n\" clip-path=\"url(#p9aedc15623)\" style=\"fill: #e24a33; stroke: #eeeeee; stroke-width: 0.5; stroke-linejoin: miter\"/>\n   </g>\n   <g id=\"patch_23\">\n    <path d=\"M 501.240455 356.78175 \nL 521.531364 356.78175 \nL 521.531364 345.609797 \nL 501.240455 345.609797 \nz\n\" clip-path=\"url(#p9aedc15623)\" style=\"fill: #e24a33; stroke: #eeeeee; stroke-width: 0.5; stroke-linejoin: miter\"/>\n   </g>\n   <g id=\"patch_24\">\n    <path d=\"M 521.531364 356.78175 \nL 541.822273 356.78175 \nL 541.822273 349.921779 \nL 521.531364 349.921779 \nz\n\" clip-path=\"url(#p9aedc15623)\" style=\"fill: #e24a33; stroke: #eeeeee; stroke-width: 0.5; stroke-linejoin: miter\"/>\n   </g>\n   <g id=\"patch_25\">\n    <path d=\"M 541.822273 356.78175 \nL 562.113182 356.78175 \nL 562.113182 352.012437 \nL 541.822273 352.012437 \nz\n\" clip-path=\"url(#p9aedc15623)\" style=\"fill: #e24a33; stroke: #eeeeee; stroke-width: 0.5; stroke-linejoin: miter\"/>\n   </g>\n   <g id=\"patch_26\">\n    <path d=\"M 562.113182 356.78175 \nL 582.404091 356.78175 \nL 582.404091 352.9271 \nL 562.113182 352.9271 \nz\n\" clip-path=\"url(#p9aedc15623)\" style=\"fill: #e24a33; stroke: #eeeeee; stroke-width: 0.5; stroke-linejoin: miter\"/>\n   </g>\n   <g id=\"patch_27\">\n    <path d=\"M 582.404091 356.78175 \nL 602.695 356.78175 \nL 602.695 355.213757 \nL 582.404091 355.213757 \nz\n\" clip-path=\"url(#p9aedc15623)\" style=\"fill: #e24a33; stroke: #eeeeee; stroke-width: 0.5; stroke-linejoin: miter\"/>\n   </g>\n   <g id=\"patch_28\">\n    <path d=\"M 602.695 356.78175 \nL 622.985909 356.78175 \nL 622.985909 355.605755 \nL 602.695 355.605755 \nz\n\" clip-path=\"url(#p9aedc15623)\" style=\"fill: #e24a33; stroke: #eeeeee; stroke-width: 0.5; stroke-linejoin: miter\"/>\n   </g>\n   <g id=\"patch_29\">\n    <path d=\"M 622.985909 356.78175 \nL 643.276818 356.78175 \nL 643.276818 355.409756 \nL 622.985909 355.409756 \nz\n\" clip-path=\"url(#p9aedc15623)\" style=\"fill: #e24a33; stroke: #eeeeee; stroke-width: 0.5; stroke-linejoin: miter\"/>\n   </g>\n   <g id=\"patch_30\">\n    <path d=\"M 643.276818 356.78175 \nL 663.567727 356.78175 \nL 663.567727 356.389752 \nL 643.276818 356.389752 \nz\n\" clip-path=\"url(#p9aedc15623)\" style=\"fill: #e24a33; stroke: #eeeeee; stroke-width: 0.5; stroke-linejoin: miter\"/>\n   </g>\n   <g id=\"patch_31\">\n    <path d=\"M 663.567727 356.78175 \nL 683.858636 356.78175 \nL 683.858636 356.193752 \nL 663.567727 356.193752 \nz\n\" clip-path=\"url(#p9aedc15623)\" style=\"fill: #e24a33; stroke: #eeeeee; stroke-width: 0.5; stroke-linejoin: miter\"/>\n   </g>\n   <g id=\"patch_32\">\n    <path d=\"M 683.858636 356.78175 \nL 704.149545 356.78175 \nL 704.149545 356.389752 \nL 683.858636 356.389752 \nz\n\" clip-path=\"url(#p9aedc15623)\" style=\"fill: #e24a33; stroke: #eeeeee; stroke-width: 0.5; stroke-linejoin: miter\"/>\n   </g>\n   <g id=\"patch_33\">\n    <path d=\"M 704.149545 356.78175 \nL 724.440455 356.78175 \nL 724.440455 356.651084 \nL 704.149545 356.651084 \nz\n\" clip-path=\"url(#p9aedc15623)\" style=\"fill: #e24a33; stroke: #eeeeee; stroke-width: 0.5; stroke-linejoin: miter\"/>\n   </g>\n   <g id=\"patch_34\">\n    <path d=\"M 724.440455 356.78175 \nL 744.731364 356.78175 \nL 744.731364 356.520418 \nL 724.440455 356.520418 \nz\n\" clip-path=\"url(#p9aedc15623)\" style=\"fill: #e24a33; stroke: #eeeeee; stroke-width: 0.5; stroke-linejoin: miter\"/>\n   </g>\n   <g id=\"patch_35\">\n    <path d=\"M 744.731364 356.78175 \nL 765.022273 356.78175 \nL 765.022273 356.716417 \nL 744.731364 356.716417 \nz\n\" clip-path=\"url(#p9aedc15623)\" style=\"fill: #e24a33; stroke: #eeeeee; stroke-width: 0.5; stroke-linejoin: miter\"/>\n   </g>\n   <g id=\"patch_36\">\n    <path d=\"M 765.022273 356.78175 \nL 785.313182 356.78175 \nL 785.313182 356.585751 \nL 765.022273 356.585751 \nz\n\" clip-path=\"url(#p9aedc15623)\" style=\"fill: #e24a33; stroke: #eeeeee; stroke-width: 0.5; stroke-linejoin: miter\"/>\n   </g>\n   <g id=\"patch_37\">\n    <path d=\"M 785.313182 356.78175 \nL 805.604091 356.78175 \nL 805.604091 356.651084 \nL 785.313182 356.651084 \nz\n\" clip-path=\"url(#p9aedc15623)\" style=\"fill: #e24a33; stroke: #eeeeee; stroke-width: 0.5; stroke-linejoin: miter\"/>\n   </g>\n   <g id=\"patch_38\">\n    <path d=\"M 805.604091 356.78175 \nL 825.895 356.78175 \nL 825.895 356.78175 \nL 805.604091 356.78175 \nz\n\" clip-path=\"url(#p9aedc15623)\" style=\"fill: #e24a33; stroke: #eeeeee; stroke-width: 0.5; stroke-linejoin: miter\"/>\n   </g>\n   <g id=\"patch_39\">\n    <path d=\"M 825.895 356.78175 \nL 846.185909 356.78175 \nL 846.185909 356.78175 \nL 825.895 356.78175 \nz\n\" clip-path=\"url(#p9aedc15623)\" style=\"fill: #e24a33; stroke: #eeeeee; stroke-width: 0.5; stroke-linejoin: miter\"/>\n   </g>\n   <g id=\"patch_40\">\n    <path d=\"M 846.185909 356.78175 \nL 866.476818 356.78175 \nL 866.476818 356.78175 \nL 846.185909 356.78175 \nz\n\" clip-path=\"url(#p9aedc15623)\" style=\"fill: #e24a33; stroke: #eeeeee; stroke-width: 0.5; stroke-linejoin: miter\"/>\n   </g>\n   <g id=\"patch_41\">\n    <path d=\"M 866.476818 356.78175 \nL 886.767727 356.78175 \nL 886.767727 356.716417 \nL 866.476818 356.716417 \nz\n\" clip-path=\"url(#p9aedc15623)\" style=\"fill: #e24a33; stroke: #eeeeee; stroke-width: 0.5; stroke-linejoin: miter\"/>\n   </g>\n   <g id=\"patch_42\">\n    <path d=\"M 886.767727 356.78175 \nL 907.058636 356.78175 \nL 907.058636 356.78175 \nL 886.767727 356.78175 \nz\n\" clip-path=\"url(#p9aedc15623)\" style=\"fill: #e24a33; stroke: #eeeeee; stroke-width: 0.5; stroke-linejoin: miter\"/>\n   </g>\n   <g id=\"patch_43\">\n    <path d=\"M 907.058636 356.78175 \nL 927.349545 356.78175 \nL 927.349545 356.78175 \nL 907.058636 356.78175 \nz\n\" clip-path=\"url(#p9aedc15623)\" style=\"fill: #e24a33; stroke: #eeeeee; stroke-width: 0.5; stroke-linejoin: miter\"/>\n   </g>\n   <g id=\"patch_44\">\n    <path d=\"M 927.349545 356.78175 \nL 947.640455 356.78175 \nL 947.640455 356.78175 \nL 927.349545 356.78175 \nz\n\" clip-path=\"url(#p9aedc15623)\" style=\"fill: #e24a33; stroke: #eeeeee; stroke-width: 0.5; stroke-linejoin: miter\"/>\n   </g>\n   <g id=\"patch_45\">\n    <path d=\"M 947.640455 356.78175 \nL 967.931364 356.78175 \nL 967.931364 356.78175 \nL 947.640455 356.78175 \nz\n\" clip-path=\"url(#p9aedc15623)\" style=\"fill: #e24a33; stroke: #eeeeee; stroke-width: 0.5; stroke-linejoin: miter\"/>\n   </g>\n   <g id=\"patch_46\">\n    <path d=\"M 967.931364 356.78175 \nL 988.222273 356.78175 \nL 988.222273 356.78175 \nL 967.931364 356.78175 \nz\n\" clip-path=\"url(#p9aedc15623)\" style=\"fill: #e24a33; stroke: #eeeeee; stroke-width: 0.5; stroke-linejoin: miter\"/>\n   </g>\n   <g id=\"patch_47\">\n    <path d=\"M 988.222273 356.78175 \nL 1008.513182 356.78175 \nL 1008.513182 356.78175 \nL 988.222273 356.78175 \nz\n\" clip-path=\"url(#p9aedc15623)\" style=\"fill: #e24a33; stroke: #eeeeee; stroke-width: 0.5; stroke-linejoin: miter\"/>\n   </g>\n   <g id=\"patch_48\">\n    <path d=\"M 1008.513182 356.78175 \nL 1028.804091 356.78175 \nL 1028.804091 356.78175 \nL 1008.513182 356.78175 \nz\n\" clip-path=\"url(#p9aedc15623)\" style=\"fill: #e24a33; stroke: #eeeeee; stroke-width: 0.5; stroke-linejoin: miter\"/>\n   </g>\n   <g id=\"patch_49\">\n    <path d=\"M 1028.804091 356.78175 \nL 1049.095 356.78175 \nL 1049.095 356.78175 \nL 1028.804091 356.78175 \nz\n\" clip-path=\"url(#p9aedc15623)\" style=\"fill: #e24a33; stroke: #eeeeee; stroke-width: 0.5; stroke-linejoin: miter\"/>\n   </g>\n   <g id=\"patch_50\">\n    <path d=\"M 1049.095 356.78175 \nL 1069.385909 356.78175 \nL 1069.385909 356.78175 \nL 1049.095 356.78175 \nz\n\" clip-path=\"url(#p9aedc15623)\" style=\"fill: #e24a33; stroke: #eeeeee; stroke-width: 0.5; stroke-linejoin: miter\"/>\n   </g>\n   <g id=\"patch_51\">\n    <path d=\"M 1069.385909 356.78175 \nL 1089.676818 356.78175 \nL 1089.676818 356.78175 \nL 1069.385909 356.78175 \nz\n\" clip-path=\"url(#p9aedc15623)\" style=\"fill: #e24a33; stroke: #eeeeee; stroke-width: 0.5; stroke-linejoin: miter\"/>\n   </g>\n   <g id=\"patch_52\">\n    <path d=\"M 1089.676818 356.78175 \nL 1109.967727 356.78175 \nL 1109.967727 356.716417 \nL 1089.676818 356.716417 \nz\n\" clip-path=\"url(#p9aedc15623)\" style=\"fill: #e24a33; stroke: #eeeeee; stroke-width: 0.5; stroke-linejoin: miter\"/>\n   </g>\n   <g id=\"patch_53\">\n    <path d=\"M 44.695 356.78175 \nL 44.695 24.14175 \n\" style=\"fill: none; stroke: #ffffff; stroke-linejoin: miter; stroke-linecap: square\"/>\n   </g>\n   <g id=\"patch_54\">\n    <path d=\"M 1160.695 356.78175 \nL 1160.695 24.14175 \n\" style=\"fill: none; stroke: #ffffff; stroke-linejoin: miter; stroke-linecap: square\"/>\n   </g>\n   <g id=\"patch_55\">\n    <path d=\"M 44.695 356.78175 \nL 1160.695 356.78175 \n\" style=\"fill: none; stroke: #ffffff; stroke-linejoin: miter; stroke-linecap: square\"/>\n   </g>\n   <g id=\"patch_56\">\n    <path d=\"M 44.695 24.14175 \nL 1160.695 24.14175 \n\" style=\"fill: none; stroke: #ffffff; stroke-linejoin: miter; stroke-linecap: square\"/>\n   </g>\n   <g id=\"text_13\">\n    <!-- Number of words in each Sentence -->\n    <g style=\"fill: #262626\" transform=\"translate(476.243875 18.14175) scale(0.144 -0.144)\">\n     <defs>\n      <path id=\"DejaVuSans-4e\" d=\"M 628 4666 \nL 1478 4666 \nL 3547 763 \nL 3547 4666 \nL 4159 4666 \nL 4159 0 \nL 3309 0 \nL 1241 3903 \nL 1241 0 \nL 628 0 \nL 628 4666 \nz\n\" transform=\"scale(0.015625)\"/>\n      <path id=\"DejaVuSans-75\" d=\"M 544 1381 \nL 544 3500 \nL 1119 3500 \nL 1119 1403 \nQ 1119 906 1312 657 \nQ 1506 409 1894 409 \nQ 2359 409 2629 706 \nQ 2900 1003 2900 1516 \nL 2900 3500 \nL 3475 3500 \nL 3475 0 \nL 2900 0 \nL 2900 538 \nQ 2691 219 2414 64 \nQ 2138 -91 1772 -91 \nQ 1169 -91 856 284 \nQ 544 659 544 1381 \nz\nM 1991 3584 \nL 1991 3584 \nz\n\" transform=\"scale(0.015625)\"/>\n      <path id=\"DejaVuSans-6d\" d=\"M 3328 2828 \nQ 3544 3216 3844 3400 \nQ 4144 3584 4550 3584 \nQ 5097 3584 5394 3201 \nQ 5691 2819 5691 2113 \nL 5691 0 \nL 5113 0 \nL 5113 2094 \nQ 5113 2597 4934 2840 \nQ 4756 3084 4391 3084 \nQ 3944 3084 3684 2787 \nQ 3425 2491 3425 1978 \nL 3425 0 \nL 2847 0 \nL 2847 2094 \nQ 2847 2600 2669 2842 \nQ 2491 3084 2119 3084 \nQ 1678 3084 1418 2786 \nQ 1159 2488 1159 1978 \nL 1159 0 \nL 581 0 \nL 581 3500 \nL 1159 3500 \nL 1159 2956 \nQ 1356 3278 1631 3431 \nQ 1906 3584 2284 3584 \nQ 2666 3584 2933 3390 \nQ 3200 3197 3328 2828 \nz\n\" transform=\"scale(0.015625)\"/>\n      <path id=\"DejaVuSans-62\" d=\"M 3116 1747 \nQ 3116 2381 2855 2742 \nQ 2594 3103 2138 3103 \nQ 1681 3103 1420 2742 \nQ 1159 2381 1159 1747 \nQ 1159 1113 1420 752 \nQ 1681 391 2138 391 \nQ 2594 391 2855 752 \nQ 3116 1113 3116 1747 \nz\nM 1159 2969 \nQ 1341 3281 1617 3432 \nQ 1894 3584 2278 3584 \nQ 2916 3584 3314 3078 \nQ 3713 2572 3713 1747 \nQ 3713 922 3314 415 \nQ 2916 -91 2278 -91 \nQ 1894 -91 1617 61 \nQ 1341 213 1159 525 \nL 1159 0 \nL 581 0 \nL 581 4863 \nL 1159 4863 \nL 1159 2969 \nz\n\" transform=\"scale(0.015625)\"/>\n      <path id=\"DejaVuSans-65\" d=\"M 3597 1894 \nL 3597 1613 \nL 953 1613 \nQ 991 1019 1311 708 \nQ 1631 397 2203 397 \nQ 2534 397 2845 478 \nQ 3156 559 3463 722 \nL 3463 178 \nQ 3153 47 2828 -22 \nQ 2503 -91 2169 -91 \nQ 1331 -91 842 396 \nQ 353 884 353 1716 \nQ 353 2575 817 3079 \nQ 1281 3584 2069 3584 \nQ 2775 3584 3186 3129 \nQ 3597 2675 3597 1894 \nz\nM 3022 2063 \nQ 3016 2534 2758 2815 \nQ 2500 3097 2075 3097 \nQ 1594 3097 1305 2825 \nQ 1016 2553 972 2059 \nL 3022 2063 \nz\n\" transform=\"scale(0.015625)\"/>\n      <path id=\"DejaVuSans-72\" d=\"M 2631 2963 \nQ 2534 3019 2420 3045 \nQ 2306 3072 2169 3072 \nQ 1681 3072 1420 2755 \nQ 1159 2438 1159 1844 \nL 1159 0 \nL 581 0 \nL 581 3500 \nL 1159 3500 \nL 1159 2956 \nQ 1341 3275 1631 3429 \nQ 1922 3584 2338 3584 \nQ 2397 3584 2469 3576 \nQ 2541 3569 2628 3553 \nL 2631 2963 \nz\n\" transform=\"scale(0.015625)\"/>\n      <path id=\"DejaVuSans-20\" transform=\"scale(0.015625)\"/>\n      <path id=\"DejaVuSans-6f\" d=\"M 1959 3097 \nQ 1497 3097 1228 2736 \nQ 959 2375 959 1747 \nQ 959 1119 1226 758 \nQ 1494 397 1959 397 \nQ 2419 397 2687 759 \nQ 2956 1122 2956 1747 \nQ 2956 2369 2687 2733 \nQ 2419 3097 1959 3097 \nz\nM 1959 3584 \nQ 2709 3584 3137 3096 \nQ 3566 2609 3566 1747 \nQ 3566 888 3137 398 \nQ 2709 -91 1959 -91 \nQ 1206 -91 779 398 \nQ 353 888 353 1747 \nQ 353 2609 779 3096 \nQ 1206 3584 1959 3584 \nz\n\" transform=\"scale(0.015625)\"/>\n      <path id=\"DejaVuSans-66\" d=\"M 2375 4863 \nL 2375 4384 \nL 1825 4384 \nQ 1516 4384 1395 4259 \nQ 1275 4134 1275 3809 \nL 1275 3500 \nL 2222 3500 \nL 2222 3053 \nL 1275 3053 \nL 1275 0 \nL 697 0 \nL 697 3053 \nL 147 3053 \nL 147 3500 \nL 697 3500 \nL 697 3744 \nQ 697 4328 969 4595 \nQ 1241 4863 1831 4863 \nL 2375 4863 \nz\n\" transform=\"scale(0.015625)\"/>\n      <path id=\"DejaVuSans-77\" d=\"M 269 3500 \nL 844 3500 \nL 1563 769 \nL 2278 3500 \nL 2956 3500 \nL 3675 769 \nL 4391 3500 \nL 4966 3500 \nL 4050 0 \nL 3372 0 \nL 2619 2869 \nL 1863 0 \nL 1184 0 \nL 269 3500 \nz\n\" transform=\"scale(0.015625)\"/>\n      <path id=\"DejaVuSans-64\" d=\"M 2906 2969 \nL 2906 4863 \nL 3481 4863 \nL 3481 0 \nL 2906 0 \nL 2906 525 \nQ 2725 213 2448 61 \nQ 2172 -91 1784 -91 \nQ 1150 -91 751 415 \nQ 353 922 353 1747 \nQ 353 2572 751 3078 \nQ 1150 3584 1784 3584 \nQ 2172 3584 2448 3432 \nQ 2725 3281 2906 2969 \nz\nM 947 1747 \nQ 947 1113 1208 752 \nQ 1469 391 1925 391 \nQ 2381 391 2643 752 \nQ 2906 1113 2906 1747 \nQ 2906 2381 2643 2742 \nQ 2381 3103 1925 3103 \nQ 1469 3103 1208 2742 \nQ 947 2381 947 1747 \nz\n\" transform=\"scale(0.015625)\"/>\n      <path id=\"DejaVuSans-73\" d=\"M 2834 3397 \nL 2834 2853 \nQ 2591 2978 2328 3040 \nQ 2066 3103 1784 3103 \nQ 1356 3103 1142 2972 \nQ 928 2841 928 2578 \nQ 928 2378 1081 2264 \nQ 1234 2150 1697 2047 \nL 1894 2003 \nQ 2506 1872 2764 1633 \nQ 3022 1394 3022 966 \nQ 3022 478 2636 193 \nQ 2250 -91 1575 -91 \nQ 1294 -91 989 -36 \nQ 684 19 347 128 \nL 347 722 \nQ 666 556 975 473 \nQ 1284 391 1588 391 \nQ 1994 391 2212 530 \nQ 2431 669 2431 922 \nQ 2431 1156 2273 1281 \nQ 2116 1406 1581 1522 \nL 1381 1569 \nQ 847 1681 609 1914 \nQ 372 2147 372 2553 \nQ 372 3047 722 3315 \nQ 1072 3584 1716 3584 \nQ 2034 3584 2315 3537 \nQ 2597 3491 2834 3397 \nz\n\" transform=\"scale(0.015625)\"/>\n      <path id=\"DejaVuSans-69\" d=\"M 603 3500 \nL 1178 3500 \nL 1178 0 \nL 603 0 \nL 603 3500 \nz\nM 603 4863 \nL 1178 4863 \nL 1178 4134 \nL 603 4134 \nL 603 4863 \nz\n\" transform=\"scale(0.015625)\"/>\n      <path id=\"DejaVuSans-6e\" d=\"M 3513 2113 \nL 3513 0 \nL 2938 0 \nL 2938 2094 \nQ 2938 2591 2744 2837 \nQ 2550 3084 2163 3084 \nQ 1697 3084 1428 2787 \nQ 1159 2491 1159 1978 \nL 1159 0 \nL 581 0 \nL 581 3500 \nL 1159 3500 \nL 1159 2956 \nQ 1366 3272 1645 3428 \nQ 1925 3584 2291 3584 \nQ 2894 3584 3203 3211 \nQ 3513 2838 3513 2113 \nz\n\" transform=\"scale(0.015625)\"/>\n      <path id=\"DejaVuSans-61\" d=\"M 2194 1759 \nQ 1497 1759 1228 1600 \nQ 959 1441 959 1056 \nQ 959 750 1161 570 \nQ 1363 391 1709 391 \nQ 2188 391 2477 730 \nQ 2766 1069 2766 1631 \nL 2766 1759 \nL 2194 1759 \nz\nM 3341 1997 \nL 3341 0 \nL 2766 0 \nL 2766 531 \nQ 2569 213 2275 61 \nQ 1981 -91 1556 -91 \nQ 1019 -91 701 211 \nQ 384 513 384 1019 \nQ 384 1609 779 1909 \nQ 1175 2209 1959 2209 \nL 2766 2209 \nL 2766 2266 \nQ 2766 2663 2505 2880 \nQ 2244 3097 1772 3097 \nQ 1472 3097 1187 3025 \nQ 903 2953 641 2809 \nL 641 3341 \nQ 956 3463 1253 3523 \nQ 1550 3584 1831 3584 \nQ 2591 3584 2966 3190 \nQ 3341 2797 3341 1997 \nz\n\" transform=\"scale(0.015625)\"/>\n      <path id=\"DejaVuSans-63\" d=\"M 3122 3366 \nL 3122 2828 \nQ 2878 2963 2633 3030 \nQ 2388 3097 2138 3097 \nQ 1578 3097 1268 2742 \nQ 959 2388 959 1747 \nQ 959 1106 1268 751 \nQ 1578 397 2138 397 \nQ 2388 397 2633 464 \nQ 2878 531 3122 666 \nL 3122 134 \nQ 2881 22 2623 -34 \nQ 2366 -91 2075 -91 \nQ 1284 -91 818 406 \nQ 353 903 353 1747 \nQ 353 2603 823 3093 \nQ 1294 3584 2113 3584 \nQ 2378 3584 2631 3529 \nQ 2884 3475 3122 3366 \nz\n\" transform=\"scale(0.015625)\"/>\n      <path id=\"DejaVuSans-68\" d=\"M 3513 2113 \nL 3513 0 \nL 2938 0 \nL 2938 2094 \nQ 2938 2591 2744 2837 \nQ 2550 3084 2163 3084 \nQ 1697 3084 1428 2787 \nQ 1159 2491 1159 1978 \nL 1159 0 \nL 581 0 \nL 581 4863 \nL 1159 4863 \nL 1159 2956 \nQ 1366 3272 1645 3428 \nQ 1925 3584 2291 3584 \nQ 2894 3584 3203 3211 \nQ 3513 2838 3513 2113 \nz\n\" transform=\"scale(0.015625)\"/>\n      <path id=\"DejaVuSans-53\" d=\"M 3425 4513 \nL 3425 3897 \nQ 3066 4069 2747 4153 \nQ 2428 4238 2131 4238 \nQ 1616 4238 1336 4038 \nQ 1056 3838 1056 3469 \nQ 1056 3159 1242 3001 \nQ 1428 2844 1947 2747 \nL 2328 2669 \nQ 3034 2534 3370 2195 \nQ 3706 1856 3706 1288 \nQ 3706 609 3251 259 \nQ 2797 -91 1919 -91 \nQ 1588 -91 1214 -16 \nQ 841 59 441 206 \nL 441 856 \nQ 825 641 1194 531 \nQ 1563 422 1919 422 \nQ 2459 422 2753 634 \nQ 3047 847 3047 1241 \nQ 3047 1584 2836 1778 \nQ 2625 1972 2144 2069 \nL 1759 2144 \nQ 1053 2284 737 2584 \nQ 422 2884 422 3419 \nQ 422 4038 858 4394 \nQ 1294 4750 2059 4750 \nQ 2388 4750 2728 4690 \nQ 3069 4631 3425 4513 \nz\n\" transform=\"scale(0.015625)\"/>\n      <path id=\"DejaVuSans-74\" d=\"M 1172 4494 \nL 1172 3500 \nL 2356 3500 \nL 2356 3053 \nL 1172 3053 \nL 1172 1153 \nQ 1172 725 1289 603 \nQ 1406 481 1766 481 \nL 2356 481 \nL 2356 0 \nL 1766 0 \nQ 1100 0 847 248 \nQ 594 497 594 1153 \nL 594 3053 \nL 172 3053 \nL 172 3500 \nL 594 3500 \nL 594 4494 \nL 1172 4494 \nz\n\" transform=\"scale(0.015625)\"/>\n     </defs>\n     <use xlink:href=\"#DejaVuSans-4e\"/>\n     <use xlink:href=\"#DejaVuSans-75\" x=\"74.804688\"/>\n     <use xlink:href=\"#DejaVuSans-6d\" x=\"138.183594\"/>\n     <use xlink:href=\"#DejaVuSans-62\" x=\"235.595703\"/>\n     <use xlink:href=\"#DejaVuSans-65\" x=\"299.072266\"/>\n     <use xlink:href=\"#DejaVuSans-72\" x=\"360.595703\"/>\n     <use xlink:href=\"#DejaVuSans-20\" x=\"401.708984\"/>\n     <use xlink:href=\"#DejaVuSans-6f\" x=\"433.496094\"/>\n     <use xlink:href=\"#DejaVuSans-66\" x=\"494.677734\"/>\n     <use xlink:href=\"#DejaVuSans-20\" x=\"529.882812\"/>\n     <use xlink:href=\"#DejaVuSans-77\" x=\"561.669922\"/>\n     <use xlink:href=\"#DejaVuSans-6f\" x=\"643.457031\"/>\n     <use xlink:href=\"#DejaVuSans-72\" x=\"704.638672\"/>\n     <use xlink:href=\"#DejaVuSans-64\" x=\"744.001953\"/>\n     <use xlink:href=\"#DejaVuSans-73\" x=\"807.478516\"/>\n     <use xlink:href=\"#DejaVuSans-20\" x=\"859.578125\"/>\n     <use xlink:href=\"#DejaVuSans-69\" x=\"891.365234\"/>\n     <use xlink:href=\"#DejaVuSans-6e\" x=\"919.148438\"/>\n     <use xlink:href=\"#DejaVuSans-20\" x=\"982.527344\"/>\n     <use xlink:href=\"#DejaVuSans-65\" x=\"1014.314453\"/>\n     <use xlink:href=\"#DejaVuSans-61\" x=\"1075.837891\"/>\n     <use xlink:href=\"#DejaVuSans-63\" x=\"1137.117188\"/>\n     <use xlink:href=\"#DejaVuSans-68\" x=\"1192.097656\"/>\n     <use xlink:href=\"#DejaVuSans-20\" x=\"1255.476562\"/>\n     <use xlink:href=\"#DejaVuSans-53\" x=\"1287.263672\"/>\n     <use xlink:href=\"#DejaVuSans-65\" x=\"1350.740234\"/>\n     <use xlink:href=\"#DejaVuSans-6e\" x=\"1412.263672\"/>\n     <use xlink:href=\"#DejaVuSans-74\" x=\"1475.642578\"/>\n     <use xlink:href=\"#DejaVuSans-65\" x=\"1514.851562\"/>\n     <use xlink:href=\"#DejaVuSans-6e\" x=\"1576.375\"/>\n     <use xlink:href=\"#DejaVuSans-63\" x=\"1639.753906\"/>\n     <use xlink:href=\"#DejaVuSans-65\" x=\"1694.734375\"/>\n    </g>\n   </g>\n  </g>\n </g>\n <defs>\n  <clipPath id=\"p9aedc15623\">\n   <rect x=\"44.695\" y=\"24.14175\" width=\"1116\" height=\"332.64\"/>\n  </clipPath>\n </defs>\n</svg>\n"
          },
          "metadata": {}
        }
      ]
    },
    {
      "cell_type": "code",
      "source": [
        "fig, ax = plt.subplots(2, 1, figsize=(20, 12))\n",
        "data.labels.value_counts().plot.bar(ax=ax[0], title='Distribution of Tags')\n",
        "data[data.labels != 'O'].labels.value_counts().plot.bar(ax=ax[1], title='Distribution of non-O Tags')\n",
        "\n",
        "tags = list(set(data[\"labels\"].values))\n",
        "n_tags = len(labels)\n",
        "print('Number of unique Tags:', n_tags)"
      ],
      "metadata": {
        "colab": {
          "base_uri": "https://localhost:8080/",
          "height": 1000
        },
        "id": "4euimmleaIVC",
        "outputId": "7ae0bbe1-3197-436d-d176-389fb1269803"
      },
      "execution_count": 173,
      "outputs": [
        {
          "output_type": "stream",
          "name": "stdout",
          "text": [
            "Number of unique Tags: 17\n"
          ]
        },
        {
          "output_type": "display_data",
          "data": {
            "text/plain": [
              "<Figure size 2000x1200 with 2 Axes>"
            ],
            "image/svg+xml": "<?xml version=\"1.0\" encoding=\"utf-8\" standalone=\"no\"?>\n<!DOCTYPE svg PUBLIC \"-//W3C//DTD SVG 1.1//EN\"\n  \"http://www.w3.org/Graphics/SVG/1.1/DTD/svg11.dtd\">\n<svg xmlns:xlink=\"http://www.w3.org/1999/xlink\" width=\"1181.8925pt\" height=\"753.986125pt\" viewBox=\"0 0 1181.8925 753.986125\" xmlns=\"http://www.w3.org/2000/svg\" version=\"1.1\">\n <metadata>\n  <rdf:RDF xmlns:dc=\"http://purl.org/dc/elements/1.1/\" xmlns:cc=\"http://creativecommons.org/ns#\" xmlns:rdf=\"http://www.w3.org/1999/02/22-rdf-syntax-ns#\">\n   <cc:Work>\n    <dc:type rdf:resource=\"http://purl.org/dc/dcmitype/StillImage\"/>\n    <dc:date>2024-06-27T12:05:59.764616</dc:date>\n    <dc:format>image/svg+xml</dc:format>\n    <dc:creator>\n     <cc:Agent>\n      <dc:title>Matplotlib v3.7.1, https://matplotlib.org/</dc:title>\n     </cc:Agent>\n    </dc:creator>\n   </cc:Work>\n  </rdf:RDF>\n </metadata>\n <defs>\n  <style type=\"text/css\">*{stroke-linejoin: round; stroke-linecap: butt}</style>\n </defs>\n <g id=\"figure_1\">\n  <g id=\"patch_1\">\n   <path d=\"M 0 753.986125 \nL 1181.8925 753.986125 \nL 1181.8925 0 \nL 0 0 \nz\n\" style=\"fill: #ffffff\"/>\n  </g>\n  <g id=\"axes_1\">\n   <g id=\"patch_2\">\n    <path d=\"M 58.6925 326.54175 \nL 1174.6925 326.54175 \nL 1174.6925 24.14175 \nL 58.6925 24.14175 \nz\n\" style=\"fill: #e5e5e5\"/>\n   </g>\n   <g id=\"matplotlib.axis_1\">\n    <g id=\"xtick_1\">\n     <g id=\"line2d_1\">\n      <path d=\"M 91.516029 326.54175 \nL 91.516029 24.14175 \n\" clip-path=\"url(#p1a219d30b3)\" style=\"fill: none; stroke: #ffffff; stroke-linecap: round\"/>\n     </g>\n     <g id=\"text_1\">\n      <!-- O -->\n      <g style=\"fill: #555555\" transform=\"translate(94.551342 344.700812) rotate(-90) scale(0.11 -0.11)\">\n       <defs>\n        <path id=\"DejaVuSans-4f\" d=\"M 2522 4238 \nQ 1834 4238 1429 3725 \nQ 1025 3213 1025 2328 \nQ 1025 1447 1429 934 \nQ 1834 422 2522 422 \nQ 3209 422 3611 934 \nQ 4013 1447 4013 2328 \nQ 4013 3213 3611 3725 \nQ 3209 4238 2522 4238 \nz\nM 2522 4750 \nQ 3503 4750 4090 4092 \nQ 4678 3434 4678 2328 \nQ 4678 1225 4090 567 \nQ 3503 -91 2522 -91 \nQ 1538 -91 948 565 \nQ 359 1222 359 2328 \nQ 359 3434 948 4092 \nQ 1538 4750 2522 4750 \nz\n\" transform=\"scale(0.015625)\"/>\n       </defs>\n       <use xlink:href=\"#DejaVuSans-4f\"/>\n      </g>\n     </g>\n    </g>\n    <g id=\"xtick_2\">\n     <g id=\"line2d_2\">\n      <path d=\"M 157.163088 326.54175 \nL 157.163088 24.14175 \n\" clip-path=\"url(#p1a219d30b3)\" style=\"fill: none; stroke: #ffffff; stroke-linecap: round\"/>\n     </g>\n     <g id=\"text_2\">\n      <!-- B-geo -->\n      <g style=\"fill: #555555\" transform=\"translate(160.198401 368.039719) rotate(-90) scale(0.11 -0.11)\">\n       <defs>\n        <path id=\"DejaVuSans-42\" d=\"M 1259 2228 \nL 1259 519 \nL 2272 519 \nQ 2781 519 3026 730 \nQ 3272 941 3272 1375 \nQ 3272 1813 3026 2020 \nQ 2781 2228 2272 2228 \nL 1259 2228 \nz\nM 1259 4147 \nL 1259 2741 \nL 2194 2741 \nQ 2656 2741 2882 2914 \nQ 3109 3088 3109 3444 \nQ 3109 3797 2882 3972 \nQ 2656 4147 2194 4147 \nL 1259 4147 \nz\nM 628 4666 \nL 2241 4666 \nQ 2963 4666 3353 4366 \nQ 3744 4066 3744 3513 \nQ 3744 3084 3544 2831 \nQ 3344 2578 2956 2516 \nQ 3422 2416 3680 2098 \nQ 3938 1781 3938 1306 \nQ 3938 681 3513 340 \nQ 3088 0 2303 0 \nL 628 0 \nL 628 4666 \nz\n\" transform=\"scale(0.015625)\"/>\n        <path id=\"DejaVuSans-2d\" d=\"M 313 2009 \nL 1997 2009 \nL 1997 1497 \nL 313 1497 \nL 313 2009 \nz\n\" transform=\"scale(0.015625)\"/>\n        <path id=\"DejaVuSans-67\" d=\"M 2906 1791 \nQ 2906 2416 2648 2759 \nQ 2391 3103 1925 3103 \nQ 1463 3103 1205 2759 \nQ 947 2416 947 1791 \nQ 947 1169 1205 825 \nQ 1463 481 1925 481 \nQ 2391 481 2648 825 \nQ 2906 1169 2906 1791 \nz\nM 3481 434 \nQ 3481 -459 3084 -895 \nQ 2688 -1331 1869 -1331 \nQ 1566 -1331 1297 -1286 \nQ 1028 -1241 775 -1147 \nL 775 -588 \nQ 1028 -725 1275 -790 \nQ 1522 -856 1778 -856 \nQ 2344 -856 2625 -561 \nQ 2906 -266 2906 331 \nL 2906 616 \nQ 2728 306 2450 153 \nQ 2172 0 1784 0 \nQ 1141 0 747 490 \nQ 353 981 353 1791 \nQ 353 2603 747 3093 \nQ 1141 3584 1784 3584 \nQ 2172 3584 2450 3431 \nQ 2728 3278 2906 2969 \nL 2906 3500 \nL 3481 3500 \nL 3481 434 \nz\n\" transform=\"scale(0.015625)\"/>\n        <path id=\"DejaVuSans-65\" d=\"M 3597 1894 \nL 3597 1613 \nL 953 1613 \nQ 991 1019 1311 708 \nQ 1631 397 2203 397 \nQ 2534 397 2845 478 \nQ 3156 559 3463 722 \nL 3463 178 \nQ 3153 47 2828 -22 \nQ 2503 -91 2169 -91 \nQ 1331 -91 842 396 \nQ 353 884 353 1716 \nQ 353 2575 817 3079 \nQ 1281 3584 2069 3584 \nQ 2775 3584 3186 3129 \nQ 3597 2675 3597 1894 \nz\nM 3022 2063 \nQ 3016 2534 2758 2815 \nQ 2500 3097 2075 3097 \nQ 1594 3097 1305 2825 \nQ 1016 2553 972 2059 \nL 3022 2063 \nz\n\" transform=\"scale(0.015625)\"/>\n        <path id=\"DejaVuSans-6f\" d=\"M 1959 3097 \nQ 1497 3097 1228 2736 \nQ 959 2375 959 1747 \nQ 959 1119 1226 758 \nQ 1494 397 1959 397 \nQ 2419 397 2687 759 \nQ 2956 1122 2956 1747 \nQ 2956 2369 2687 2733 \nQ 2419 3097 1959 3097 \nz\nM 1959 3584 \nQ 2709 3584 3137 3096 \nQ 3566 2609 3566 1747 \nQ 3566 888 3137 398 \nQ 2709 -91 1959 -91 \nQ 1206 -91 779 398 \nQ 353 888 353 1747 \nQ 353 2609 779 3096 \nQ 1206 3584 1959 3584 \nz\n\" transform=\"scale(0.015625)\"/>\n       </defs>\n       <use xlink:href=\"#DejaVuSans-42\"/>\n       <use xlink:href=\"#DejaVuSans-2d\" x=\"68.603516\"/>\n       <use xlink:href=\"#DejaVuSans-67\" x=\"104.6875\"/>\n       <use xlink:href=\"#DejaVuSans-65\" x=\"168.164062\"/>\n       <use xlink:href=\"#DejaVuSans-6f\" x=\"229.6875\"/>\n      </g>\n     </g>\n    </g>\n    <g id=\"xtick_3\">\n     <g id=\"line2d_3\">\n      <path d=\"M 222.810147 326.54175 \nL 222.810147 24.14175 \n\" clip-path=\"url(#p1a219d30b3)\" style=\"fill: none; stroke: #ffffff; stroke-linecap: round\"/>\n     </g>\n     <g id=\"text_3\">\n      <!-- B-tim -->\n      <g style=\"fill: #555555\" transform=\"translate(225.84546 365.640344) rotate(-90) scale(0.11 -0.11)\">\n       <defs>\n        <path id=\"DejaVuSans-74\" d=\"M 1172 4494 \nL 1172 3500 \nL 2356 3500 \nL 2356 3053 \nL 1172 3053 \nL 1172 1153 \nQ 1172 725 1289 603 \nQ 1406 481 1766 481 \nL 2356 481 \nL 2356 0 \nL 1766 0 \nQ 1100 0 847 248 \nQ 594 497 594 1153 \nL 594 3053 \nL 172 3053 \nL 172 3500 \nL 594 3500 \nL 594 4494 \nL 1172 4494 \nz\n\" transform=\"scale(0.015625)\"/>\n        <path id=\"DejaVuSans-69\" d=\"M 603 3500 \nL 1178 3500 \nL 1178 0 \nL 603 0 \nL 603 3500 \nz\nM 603 4863 \nL 1178 4863 \nL 1178 4134 \nL 603 4134 \nL 603 4863 \nz\n\" transform=\"scale(0.015625)\"/>\n        <path id=\"DejaVuSans-6d\" d=\"M 3328 2828 \nQ 3544 3216 3844 3400 \nQ 4144 3584 4550 3584 \nQ 5097 3584 5394 3201 \nQ 5691 2819 5691 2113 \nL 5691 0 \nL 5113 0 \nL 5113 2094 \nQ 5113 2597 4934 2840 \nQ 4756 3084 4391 3084 \nQ 3944 3084 3684 2787 \nQ 3425 2491 3425 1978 \nL 3425 0 \nL 2847 0 \nL 2847 2094 \nQ 2847 2600 2669 2842 \nQ 2491 3084 2119 3084 \nQ 1678 3084 1418 2786 \nQ 1159 2488 1159 1978 \nL 1159 0 \nL 581 0 \nL 581 3500 \nL 1159 3500 \nL 1159 2956 \nQ 1356 3278 1631 3431 \nQ 1906 3584 2284 3584 \nQ 2666 3584 2933 3390 \nQ 3200 3197 3328 2828 \nz\n\" transform=\"scale(0.015625)\"/>\n       </defs>\n       <use xlink:href=\"#DejaVuSans-42\"/>\n       <use xlink:href=\"#DejaVuSans-2d\" x=\"68.603516\"/>\n       <use xlink:href=\"#DejaVuSans-74\" x=\"104.6875\"/>\n       <use xlink:href=\"#DejaVuSans-69\" x=\"143.896484\"/>\n       <use xlink:href=\"#DejaVuSans-6d\" x=\"171.679688\"/>\n      </g>\n     </g>\n    </g>\n    <g id=\"xtick_4\">\n     <g id=\"line2d_4\">\n      <path d=\"M 288.457206 326.54175 \nL 288.457206 24.14175 \n\" clip-path=\"url(#p1a219d30b3)\" style=\"fill: none; stroke: #ffffff; stroke-linecap: round\"/>\n     </g>\n     <g id=\"text_4\">\n      <!-- B-org -->\n      <g style=\"fill: #555555\" transform=\"translate(291.492518 365.807062) rotate(-90) scale(0.11 -0.11)\">\n       <defs>\n        <path id=\"DejaVuSans-72\" d=\"M 2631 2963 \nQ 2534 3019 2420 3045 \nQ 2306 3072 2169 3072 \nQ 1681 3072 1420 2755 \nQ 1159 2438 1159 1844 \nL 1159 0 \nL 581 0 \nL 581 3500 \nL 1159 3500 \nL 1159 2956 \nQ 1341 3275 1631 3429 \nQ 1922 3584 2338 3584 \nQ 2397 3584 2469 3576 \nQ 2541 3569 2628 3553 \nL 2631 2963 \nz\n\" transform=\"scale(0.015625)\"/>\n       </defs>\n       <use xlink:href=\"#DejaVuSans-42\"/>\n       <use xlink:href=\"#DejaVuSans-2d\" x=\"68.603516\"/>\n       <use xlink:href=\"#DejaVuSans-6f\" x=\"106.5625\"/>\n       <use xlink:href=\"#DejaVuSans-72\" x=\"167.744141\"/>\n       <use xlink:href=\"#DejaVuSans-67\" x=\"207.107422\"/>\n      </g>\n     </g>\n    </g>\n    <g id=\"xtick_5\">\n     <g id=\"line2d_5\">\n      <path d=\"M 354.104265 326.54175 \nL 354.104265 24.14175 \n\" clip-path=\"url(#p1a219d30b3)\" style=\"fill: none; stroke: #ffffff; stroke-linecap: round\"/>\n     </g>\n     <g id=\"text_5\">\n      <!-- I-per -->\n      <g style=\"fill: #555555\" transform=\"translate(357.139577 361.529094) rotate(-90) scale(0.11 -0.11)\">\n       <defs>\n        <path id=\"DejaVuSans-49\" d=\"M 628 4666 \nL 1259 4666 \nL 1259 0 \nL 628 0 \nL 628 4666 \nz\n\" transform=\"scale(0.015625)\"/>\n        <path id=\"DejaVuSans-70\" d=\"M 1159 525 \nL 1159 -1331 \nL 581 -1331 \nL 581 3500 \nL 1159 3500 \nL 1159 2969 \nQ 1341 3281 1617 3432 \nQ 1894 3584 2278 3584 \nQ 2916 3584 3314 3078 \nQ 3713 2572 3713 1747 \nQ 3713 922 3314 415 \nQ 2916 -91 2278 -91 \nQ 1894 -91 1617 61 \nQ 1341 213 1159 525 \nz\nM 3116 1747 \nQ 3116 2381 2855 2742 \nQ 2594 3103 2138 3103 \nQ 1681 3103 1420 2742 \nQ 1159 2381 1159 1747 \nQ 1159 1113 1420 752 \nQ 1681 391 2138 391 \nQ 2594 391 2855 752 \nQ 3116 1113 3116 1747 \nz\n\" transform=\"scale(0.015625)\"/>\n       </defs>\n       <use xlink:href=\"#DejaVuSans-49\"/>\n       <use xlink:href=\"#DejaVuSans-2d\" x=\"29.492188\"/>\n       <use xlink:href=\"#DejaVuSans-70\" x=\"65.576172\"/>\n       <use xlink:href=\"#DejaVuSans-65\" x=\"129.052734\"/>\n       <use xlink:href=\"#DejaVuSans-72\" x=\"190.576172\"/>\n      </g>\n     </g>\n    </g>\n    <g id=\"xtick_6\">\n     <g id=\"line2d_6\">\n      <path d=\"M 419.751324 326.54175 \nL 419.751324 24.14175 \n\" clip-path=\"url(#p1a219d30b3)\" style=\"fill: none; stroke: #ffffff; stroke-linecap: round\"/>\n     </g>\n     <g id=\"text_6\">\n      <!-- B-per -->\n      <g style=\"fill: #555555\" transform=\"translate(422.786636 365.831125) rotate(-90) scale(0.11 -0.11)\">\n       <use xlink:href=\"#DejaVuSans-42\"/>\n       <use xlink:href=\"#DejaVuSans-2d\" x=\"68.603516\"/>\n       <use xlink:href=\"#DejaVuSans-70\" x=\"104.6875\"/>\n       <use xlink:href=\"#DejaVuSans-65\" x=\"168.164062\"/>\n       <use xlink:href=\"#DejaVuSans-72\" x=\"229.6875\"/>\n      </g>\n     </g>\n    </g>\n    <g id=\"xtick_7\">\n     <g id=\"line2d_7\">\n      <path d=\"M 485.398382 326.54175 \nL 485.398382 24.14175 \n\" clip-path=\"url(#p1a219d30b3)\" style=\"fill: none; stroke: #ffffff; stroke-linecap: round\"/>\n     </g>\n     <g id=\"text_7\">\n      <!-- I-org -->\n      <g style=\"fill: #555555\" transform=\"translate(488.433695 361.505031) rotate(-90) scale(0.11 -0.11)\">\n       <use xlink:href=\"#DejaVuSans-49\"/>\n       <use xlink:href=\"#DejaVuSans-2d\" x=\"29.492188\"/>\n       <use xlink:href=\"#DejaVuSans-6f\" x=\"67.451172\"/>\n       <use xlink:href=\"#DejaVuSans-72\" x=\"128.632812\"/>\n       <use xlink:href=\"#DejaVuSans-67\" x=\"167.996094\"/>\n      </g>\n     </g>\n    </g>\n    <g id=\"xtick_8\">\n     <g id=\"line2d_8\">\n      <path d=\"M 551.045441 326.54175 \nL 551.045441 24.14175 \n\" clip-path=\"url(#p1a219d30b3)\" style=\"fill: none; stroke: #ffffff; stroke-linecap: round\"/>\n     </g>\n     <g id=\"text_8\">\n      <!-- B-gpe -->\n      <g style=\"fill: #555555\" transform=\"translate(554.080754 368.292375) rotate(-90) scale(0.11 -0.11)\">\n       <use xlink:href=\"#DejaVuSans-42\"/>\n       <use xlink:href=\"#DejaVuSans-2d\" x=\"68.603516\"/>\n       <use xlink:href=\"#DejaVuSans-67\" x=\"104.6875\"/>\n       <use xlink:href=\"#DejaVuSans-70\" x=\"168.164062\"/>\n       <use xlink:href=\"#DejaVuSans-65\" x=\"231.640625\"/>\n      </g>\n     </g>\n    </g>\n    <g id=\"xtick_9\">\n     <g id=\"line2d_9\">\n      <path d=\"M 616.6925 326.54175 \nL 616.6925 24.14175 \n\" clip-path=\"url(#p1a219d30b3)\" style=\"fill: none; stroke: #ffffff; stroke-linecap: round\"/>\n     </g>\n     <g id=\"text_9\">\n      <!-- I-geo -->\n      <g style=\"fill: #555555\" transform=\"translate(619.727813 363.737687) rotate(-90) scale(0.11 -0.11)\">\n       <use xlink:href=\"#DejaVuSans-49\"/>\n       <use xlink:href=\"#DejaVuSans-2d\" x=\"29.492188\"/>\n       <use xlink:href=\"#DejaVuSans-67\" x=\"65.576172\"/>\n       <use xlink:href=\"#DejaVuSans-65\" x=\"129.052734\"/>\n       <use xlink:href=\"#DejaVuSans-6f\" x=\"190.576172\"/>\n      </g>\n     </g>\n    </g>\n    <g id=\"xtick_10\">\n     <g id=\"line2d_10\">\n      <path d=\"M 682.339559 326.54175 \nL 682.339559 24.14175 \n\" clip-path=\"url(#p1a219d30b3)\" style=\"fill: none; stroke: #ffffff; stroke-linecap: round\"/>\n     </g>\n     <g id=\"text_10\">\n      <!-- I-tim -->\n      <g style=\"fill: #555555\" transform=\"translate(685.374871 361.338312) rotate(-90) scale(0.11 -0.11)\">\n       <use xlink:href=\"#DejaVuSans-49\"/>\n       <use xlink:href=\"#DejaVuSans-2d\" x=\"29.492188\"/>\n       <use xlink:href=\"#DejaVuSans-74\" x=\"65.576172\"/>\n       <use xlink:href=\"#DejaVuSans-69\" x=\"104.785156\"/>\n       <use xlink:href=\"#DejaVuSans-6d\" x=\"132.568359\"/>\n      </g>\n     </g>\n    </g>\n    <g id=\"xtick_11\">\n     <g id=\"line2d_11\">\n      <path d=\"M 747.986618 326.54175 \nL 747.986618 24.14175 \n\" clip-path=\"url(#p1a219d30b3)\" style=\"fill: none; stroke: #ffffff; stroke-linecap: round\"/>\n     </g>\n     <g id=\"text_11\">\n      <!-- B-art -->\n      <g style=\"fill: #555555\" transform=\"translate(751.02193 363.132687) rotate(-90) scale(0.11 -0.11)\">\n       <defs>\n        <path id=\"DejaVuSans-61\" d=\"M 2194 1759 \nQ 1497 1759 1228 1600 \nQ 959 1441 959 1056 \nQ 959 750 1161 570 \nQ 1363 391 1709 391 \nQ 2188 391 2477 730 \nQ 2766 1069 2766 1631 \nL 2766 1759 \nL 2194 1759 \nz\nM 3341 1997 \nL 3341 0 \nL 2766 0 \nL 2766 531 \nQ 2569 213 2275 61 \nQ 1981 -91 1556 -91 \nQ 1019 -91 701 211 \nQ 384 513 384 1019 \nQ 384 1609 779 1909 \nQ 1175 2209 1959 2209 \nL 2766 2209 \nL 2766 2266 \nQ 2766 2663 2505 2880 \nQ 2244 3097 1772 3097 \nQ 1472 3097 1187 3025 \nQ 903 2953 641 2809 \nL 641 3341 \nQ 956 3463 1253 3523 \nQ 1550 3584 1831 3584 \nQ 2591 3584 2966 3190 \nQ 3341 2797 3341 1997 \nz\n\" transform=\"scale(0.015625)\"/>\n       </defs>\n       <use xlink:href=\"#DejaVuSans-42\"/>\n       <use xlink:href=\"#DejaVuSans-2d\" x=\"68.603516\"/>\n       <use xlink:href=\"#DejaVuSans-61\" x=\"104.6875\"/>\n       <use xlink:href=\"#DejaVuSans-72\" x=\"165.966797\"/>\n       <use xlink:href=\"#DejaVuSans-74\" x=\"207.080078\"/>\n      </g>\n     </g>\n    </g>\n    <g id=\"xtick_12\">\n     <g id=\"line2d_12\">\n      <path d=\"M 813.633676 326.54175 \nL 813.633676 24.14175 \n\" clip-path=\"url(#p1a219d30b3)\" style=\"fill: none; stroke: #ffffff; stroke-linecap: round\"/>\n     </g>\n     <g id=\"text_12\">\n      <!-- B-eve -->\n      <g style=\"fill: #555555\" transform=\"translate(816.668989 367.604875) rotate(-90) scale(0.11 -0.11)\">\n       <defs>\n        <path id=\"DejaVuSans-76\" d=\"M 191 3500 \nL 800 3500 \nL 1894 563 \nL 2988 3500 \nL 3597 3500 \nL 2284 0 \nL 1503 0 \nL 191 3500 \nz\n\" transform=\"scale(0.015625)\"/>\n       </defs>\n       <use xlink:href=\"#DejaVuSans-42\"/>\n       <use xlink:href=\"#DejaVuSans-2d\" x=\"68.603516\"/>\n       <use xlink:href=\"#DejaVuSans-65\" x=\"104.6875\"/>\n       <use xlink:href=\"#DejaVuSans-76\" x=\"166.210938\"/>\n       <use xlink:href=\"#DejaVuSans-65\" x=\"225.390625\"/>\n      </g>\n     </g>\n    </g>\n    <g id=\"xtick_13\">\n     <g id=\"line2d_13\">\n      <path d=\"M 879.280735 326.54175 \nL 879.280735 24.14175 \n\" clip-path=\"url(#p1a219d30b3)\" style=\"fill: none; stroke: #ffffff; stroke-linecap: round\"/>\n     </g>\n     <g id=\"text_13\">\n      <!-- I-art -->\n      <g style=\"fill: #555555\" transform=\"translate(882.316048 358.830656) rotate(-90) scale(0.11 -0.11)\">\n       <use xlink:href=\"#DejaVuSans-49\"/>\n       <use xlink:href=\"#DejaVuSans-2d\" x=\"29.492188\"/>\n       <use xlink:href=\"#DejaVuSans-61\" x=\"65.576172\"/>\n       <use xlink:href=\"#DejaVuSans-72\" x=\"126.855469\"/>\n       <use xlink:href=\"#DejaVuSans-74\" x=\"167.96875\"/>\n      </g>\n     </g>\n    </g>\n    <g id=\"xtick_14\">\n     <g id=\"line2d_14\">\n      <path d=\"M 944.927794 326.54175 \nL 944.927794 24.14175 \n\" clip-path=\"url(#p1a219d30b3)\" style=\"fill: none; stroke: #ffffff; stroke-linecap: round\"/>\n     </g>\n     <g id=\"text_14\">\n      <!-- I-eve -->\n      <g style=\"fill: #555555\" transform=\"translate(947.963107 363.302844) rotate(-90) scale(0.11 -0.11)\">\n       <use xlink:href=\"#DejaVuSans-49\"/>\n       <use xlink:href=\"#DejaVuSans-2d\" x=\"29.492188\"/>\n       <use xlink:href=\"#DejaVuSans-65\" x=\"65.576172\"/>\n       <use xlink:href=\"#DejaVuSans-76\" x=\"127.099609\"/>\n       <use xlink:href=\"#DejaVuSans-65\" x=\"186.279297\"/>\n      </g>\n     </g>\n    </g>\n    <g id=\"xtick_15\">\n     <g id=\"line2d_15\">\n      <path d=\"M 1010.574853 326.54175 \nL 1010.574853 24.14175 \n\" clip-path=\"url(#p1a219d30b3)\" style=\"fill: none; stroke: #ffffff; stroke-linecap: round\"/>\n     </g>\n     <g id=\"text_15\">\n      <!-- B-nat -->\n      <g style=\"fill: #555555\" transform=\"translate(1013.610165 365.581906) rotate(-90) scale(0.11 -0.11)\">\n       <defs>\n        <path id=\"DejaVuSans-6e\" d=\"M 3513 2113 \nL 3513 0 \nL 2938 0 \nL 2938 2094 \nQ 2938 2591 2744 2837 \nQ 2550 3084 2163 3084 \nQ 1697 3084 1428 2787 \nQ 1159 2491 1159 1978 \nL 1159 0 \nL 581 0 \nL 581 3500 \nL 1159 3500 \nL 1159 2956 \nQ 1366 3272 1645 3428 \nQ 1925 3584 2291 3584 \nQ 2894 3584 3203 3211 \nQ 3513 2838 3513 2113 \nz\n\" transform=\"scale(0.015625)\"/>\n       </defs>\n       <use xlink:href=\"#DejaVuSans-42\"/>\n       <use xlink:href=\"#DejaVuSans-2d\" x=\"68.603516\"/>\n       <use xlink:href=\"#DejaVuSans-6e\" x=\"104.6875\"/>\n       <use xlink:href=\"#DejaVuSans-61\" x=\"168.066406\"/>\n       <use xlink:href=\"#DejaVuSans-74\" x=\"229.345703\"/>\n      </g>\n     </g>\n    </g>\n    <g id=\"xtick_16\">\n     <g id=\"line2d_16\">\n      <path d=\"M 1076.221912 326.54175 \nL 1076.221912 24.14175 \n\" clip-path=\"url(#p1a219d30b3)\" style=\"fill: none; stroke: #ffffff; stroke-linecap: round\"/>\n     </g>\n     <g id=\"text_16\">\n      <!-- I-gpe -->\n      <g style=\"fill: #555555\" transform=\"translate(1079.257224 363.990344) rotate(-90) scale(0.11 -0.11)\">\n       <use xlink:href=\"#DejaVuSans-49\"/>\n       <use xlink:href=\"#DejaVuSans-2d\" x=\"29.492188\"/>\n       <use xlink:href=\"#DejaVuSans-67\" x=\"65.576172\"/>\n       <use xlink:href=\"#DejaVuSans-70\" x=\"129.052734\"/>\n       <use xlink:href=\"#DejaVuSans-65\" x=\"192.529297\"/>\n      </g>\n     </g>\n    </g>\n    <g id=\"xtick_17\">\n     <g id=\"line2d_17\">\n      <path d=\"M 1141.868971 326.54175 \nL 1141.868971 24.14175 \n\" clip-path=\"url(#p1a219d30b3)\" style=\"fill: none; stroke: #ffffff; stroke-linecap: round\"/>\n     </g>\n     <g id=\"text_17\">\n      <!-- I-nat -->\n      <g style=\"fill: #555555\" transform=\"translate(1144.904283 361.279875) rotate(-90) scale(0.11 -0.11)\">\n       <use xlink:href=\"#DejaVuSans-49\"/>\n       <use xlink:href=\"#DejaVuSans-2d\" x=\"29.492188\"/>\n       <use xlink:href=\"#DejaVuSans-6e\" x=\"65.576172\"/>\n       <use xlink:href=\"#DejaVuSans-61\" x=\"128.955078\"/>\n       <use xlink:href=\"#DejaVuSans-74\" x=\"190.234375\"/>\n      </g>\n     </g>\n    </g>\n    <g id=\"text_18\">\n     <!-- labels -->\n     <g style=\"fill: #555555\" transform=\"translate(599.055313 381.4105) scale(0.12 -0.12)\">\n      <defs>\n       <path id=\"DejaVuSans-6c\" d=\"M 603 4863 \nL 1178 4863 \nL 1178 0 \nL 603 0 \nL 603 4863 \nz\n\" transform=\"scale(0.015625)\"/>\n       <path id=\"DejaVuSans-62\" d=\"M 3116 1747 \nQ 3116 2381 2855 2742 \nQ 2594 3103 2138 3103 \nQ 1681 3103 1420 2742 \nQ 1159 2381 1159 1747 \nQ 1159 1113 1420 752 \nQ 1681 391 2138 391 \nQ 2594 391 2855 752 \nQ 3116 1113 3116 1747 \nz\nM 1159 2969 \nQ 1341 3281 1617 3432 \nQ 1894 3584 2278 3584 \nQ 2916 3584 3314 3078 \nQ 3713 2572 3713 1747 \nQ 3713 922 3314 415 \nQ 2916 -91 2278 -91 \nQ 1894 -91 1617 61 \nQ 1341 213 1159 525 \nL 1159 0 \nL 581 0 \nL 581 4863 \nL 1159 4863 \nL 1159 2969 \nz\n\" transform=\"scale(0.015625)\"/>\n       <path id=\"DejaVuSans-73\" d=\"M 2834 3397 \nL 2834 2853 \nQ 2591 2978 2328 3040 \nQ 2066 3103 1784 3103 \nQ 1356 3103 1142 2972 \nQ 928 2841 928 2578 \nQ 928 2378 1081 2264 \nQ 1234 2150 1697 2047 \nL 1894 2003 \nQ 2506 1872 2764 1633 \nQ 3022 1394 3022 966 \nQ 3022 478 2636 193 \nQ 2250 -91 1575 -91 \nQ 1294 -91 989 -36 \nQ 684 19 347 128 \nL 347 722 \nQ 666 556 975 473 \nQ 1284 391 1588 391 \nQ 1994 391 2212 530 \nQ 2431 669 2431 922 \nQ 2431 1156 2273 1281 \nQ 2116 1406 1581 1522 \nL 1381 1569 \nQ 847 1681 609 1914 \nQ 372 2147 372 2553 \nQ 372 3047 722 3315 \nQ 1072 3584 1716 3584 \nQ 2034 3584 2315 3537 \nQ 2597 3491 2834 3397 \nz\n\" transform=\"scale(0.015625)\"/>\n      </defs>\n      <use xlink:href=\"#DejaVuSans-6c\"/>\n      <use xlink:href=\"#DejaVuSans-61\" x=\"27.783203\"/>\n      <use xlink:href=\"#DejaVuSans-62\" x=\"89.0625\"/>\n      <use xlink:href=\"#DejaVuSans-65\" x=\"152.539062\"/>\n      <use xlink:href=\"#DejaVuSans-6c\" x=\"214.0625\"/>\n      <use xlink:href=\"#DejaVuSans-73\" x=\"241.845703\"/>\n     </g>\n    </g>\n   </g>\n   <g id=\"matplotlib.axis_2\">\n    <g id=\"ytick_1\">\n     <g id=\"line2d_18\">\n      <path d=\"M 58.6925 326.54175 \nL 1174.6925 326.54175 \n\" clip-path=\"url(#p1a219d30b3)\" style=\"fill: none; stroke: #ffffff; stroke-linecap: round\"/>\n     </g>\n     <g id=\"text_19\">\n      <!-- 0 -->\n      <g style=\"fill: #555555\" transform=\"translate(42.19375 330.720891) scale(0.11 -0.11)\">\n       <defs>\n        <path id=\"DejaVuSans-30\" d=\"M 2034 4250 \nQ 1547 4250 1301 3770 \nQ 1056 3291 1056 2328 \nQ 1056 1369 1301 889 \nQ 1547 409 2034 409 \nQ 2525 409 2770 889 \nQ 3016 1369 3016 2328 \nQ 3016 3291 2770 3770 \nQ 2525 4250 2034 4250 \nz\nM 2034 4750 \nQ 2819 4750 3233 4129 \nQ 3647 3509 3647 2328 \nQ 3647 1150 3233 529 \nQ 2819 -91 2034 -91 \nQ 1250 -91 836 529 \nQ 422 1150 422 2328 \nQ 422 3509 836 4129 \nQ 1250 4750 2034 4750 \nz\n\" transform=\"scale(0.015625)\"/>\n       </defs>\n       <use xlink:href=\"#DejaVuSans-30\"/>\n      </g>\n     </g>\n    </g>\n    <g id=\"ytick_2\">\n     <g id=\"line2d_19\">\n      <path d=\"M 58.6925 261.670164 \nL 1174.6925 261.670164 \n\" clip-path=\"url(#p1a219d30b3)\" style=\"fill: none; stroke: #ffffff; stroke-linecap: round\"/>\n     </g>\n     <g id=\"text_20\">\n      <!-- 200000 -->\n      <g style=\"fill: #555555\" transform=\"translate(7.2 265.849305) scale(0.11 -0.11)\">\n       <defs>\n        <path id=\"DejaVuSans-32\" d=\"M 1228 531 \nL 3431 531 \nL 3431 0 \nL 469 0 \nL 469 531 \nQ 828 903 1448 1529 \nQ 2069 2156 2228 2338 \nQ 2531 2678 2651 2914 \nQ 2772 3150 2772 3378 \nQ 2772 3750 2511 3984 \nQ 2250 4219 1831 4219 \nQ 1534 4219 1204 4116 \nQ 875 4013 500 3803 \nL 500 4441 \nQ 881 4594 1212 4672 \nQ 1544 4750 1819 4750 \nQ 2544 4750 2975 4387 \nQ 3406 4025 3406 3419 \nQ 3406 3131 3298 2873 \nQ 3191 2616 2906 2266 \nQ 2828 2175 2409 1742 \nQ 1991 1309 1228 531 \nz\n\" transform=\"scale(0.015625)\"/>\n       </defs>\n       <use xlink:href=\"#DejaVuSans-32\"/>\n       <use xlink:href=\"#DejaVuSans-30\" x=\"63.623047\"/>\n       <use xlink:href=\"#DejaVuSans-30\" x=\"127.246094\"/>\n       <use xlink:href=\"#DejaVuSans-30\" x=\"190.869141\"/>\n       <use xlink:href=\"#DejaVuSans-30\" x=\"254.492188\"/>\n       <use xlink:href=\"#DejaVuSans-30\" x=\"318.115234\"/>\n      </g>\n     </g>\n    </g>\n    <g id=\"ytick_3\">\n     <g id=\"line2d_20\">\n      <path d=\"M 58.6925 196.798578 \nL 1174.6925 196.798578 \n\" clip-path=\"url(#p1a219d30b3)\" style=\"fill: none; stroke: #ffffff; stroke-linecap: round\"/>\n     </g>\n     <g id=\"text_21\">\n      <!-- 400000 -->\n      <g style=\"fill: #555555\" transform=\"translate(7.2 200.977719) scale(0.11 -0.11)\">\n       <defs>\n        <path id=\"DejaVuSans-34\" d=\"M 2419 4116 \nL 825 1625 \nL 2419 1625 \nL 2419 4116 \nz\nM 2253 4666 \nL 3047 4666 \nL 3047 1625 \nL 3713 1625 \nL 3713 1100 \nL 3047 1100 \nL 3047 0 \nL 2419 0 \nL 2419 1100 \nL 313 1100 \nL 313 1709 \nL 2253 4666 \nz\n\" transform=\"scale(0.015625)\"/>\n       </defs>\n       <use xlink:href=\"#DejaVuSans-34\"/>\n       <use xlink:href=\"#DejaVuSans-30\" x=\"63.623047\"/>\n       <use xlink:href=\"#DejaVuSans-30\" x=\"127.246094\"/>\n       <use xlink:href=\"#DejaVuSans-30\" x=\"190.869141\"/>\n       <use xlink:href=\"#DejaVuSans-30\" x=\"254.492188\"/>\n       <use xlink:href=\"#DejaVuSans-30\" x=\"318.115234\"/>\n      </g>\n     </g>\n    </g>\n    <g id=\"ytick_4\">\n     <g id=\"line2d_21\">\n      <path d=\"M 58.6925 131.926993 \nL 1174.6925 131.926993 \n\" clip-path=\"url(#p1a219d30b3)\" style=\"fill: none; stroke: #ffffff; stroke-linecap: round\"/>\n     </g>\n     <g id=\"text_22\">\n      <!-- 600000 -->\n      <g style=\"fill: #555555\" transform=\"translate(7.2 136.106133) scale(0.11 -0.11)\">\n       <defs>\n        <path id=\"DejaVuSans-36\" d=\"M 2113 2584 \nQ 1688 2584 1439 2293 \nQ 1191 2003 1191 1497 \nQ 1191 994 1439 701 \nQ 1688 409 2113 409 \nQ 2538 409 2786 701 \nQ 3034 994 3034 1497 \nQ 3034 2003 2786 2293 \nQ 2538 2584 2113 2584 \nz\nM 3366 4563 \nL 3366 3988 \nQ 3128 4100 2886 4159 \nQ 2644 4219 2406 4219 \nQ 1781 4219 1451 3797 \nQ 1122 3375 1075 2522 \nQ 1259 2794 1537 2939 \nQ 1816 3084 2150 3084 \nQ 2853 3084 3261 2657 \nQ 3669 2231 3669 1497 \nQ 3669 778 3244 343 \nQ 2819 -91 2113 -91 \nQ 1303 -91 875 529 \nQ 447 1150 447 2328 \nQ 447 3434 972 4092 \nQ 1497 4750 2381 4750 \nQ 2619 4750 2861 4703 \nQ 3103 4656 3366 4563 \nz\n\" transform=\"scale(0.015625)\"/>\n       </defs>\n       <use xlink:href=\"#DejaVuSans-36\"/>\n       <use xlink:href=\"#DejaVuSans-30\" x=\"63.623047\"/>\n       <use xlink:href=\"#DejaVuSans-30\" x=\"127.246094\"/>\n       <use xlink:href=\"#DejaVuSans-30\" x=\"190.869141\"/>\n       <use xlink:href=\"#DejaVuSans-30\" x=\"254.492188\"/>\n       <use xlink:href=\"#DejaVuSans-30\" x=\"318.115234\"/>\n      </g>\n     </g>\n    </g>\n    <g id=\"ytick_5\">\n     <g id=\"line2d_22\">\n      <path d=\"M 58.6925 67.055407 \nL 1174.6925 67.055407 \n\" clip-path=\"url(#p1a219d30b3)\" style=\"fill: none; stroke: #ffffff; stroke-linecap: round\"/>\n     </g>\n     <g id=\"text_23\">\n      <!-- 800000 -->\n      <g style=\"fill: #555555\" transform=\"translate(7.2 71.234547) scale(0.11 -0.11)\">\n       <defs>\n        <path id=\"DejaVuSans-38\" d=\"M 2034 2216 \nQ 1584 2216 1326 1975 \nQ 1069 1734 1069 1313 \nQ 1069 891 1326 650 \nQ 1584 409 2034 409 \nQ 2484 409 2743 651 \nQ 3003 894 3003 1313 \nQ 3003 1734 2745 1975 \nQ 2488 2216 2034 2216 \nz\nM 1403 2484 \nQ 997 2584 770 2862 \nQ 544 3141 544 3541 \nQ 544 4100 942 4425 \nQ 1341 4750 2034 4750 \nQ 2731 4750 3128 4425 \nQ 3525 4100 3525 3541 \nQ 3525 3141 3298 2862 \nQ 3072 2584 2669 2484 \nQ 3125 2378 3379 2068 \nQ 3634 1759 3634 1313 \nQ 3634 634 3220 271 \nQ 2806 -91 2034 -91 \nQ 1263 -91 848 271 \nQ 434 634 434 1313 \nQ 434 1759 690 2068 \nQ 947 2378 1403 2484 \nz\nM 1172 3481 \nQ 1172 3119 1398 2916 \nQ 1625 2713 2034 2713 \nQ 2441 2713 2670 2916 \nQ 2900 3119 2900 3481 \nQ 2900 3844 2670 4047 \nQ 2441 4250 2034 4250 \nQ 1625 4250 1398 4047 \nQ 1172 3844 1172 3481 \nz\n\" transform=\"scale(0.015625)\"/>\n       </defs>\n       <use xlink:href=\"#DejaVuSans-38\"/>\n       <use xlink:href=\"#DejaVuSans-30\" x=\"63.623047\"/>\n       <use xlink:href=\"#DejaVuSans-30\" x=\"127.246094\"/>\n       <use xlink:href=\"#DejaVuSans-30\" x=\"190.869141\"/>\n       <use xlink:href=\"#DejaVuSans-30\" x=\"254.492188\"/>\n       <use xlink:href=\"#DejaVuSans-30\" x=\"318.115234\"/>\n      </g>\n     </g>\n    </g>\n   </g>\n   <g id=\"patch_3\">\n    <path d=\"M 75.104265 326.54175 \nL 107.927794 326.54175 \nL 107.927794 38.54175 \nL 75.104265 38.54175 \nz\n\" clip-path=\"url(#p1a219d30b3)\" style=\"fill: #e24a33; stroke: #eeeeee; stroke-width: 0.5; stroke-linejoin: miter\"/>\n   </g>\n   <g id=\"patch_4\">\n    <path d=\"M 140.751324 326.54175 \nL 173.574853 326.54175 \nL 173.574853 314.33162 \nL 140.751324 314.33162 \nz\n\" clip-path=\"url(#p1a219d30b3)\" style=\"fill: #e24a33; stroke: #eeeeee; stroke-width: 0.5; stroke-linejoin: miter\"/>\n   </g>\n   <g id=\"patch_5\">\n    <path d=\"M 206.398382 326.54175 \nL 239.221912 326.54175 \nL 239.221912 319.94658 \nL 206.398382 319.94658 \nz\n\" clip-path=\"url(#p1a219d30b3)\" style=\"fill: #e24a33; stroke: #eeeeee; stroke-width: 0.5; stroke-linejoin: miter\"/>\n   </g>\n   <g id=\"patch_6\">\n    <path d=\"M 272.045441 326.54175 \nL 304.868971 326.54175 \nL 304.868971 320.008208 \nL 272.045441 320.008208 \nz\n\" clip-path=\"url(#p1a219d30b3)\" style=\"fill: #e24a33; stroke: #eeeeee; stroke-width: 0.5; stroke-linejoin: miter\"/>\n   </g>\n   <g id=\"patch_7\">\n    <path d=\"M 337.6925 326.54175 \nL 370.516029 326.54175 \nL 370.516029 320.946251 \nL 337.6925 320.946251 \nz\n\" clip-path=\"url(#p1a219d30b3)\" style=\"fill: #e24a33; stroke: #eeeeee; stroke-width: 0.5; stroke-linejoin: miter\"/>\n   </g>\n   <g id=\"patch_8\">\n    <path d=\"M 403.339559 326.54175 \nL 436.163088 326.54175 \nL 436.163088 321.030909 \nL 403.339559 321.030909 \nz\n\" clip-path=\"url(#p1a219d30b3)\" style=\"fill: #e24a33; stroke: #eeeeee; stroke-width: 0.5; stroke-linejoin: miter\"/>\n   </g>\n   <g id=\"patch_9\">\n    <path d=\"M 468.986618 326.54175 \nL 501.810147 326.54175 \nL 501.810147 321.097727 \nL 468.986618 321.097727 \nz\n\" clip-path=\"url(#p1a219d30b3)\" style=\"fill: #e24a33; stroke: #eeeeee; stroke-width: 0.5; stroke-linejoin: miter\"/>\n   </g>\n   <g id=\"patch_10\">\n    <path d=\"M 534.633676 326.54175 \nL 567.457206 326.54175 \nL 567.457206 321.39419 \nL 534.633676 321.39419 \nz\n\" clip-path=\"url(#p1a219d30b3)\" style=\"fill: #e24a33; stroke: #eeeeee; stroke-width: 0.5; stroke-linejoin: miter\"/>\n   </g>\n   <g id=\"patch_11\">\n    <path d=\"M 600.280735 326.54175 \nL 633.104265 326.54175 \nL 633.104265 324.13696 \nL 600.280735 324.13696 \nz\n\" clip-path=\"url(#p1a219d30b3)\" style=\"fill: #e24a33; stroke: #eeeeee; stroke-width: 0.5; stroke-linejoin: miter\"/>\n   </g>\n   <g id=\"patch_12\">\n    <path d=\"M 665.927794 326.54175 \nL 698.751324 326.54175 \nL 698.751324 324.424341 \nL 665.927794 324.424341 \nz\n\" clip-path=\"url(#p1a219d30b3)\" style=\"fill: #e24a33; stroke: #eeeeee; stroke-width: 0.5; stroke-linejoin: miter\"/>\n   </g>\n   <g id=\"patch_13\">\n    <path d=\"M 731.574853 326.54175 \nL 764.398382 326.54175 \nL 764.398382 326.411358 \nL 731.574853 326.411358 \nz\n\" clip-path=\"url(#p1a219d30b3)\" style=\"fill: #e24a33; stroke: #eeeeee; stroke-width: 0.5; stroke-linejoin: miter\"/>\n   </g>\n   <g id=\"patch_14\">\n    <path d=\"M 797.221912 326.54175 \nL 830.045441 326.54175 \nL 830.045441 326.441848 \nL 797.221912 326.441848 \nz\n\" clip-path=\"url(#p1a219d30b3)\" style=\"fill: #e24a33; stroke: #eeeeee; stroke-width: 0.5; stroke-linejoin: miter\"/>\n   </g>\n   <g id=\"patch_15\">\n    <path d=\"M 862.868971 326.54175 \nL 895.6925 326.54175 \nL 895.6925 326.445416 \nL 862.868971 326.445416 \nz\n\" clip-path=\"url(#p1a219d30b3)\" style=\"fill: #e24a33; stroke: #eeeeee; stroke-width: 0.5; stroke-linejoin: miter\"/>\n   </g>\n   <g id=\"patch_16\">\n    <path d=\"M 928.516029 326.54175 \nL 961.339559 326.54175 \nL 961.339559 326.459687 \nL 928.516029 326.459687 \nz\n\" clip-path=\"url(#p1a219d30b3)\" style=\"fill: #e24a33; stroke: #eeeeee; stroke-width: 0.5; stroke-linejoin: miter\"/>\n   </g>\n   <g id=\"patch_17\">\n    <path d=\"M 994.163088 326.54175 \nL 1026.986618 326.54175 \nL 1026.986618 326.476554 \nL 994.163088 326.476554 \nz\n\" clip-path=\"url(#p1a219d30b3)\" style=\"fill: #e24a33; stroke: #eeeeee; stroke-width: 0.5; stroke-linejoin: miter\"/>\n   </g>\n   <g id=\"patch_18\">\n    <path d=\"M 1059.810147 326.54175 \nL 1092.633676 326.54175 \nL 1092.633676 326.477527 \nL 1059.810147 326.477527 \nz\n\" clip-path=\"url(#p1a219d30b3)\" style=\"fill: #e24a33; stroke: #eeeeee; stroke-width: 0.5; stroke-linejoin: miter\"/>\n   </g>\n   <g id=\"patch_19\">\n    <path d=\"M 1125.457206 326.54175 \nL 1158.280735 326.54175 \nL 1158.280735 326.525208 \nL 1125.457206 326.525208 \nz\n\" clip-path=\"url(#p1a219d30b3)\" style=\"fill: #e24a33; stroke: #eeeeee; stroke-width: 0.5; stroke-linejoin: miter\"/>\n   </g>\n   <g id=\"patch_20\">\n    <path d=\"M 58.6925 326.54175 \nL 58.6925 24.14175 \n\" style=\"fill: none; stroke: #ffffff; stroke-linejoin: miter; stroke-linecap: square\"/>\n   </g>\n   <g id=\"patch_21\">\n    <path d=\"M 1174.6925 326.54175 \nL 1174.6925 24.14175 \n\" style=\"fill: none; stroke: #ffffff; stroke-linejoin: miter; stroke-linecap: square\"/>\n   </g>\n   <g id=\"patch_22\">\n    <path d=\"M 58.6925 326.54175 \nL 1174.6925 326.54175 \n\" style=\"fill: none; stroke: #ffffff; stroke-linejoin: miter; stroke-linecap: square\"/>\n   </g>\n   <g id=\"patch_23\">\n    <path d=\"M 58.6925 24.14175 \nL 1174.6925 24.14175 \n\" style=\"fill: none; stroke: #ffffff; stroke-linejoin: miter; stroke-linecap: square\"/>\n   </g>\n   <g id=\"text_24\">\n    <!-- Distribution of Tags -->\n    <g style=\"fill: #262626\" transform=\"translate(547.229375 18.14175) scale(0.144 -0.144)\">\n     <defs>\n      <path id=\"DejaVuSans-44\" d=\"M 1259 4147 \nL 1259 519 \nL 2022 519 \nQ 2988 519 3436 956 \nQ 3884 1394 3884 2338 \nQ 3884 3275 3436 3711 \nQ 2988 4147 2022 4147 \nL 1259 4147 \nz\nM 628 4666 \nL 1925 4666 \nQ 3281 4666 3915 4102 \nQ 4550 3538 4550 2338 \nQ 4550 1131 3912 565 \nQ 3275 0 1925 0 \nL 628 0 \nL 628 4666 \nz\n\" transform=\"scale(0.015625)\"/>\n      <path id=\"DejaVuSans-75\" d=\"M 544 1381 \nL 544 3500 \nL 1119 3500 \nL 1119 1403 \nQ 1119 906 1312 657 \nQ 1506 409 1894 409 \nQ 2359 409 2629 706 \nQ 2900 1003 2900 1516 \nL 2900 3500 \nL 3475 3500 \nL 3475 0 \nL 2900 0 \nL 2900 538 \nQ 2691 219 2414 64 \nQ 2138 -91 1772 -91 \nQ 1169 -91 856 284 \nQ 544 659 544 1381 \nz\nM 1991 3584 \nL 1991 3584 \nz\n\" transform=\"scale(0.015625)\"/>\n      <path id=\"DejaVuSans-20\" transform=\"scale(0.015625)\"/>\n      <path id=\"DejaVuSans-66\" d=\"M 2375 4863 \nL 2375 4384 \nL 1825 4384 \nQ 1516 4384 1395 4259 \nQ 1275 4134 1275 3809 \nL 1275 3500 \nL 2222 3500 \nL 2222 3053 \nL 1275 3053 \nL 1275 0 \nL 697 0 \nL 697 3053 \nL 147 3053 \nL 147 3500 \nL 697 3500 \nL 697 3744 \nQ 697 4328 969 4595 \nQ 1241 4863 1831 4863 \nL 2375 4863 \nz\n\" transform=\"scale(0.015625)\"/>\n      <path id=\"DejaVuSans-54\" d=\"M -19 4666 \nL 3928 4666 \nL 3928 4134 \nL 2272 4134 \nL 2272 0 \nL 1638 0 \nL 1638 4134 \nL -19 4134 \nL -19 4666 \nz\n\" transform=\"scale(0.015625)\"/>\n     </defs>\n     <use xlink:href=\"#DejaVuSans-44\"/>\n     <use xlink:href=\"#DejaVuSans-69\" x=\"77.001953\"/>\n     <use xlink:href=\"#DejaVuSans-73\" x=\"104.785156\"/>\n     <use xlink:href=\"#DejaVuSans-74\" x=\"156.884766\"/>\n     <use xlink:href=\"#DejaVuSans-72\" x=\"196.09375\"/>\n     <use xlink:href=\"#DejaVuSans-69\" x=\"237.207031\"/>\n     <use xlink:href=\"#DejaVuSans-62\" x=\"264.990234\"/>\n     <use xlink:href=\"#DejaVuSans-75\" x=\"328.466797\"/>\n     <use xlink:href=\"#DejaVuSans-74\" x=\"391.845703\"/>\n     <use xlink:href=\"#DejaVuSans-69\" x=\"431.054688\"/>\n     <use xlink:href=\"#DejaVuSans-6f\" x=\"458.837891\"/>\n     <use xlink:href=\"#DejaVuSans-6e\" x=\"520.019531\"/>\n     <use xlink:href=\"#DejaVuSans-20\" x=\"583.398438\"/>\n     <use xlink:href=\"#DejaVuSans-6f\" x=\"615.185547\"/>\n     <use xlink:href=\"#DejaVuSans-66\" x=\"676.367188\"/>\n     <use xlink:href=\"#DejaVuSans-20\" x=\"711.572266\"/>\n     <use xlink:href=\"#DejaVuSans-54\" x=\"743.359375\"/>\n     <use xlink:href=\"#DejaVuSans-61\" x=\"787.943359\"/>\n     <use xlink:href=\"#DejaVuSans-67\" x=\"849.222656\"/>\n     <use xlink:href=\"#DejaVuSans-73\" x=\"912.699219\"/>\n    </g>\n   </g>\n  </g>\n  <g id=\"axes_2\">\n   <g id=\"patch_24\">\n    <path d=\"M 58.6925 689.42175 \nL 1174.6925 689.42175 \nL 1174.6925 387.02175 \nL 58.6925 387.02175 \nz\n\" style=\"fill: #e5e5e5\"/>\n   </g>\n   <g id=\"matplotlib.axis_3\">\n    <g id=\"xtick_18\">\n     <g id=\"line2d_23\">\n      <path d=\"M 93.5675 689.42175 \nL 93.5675 387.02175 \n\" clip-path=\"url(#p5d5dcf6bdd)\" style=\"fill: none; stroke: #ffffff; stroke-linecap: round\"/>\n     </g>\n     <g id=\"text_25\">\n      <!-- B-geo -->\n      <g style=\"fill: #555555\" transform=\"translate(96.602813 730.919719) rotate(-90) scale(0.11 -0.11)\">\n       <use xlink:href=\"#DejaVuSans-42\"/>\n       <use xlink:href=\"#DejaVuSans-2d\" x=\"68.603516\"/>\n       <use xlink:href=\"#DejaVuSans-67\" x=\"104.6875\"/>\n       <use xlink:href=\"#DejaVuSans-65\" x=\"168.164062\"/>\n       <use xlink:href=\"#DejaVuSans-6f\" x=\"229.6875\"/>\n      </g>\n     </g>\n    </g>\n    <g id=\"xtick_19\">\n     <g id=\"line2d_24\">\n      <path d=\"M 163.3175 689.42175 \nL 163.3175 387.02175 \n\" clip-path=\"url(#p5d5dcf6bdd)\" style=\"fill: none; stroke: #ffffff; stroke-linecap: round\"/>\n     </g>\n     <g id=\"text_26\">\n      <!-- B-tim -->\n      <g style=\"fill: #555555\" transform=\"translate(166.352813 728.520344) rotate(-90) scale(0.11 -0.11)\">\n       <use xlink:href=\"#DejaVuSans-42\"/>\n       <use xlink:href=\"#DejaVuSans-2d\" x=\"68.603516\"/>\n       <use xlink:href=\"#DejaVuSans-74\" x=\"104.6875\"/>\n       <use xlink:href=\"#DejaVuSans-69\" x=\"143.896484\"/>\n       <use xlink:href=\"#DejaVuSans-6d\" x=\"171.679688\"/>\n      </g>\n     </g>\n    </g>\n    <g id=\"xtick_20\">\n     <g id=\"line2d_25\">\n      <path d=\"M 233.0675 689.42175 \nL 233.0675 387.02175 \n\" clip-path=\"url(#p5d5dcf6bdd)\" style=\"fill: none; stroke: #ffffff; stroke-linecap: round\"/>\n     </g>\n     <g id=\"text_27\">\n      <!-- B-org -->\n      <g style=\"fill: #555555\" transform=\"translate(236.102813 728.687062) rotate(-90) scale(0.11 -0.11)\">\n       <use xlink:href=\"#DejaVuSans-42\"/>\n       <use xlink:href=\"#DejaVuSans-2d\" x=\"68.603516\"/>\n       <use xlink:href=\"#DejaVuSans-6f\" x=\"106.5625\"/>\n       <use xlink:href=\"#DejaVuSans-72\" x=\"167.744141\"/>\n       <use xlink:href=\"#DejaVuSans-67\" x=\"207.107422\"/>\n      </g>\n     </g>\n    </g>\n    <g id=\"xtick_21\">\n     <g id=\"line2d_26\">\n      <path d=\"M 302.8175 689.42175 \nL 302.8175 387.02175 \n\" clip-path=\"url(#p5d5dcf6bdd)\" style=\"fill: none; stroke: #ffffff; stroke-linecap: round\"/>\n     </g>\n     <g id=\"text_28\">\n      <!-- I-per -->\n      <g style=\"fill: #555555\" transform=\"translate(305.852812 724.409094) rotate(-90) scale(0.11 -0.11)\">\n       <use xlink:href=\"#DejaVuSans-49\"/>\n       <use xlink:href=\"#DejaVuSans-2d\" x=\"29.492188\"/>\n       <use xlink:href=\"#DejaVuSans-70\" x=\"65.576172\"/>\n       <use xlink:href=\"#DejaVuSans-65\" x=\"129.052734\"/>\n       <use xlink:href=\"#DejaVuSans-72\" x=\"190.576172\"/>\n      </g>\n     </g>\n    </g>\n    <g id=\"xtick_22\">\n     <g id=\"line2d_27\">\n      <path d=\"M 372.5675 689.42175 \nL 372.5675 387.02175 \n\" clip-path=\"url(#p5d5dcf6bdd)\" style=\"fill: none; stroke: #ffffff; stroke-linecap: round\"/>\n     </g>\n     <g id=\"text_29\">\n      <!-- B-per -->\n      <g style=\"fill: #555555\" transform=\"translate(375.602812 728.711125) rotate(-90) scale(0.11 -0.11)\">\n       <use xlink:href=\"#DejaVuSans-42\"/>\n       <use xlink:href=\"#DejaVuSans-2d\" x=\"68.603516\"/>\n       <use xlink:href=\"#DejaVuSans-70\" x=\"104.6875\"/>\n       <use xlink:href=\"#DejaVuSans-65\" x=\"168.164062\"/>\n       <use xlink:href=\"#DejaVuSans-72\" x=\"229.6875\"/>\n      </g>\n     </g>\n    </g>\n    <g id=\"xtick_23\">\n     <g id=\"line2d_28\">\n      <path d=\"M 442.3175 689.42175 \nL 442.3175 387.02175 \n\" clip-path=\"url(#p5d5dcf6bdd)\" style=\"fill: none; stroke: #ffffff; stroke-linecap: round\"/>\n     </g>\n     <g id=\"text_30\">\n      <!-- I-org -->\n      <g style=\"fill: #555555\" transform=\"translate(445.352812 724.385031) rotate(-90) scale(0.11 -0.11)\">\n       <use xlink:href=\"#DejaVuSans-49\"/>\n       <use xlink:href=\"#DejaVuSans-2d\" x=\"29.492188\"/>\n       <use xlink:href=\"#DejaVuSans-6f\" x=\"67.451172\"/>\n       <use xlink:href=\"#DejaVuSans-72\" x=\"128.632812\"/>\n       <use xlink:href=\"#DejaVuSans-67\" x=\"167.996094\"/>\n      </g>\n     </g>\n    </g>\n    <g id=\"xtick_24\">\n     <g id=\"line2d_29\">\n      <path d=\"M 512.0675 689.42175 \nL 512.0675 387.02175 \n\" clip-path=\"url(#p5d5dcf6bdd)\" style=\"fill: none; stroke: #ffffff; stroke-linecap: round\"/>\n     </g>\n     <g id=\"text_31\">\n      <!-- B-gpe -->\n      <g style=\"fill: #555555\" transform=\"translate(515.102813 731.172375) rotate(-90) scale(0.11 -0.11)\">\n       <use xlink:href=\"#DejaVuSans-42\"/>\n       <use xlink:href=\"#DejaVuSans-2d\" x=\"68.603516\"/>\n       <use xlink:href=\"#DejaVuSans-67\" x=\"104.6875\"/>\n       <use xlink:href=\"#DejaVuSans-70\" x=\"168.164062\"/>\n       <use xlink:href=\"#DejaVuSans-65\" x=\"231.640625\"/>\n      </g>\n     </g>\n    </g>\n    <g id=\"xtick_25\">\n     <g id=\"line2d_30\">\n      <path d=\"M 581.8175 689.42175 \nL 581.8175 387.02175 \n\" clip-path=\"url(#p5d5dcf6bdd)\" style=\"fill: none; stroke: #ffffff; stroke-linecap: round\"/>\n     </g>\n     <g id=\"text_32\">\n      <!-- I-geo -->\n      <g style=\"fill: #555555\" transform=\"translate(584.852813 726.617687) rotate(-90) scale(0.11 -0.11)\">\n       <use xlink:href=\"#DejaVuSans-49\"/>\n       <use xlink:href=\"#DejaVuSans-2d\" x=\"29.492188\"/>\n       <use xlink:href=\"#DejaVuSans-67\" x=\"65.576172\"/>\n       <use xlink:href=\"#DejaVuSans-65\" x=\"129.052734\"/>\n       <use xlink:href=\"#DejaVuSans-6f\" x=\"190.576172\"/>\n      </g>\n     </g>\n    </g>\n    <g id=\"xtick_26\">\n     <g id=\"line2d_31\">\n      <path d=\"M 651.5675 689.42175 \nL 651.5675 387.02175 \n\" clip-path=\"url(#p5d5dcf6bdd)\" style=\"fill: none; stroke: #ffffff; stroke-linecap: round\"/>\n     </g>\n     <g id=\"text_33\">\n      <!-- I-tim -->\n      <g style=\"fill: #555555\" transform=\"translate(654.602813 724.218312) rotate(-90) scale(0.11 -0.11)\">\n       <use xlink:href=\"#DejaVuSans-49\"/>\n       <use xlink:href=\"#DejaVuSans-2d\" x=\"29.492188\"/>\n       <use xlink:href=\"#DejaVuSans-74\" x=\"65.576172\"/>\n       <use xlink:href=\"#DejaVuSans-69\" x=\"104.785156\"/>\n       <use xlink:href=\"#DejaVuSans-6d\" x=\"132.568359\"/>\n      </g>\n     </g>\n    </g>\n    <g id=\"xtick_27\">\n     <g id=\"line2d_32\">\n      <path d=\"M 721.3175 689.42175 \nL 721.3175 387.02175 \n\" clip-path=\"url(#p5d5dcf6bdd)\" style=\"fill: none; stroke: #ffffff; stroke-linecap: round\"/>\n     </g>\n     <g id=\"text_34\">\n      <!-- B-art -->\n      <g style=\"fill: #555555\" transform=\"translate(724.352813 726.012687) rotate(-90) scale(0.11 -0.11)\">\n       <use xlink:href=\"#DejaVuSans-42\"/>\n       <use xlink:href=\"#DejaVuSans-2d\" x=\"68.603516\"/>\n       <use xlink:href=\"#DejaVuSans-61\" x=\"104.6875\"/>\n       <use xlink:href=\"#DejaVuSans-72\" x=\"165.966797\"/>\n       <use xlink:href=\"#DejaVuSans-74\" x=\"207.080078\"/>\n      </g>\n     </g>\n    </g>\n    <g id=\"xtick_28\">\n     <g id=\"line2d_33\">\n      <path d=\"M 791.0675 689.42175 \nL 791.0675 387.02175 \n\" clip-path=\"url(#p5d5dcf6bdd)\" style=\"fill: none; stroke: #ffffff; stroke-linecap: round\"/>\n     </g>\n     <g id=\"text_35\">\n      <!-- B-eve -->\n      <g style=\"fill: #555555\" transform=\"translate(794.102813 730.484875) rotate(-90) scale(0.11 -0.11)\">\n       <use xlink:href=\"#DejaVuSans-42\"/>\n       <use xlink:href=\"#DejaVuSans-2d\" x=\"68.603516\"/>\n       <use xlink:href=\"#DejaVuSans-65\" x=\"104.6875\"/>\n       <use xlink:href=\"#DejaVuSans-76\" x=\"166.210938\"/>\n       <use xlink:href=\"#DejaVuSans-65\" x=\"225.390625\"/>\n      </g>\n     </g>\n    </g>\n    <g id=\"xtick_29\">\n     <g id=\"line2d_34\">\n      <path d=\"M 860.8175 689.42175 \nL 860.8175 387.02175 \n\" clip-path=\"url(#p5d5dcf6bdd)\" style=\"fill: none; stroke: #ffffff; stroke-linecap: round\"/>\n     </g>\n     <g id=\"text_36\">\n      <!-- I-art -->\n      <g style=\"fill: #555555\" transform=\"translate(863.852813 721.710656) rotate(-90) scale(0.11 -0.11)\">\n       <use xlink:href=\"#DejaVuSans-49\"/>\n       <use xlink:href=\"#DejaVuSans-2d\" x=\"29.492188\"/>\n       <use xlink:href=\"#DejaVuSans-61\" x=\"65.576172\"/>\n       <use xlink:href=\"#DejaVuSans-72\" x=\"126.855469\"/>\n       <use xlink:href=\"#DejaVuSans-74\" x=\"167.96875\"/>\n      </g>\n     </g>\n    </g>\n    <g id=\"xtick_30\">\n     <g id=\"line2d_35\">\n      <path d=\"M 930.5675 689.42175 \nL 930.5675 387.02175 \n\" clip-path=\"url(#p5d5dcf6bdd)\" style=\"fill: none; stroke: #ffffff; stroke-linecap: round\"/>\n     </g>\n     <g id=\"text_37\">\n      <!-- I-eve -->\n      <g style=\"fill: #555555\" transform=\"translate(933.602813 726.182844) rotate(-90) scale(0.11 -0.11)\">\n       <use xlink:href=\"#DejaVuSans-49\"/>\n       <use xlink:href=\"#DejaVuSans-2d\" x=\"29.492188\"/>\n       <use xlink:href=\"#DejaVuSans-65\" x=\"65.576172\"/>\n       <use xlink:href=\"#DejaVuSans-76\" x=\"127.099609\"/>\n       <use xlink:href=\"#DejaVuSans-65\" x=\"186.279297\"/>\n      </g>\n     </g>\n    </g>\n    <g id=\"xtick_31\">\n     <g id=\"line2d_36\">\n      <path d=\"M 1000.3175 689.42175 \nL 1000.3175 387.02175 \n\" clip-path=\"url(#p5d5dcf6bdd)\" style=\"fill: none; stroke: #ffffff; stroke-linecap: round\"/>\n     </g>\n     <g id=\"text_38\">\n      <!-- B-nat -->\n      <g style=\"fill: #555555\" transform=\"translate(1003.352813 728.461906) rotate(-90) scale(0.11 -0.11)\">\n       <use xlink:href=\"#DejaVuSans-42\"/>\n       <use xlink:href=\"#DejaVuSans-2d\" x=\"68.603516\"/>\n       <use xlink:href=\"#DejaVuSans-6e\" x=\"104.6875\"/>\n       <use xlink:href=\"#DejaVuSans-61\" x=\"168.066406\"/>\n       <use xlink:href=\"#DejaVuSans-74\" x=\"229.345703\"/>\n      </g>\n     </g>\n    </g>\n    <g id=\"xtick_32\">\n     <g id=\"line2d_37\">\n      <path d=\"M 1070.0675 689.42175 \nL 1070.0675 387.02175 \n\" clip-path=\"url(#p5d5dcf6bdd)\" style=\"fill: none; stroke: #ffffff; stroke-linecap: round\"/>\n     </g>\n     <g id=\"text_39\">\n      <!-- I-gpe -->\n      <g style=\"fill: #555555\" transform=\"translate(1073.102813 726.870344) rotate(-90) scale(0.11 -0.11)\">\n       <use xlink:href=\"#DejaVuSans-49\"/>\n       <use xlink:href=\"#DejaVuSans-2d\" x=\"29.492188\"/>\n       <use xlink:href=\"#DejaVuSans-67\" x=\"65.576172\"/>\n       <use xlink:href=\"#DejaVuSans-70\" x=\"129.052734\"/>\n       <use xlink:href=\"#DejaVuSans-65\" x=\"192.529297\"/>\n      </g>\n     </g>\n    </g>\n    <g id=\"xtick_33\">\n     <g id=\"line2d_38\">\n      <path d=\"M 1139.8175 689.42175 \nL 1139.8175 387.02175 \n\" clip-path=\"url(#p5d5dcf6bdd)\" style=\"fill: none; stroke: #ffffff; stroke-linecap: round\"/>\n     </g>\n     <g id=\"text_40\">\n      <!-- I-nat -->\n      <g style=\"fill: #555555\" transform=\"translate(1142.852813 724.159875) rotate(-90) scale(0.11 -0.11)\">\n       <use xlink:href=\"#DejaVuSans-49\"/>\n       <use xlink:href=\"#DejaVuSans-2d\" x=\"29.492188\"/>\n       <use xlink:href=\"#DejaVuSans-6e\" x=\"65.576172\"/>\n       <use xlink:href=\"#DejaVuSans-61\" x=\"128.955078\"/>\n       <use xlink:href=\"#DejaVuSans-74\" x=\"190.234375\"/>\n      </g>\n     </g>\n    </g>\n    <g id=\"text_41\">\n     <!-- labels -->\n     <g style=\"fill: #555555\" transform=\"translate(599.055313 744.2905) scale(0.12 -0.12)\">\n      <use xlink:href=\"#DejaVuSans-6c\"/>\n      <use xlink:href=\"#DejaVuSans-61\" x=\"27.783203\"/>\n      <use xlink:href=\"#DejaVuSans-62\" x=\"89.0625\"/>\n      <use xlink:href=\"#DejaVuSans-65\" x=\"152.539062\"/>\n      <use xlink:href=\"#DejaVuSans-6c\" x=\"214.0625\"/>\n      <use xlink:href=\"#DejaVuSans-73\" x=\"241.845703\"/>\n     </g>\n    </g>\n   </g>\n   <g id=\"matplotlib.axis_4\">\n    <g id=\"ytick_6\">\n     <g id=\"line2d_39\">\n      <path d=\"M 58.6925 689.42175 \nL 1174.6925 689.42175 \n\" clip-path=\"url(#p5d5dcf6bdd)\" style=\"fill: none; stroke: #ffffff; stroke-linecap: round\"/>\n     </g>\n     <g id=\"text_42\">\n      <!-- 0 -->\n      <g style=\"fill: #555555\" transform=\"translate(42.19375 693.600891) scale(0.11 -0.11)\">\n       <use xlink:href=\"#DejaVuSans-30\"/>\n      </g>\n     </g>\n    </g>\n    <g id=\"ytick_7\">\n     <g id=\"line2d_40\">\n      <path d=\"M 58.6925 651.168642 \nL 1174.6925 651.168642 \n\" clip-path=\"url(#p5d5dcf6bdd)\" style=\"fill: none; stroke: #ffffff; stroke-linecap: round\"/>\n     </g>\n     <g id=\"text_43\">\n      <!-- 5000 -->\n      <g style=\"fill: #555555\" transform=\"translate(21.1975 655.347783) scale(0.11 -0.11)\">\n       <defs>\n        <path id=\"DejaVuSans-35\" d=\"M 691 4666 \nL 3169 4666 \nL 3169 4134 \nL 1269 4134 \nL 1269 2991 \nQ 1406 3038 1543 3061 \nQ 1681 3084 1819 3084 \nQ 2600 3084 3056 2656 \nQ 3513 2228 3513 1497 \nQ 3513 744 3044 326 \nQ 2575 -91 1722 -91 \nQ 1428 -91 1123 -41 \nQ 819 9 494 109 \nL 494 744 \nQ 775 591 1075 516 \nQ 1375 441 1709 441 \nQ 2250 441 2565 725 \nQ 2881 1009 2881 1497 \nQ 2881 1984 2565 2268 \nQ 2250 2553 1709 2553 \nQ 1456 2553 1204 2497 \nQ 953 2441 691 2322 \nL 691 4666 \nz\n\" transform=\"scale(0.015625)\"/>\n       </defs>\n       <use xlink:href=\"#DejaVuSans-35\"/>\n       <use xlink:href=\"#DejaVuSans-30\" x=\"63.623047\"/>\n       <use xlink:href=\"#DejaVuSans-30\" x=\"127.246094\"/>\n       <use xlink:href=\"#DejaVuSans-30\" x=\"190.869141\"/>\n      </g>\n     </g>\n    </g>\n    <g id=\"ytick_8\">\n     <g id=\"line2d_41\">\n      <path d=\"M 58.6925 612.915534 \nL 1174.6925 612.915534 \n\" clip-path=\"url(#p5d5dcf6bdd)\" style=\"fill: none; stroke: #ffffff; stroke-linecap: round\"/>\n     </g>\n     <g id=\"text_44\">\n      <!-- 10000 -->\n      <g style=\"fill: #555555\" transform=\"translate(14.19875 617.094674) scale(0.11 -0.11)\">\n       <defs>\n        <path id=\"DejaVuSans-31\" d=\"M 794 531 \nL 1825 531 \nL 1825 4091 \nL 703 3866 \nL 703 4441 \nL 1819 4666 \nL 2450 4666 \nL 2450 531 \nL 3481 531 \nL 3481 0 \nL 794 0 \nL 794 531 \nz\n\" transform=\"scale(0.015625)\"/>\n       </defs>\n       <use xlink:href=\"#DejaVuSans-31\"/>\n       <use xlink:href=\"#DejaVuSans-30\" x=\"63.623047\"/>\n       <use xlink:href=\"#DejaVuSans-30\" x=\"127.246094\"/>\n       <use xlink:href=\"#DejaVuSans-30\" x=\"190.869141\"/>\n       <use xlink:href=\"#DejaVuSans-30\" x=\"254.492188\"/>\n      </g>\n     </g>\n    </g>\n    <g id=\"ytick_9\">\n     <g id=\"line2d_42\">\n      <path d=\"M 58.6925 574.662426 \nL 1174.6925 574.662426 \n\" clip-path=\"url(#p5d5dcf6bdd)\" style=\"fill: none; stroke: #ffffff; stroke-linecap: round\"/>\n     </g>\n     <g id=\"text_45\">\n      <!-- 15000 -->\n      <g style=\"fill: #555555\" transform=\"translate(14.19875 578.841566) scale(0.11 -0.11)\">\n       <use xlink:href=\"#DejaVuSans-31\"/>\n       <use xlink:href=\"#DejaVuSans-35\" x=\"63.623047\"/>\n       <use xlink:href=\"#DejaVuSans-30\" x=\"127.246094\"/>\n       <use xlink:href=\"#DejaVuSans-30\" x=\"190.869141\"/>\n       <use xlink:href=\"#DejaVuSans-30\" x=\"254.492188\"/>\n      </g>\n     </g>\n    </g>\n    <g id=\"ytick_10\">\n     <g id=\"line2d_43\">\n      <path d=\"M 58.6925 536.409318 \nL 1174.6925 536.409318 \n\" clip-path=\"url(#p5d5dcf6bdd)\" style=\"fill: none; stroke: #ffffff; stroke-linecap: round\"/>\n     </g>\n     <g id=\"text_46\">\n      <!-- 20000 -->\n      <g style=\"fill: #555555\" transform=\"translate(14.19875 540.588458) scale(0.11 -0.11)\">\n       <use xlink:href=\"#DejaVuSans-32\"/>\n       <use xlink:href=\"#DejaVuSans-30\" x=\"63.623047\"/>\n       <use xlink:href=\"#DejaVuSans-30\" x=\"127.246094\"/>\n       <use xlink:href=\"#DejaVuSans-30\" x=\"190.869141\"/>\n       <use xlink:href=\"#DejaVuSans-30\" x=\"254.492188\"/>\n      </g>\n     </g>\n    </g>\n    <g id=\"ytick_11\">\n     <g id=\"line2d_44\">\n      <path d=\"M 58.6925 498.15621 \nL 1174.6925 498.15621 \n\" clip-path=\"url(#p5d5dcf6bdd)\" style=\"fill: none; stroke: #ffffff; stroke-linecap: round\"/>\n     </g>\n     <g id=\"text_47\">\n      <!-- 25000 -->\n      <g style=\"fill: #555555\" transform=\"translate(14.19875 502.33535) scale(0.11 -0.11)\">\n       <use xlink:href=\"#DejaVuSans-32\"/>\n       <use xlink:href=\"#DejaVuSans-35\" x=\"63.623047\"/>\n       <use xlink:href=\"#DejaVuSans-30\" x=\"127.246094\"/>\n       <use xlink:href=\"#DejaVuSans-30\" x=\"190.869141\"/>\n       <use xlink:href=\"#DejaVuSans-30\" x=\"254.492188\"/>\n      </g>\n     </g>\n    </g>\n    <g id=\"ytick_12\">\n     <g id=\"line2d_45\">\n      <path d=\"M 58.6925 459.903102 \nL 1174.6925 459.903102 \n\" clip-path=\"url(#p5d5dcf6bdd)\" style=\"fill: none; stroke: #ffffff; stroke-linecap: round\"/>\n     </g>\n     <g id=\"text_48\">\n      <!-- 30000 -->\n      <g style=\"fill: #555555\" transform=\"translate(14.19875 464.082242) scale(0.11 -0.11)\">\n       <defs>\n        <path id=\"DejaVuSans-33\" d=\"M 2597 2516 \nQ 3050 2419 3304 2112 \nQ 3559 1806 3559 1356 \nQ 3559 666 3084 287 \nQ 2609 -91 1734 -91 \nQ 1441 -91 1130 -33 \nQ 819 25 488 141 \nL 488 750 \nQ 750 597 1062 519 \nQ 1375 441 1716 441 \nQ 2309 441 2620 675 \nQ 2931 909 2931 1356 \nQ 2931 1769 2642 2001 \nQ 2353 2234 1838 2234 \nL 1294 2234 \nL 1294 2753 \nL 1863 2753 \nQ 2328 2753 2575 2939 \nQ 2822 3125 2822 3475 \nQ 2822 3834 2567 4026 \nQ 2313 4219 1838 4219 \nQ 1578 4219 1281 4162 \nQ 984 4106 628 3988 \nL 628 4550 \nQ 988 4650 1302 4700 \nQ 1616 4750 1894 4750 \nQ 2613 4750 3031 4423 \nQ 3450 4097 3450 3541 \nQ 3450 3153 3228 2886 \nQ 3006 2619 2597 2516 \nz\n\" transform=\"scale(0.015625)\"/>\n       </defs>\n       <use xlink:href=\"#DejaVuSans-33\"/>\n       <use xlink:href=\"#DejaVuSans-30\" x=\"63.623047\"/>\n       <use xlink:href=\"#DejaVuSans-30\" x=\"127.246094\"/>\n       <use xlink:href=\"#DejaVuSans-30\" x=\"190.869141\"/>\n       <use xlink:href=\"#DejaVuSans-30\" x=\"254.492188\"/>\n      </g>\n     </g>\n    </g>\n    <g id=\"ytick_13\">\n     <g id=\"line2d_46\">\n      <path d=\"M 58.6925 421.649994 \nL 1174.6925 421.649994 \n\" clip-path=\"url(#p5d5dcf6bdd)\" style=\"fill: none; stroke: #ffffff; stroke-linecap: round\"/>\n     </g>\n     <g id=\"text_49\">\n      <!-- 35000 -->\n      <g style=\"fill: #555555\" transform=\"translate(14.19875 425.829134) scale(0.11 -0.11)\">\n       <use xlink:href=\"#DejaVuSans-33\"/>\n       <use xlink:href=\"#DejaVuSans-35\" x=\"63.623047\"/>\n       <use xlink:href=\"#DejaVuSans-30\" x=\"127.246094\"/>\n       <use xlink:href=\"#DejaVuSans-30\" x=\"190.869141\"/>\n       <use xlink:href=\"#DejaVuSans-30\" x=\"254.492188\"/>\n      </g>\n     </g>\n    </g>\n   </g>\n   <g id=\"patch_25\">\n    <path d=\"M 76.13 689.42175 \nL 111.005 689.42175 \nL 111.005 401.42175 \nL 76.13 401.42175 \nz\n\" clip-path=\"url(#p5d5dcf6bdd)\" style=\"fill: #e24a33; stroke: #eeeeee; stroke-width: 0.5; stroke-linejoin: miter\"/>\n   </g>\n   <g id=\"patch_26\">\n    <path d=\"M 145.88 689.42175 \nL 180.755 689.42175 \nL 180.755 533.861661 \nL 145.88 533.861661 \nz\n\" clip-path=\"url(#p5d5dcf6bdd)\" style=\"fill: #e24a33; stroke: #eeeeee; stroke-width: 0.5; stroke-linejoin: miter\"/>\n   </g>\n   <g id=\"patch_27\">\n    <path d=\"M 215.63 689.42175 \nL 250.505 689.42175 \nL 250.505 535.315279 \nL 215.63 535.315279 \nz\n\" clip-path=\"url(#p5d5dcf6bdd)\" style=\"fill: #e24a33; stroke: #eeeeee; stroke-width: 0.5; stroke-linejoin: miter\"/>\n   </g>\n   <g id=\"patch_28\">\n    <path d=\"M 285.38 689.42175 \nL 320.255 689.42175 \nL 320.255 557.440877 \nL 285.38 557.440877 \nz\n\" clip-path=\"url(#p5d5dcf6bdd)\" style=\"fill: #e24a33; stroke: #eeeeee; stroke-width: 0.5; stroke-linejoin: miter\"/>\n   </g>\n   <g id=\"patch_29\">\n    <path d=\"M 355.13 689.42175 \nL 390.005 689.42175 \nL 390.005 559.437689 \nL 355.13 559.437689 \nz\n\" clip-path=\"url(#p5d5dcf6bdd)\" style=\"fill: #e24a33; stroke: #eeeeee; stroke-width: 0.5; stroke-linejoin: miter\"/>\n   </g>\n   <g id=\"patch_30\">\n    <path d=\"M 424.88 689.42175 \nL 459.755 689.42175 \nL 459.755 561.013717 \nL 424.88 561.013717 \nz\n\" clip-path=\"url(#p5d5dcf6bdd)\" style=\"fill: #e24a33; stroke: #eeeeee; stroke-width: 0.5; stroke-linejoin: miter\"/>\n   </g>\n   <g id=\"patch_31\">\n    <path d=\"M 494.63 689.42175 \nL 529.505 689.42175 \nL 529.505 568.006385 \nL 494.63 568.006385 \nz\n\" clip-path=\"url(#p5d5dcf6bdd)\" style=\"fill: #e24a33; stroke: #eeeeee; stroke-width: 0.5; stroke-linejoin: miter\"/>\n   </g>\n   <g id=\"patch_32\">\n    <path d=\"M 564.38 689.42175 \nL 599.255 689.42175 \nL 599.255 632.700041 \nL 564.38 632.700041 \nz\n\" clip-path=\"url(#p5d5dcf6bdd)\" style=\"fill: #e24a33; stroke: #eeeeee; stroke-width: 0.5; stroke-linejoin: miter\"/>\n   </g>\n   <g id=\"patch_33\">\n    <path d=\"M 634.13 689.42175 \nL 669.005 689.42175 \nL 669.005 639.478492 \nL 634.13 639.478492 \nz\n\" clip-path=\"url(#p5d5dcf6bdd)\" style=\"fill: #e24a33; stroke: #eeeeee; stroke-width: 0.5; stroke-linejoin: miter\"/>\n   </g>\n   <g id=\"patch_34\">\n    <path d=\"M 703.88 689.42175 \nL 738.755 689.42175 \nL 738.755 686.3462 \nL 703.88 686.3462 \nz\n\" clip-path=\"url(#p5d5dcf6bdd)\" style=\"fill: #e24a33; stroke: #eeeeee; stroke-width: 0.5; stroke-linejoin: miter\"/>\n   </g>\n   <g id=\"patch_35\">\n    <path d=\"M 773.63 689.42175 \nL 808.505 689.42175 \nL 808.505 687.065359 \nL 773.63 687.065359 \nz\n\" clip-path=\"url(#p5d5dcf6bdd)\" style=\"fill: #e24a33; stroke: #eeeeee; stroke-width: 0.5; stroke-linejoin: miter\"/>\n   </g>\n   <g id=\"patch_36\">\n    <path d=\"M 843.38 689.42175 \nL 878.255 689.42175 \nL 878.255 687.149515 \nL 843.38 687.149515 \nz\n\" clip-path=\"url(#p5d5dcf6bdd)\" style=\"fill: #e24a33; stroke: #eeeeee; stroke-width: 0.5; stroke-linejoin: miter\"/>\n   </g>\n   <g id=\"patch_37\">\n    <path d=\"M 913.13 689.42175 \nL 948.005 689.42175 \nL 948.005 687.486143 \nL 913.13 687.486143 \nz\n\" clip-path=\"url(#p5d5dcf6bdd)\" style=\"fill: #e24a33; stroke: #eeeeee; stroke-width: 0.5; stroke-linejoin: miter\"/>\n   </g>\n   <g id=\"patch_38\">\n    <path d=\"M 982.88 689.42175 \nL 1017.755 689.42175 \nL 1017.755 687.883975 \nL 982.88 687.883975 \nz\n\" clip-path=\"url(#p5d5dcf6bdd)\" style=\"fill: #e24a33; stroke: #eeeeee; stroke-width: 0.5; stroke-linejoin: miter\"/>\n   </g>\n   <g id=\"patch_39\">\n    <path d=\"M 1052.63 689.42175 \nL 1087.505 689.42175 \nL 1087.505 687.906927 \nL 1052.63 687.906927 \nz\n\" clip-path=\"url(#p5d5dcf6bdd)\" style=\"fill: #e24a33; stroke: #eeeeee; stroke-width: 0.5; stroke-linejoin: miter\"/>\n   </g>\n   <g id=\"patch_40\">\n    <path d=\"M 1122.38 689.42175 \nL 1157.255 689.42175 \nL 1157.255 689.031568 \nL 1122.38 689.031568 \nz\n\" clip-path=\"url(#p5d5dcf6bdd)\" style=\"fill: #e24a33; stroke: #eeeeee; stroke-width: 0.5; stroke-linejoin: miter\"/>\n   </g>\n   <g id=\"patch_41\">\n    <path d=\"M 58.6925 689.42175 \nL 58.6925 387.02175 \n\" style=\"fill: none; stroke: #ffffff; stroke-linejoin: miter; stroke-linecap: square\"/>\n   </g>\n   <g id=\"patch_42\">\n    <path d=\"M 1174.6925 689.42175 \nL 1174.6925 387.02175 \n\" style=\"fill: none; stroke: #ffffff; stroke-linejoin: miter; stroke-linecap: square\"/>\n   </g>\n   <g id=\"patch_43\">\n    <path d=\"M 58.6925 689.42175 \nL 1174.6925 689.42175 \n\" style=\"fill: none; stroke: #ffffff; stroke-linejoin: miter; stroke-linecap: square\"/>\n   </g>\n   <g id=\"patch_44\">\n    <path d=\"M 58.6925 387.02175 \nL 1174.6925 387.02175 \n\" style=\"fill: none; stroke: #ffffff; stroke-linejoin: miter; stroke-linecap: square\"/>\n   </g>\n   <g id=\"text_50\">\n    <!-- Distribution of non-O Tags -->\n    <g style=\"fill: #262626\" transform=\"translate(522.94625 381.02175) scale(0.144 -0.144)\">\n     <use xlink:href=\"#DejaVuSans-44\"/>\n     <use xlink:href=\"#DejaVuSans-69\" x=\"77.001953\"/>\n     <use xlink:href=\"#DejaVuSans-73\" x=\"104.785156\"/>\n     <use xlink:href=\"#DejaVuSans-74\" x=\"156.884766\"/>\n     <use xlink:href=\"#DejaVuSans-72\" x=\"196.09375\"/>\n     <use xlink:href=\"#DejaVuSans-69\" x=\"237.207031\"/>\n     <use xlink:href=\"#DejaVuSans-62\" x=\"264.990234\"/>\n     <use xlink:href=\"#DejaVuSans-75\" x=\"328.466797\"/>\n     <use xlink:href=\"#DejaVuSans-74\" x=\"391.845703\"/>\n     <use xlink:href=\"#DejaVuSans-69\" x=\"431.054688\"/>\n     <use xlink:href=\"#DejaVuSans-6f\" x=\"458.837891\"/>\n     <use xlink:href=\"#DejaVuSans-6e\" x=\"520.019531\"/>\n     <use xlink:href=\"#DejaVuSans-20\" x=\"583.398438\"/>\n     <use xlink:href=\"#DejaVuSans-6f\" x=\"615.185547\"/>\n     <use xlink:href=\"#DejaVuSans-66\" x=\"676.367188\"/>\n     <use xlink:href=\"#DejaVuSans-20\" x=\"711.572266\"/>\n     <use xlink:href=\"#DejaVuSans-6e\" x=\"743.359375\"/>\n     <use xlink:href=\"#DejaVuSans-6f\" x=\"806.738281\"/>\n     <use xlink:href=\"#DejaVuSans-6e\" x=\"867.919922\"/>\n     <use xlink:href=\"#DejaVuSans-2d\" x=\"931.298828\"/>\n     <use xlink:href=\"#DejaVuSans-4f\" x=\"970.132812\"/>\n     <use xlink:href=\"#DejaVuSans-20\" x=\"1048.84375\"/>\n     <use xlink:href=\"#DejaVuSans-54\" x=\"1080.630859\"/>\n     <use xlink:href=\"#DejaVuSans-61\" x=\"1125.214844\"/>\n     <use xlink:href=\"#DejaVuSans-67\" x=\"1186.494141\"/>\n     <use xlink:href=\"#DejaVuSans-73\" x=\"1249.970703\"/>\n    </g>\n   </g>\n  </g>\n </g>\n <defs>\n  <clipPath id=\"p1a219d30b3\">\n   <rect x=\"58.6925\" y=\"24.14175\" width=\"1116\" height=\"302.4\"/>\n  </clipPath>\n  <clipPath id=\"p5d5dcf6bdd\">\n   <rect x=\"58.6925\" y=\"387.02175\" width=\"1116\" height=\"302.4\"/>\n  </clipPath>\n </defs>\n</svg>\n"
          },
          "metadata": {}
        }
      ]
    },
    {
      "cell_type": "code",
      "source": [
        "word2idx = {w: i for i, w in enumerate(words)}\n",
        "tag2idx = {t: i for i, t in enumerate(labels)}"
      ],
      "metadata": {
        "id": "H79VXUpyaIZS"
      },
      "execution_count": 232,
      "outputs": []
    },
    {
      "cell_type": "code",
      "source": [
        "type(tag2idx)\n",
        "\n",
        "print(len(tag2idx))\n",
        "\n",
        "print(tag2idx)"
      ],
      "metadata": {
        "colab": {
          "base_uri": "https://localhost:8080/"
        },
        "id": "L88zOXuNFDyn",
        "outputId": "560d6da1-2868-494a-becd-fa200f0af1b3"
      },
      "execution_count": 233,
      "outputs": [
        {
          "output_type": "stream",
          "name": "stdout",
          "text": [
            "17\n",
            "{'O': 0, 'B-org': 1, 'B-per': 2, 'I-per': 3, 'B-geo': 4, 'B-tim': 5, 'I-geo': 6, 'B-gpe': 7, 'I-org': 8, 'I-tim': 9, 'B-art': 10, 'I-art': 11, 'I-gpe': 12, 'B-nat': 13, 'B-eve': 14, 'I-eve': 15, 'I-nat': 16}\n"
          ]
        }
      ]
    },
    {
      "cell_type": "markdown",
      "source": [
        "MOdelling"
      ],
      "metadata": {
        "id": "Eqq7_k1al5bT"
      }
    },
    {
      "cell_type": "code",
      "source": [
        "from keras.models import Sequential\n",
        "from keras.layers import Input, Embedding,TimeDistributed, LSTM, Dropout, Bidirectional, Dense\n",
        "from keras.preprocessing.text import Tokenizer\n",
        "from keras.preprocessing import sequence\n",
        "from keras.callbacks import EarlyStopping, ModelCheckpoint, ReduceLROnPlateau\n",
        "from keras.utils import plot_model, to_categorical"
      ],
      "metadata": {
        "id": "ePs0bPqhl6ax"
      },
      "execution_count": 234,
      "outputs": []
    },
    {
      "cell_type": "code",
      "source": [
        "X = [[word2idx[w[0]] for w in s] for s in sentences]\n",
        "X = sequence.pad_sequences(maxlen=maxlen, sequences=X, padding=\"post\",value=n_words - 1)\n",
        "\n",
        "y = [[tag2idx[w[1]] for w in s] for s in sentences]\n",
        "y = sequence.pad_sequences(maxlen=maxlen, sequences=y, padding=\"post\", value=tag2idx[\"O\"])\n",
        "y = np.array([to_categorical(i, num_classes=n_tags) for i in y])\n",
        "\n",
        "print('X shape', X.shape, 'y shape', y.shape)"
      ],
      "metadata": {
        "colab": {
          "base_uri": "https://localhost:8080/"
        },
        "id": "F7T2FuwOl26i",
        "outputId": "4f8acb8c-fe4a-4e65-8d22-7c0891a932b0"
      },
      "execution_count": 235,
      "outputs": [
        {
          "output_type": "stream",
          "name": "stdout",
          "text": [
            "X shape (47959, 104) y shape (47959, 104, 17)\n"
          ]
        }
      ]
    },
    {
      "cell_type": "code",
      "source": [
        "print('X shape', X.shape, 'y shape', y.shape)"
      ],
      "metadata": {
        "colab": {
          "base_uri": "https://localhost:8080/"
        },
        "id": "NW7j-YVmEHsk",
        "outputId": "22f2a3eb-5fbe-443a-e466-298af97f4252"
      },
      "execution_count": 236,
      "outputs": [
        {
          "output_type": "stream",
          "name": "stdout",
          "text": [
            "X shape (47959, 104) y shape (47959, 104, 17)\n"
          ]
        }
      ]
    },
    {
      "cell_type": "code",
      "source": [
        "print(X[0])"
      ],
      "metadata": {
        "colab": {
          "base_uri": "https://localhost:8080/"
        },
        "id": "dgYWRRk_Ex8S",
        "outputId": "2d0a0b11-6511-4ed4-d0c5-46b7e061dcbc"
      },
      "execution_count": 238,
      "outputs": [
        {
          "output_type": "stream",
          "name": "stdout",
          "text": [
            "[10468 34652 27094 29518 25112 17255 20153  5508 27901    50 29260  6051\n",
            " 23643 25889  9725    50  4379 34652  1933 28504 13275 17486  2616  4104\n",
            " 35177 35177 35177 35177 35177 35177 35177 35177 35177 35177 35177 35177\n",
            " 35177 35177 35177 35177 35177 35177 35177 35177 35177 35177 35177 35177\n",
            " 35177 35177 35177 35177 35177 35177 35177 35177 35177 35177 35177 35177\n",
            " 35177 35177 35177 35177 35177 35177 35177 35177 35177 35177 35177 35177\n",
            " 35177 35177 35177 35177 35177 35177 35177 35177 35177 35177 35177 35177\n",
            " 35177 35177 35177 35177 35177 35177 35177 35177 35177 35177 35177 35177\n",
            " 35177 35177 35177 35177 35177 35177 35177 35177]\n"
          ]
        }
      ]
    },
    {
      "cell_type": "code",
      "source": [
        "print(X[10])"
      ],
      "metadata": {
        "colab": {
          "base_uri": "https://localhost:8080/"
        },
        "id": "8cpYQ1atKIuo",
        "outputId": "80631313-a06c-4a1c-b4c8-60d269aefb51"
      },
      "execution_count": 239,
      "outputs": [
        {
          "output_type": "stream",
          "name": "stdout",
          "text": [
            "[ 4311 29293  8067 10826   124 34652 10730 30326 15293 34121  8067  8692\n",
            "  5686    50 26523 13666 34493  6051 29897 28996  8067 13040 16797 18937\n",
            " 25207   540    50 26025  4362 12753  2712  6051  6335 26205 31453 13275\n",
            " 15024 15293 31596  4104 35177 35177 35177 35177 35177 35177 35177 35177\n",
            " 35177 35177 35177 35177 35177 35177 35177 35177 35177 35177 35177 35177\n",
            " 35177 35177 35177 35177 35177 35177 35177 35177 35177 35177 35177 35177\n",
            " 35177 35177 35177 35177 35177 35177 35177 35177 35177 35177 35177 35177\n",
            " 35177 35177 35177 35177 35177 35177 35177 35177 35177 35177 35177 35177\n",
            " 35177 35177 35177 35177 35177 35177 35177 35177]\n"
          ]
        }
      ]
    },
    {
      "cell_type": "code",
      "source": [
        "class config():\n",
        "    VOCAB = n_words\n",
        "    MAX_LEN = maxlen\n",
        "    N_OUPUT = n_tags\n",
        "\n",
        "\n",
        "    EMBEDDING_VECTOR_LENGTH = 50\n",
        "    N_LSTM_CELLS = 64\n",
        "    RECURRENT_DROPOUT = 0.1\n",
        "\n",
        "    OUTPUT_ACTIVATION = 'softmax'\n",
        "\n",
        "    LOSS = 'categorical_crossentropy'\n",
        "    OPTIMIZER = 'adam'\n",
        "    METRICS = ['accuracy']\n",
        "\n",
        "    MAX_EPOCHS = 10"
      ],
      "metadata": {
        "id": "sS5OCmN-mEGY"
      },
      "execution_count": 240,
      "outputs": []
    },
    {
      "cell_type": "code",
      "source": [
        "es = EarlyStopping(monitor='val_loss', mode='min', verbose=1, patience=7)\n",
        "filepath = \"model.h5\"\n",
        "ckpt = ModelCheckpoint(filepath, monitor='loss', verbose=1, save_best_only=True, mode='min')\n",
        "rlp = ReduceLROnPlateau(monitor='loss', patience=3, verbose=1)\n",
        "\n",
        "model = Sequential()\n",
        "model.add(\n",
        "    Embedding(\n",
        "        input_dim=config.VOCAB, output_dim=config.EMBEDDING_VECTOR_LENGTH, input_length=config.MAX_LEN\n",
        "    )\n",
        ")\n",
        "model.add(\n",
        "    Bidirectional(\n",
        "        LSTM(config.N_LSTM_CELLS, return_sequences=True, recurrent_dropout=config.RECURRENT_DROPOUT)\n",
        "    )\n",
        ")\n",
        "model.add(\n",
        "    TimeDistributed(\n",
        "        Dense(config.N_OUPUT, activation=config.OUTPUT_ACTIVATION)\n",
        "    )\n",
        ")\n",
        "model.compile(loss=config.LOSS, optimizer=config.OPTIMIZER, metrics=config.METRICS)\n",
        "\n",
        "model.summary()\n",
        "plot_model(model, show_shapes=True)"
      ],
      "metadata": {
        "colab": {
          "base_uri": "https://localhost:8080/",
          "height": 717
        },
        "id": "msjAJeCcoI7O",
        "outputId": "2f09f3fb-ab3a-4014-c971-6c8f430c36c5"
      },
      "execution_count": 241,
      "outputs": [
        {
          "output_type": "stream",
          "name": "stdout",
          "text": [
            "Model: \"sequential_1\"\n",
            "_________________________________________________________________\n",
            " Layer (type)                Output Shape              Param #   \n",
            "=================================================================\n",
            " embedding_1 (Embedding)     (None, 104, 50)           1758900   \n",
            "                                                                 \n",
            " bidirectional_1 (Bidirecti  (None, 104, 128)          58880     \n",
            " onal)                                                           \n",
            "                                                                 \n",
            " time_distributed_1 (TimeDi  (None, 104, 17)           2193      \n",
            " stributed)                                                      \n",
            "                                                                 \n",
            "=================================================================\n",
            "Total params: 1819973 (6.94 MB)\n",
            "Trainable params: 1819973 (6.94 MB)\n",
            "Non-trainable params: 0 (0.00 Byte)\n",
            "_________________________________________________________________\n"
          ]
        },
        {
          "output_type": "execute_result",
          "data": {
            "image/png": "[encoded data removed]",
            "text/plain": [
              "<IPython.core.display.Image object>"
            ]
          },
          "metadata": {},
          "execution_count": 241
        }
      ]
    },
    {
      "cell_type": "code",
      "source": [],
      "metadata": {
        "id": "EN3mRlryVREZ"
      },
      "execution_count": null,
      "outputs": []
    },
    {
      "cell_type": "code",
      "source": [],
      "metadata": {
        "id": "nh1zN6U6VQy9"
      },
      "execution_count": null,
      "outputs": []
    },
    {
      "cell_type": "code",
      "source": [
        "%%time\n",
        "\n",
        "history = model.fit(x=X, y=y, validation_split=0.2,\n",
        "    callbacks=[es, ckpt, rlp], epochs=config.MAX_EPOCHS\n",
        ")"
      ],
      "metadata": {
        "colab": {
          "base_uri": "https://localhost:8080/"
        },
        "id": "tE0qnoHCoqMa",
        "outputId": "47073aeb-4df6-451d-b276-9687353aca9f"
      },
      "execution_count": 180,
      "outputs": [
        {
          "output_type": "stream",
          "name": "stdout",
          "text": [
            "Epoch 1/10\n",
            "1199/1199 [==============================] - ETA: 0s - loss: 0.0469 - accuracy: 0.9867\n",
            "Epoch 1: loss improved from inf to 0.04694, saving model to model.h5\n",
            "1199/1199 [==============================] - 342s 285ms/step - loss: 0.0469 - accuracy: 0.9867 - val_loss: 0.0294 - val_accuracy: 0.9914 - lr: 0.0010\n",
            "Epoch 2/10\n"
          ]
        },
        {
          "output_type": "stream",
          "name": "stderr",
          "text": [
            "/usr/local/lib/python3.10/dist-packages/keras/src/engine/training.py:3103: UserWarning: You are saving your model as an HDF5 file via `model.save()`. This file format is considered legacy. We recommend using instead the native Keras format, e.g. `model.save('my_model.keras')`.\n",
            "  saving_api.save_model(\n"
          ]
        },
        {
          "output_type": "stream",
          "name": "stdout",
          "text": [
            "1199/1199 [==============================] - ETA: 0s - loss: 0.0219 - accuracy: 0.9935\n",
            "Epoch 2: loss improved from 0.04694 to 0.02188, saving model to model.h5\n",
            "1199/1199 [==============================] - 342s 285ms/step - loss: 0.0219 - accuracy: 0.9935 - val_loss: 0.0257 - val_accuracy: 0.9923 - lr: 0.0010\n",
            "Epoch 3/10\n",
            "1199/1199 [==============================] - ETA: 0s - loss: 0.0166 - accuracy: 0.9949\n",
            "Epoch 3: loss improved from 0.02188 to 0.01665, saving model to model.h5\n",
            "1199/1199 [==============================] - 343s 286ms/step - loss: 0.0166 - accuracy: 0.9949 - val_loss: 0.0248 - val_accuracy: 0.9926 - lr: 0.0010\n",
            "Epoch 4/10\n",
            "1199/1199 [==============================] - ETA: 0s - loss: 0.0137 - accuracy: 0.9957\n",
            "Epoch 4: loss improved from 0.01665 to 0.01371, saving model to model.h5\n",
            "1199/1199 [==============================] - 349s 291ms/step - loss: 0.0137 - accuracy: 0.9957 - val_loss: 0.0255 - val_accuracy: 0.9927 - lr: 0.0010\n",
            "Epoch 5/10\n",
            "1199/1199 [==============================] - ETA: 0s - loss: 0.0115 - accuracy: 0.9963\n",
            "Epoch 5: loss improved from 0.01371 to 0.01155, saving model to model.h5\n",
            "1199/1199 [==============================] - 342s 285ms/step - loss: 0.0115 - accuracy: 0.9963 - val_loss: 0.0268 - val_accuracy: 0.9924 - lr: 0.0010\n",
            "Epoch 6/10\n",
            "1199/1199 [==============================] - ETA: 0s - loss: 0.0099 - accuracy: 0.9968\n",
            "Epoch 6: loss improved from 0.01155 to 0.00991, saving model to model.h5\n",
            "1199/1199 [==============================] - 342s 285ms/step - loss: 0.0099 - accuracy: 0.9968 - val_loss: 0.0283 - val_accuracy: 0.9925 - lr: 0.0010\n",
            "Epoch 7/10\n",
            "1199/1199 [==============================] - ETA: 0s - loss: 0.0086 - accuracy: 0.9972\n",
            "Epoch 7: loss improved from 0.00991 to 0.00858, saving model to model.h5\n",
            "1199/1199 [==============================] - 342s 285ms/step - loss: 0.0086 - accuracy: 0.9972 - val_loss: 0.0304 - val_accuracy: 0.9924 - lr: 0.0010\n",
            "Epoch 8/10\n",
            "1199/1199 [==============================] - ETA: 0s - loss: 0.0074 - accuracy: 0.9976\n",
            "Epoch 8: loss improved from 0.00858 to 0.00740, saving model to model.h5\n",
            "1199/1199 [==============================] - 342s 285ms/step - loss: 0.0074 - accuracy: 0.9976 - val_loss: 0.0320 - val_accuracy: 0.9922 - lr: 0.0010\n",
            "Epoch 9/10\n",
            "1199/1199 [==============================] - ETA: 0s - loss: 0.0065 - accuracy: 0.9979\n",
            "Epoch 9: loss improved from 0.00740 to 0.00647, saving model to model.h5\n",
            "1199/1199 [==============================] - 337s 281ms/step - loss: 0.0065 - accuracy: 0.9979 - val_loss: 0.0338 - val_accuracy: 0.9923 - lr: 0.0010\n",
            "Epoch 10/10\n",
            "1199/1199 [==============================] - ETA: 0s - loss: 0.0057 - accuracy: 0.9981\n",
            "Epoch 10: loss improved from 0.00647 to 0.00567, saving model to model.h5\n",
            "1199/1199 [==============================] - 365s 304ms/step - loss: 0.0057 - accuracy: 0.9981 - val_loss: 0.0360 - val_accuracy: 0.9919 - lr: 0.0010\n",
            "Epoch 10: early stopping\n",
            "CPU times: user 1h 27min 26s, sys: 1min 2s, total: 1h 28min 29s\n",
            "Wall time: 57min 28s\n"
          ]
        }
      ]
    },
    {
      "cell_type": "code",
      "source": [
        "fig, ax = plt.subplots(2, 1, figsize=(20, 8))\n",
        "df = pd.DataFrame(history.history)\n",
        "df[['accuracy', 'val_accuracy']].plot(ax=ax[0])\n",
        "df[['loss', 'val_loss']].plot(ax=ax[1])\n",
        "ax[0].set_title('Model Accuracy', fontsize=12)\n",
        "ax[1].set_title('Model Loss', fontsize=12)\n",
        "fig.suptitle('Model Metrics', fontsize=18);"
      ],
      "metadata": {
        "colab": {
          "base_uri": "https://localhost:8080/",
          "height": 756
        },
        "id": "hC9wk6Vv2KIY",
        "outputId": "a5a59421-1c20-4730-b109-4714122b3ef9"
      },
      "execution_count": 181,
      "outputs": [
        {
          "output_type": "display_data",
          "data": {
            "text/plain": [
              "<Figure size 2000x800 with 2 Axes>"
            ],
            "image/svg+xml": "<?xml version=\"1.0\" encoding=\"utf-8\" standalone=\"no\"?>\n<!DOCTYPE svg PUBLIC \"-//W3C//DTD SVG 1.1//EN\"\n  \"http://www.w3.org/Graphics/SVG/1.1/DTD/svg11.dtd\">\n<svg xmlns:xlink=\"http://www.w3.org/1999/xlink\" width=\"1171.390938pt\" height=\"535.665937pt\" viewBox=\"0 0 1171.390938 535.665937\" xmlns=\"http://www.w3.org/2000/svg\" version=\"1.1\">\n <metadata>\n  <rdf:RDF xmlns:dc=\"http://purl.org/dc/elements/1.1/\" xmlns:cc=\"http://creativecommons.org/ns#\" xmlns:rdf=\"http://www.w3.org/1999/02/22-rdf-syntax-ns#\">\n   <cc:Work>\n    <dc:type rdf:resource=\"http://purl.org/dc/dcmitype/StillImage\"/>\n    <dc:date>2024-06-27T13:23:03.795652</dc:date>\n    <dc:format>image/svg+xml</dc:format>\n    <dc:creator>\n     <cc:Agent>\n      <dc:title>Matplotlib v3.7.1, https://matplotlib.org/</dc:title>\n     </cc:Agent>\n    </dc:creator>\n   </cc:Work>\n  </rdf:RDF>\n </metadata>\n <defs>\n  <style type=\"text/css\">*{stroke-linejoin: round; stroke-linecap: butt}</style>\n </defs>\n <g id=\"figure_1\">\n  <g id=\"patch_1\">\n   <path d=\"M 0 535.665937 \nL 1171.390938 535.665937 \nL 1171.390938 0 \nL 0 0 \nz\n\" style=\"fill: #ffffff\"/>\n  </g>\n  <g id=\"axes_1\">\n   <g id=\"patch_2\">\n    <path d=\"M 48.190938 266.4 \nL 1164.190938 266.4 \nL 1164.190938 64.8 \nL 48.190938 64.8 \nz\n\" style=\"fill: #e5e5e5\"/>\n   </g>\n   <g id=\"matplotlib.axis_1\">\n    <g id=\"xtick_1\">\n     <g id=\"line2d_1\">\n      <path d=\"M 98.91821 266.4 \nL 98.91821 64.8 \n\" clip-path=\"url(#p75c311c83c)\" style=\"fill: none; stroke: #ffffff; stroke-linecap: round\"/>\n     </g>\n     <g id=\"text_1\">\n      <!-- 0 -->\n      <g style=\"fill: #555555\" transform=\"translate(95.418835 284.258281) scale(0.11 -0.11)\">\n       <defs>\n        <path id=\"DejaVuSans-30\" d=\"M 2034 4250 \nQ 1547 4250 1301 3770 \nQ 1056 3291 1056 2328 \nQ 1056 1369 1301 889 \nQ 1547 409 2034 409 \nQ 2525 409 2770 889 \nQ 3016 1369 3016 2328 \nQ 3016 3291 2770 3770 \nQ 2525 4250 2034 4250 \nz\nM 2034 4750 \nQ 2819 4750 3233 4129 \nQ 3647 3509 3647 2328 \nQ 3647 1150 3233 529 \nQ 2819 -91 2034 -91 \nQ 1250 -91 836 529 \nQ 422 1150 422 2328 \nQ 422 3509 836 4129 \nQ 1250 4750 2034 4750 \nz\n\" transform=\"scale(0.015625)\"/>\n       </defs>\n       <use xlink:href=\"#DejaVuSans-30\"/>\n      </g>\n     </g>\n    </g>\n    <g id=\"xtick_2\">\n     <g id=\"line2d_2\">\n      <path d=\"M 324.372756 266.4 \nL 324.372756 64.8 \n\" clip-path=\"url(#p75c311c83c)\" style=\"fill: none; stroke: #ffffff; stroke-linecap: round\"/>\n     </g>\n     <g id=\"text_2\">\n      <!-- 2 -->\n      <g style=\"fill: #555555\" transform=\"translate(320.873381 284.258281) scale(0.11 -0.11)\">\n       <defs>\n        <path id=\"DejaVuSans-32\" d=\"M 1228 531 \nL 3431 531 \nL 3431 0 \nL 469 0 \nL 469 531 \nQ 828 903 1448 1529 \nQ 2069 2156 2228 2338 \nQ 2531 2678 2651 2914 \nQ 2772 3150 2772 3378 \nQ 2772 3750 2511 3984 \nQ 2250 4219 1831 4219 \nQ 1534 4219 1204 4116 \nQ 875 4013 500 3803 \nL 500 4441 \nQ 881 4594 1212 4672 \nQ 1544 4750 1819 4750 \nQ 2544 4750 2975 4387 \nQ 3406 4025 3406 3419 \nQ 3406 3131 3298 2873 \nQ 3191 2616 2906 2266 \nQ 2828 2175 2409 1742 \nQ 1991 1309 1228 531 \nz\n\" transform=\"scale(0.015625)\"/>\n       </defs>\n       <use xlink:href=\"#DejaVuSans-32\"/>\n      </g>\n     </g>\n    </g>\n    <g id=\"xtick_3\">\n     <g id=\"line2d_3\">\n      <path d=\"M 549.827301 266.4 \nL 549.827301 64.8 \n\" clip-path=\"url(#p75c311c83c)\" style=\"fill: none; stroke: #ffffff; stroke-linecap: round\"/>\n     </g>\n     <g id=\"text_3\">\n      <!-- 4 -->\n      <g style=\"fill: #555555\" transform=\"translate(546.327926 284.258281) scale(0.11 -0.11)\">\n       <defs>\n        <path id=\"DejaVuSans-34\" d=\"M 2419 4116 \nL 825 1625 \nL 2419 1625 \nL 2419 4116 \nz\nM 2253 4666 \nL 3047 4666 \nL 3047 1625 \nL 3713 1625 \nL 3713 1100 \nL 3047 1100 \nL 3047 0 \nL 2419 0 \nL 2419 1100 \nL 313 1100 \nL 313 1709 \nL 2253 4666 \nz\n\" transform=\"scale(0.015625)\"/>\n       </defs>\n       <use xlink:href=\"#DejaVuSans-34\"/>\n      </g>\n     </g>\n    </g>\n    <g id=\"xtick_4\">\n     <g id=\"line2d_4\">\n      <path d=\"M 775.281847 266.4 \nL 775.281847 64.8 \n\" clip-path=\"url(#p75c311c83c)\" style=\"fill: none; stroke: #ffffff; stroke-linecap: round\"/>\n     </g>\n     <g id=\"text_4\">\n      <!-- 6 -->\n      <g style=\"fill: #555555\" transform=\"translate(771.782472 284.258281) scale(0.11 -0.11)\">\n       <defs>\n        <path id=\"DejaVuSans-36\" d=\"M 2113 2584 \nQ 1688 2584 1439 2293 \nQ 1191 2003 1191 1497 \nQ 1191 994 1439 701 \nQ 1688 409 2113 409 \nQ 2538 409 2786 701 \nQ 3034 994 3034 1497 \nQ 3034 2003 2786 2293 \nQ 2538 2584 2113 2584 \nz\nM 3366 4563 \nL 3366 3988 \nQ 3128 4100 2886 4159 \nQ 2644 4219 2406 4219 \nQ 1781 4219 1451 3797 \nQ 1122 3375 1075 2522 \nQ 1259 2794 1537 2939 \nQ 1816 3084 2150 3084 \nQ 2853 3084 3261 2657 \nQ 3669 2231 3669 1497 \nQ 3669 778 3244 343 \nQ 2819 -91 2113 -91 \nQ 1303 -91 875 529 \nQ 447 1150 447 2328 \nQ 447 3434 972 4092 \nQ 1497 4750 2381 4750 \nQ 2619 4750 2861 4703 \nQ 3103 4656 3366 4563 \nz\n\" transform=\"scale(0.015625)\"/>\n       </defs>\n       <use xlink:href=\"#DejaVuSans-36\"/>\n      </g>\n     </g>\n    </g>\n    <g id=\"xtick_5\">\n     <g id=\"line2d_5\">\n      <path d=\"M 1000.736392 266.4 \nL 1000.736392 64.8 \n\" clip-path=\"url(#p75c311c83c)\" style=\"fill: none; stroke: #ffffff; stroke-linecap: round\"/>\n     </g>\n     <g id=\"text_5\">\n      <!-- 8 -->\n      <g style=\"fill: #555555\" transform=\"translate(997.237017 284.258281) scale(0.11 -0.11)\">\n       <defs>\n        <path id=\"DejaVuSans-38\" d=\"M 2034 2216 \nQ 1584 2216 1326 1975 \nQ 1069 1734 1069 1313 \nQ 1069 891 1326 650 \nQ 1584 409 2034 409 \nQ 2484 409 2743 651 \nQ 3003 894 3003 1313 \nQ 3003 1734 2745 1975 \nQ 2488 2216 2034 2216 \nz\nM 1403 2484 \nQ 997 2584 770 2862 \nQ 544 3141 544 3541 \nQ 544 4100 942 4425 \nQ 1341 4750 2034 4750 \nQ 2731 4750 3128 4425 \nQ 3525 4100 3525 3541 \nQ 3525 3141 3298 2862 \nQ 3072 2584 2669 2484 \nQ 3125 2378 3379 2068 \nQ 3634 1759 3634 1313 \nQ 3634 634 3220 271 \nQ 2806 -91 2034 -91 \nQ 1263 -91 848 271 \nQ 434 634 434 1313 \nQ 434 1759 690 2068 \nQ 947 2378 1403 2484 \nz\nM 1172 3481 \nQ 1172 3119 1398 2916 \nQ 1625 2713 2034 2713 \nQ 2441 2713 2670 2916 \nQ 2900 3119 2900 3481 \nQ 2900 3844 2670 4047 \nQ 2441 4250 2034 4250 \nQ 1625 4250 1398 4047 \nQ 1172 3844 1172 3481 \nz\n\" transform=\"scale(0.015625)\"/>\n       </defs>\n       <use xlink:href=\"#DejaVuSans-38\"/>\n      </g>\n     </g>\n    </g>\n   </g>\n   <g id=\"matplotlib.axis_2\">\n    <g id=\"ytick_1\">\n     <g id=\"line2d_6\">\n      <path d=\"M 48.190938 235.743003 \nL 1164.190938 235.743003 \n\" clip-path=\"url(#p75c311c83c)\" style=\"fill: none; stroke: #ffffff; stroke-linecap: round\"/>\n     </g>\n     <g id=\"text_6\">\n      <!-- 0.988 -->\n      <g style=\"fill: #555555\" transform=\"translate(7.2 239.922144) scale(0.11 -0.11)\">\n       <defs>\n        <path id=\"DejaVuSans-2e\" d=\"M 684 794 \nL 1344 794 \nL 1344 0 \nL 684 0 \nL 684 794 \nz\n\" transform=\"scale(0.015625)\"/>\n        <path id=\"DejaVuSans-39\" d=\"M 703 97 \nL 703 672 \nQ 941 559 1184 500 \nQ 1428 441 1663 441 \nQ 2288 441 2617 861 \nQ 2947 1281 2994 2138 \nQ 2813 1869 2534 1725 \nQ 2256 1581 1919 1581 \nQ 1219 1581 811 2004 \nQ 403 2428 403 3163 \nQ 403 3881 828 4315 \nQ 1253 4750 1959 4750 \nQ 2769 4750 3195 4129 \nQ 3622 3509 3622 2328 \nQ 3622 1225 3098 567 \nQ 2575 -91 1691 -91 \nQ 1453 -91 1209 -44 \nQ 966 3 703 97 \nz\nM 1959 2075 \nQ 2384 2075 2632 2365 \nQ 2881 2656 2881 3163 \nQ 2881 3666 2632 3958 \nQ 2384 4250 1959 4250 \nQ 1534 4250 1286 3958 \nQ 1038 3666 1038 3163 \nQ 1038 2656 1286 2365 \nQ 1534 2075 1959 2075 \nz\n\" transform=\"scale(0.015625)\"/>\n       </defs>\n       <use xlink:href=\"#DejaVuSans-30\"/>\n       <use xlink:href=\"#DejaVuSans-2e\" x=\"63.623047\"/>\n       <use xlink:href=\"#DejaVuSans-39\" x=\"95.410156\"/>\n       <use xlink:href=\"#DejaVuSans-38\" x=\"159.033203\"/>\n       <use xlink:href=\"#DejaVuSans-38\" x=\"222.65625\"/>\n      </g>\n     </g>\n    </g>\n    <g id=\"ytick_2\">\n     <g id=\"line2d_7\">\n      <path d=\"M 48.190938 203.860399 \nL 1164.190938 203.860399 \n\" clip-path=\"url(#p75c311c83c)\" style=\"fill: none; stroke: #ffffff; stroke-linecap: round\"/>\n     </g>\n     <g id=\"text_7\">\n      <!-- 0.990 -->\n      <g style=\"fill: #555555\" transform=\"translate(7.2 208.03954) scale(0.11 -0.11)\">\n       <use xlink:href=\"#DejaVuSans-30\"/>\n       <use xlink:href=\"#DejaVuSans-2e\" x=\"63.623047\"/>\n       <use xlink:href=\"#DejaVuSans-39\" x=\"95.410156\"/>\n       <use xlink:href=\"#DejaVuSans-39\" x=\"159.033203\"/>\n       <use xlink:href=\"#DejaVuSans-30\" x=\"222.65625\"/>\n      </g>\n     </g>\n    </g>\n    <g id=\"ytick_3\">\n     <g id=\"line2d_8\">\n      <path d=\"M 48.190938 171.977796 \nL 1164.190938 171.977796 \n\" clip-path=\"url(#p75c311c83c)\" style=\"fill: none; stroke: #ffffff; stroke-linecap: round\"/>\n     </g>\n     <g id=\"text_8\">\n      <!-- 0.992 -->\n      <g style=\"fill: #555555\" transform=\"translate(7.2 176.156936) scale(0.11 -0.11)\">\n       <use xlink:href=\"#DejaVuSans-30\"/>\n       <use xlink:href=\"#DejaVuSans-2e\" x=\"63.623047\"/>\n       <use xlink:href=\"#DejaVuSans-39\" x=\"95.410156\"/>\n       <use xlink:href=\"#DejaVuSans-39\" x=\"159.033203\"/>\n       <use xlink:href=\"#DejaVuSans-32\" x=\"222.65625\"/>\n      </g>\n     </g>\n    </g>\n    <g id=\"ytick_4\">\n     <g id=\"line2d_9\">\n      <path d=\"M 48.190938 140.095192 \nL 1164.190938 140.095192 \n\" clip-path=\"url(#p75c311c83c)\" style=\"fill: none; stroke: #ffffff; stroke-linecap: round\"/>\n     </g>\n     <g id=\"text_9\">\n      <!-- 0.994 -->\n      <g style=\"fill: #555555\" transform=\"translate(7.2 144.274332) scale(0.11 -0.11)\">\n       <use xlink:href=\"#DejaVuSans-30\"/>\n       <use xlink:href=\"#DejaVuSans-2e\" x=\"63.623047\"/>\n       <use xlink:href=\"#DejaVuSans-39\" x=\"95.410156\"/>\n       <use xlink:href=\"#DejaVuSans-39\" x=\"159.033203\"/>\n       <use xlink:href=\"#DejaVuSans-34\" x=\"222.65625\"/>\n      </g>\n     </g>\n    </g>\n    <g id=\"ytick_5\">\n     <g id=\"line2d_10\">\n      <path d=\"M 48.190938 108.212588 \nL 1164.190938 108.212588 \n\" clip-path=\"url(#p75c311c83c)\" style=\"fill: none; stroke: #ffffff; stroke-linecap: round\"/>\n     </g>\n     <g id=\"text_10\">\n      <!-- 0.996 -->\n      <g style=\"fill: #555555\" transform=\"translate(7.2 112.391729) scale(0.11 -0.11)\">\n       <use xlink:href=\"#DejaVuSans-30\"/>\n       <use xlink:href=\"#DejaVuSans-2e\" x=\"63.623047\"/>\n       <use xlink:href=\"#DejaVuSans-39\" x=\"95.410156\"/>\n       <use xlink:href=\"#DejaVuSans-39\" x=\"159.033203\"/>\n       <use xlink:href=\"#DejaVuSans-36\" x=\"222.65625\"/>\n      </g>\n     </g>\n    </g>\n    <g id=\"ytick_6\">\n     <g id=\"line2d_11\">\n      <path d=\"M 48.190938 76.329984 \nL 1164.190938 76.329984 \n\" clip-path=\"url(#p75c311c83c)\" style=\"fill: none; stroke: #ffffff; stroke-linecap: round\"/>\n     </g>\n     <g id=\"text_11\">\n      <!-- 0.998 -->\n      <g style=\"fill: #555555\" transform=\"translate(7.2 80.509125) scale(0.11 -0.11)\">\n       <use xlink:href=\"#DejaVuSans-30\"/>\n       <use xlink:href=\"#DejaVuSans-2e\" x=\"63.623047\"/>\n       <use xlink:href=\"#DejaVuSans-39\" x=\"95.410156\"/>\n       <use xlink:href=\"#DejaVuSans-39\" x=\"159.033203\"/>\n       <use xlink:href=\"#DejaVuSans-38\" x=\"222.65625\"/>\n      </g>\n     </g>\n    </g>\n   </g>\n   <g id=\"line2d_12\">\n    <path d=\"M 98.91821 257.236364 \nL 211.645483 147.553789 \nL 324.372756 125.54107 \nL 437.100028 113.511847 \nL 549.827301 103.543554 \nL 662.554574 95.577282 \nL 775.281847 89.073329 \nL 888.009119 82.433502 \nL 1000.736392 77.999032 \nL 1113.463665 73.963636 \n\" clip-path=\"url(#p75c311c83c)\" style=\"fill: none; stroke: #e24a33; stroke-width: 1.5; stroke-linecap: round\"/>\n   </g>\n   <g id=\"line2d_13\">\n    <path d=\"M 98.91821 180.918257 \nL 211.645483 166.903166 \nL 324.372756 161.83778 \nL 437.100028 160.351705 \nL 549.827301 165.065526 \nL 662.554574 164.314887 \nL 775.281847 165.62518 \nL 888.009119 168.149796 \nL 1000.736392 167.84669 \nL 1113.463665 172.991891 \n\" clip-path=\"url(#p75c311c83c)\" style=\"fill: none; stroke: #348abd; stroke-width: 1.5; stroke-linecap: round\"/>\n   </g>\n   <g id=\"patch_3\">\n    <path d=\"M 48.190938 266.4 \nL 48.190938 64.8 \n\" style=\"fill: none; stroke: #ffffff; stroke-linejoin: miter; stroke-linecap: square\"/>\n   </g>\n   <g id=\"patch_4\">\n    <path d=\"M 1164.190938 266.4 \nL 1164.190938 64.8 \n\" style=\"fill: none; stroke: #ffffff; stroke-linejoin: miter; stroke-linecap: square\"/>\n   </g>\n   <g id=\"patch_5\">\n    <path d=\"M 48.190938 266.4 \nL 1164.190938 266.4 \n\" style=\"fill: none; stroke: #ffffff; stroke-linejoin: miter; stroke-linecap: square\"/>\n   </g>\n   <g id=\"patch_6\">\n    <path d=\"M 48.190938 64.8 \nL 1164.190938 64.8 \n\" style=\"fill: none; stroke: #ffffff; stroke-linejoin: miter; stroke-linecap: square\"/>\n   </g>\n   <g id=\"text_12\">\n    <!-- Model Accuracy -->\n    <g style=\"fill: #262626\" transform=\"translate(558.874375 58.8) scale(0.12 -0.12)\">\n     <defs>\n      <path id=\"DejaVuSans-4d\" d=\"M 628 4666 \nL 1569 4666 \nL 2759 1491 \nL 3956 4666 \nL 4897 4666 \nL 4897 0 \nL 4281 0 \nL 4281 4097 \nL 3078 897 \nL 2444 897 \nL 1241 4097 \nL 1241 0 \nL 628 0 \nL 628 4666 \nz\n\" transform=\"scale(0.015625)\"/>\n      <path id=\"DejaVuSans-6f\" d=\"M 1959 3097 \nQ 1497 3097 1228 2736 \nQ 959 2375 959 1747 \nQ 959 1119 1226 758 \nQ 1494 397 1959 397 \nQ 2419 397 2687 759 \nQ 2956 1122 2956 1747 \nQ 2956 2369 2687 2733 \nQ 2419 3097 1959 3097 \nz\nM 1959 3584 \nQ 2709 3584 3137 3096 \nQ 3566 2609 3566 1747 \nQ 3566 888 3137 398 \nQ 2709 -91 1959 -91 \nQ 1206 -91 779 398 \nQ 353 888 353 1747 \nQ 353 2609 779 3096 \nQ 1206 3584 1959 3584 \nz\n\" transform=\"scale(0.015625)\"/>\n      <path id=\"DejaVuSans-64\" d=\"M 2906 2969 \nL 2906 4863 \nL 3481 4863 \nL 3481 0 \nL 2906 0 \nL 2906 525 \nQ 2725 213 2448 61 \nQ 2172 -91 1784 -91 \nQ 1150 -91 751 415 \nQ 353 922 353 1747 \nQ 353 2572 751 3078 \nQ 1150 3584 1784 3584 \nQ 2172 3584 2448 3432 \nQ 2725 3281 2906 2969 \nz\nM 947 1747 \nQ 947 1113 1208 752 \nQ 1469 391 1925 391 \nQ 2381 391 2643 752 \nQ 2906 1113 2906 1747 \nQ 2906 2381 2643 2742 \nQ 2381 3103 1925 3103 \nQ 1469 3103 1208 2742 \nQ 947 2381 947 1747 \nz\n\" transform=\"scale(0.015625)\"/>\n      <path id=\"DejaVuSans-65\" d=\"M 3597 1894 \nL 3597 1613 \nL 953 1613 \nQ 991 1019 1311 708 \nQ 1631 397 2203 397 \nQ 2534 397 2845 478 \nQ 3156 559 3463 722 \nL 3463 178 \nQ 3153 47 2828 -22 \nQ 2503 -91 2169 -91 \nQ 1331 -91 842 396 \nQ 353 884 353 1716 \nQ 353 2575 817 3079 \nQ 1281 3584 2069 3584 \nQ 2775 3584 3186 3129 \nQ 3597 2675 3597 1894 \nz\nM 3022 2063 \nQ 3016 2534 2758 2815 \nQ 2500 3097 2075 3097 \nQ 1594 3097 1305 2825 \nQ 1016 2553 972 2059 \nL 3022 2063 \nz\n\" transform=\"scale(0.015625)\"/>\n      <path id=\"DejaVuSans-6c\" d=\"M 603 4863 \nL 1178 4863 \nL 1178 0 \nL 603 0 \nL 603 4863 \nz\n\" transform=\"scale(0.015625)\"/>\n      <path id=\"DejaVuSans-20\" transform=\"scale(0.015625)\"/>\n      <path id=\"DejaVuSans-41\" d=\"M 2188 4044 \nL 1331 1722 \nL 3047 1722 \nL 2188 4044 \nz\nM 1831 4666 \nL 2547 4666 \nL 4325 0 \nL 3669 0 \nL 3244 1197 \nL 1141 1197 \nL 716 0 \nL 50 0 \nL 1831 4666 \nz\n\" transform=\"scale(0.015625)\"/>\n      <path id=\"DejaVuSans-63\" d=\"M 3122 3366 \nL 3122 2828 \nQ 2878 2963 2633 3030 \nQ 2388 3097 2138 3097 \nQ 1578 3097 1268 2742 \nQ 959 2388 959 1747 \nQ 959 1106 1268 751 \nQ 1578 397 2138 397 \nQ 2388 397 2633 464 \nQ 2878 531 3122 666 \nL 3122 134 \nQ 2881 22 2623 -34 \nQ 2366 -91 2075 -91 \nQ 1284 -91 818 406 \nQ 353 903 353 1747 \nQ 353 2603 823 3093 \nQ 1294 3584 2113 3584 \nQ 2378 3584 2631 3529 \nQ 2884 3475 3122 3366 \nz\n\" transform=\"scale(0.015625)\"/>\n      <path id=\"DejaVuSans-75\" d=\"M 544 1381 \nL 544 3500 \nL 1119 3500 \nL 1119 1403 \nQ 1119 906 1312 657 \nQ 1506 409 1894 409 \nQ 2359 409 2629 706 \nQ 2900 1003 2900 1516 \nL 2900 3500 \nL 3475 3500 \nL 3475 0 \nL 2900 0 \nL 2900 538 \nQ 2691 219 2414 64 \nQ 2138 -91 1772 -91 \nQ 1169 -91 856 284 \nQ 544 659 544 1381 \nz\nM 1991 3584 \nL 1991 3584 \nz\n\" transform=\"scale(0.015625)\"/>\n      <path id=\"DejaVuSans-72\" d=\"M 2631 2963 \nQ 2534 3019 2420 3045 \nQ 2306 3072 2169 3072 \nQ 1681 3072 1420 2755 \nQ 1159 2438 1159 1844 \nL 1159 0 \nL 581 0 \nL 581 3500 \nL 1159 3500 \nL 1159 2956 \nQ 1341 3275 1631 3429 \nQ 1922 3584 2338 3584 \nQ 2397 3584 2469 3576 \nQ 2541 3569 2628 3553 \nL 2631 2963 \nz\n\" transform=\"scale(0.015625)\"/>\n      <path id=\"DejaVuSans-61\" d=\"M 2194 1759 \nQ 1497 1759 1228 1600 \nQ 959 1441 959 1056 \nQ 959 750 1161 570 \nQ 1363 391 1709 391 \nQ 2188 391 2477 730 \nQ 2766 1069 2766 1631 \nL 2766 1759 \nL 2194 1759 \nz\nM 3341 1997 \nL 3341 0 \nL 2766 0 \nL 2766 531 \nQ 2569 213 2275 61 \nQ 1981 -91 1556 -91 \nQ 1019 -91 701 211 \nQ 384 513 384 1019 \nQ 384 1609 779 1909 \nQ 1175 2209 1959 2209 \nL 2766 2209 \nL 2766 2266 \nQ 2766 2663 2505 2880 \nQ 2244 3097 1772 3097 \nQ 1472 3097 1187 3025 \nQ 903 2953 641 2809 \nL 641 3341 \nQ 956 3463 1253 3523 \nQ 1550 3584 1831 3584 \nQ 2591 3584 2966 3190 \nQ 3341 2797 3341 1997 \nz\n\" transform=\"scale(0.015625)\"/>\n      <path id=\"DejaVuSans-79\" d=\"M 2059 -325 \nQ 1816 -950 1584 -1140 \nQ 1353 -1331 966 -1331 \nL 506 -1331 \nL 506 -850 \nL 844 -850 \nQ 1081 -850 1212 -737 \nQ 1344 -625 1503 -206 \nL 1606 56 \nL 191 3500 \nL 800 3500 \nL 1894 763 \nL 2988 3500 \nL 3597 3500 \nL 2059 -325 \nz\n\" transform=\"scale(0.015625)\"/>\n     </defs>\n     <use xlink:href=\"#DejaVuSans-4d\"/>\n     <use xlink:href=\"#DejaVuSans-6f\" x=\"86.279297\"/>\n     <use xlink:href=\"#DejaVuSans-64\" x=\"147.460938\"/>\n     <use xlink:href=\"#DejaVuSans-65\" x=\"210.9375\"/>\n     <use xlink:href=\"#DejaVuSans-6c\" x=\"272.460938\"/>\n     <use xlink:href=\"#DejaVuSans-20\" x=\"300.244141\"/>\n     <use xlink:href=\"#DejaVuSans-41\" x=\"332.03125\"/>\n     <use xlink:href=\"#DejaVuSans-63\" x=\"398.689453\"/>\n     <use xlink:href=\"#DejaVuSans-63\" x=\"453.669922\"/>\n     <use xlink:href=\"#DejaVuSans-75\" x=\"508.650391\"/>\n     <use xlink:href=\"#DejaVuSans-72\" x=\"572.029297\"/>\n     <use xlink:href=\"#DejaVuSans-61\" x=\"613.142578\"/>\n     <use xlink:href=\"#DejaVuSans-63\" x=\"674.421875\"/>\n     <use xlink:href=\"#DejaVuSans-79\" x=\"729.402344\"/>\n    </g>\n   </g>\n   <g id=\"legend_1\">\n    <g id=\"patch_7\">\n     <path d=\"M 55.890938 106.197812 \nL 162.529063 106.197812 \nQ 164.729063 106.197812 164.729063 103.997812 \nL 164.729063 72.5 \nQ 164.729063 70.3 162.529063 70.3 \nL 55.890938 70.3 \nQ 53.690938 70.3 53.690938 72.5 \nL 53.690938 103.997812 \nQ 53.690938 106.197812 55.890938 106.197812 \nz\n\" style=\"fill: #e5e5e5; opacity: 0.8; stroke: #cccccc; stroke-width: 0.5; stroke-linejoin: miter\"/>\n    </g>\n    <g id=\"line2d_14\">\n     <path d=\"M 58.090938 79.208281 \nL 69.090938 79.208281 \nL 80.090938 79.208281 \n\" style=\"fill: none; stroke: #e24a33; stroke-width: 1.5; stroke-linecap: round\"/>\n    </g>\n    <g id=\"text_13\">\n     <!-- accuracy -->\n     <g style=\"fill: #262626\" transform=\"translate(88.890938 83.058281) scale(0.11 -0.11)\">\n      <use xlink:href=\"#DejaVuSans-61\"/>\n      <use xlink:href=\"#DejaVuSans-63\" x=\"61.279297\"/>\n      <use xlink:href=\"#DejaVuSans-63\" x=\"116.259766\"/>\n      <use xlink:href=\"#DejaVuSans-75\" x=\"171.240234\"/>\n      <use xlink:href=\"#DejaVuSans-72\" x=\"234.619141\"/>\n      <use xlink:href=\"#DejaVuSans-61\" x=\"275.732422\"/>\n      <use xlink:href=\"#DejaVuSans-63\" x=\"337.011719\"/>\n      <use xlink:href=\"#DejaVuSans-79\" x=\"391.992188\"/>\n     </g>\n    </g>\n    <g id=\"line2d_15\">\n     <path d=\"M 58.090938 95.354219 \nL 69.090938 95.354219 \nL 80.090938 95.354219 \n\" style=\"fill: none; stroke: #348abd; stroke-width: 1.5; stroke-linecap: round\"/>\n    </g>\n    <g id=\"text_14\">\n     <!-- val_accuracy -->\n     <g style=\"fill: #262626\" transform=\"translate(88.890938 99.204219) scale(0.11 -0.11)\">\n      <defs>\n       <path id=\"DejaVuSans-76\" d=\"M 191 3500 \nL 800 3500 \nL 1894 563 \nL 2988 3500 \nL 3597 3500 \nL 2284 0 \nL 1503 0 \nL 191 3500 \nz\n\" transform=\"scale(0.015625)\"/>\n       <path id=\"DejaVuSans-5f\" d=\"M 3263 -1063 \nL 3263 -1509 \nL -63 -1509 \nL -63 -1063 \nL 3263 -1063 \nz\n\" transform=\"scale(0.015625)\"/>\n      </defs>\n      <use xlink:href=\"#DejaVuSans-76\"/>\n      <use xlink:href=\"#DejaVuSans-61\" x=\"59.179688\"/>\n      <use xlink:href=\"#DejaVuSans-6c\" x=\"120.458984\"/>\n      <use xlink:href=\"#DejaVuSans-5f\" x=\"148.242188\"/>\n      <use xlink:href=\"#DejaVuSans-61\" x=\"198.242188\"/>\n      <use xlink:href=\"#DejaVuSans-63\" x=\"259.521484\"/>\n      <use xlink:href=\"#DejaVuSans-63\" x=\"314.501953\"/>\n      <use xlink:href=\"#DejaVuSans-75\" x=\"369.482422\"/>\n      <use xlink:href=\"#DejaVuSans-72\" x=\"432.861328\"/>\n      <use xlink:href=\"#DejaVuSans-61\" x=\"473.974609\"/>\n      <use xlink:href=\"#DejaVuSans-63\" x=\"535.253906\"/>\n      <use xlink:href=\"#DejaVuSans-79\" x=\"590.234375\"/>\n     </g>\n    </g>\n   </g>\n  </g>\n  <g id=\"axes_2\">\n   <g id=\"patch_8\">\n    <path d=\"M 48.190938 508.32 \nL 1164.190938 508.32 \nL 1164.190938 306.72 \nL 48.190938 306.72 \nz\n\" style=\"fill: #e5e5e5\"/>\n   </g>\n   <g id=\"matplotlib.axis_3\">\n    <g id=\"xtick_6\">\n     <g id=\"line2d_16\">\n      <path d=\"M 98.91821 508.32 \nL 98.91821 306.72 \n\" clip-path=\"url(#pd4c9219659)\" style=\"fill: none; stroke: #ffffff; stroke-linecap: round\"/>\n     </g>\n     <g id=\"text_15\">\n      <!-- 0 -->\n      <g style=\"fill: #555555\" transform=\"translate(95.418835 526.178281) scale(0.11 -0.11)\">\n       <use xlink:href=\"#DejaVuSans-30\"/>\n      </g>\n     </g>\n    </g>\n    <g id=\"xtick_7\">\n     <g id=\"line2d_17\">\n      <path d=\"M 324.372756 508.32 \nL 324.372756 306.72 \n\" clip-path=\"url(#pd4c9219659)\" style=\"fill: none; stroke: #ffffff; stroke-linecap: round\"/>\n     </g>\n     <g id=\"text_16\">\n      <!-- 2 -->\n      <g style=\"fill: #555555\" transform=\"translate(320.873381 526.178281) scale(0.11 -0.11)\">\n       <use xlink:href=\"#DejaVuSans-32\"/>\n      </g>\n     </g>\n    </g>\n    <g id=\"xtick_8\">\n     <g id=\"line2d_18\">\n      <path d=\"M 549.827301 508.32 \nL 549.827301 306.72 \n\" clip-path=\"url(#pd4c9219659)\" style=\"fill: none; stroke: #ffffff; stroke-linecap: round\"/>\n     </g>\n     <g id=\"text_17\">\n      <!-- 4 -->\n      <g style=\"fill: #555555\" transform=\"translate(546.327926 526.178281) scale(0.11 -0.11)\">\n       <use xlink:href=\"#DejaVuSans-34\"/>\n      </g>\n     </g>\n    </g>\n    <g id=\"xtick_9\">\n     <g id=\"line2d_19\">\n      <path d=\"M 775.281847 508.32 \nL 775.281847 306.72 \n\" clip-path=\"url(#pd4c9219659)\" style=\"fill: none; stroke: #ffffff; stroke-linecap: round\"/>\n     </g>\n     <g id=\"text_18\">\n      <!-- 6 -->\n      <g style=\"fill: #555555\" transform=\"translate(771.782472 526.178281) scale(0.11 -0.11)\">\n       <use xlink:href=\"#DejaVuSans-36\"/>\n      </g>\n     </g>\n    </g>\n    <g id=\"xtick_10\">\n     <g id=\"line2d_20\">\n      <path d=\"M 1000.736392 508.32 \nL 1000.736392 306.72 \n\" clip-path=\"url(#pd4c9219659)\" style=\"fill: none; stroke: #ffffff; stroke-linecap: round\"/>\n     </g>\n     <g id=\"text_19\">\n      <!-- 8 -->\n      <g style=\"fill: #555555\" transform=\"translate(997.237017 526.178281) scale(0.11 -0.11)\">\n       <use xlink:href=\"#DejaVuSans-38\"/>\n      </g>\n     </g>\n    </g>\n   </g>\n   <g id=\"matplotlib.axis_4\">\n    <g id=\"ytick_7\">\n     <g id=\"line2d_21\">\n      <path d=\"M 48.190938 479.912658 \nL 1164.190938 479.912658 \n\" clip-path=\"url(#pd4c9219659)\" style=\"fill: none; stroke: #ffffff; stroke-linecap: round\"/>\n     </g>\n     <g id=\"text_20\">\n      <!-- 0.01 -->\n      <g style=\"fill: #555555\" transform=\"translate(14.19875 484.091799) scale(0.11 -0.11)\">\n       <defs>\n        <path id=\"DejaVuSans-31\" d=\"M 794 531 \nL 1825 531 \nL 1825 4091 \nL 703 3866 \nL 703 4441 \nL 1819 4666 \nL 2450 4666 \nL 2450 531 \nL 3481 531 \nL 3481 0 \nL 794 0 \nL 794 531 \nz\n\" transform=\"scale(0.015625)\"/>\n       </defs>\n       <use xlink:href=\"#DejaVuSans-30\"/>\n       <use xlink:href=\"#DejaVuSans-2e\" x=\"63.623047\"/>\n       <use xlink:href=\"#DejaVuSans-30\" x=\"95.410156\"/>\n       <use xlink:href=\"#DejaVuSans-31\" x=\"159.033203\"/>\n      </g>\n     </g>\n    </g>\n    <g id=\"ytick_8\">\n     <g id=\"line2d_22\">\n      <path d=\"M 48.190938 435.509642 \nL 1164.190938 435.509642 \n\" clip-path=\"url(#pd4c9219659)\" style=\"fill: none; stroke: #ffffff; stroke-linecap: round\"/>\n     </g>\n     <g id=\"text_21\">\n      <!-- 0.02 -->\n      <g style=\"fill: #555555\" transform=\"translate(14.19875 439.688782) scale(0.11 -0.11)\">\n       <use xlink:href=\"#DejaVuSans-30\"/>\n       <use xlink:href=\"#DejaVuSans-2e\" x=\"63.623047\"/>\n       <use xlink:href=\"#DejaVuSans-30\" x=\"95.410156\"/>\n       <use xlink:href=\"#DejaVuSans-32\" x=\"159.033203\"/>\n      </g>\n     </g>\n    </g>\n    <g id=\"ytick_9\">\n     <g id=\"line2d_23\">\n      <path d=\"M 48.190938 391.106625 \nL 1164.190938 391.106625 \n\" clip-path=\"url(#pd4c9219659)\" style=\"fill: none; stroke: #ffffff; stroke-linecap: round\"/>\n     </g>\n     <g id=\"text_22\">\n      <!-- 0.03 -->\n      <g style=\"fill: #555555\" transform=\"translate(14.19875 395.285766) scale(0.11 -0.11)\">\n       <defs>\n        <path id=\"DejaVuSans-33\" d=\"M 2597 2516 \nQ 3050 2419 3304 2112 \nQ 3559 1806 3559 1356 \nQ 3559 666 3084 287 \nQ 2609 -91 1734 -91 \nQ 1441 -91 1130 -33 \nQ 819 25 488 141 \nL 488 750 \nQ 750 597 1062 519 \nQ 1375 441 1716 441 \nQ 2309 441 2620 675 \nQ 2931 909 2931 1356 \nQ 2931 1769 2642 2001 \nQ 2353 2234 1838 2234 \nL 1294 2234 \nL 1294 2753 \nL 1863 2753 \nQ 2328 2753 2575 2939 \nQ 2822 3125 2822 3475 \nQ 2822 3834 2567 4026 \nQ 2313 4219 1838 4219 \nQ 1578 4219 1281 4162 \nQ 984 4106 628 3988 \nL 628 4550 \nQ 988 4650 1302 4700 \nQ 1616 4750 1894 4750 \nQ 2613 4750 3031 4423 \nQ 3450 4097 3450 3541 \nQ 3450 3153 3228 2886 \nQ 3006 2619 2597 2516 \nz\n\" transform=\"scale(0.015625)\"/>\n       </defs>\n       <use xlink:href=\"#DejaVuSans-30\"/>\n       <use xlink:href=\"#DejaVuSans-2e\" x=\"63.623047\"/>\n       <use xlink:href=\"#DejaVuSans-30\" x=\"95.410156\"/>\n       <use xlink:href=\"#DejaVuSans-33\" x=\"159.033203\"/>\n      </g>\n     </g>\n    </g>\n    <g id=\"ytick_10\">\n     <g id=\"line2d_24\">\n      <path d=\"M 48.190938 346.703609 \nL 1164.190938 346.703609 \n\" clip-path=\"url(#pd4c9219659)\" style=\"fill: none; stroke: #ffffff; stroke-linecap: round\"/>\n     </g>\n     <g id=\"text_23\">\n      <!-- 0.04 -->\n      <g style=\"fill: #555555\" transform=\"translate(14.19875 350.88275) scale(0.11 -0.11)\">\n       <use xlink:href=\"#DejaVuSans-30\"/>\n       <use xlink:href=\"#DejaVuSans-2e\" x=\"63.623047\"/>\n       <use xlink:href=\"#DejaVuSans-30\" x=\"95.410156\"/>\n       <use xlink:href=\"#DejaVuSans-34\" x=\"159.033203\"/>\n      </g>\n     </g>\n    </g>\n   </g>\n   <g id=\"line2d_25\">\n    <path d=\"M 98.91821 315.883636 \nL 211.645483 427.149572 \nL 324.372756 450.385807 \nL 437.100028 463.428364 \nL 549.827301 473.038747 \nL 662.554574 480.305865 \nL 775.281847 486.230312 \nL 888.009119 491.4448 \nL 1000.736392 495.587781 \nL 1113.463665 499.156364 \n\" clip-path=\"url(#pd4c9219659)\" style=\"fill: none; stroke: #e24a33; stroke-width: 1.5; stroke-linecap: round\"/>\n   </g>\n   <g id=\"line2d_26\">\n    <path d=\"M 98.91821 393.87337 \nL 211.645483 409.994854 \nL 324.372756 414.406895 \nL 437.100028 410.979903 \nL 549.827301 405.257352 \nL 662.554574 398.763822 \nL 775.281847 389.214324 \nL 888.009119 382.410502 \nL 1000.736392 374.288486 \nL 1113.463665 364.68527 \n\" clip-path=\"url(#pd4c9219659)\" style=\"fill: none; stroke: #348abd; stroke-width: 1.5; stroke-linecap: round\"/>\n   </g>\n   <g id=\"patch_9\">\n    <path d=\"M 48.190938 508.32 \nL 48.190938 306.72 \n\" style=\"fill: none; stroke: #ffffff; stroke-linejoin: miter; stroke-linecap: square\"/>\n   </g>\n   <g id=\"patch_10\">\n    <path d=\"M 1164.190938 508.32 \nL 1164.190938 306.72 \n\" style=\"fill: none; stroke: #ffffff; stroke-linejoin: miter; stroke-linecap: square\"/>\n   </g>\n   <g id=\"patch_11\">\n    <path d=\"M 48.190938 508.32 \nL 1164.190938 508.32 \n\" style=\"fill: none; stroke: #ffffff; stroke-linejoin: miter; stroke-linecap: square\"/>\n   </g>\n   <g id=\"patch_12\">\n    <path d=\"M 48.190938 306.72 \nL 1164.190938 306.72 \n\" style=\"fill: none; stroke: #ffffff; stroke-linejoin: miter; stroke-linecap: square\"/>\n   </g>\n   <g id=\"text_24\">\n    <!-- Model Loss -->\n    <g style=\"fill: #262626\" transform=\"translate(573.1075 300.72) scale(0.12 -0.12)\">\n     <defs>\n      <path id=\"DejaVuSans-4c\" d=\"M 628 4666 \nL 1259 4666 \nL 1259 531 \nL 3531 531 \nL 3531 0 \nL 628 0 \nL 628 4666 \nz\n\" transform=\"scale(0.015625)\"/>\n      <path id=\"DejaVuSans-73\" d=\"M 2834 3397 \nL 2834 2853 \nQ 2591 2978 2328 3040 \nQ 2066 3103 1784 3103 \nQ 1356 3103 1142 2972 \nQ 928 2841 928 2578 \nQ 928 2378 1081 2264 \nQ 1234 2150 1697 2047 \nL 1894 2003 \nQ 2506 1872 2764 1633 \nQ 3022 1394 3022 966 \nQ 3022 478 2636 193 \nQ 2250 -91 1575 -91 \nQ 1294 -91 989 -36 \nQ 684 19 347 128 \nL 347 722 \nQ 666 556 975 473 \nQ 1284 391 1588 391 \nQ 1994 391 2212 530 \nQ 2431 669 2431 922 \nQ 2431 1156 2273 1281 \nQ 2116 1406 1581 1522 \nL 1381 1569 \nQ 847 1681 609 1914 \nQ 372 2147 372 2553 \nQ 372 3047 722 3315 \nQ 1072 3584 1716 3584 \nQ 2034 3584 2315 3537 \nQ 2597 3491 2834 3397 \nz\n\" transform=\"scale(0.015625)\"/>\n     </defs>\n     <use xlink:href=\"#DejaVuSans-4d\"/>\n     <use xlink:href=\"#DejaVuSans-6f\" x=\"86.279297\"/>\n     <use xlink:href=\"#DejaVuSans-64\" x=\"147.460938\"/>\n     <use xlink:href=\"#DejaVuSans-65\" x=\"210.9375\"/>\n     <use xlink:href=\"#DejaVuSans-6c\" x=\"272.460938\"/>\n     <use xlink:href=\"#DejaVuSans-20\" x=\"300.244141\"/>\n     <use xlink:href=\"#DejaVuSans-4c\" x=\"332.03125\"/>\n     <use xlink:href=\"#DejaVuSans-6f\" x=\"385.994141\"/>\n     <use xlink:href=\"#DejaVuSans-73\" x=\"447.175781\"/>\n     <use xlink:href=\"#DejaVuSans-73\" x=\"499.275391\"/>\n    </g>\n   </g>\n   <g id=\"legend_2\">\n    <g id=\"patch_13\">\n     <path d=\"M 1078.23625 348.117812 \nL 1156.490938 348.117812 \nQ 1158.690938 348.117812 1158.690938 345.917812 \nL 1158.690938 314.42 \nQ 1158.690938 312.22 1156.490938 312.22 \nL 1078.23625 312.22 \nQ 1076.03625 312.22 1076.03625 314.42 \nL 1076.03625 345.917812 \nQ 1076.03625 348.117812 1078.23625 348.117812 \nz\n\" style=\"fill: #e5e5e5; opacity: 0.8; stroke: #cccccc; stroke-width: 0.5; stroke-linejoin: miter\"/>\n    </g>\n    <g id=\"line2d_27\">\n     <path d=\"M 1080.43625 321.128281 \nL 1091.43625 321.128281 \nL 1102.43625 321.128281 \n\" style=\"fill: none; stroke: #e24a33; stroke-width: 1.5; stroke-linecap: round\"/>\n    </g>\n    <g id=\"text_25\">\n     <!-- loss -->\n     <g style=\"fill: #262626\" transform=\"translate(1111.23625 324.978281) scale(0.11 -0.11)\">\n      <use xlink:href=\"#DejaVuSans-6c\"/>\n      <use xlink:href=\"#DejaVuSans-6f\" x=\"27.783203\"/>\n      <use xlink:href=\"#DejaVuSans-73\" x=\"88.964844\"/>\n      <use xlink:href=\"#DejaVuSans-73\" x=\"141.064453\"/>\n     </g>\n    </g>\n    <g id=\"line2d_28\">\n     <path d=\"M 1080.43625 337.274219 \nL 1091.43625 337.274219 \nL 1102.43625 337.274219 \n\" style=\"fill: none; stroke: #348abd; stroke-width: 1.5; stroke-linecap: round\"/>\n    </g>\n    <g id=\"text_26\">\n     <!-- val_loss -->\n     <g style=\"fill: #262626\" transform=\"translate(1111.23625 341.124219) scale(0.11 -0.11)\">\n      <use xlink:href=\"#DejaVuSans-76\"/>\n      <use xlink:href=\"#DejaVuSans-61\" x=\"59.179688\"/>\n      <use xlink:href=\"#DejaVuSans-6c\" x=\"120.458984\"/>\n      <use xlink:href=\"#DejaVuSans-5f\" x=\"148.242188\"/>\n      <use xlink:href=\"#DejaVuSans-6c\" x=\"198.242188\"/>\n      <use xlink:href=\"#DejaVuSans-6f\" x=\"226.025391\"/>\n      <use xlink:href=\"#DejaVuSans-73\" x=\"287.207031\"/>\n      <use xlink:href=\"#DejaVuSans-73\" x=\"339.306641\"/>\n     </g>\n    </g>\n   </g>\n  </g>\n  <g id=\"text_27\">\n   <!-- Model Metrics -->\n   <g style=\"fill: #262626\" transform=\"translate(525.638125 20.877187) scale(0.18 -0.18)\">\n    <defs>\n     <path id=\"DejaVuSans-74\" d=\"M 1172 4494 \nL 1172 3500 \nL 2356 3500 \nL 2356 3053 \nL 1172 3053 \nL 1172 1153 \nQ 1172 725 1289 603 \nQ 1406 481 1766 481 \nL 2356 481 \nL 2356 0 \nL 1766 0 \nQ 1100 0 847 248 \nQ 594 497 594 1153 \nL 594 3053 \nL 172 3053 \nL 172 3500 \nL 594 3500 \nL 594 4494 \nL 1172 4494 \nz\n\" transform=\"scale(0.015625)\"/>\n     <path id=\"DejaVuSans-69\" d=\"M 603 3500 \nL 1178 3500 \nL 1178 0 \nL 603 0 \nL 603 3500 \nz\nM 603 4863 \nL 1178 4863 \nL 1178 4134 \nL 603 4134 \nL 603 4863 \nz\n\" transform=\"scale(0.015625)\"/>\n    </defs>\n    <use xlink:href=\"#DejaVuSans-4d\"/>\n    <use xlink:href=\"#DejaVuSans-6f\" x=\"86.279297\"/>\n    <use xlink:href=\"#DejaVuSans-64\" x=\"147.460938\"/>\n    <use xlink:href=\"#DejaVuSans-65\" x=\"210.9375\"/>\n    <use xlink:href=\"#DejaVuSans-6c\" x=\"272.460938\"/>\n    <use xlink:href=\"#DejaVuSans-20\" x=\"300.244141\"/>\n    <use xlink:href=\"#DejaVuSans-4d\" x=\"332.03125\"/>\n    <use xlink:href=\"#DejaVuSans-65\" x=\"418.310547\"/>\n    <use xlink:href=\"#DejaVuSans-74\" x=\"479.833984\"/>\n    <use xlink:href=\"#DejaVuSans-72\" x=\"519.042969\"/>\n    <use xlink:href=\"#DejaVuSans-69\" x=\"560.15625\"/>\n    <use xlink:href=\"#DejaVuSans-63\" x=\"587.939453\"/>\n    <use xlink:href=\"#DejaVuSans-73\" x=\"642.919922\"/>\n   </g>\n  </g>\n </g>\n <defs>\n  <clipPath id=\"p75c311c83c\">\n   <rect x=\"48.190938\" y=\"64.8\" width=\"1116\" height=\"201.6\"/>\n  </clipPath>\n  <clipPath id=\"pd4c9219659\">\n   <rect x=\"48.190938\" y=\"306.72\" width=\"1116\" height=\"201.6\"/>\n  </clipPath>\n </defs>\n</svg>\n"
          },
          "metadata": {}
        }
      ]
    },
    {
      "cell_type": "code",
      "source": [
        "df.head()"
      ],
      "metadata": {
        "colab": {
          "base_uri": "https://localhost:8080/",
          "height": 206
        },
        "id": "JyjM4_JQ3ffo",
        "outputId": "a74b8abd-ba22-42f2-bb6c-3a99ce6ca70b"
      },
      "execution_count": 182,
      "outputs": [
        {
          "output_type": "execute_result",
          "data": {
            "text/plain": [
              "       loss  accuracy  val_loss  val_accuracy     lr\n",
              "0  0.046941  0.986652  0.029377      0.991439  0.001\n",
              "1  0.021883  0.993532  0.025746      0.992318  0.001\n",
              "2  0.016650  0.994913  0.024753      0.992636  0.001\n",
              "3  0.013712  0.995668  0.025524      0.992729  0.001\n",
              "4  0.011548  0.996293  0.026813      0.992434  0.001"
            ],
            "text/html": [
              "\n",
              "  <div id=\"df-7b490242-1472-4d23-a702-fded89cf4590\" class=\"colab-df-container\">\n",
              "    <div>\n",
              "<style scoped>\n",
              "    .dataframe tbody tr th:only-of-type {\n",
              "        vertical-align: middle;\n",
              "    }\n",
              "\n",
              "    .dataframe tbody tr th {\n",
              "        vertical-align: top;\n",
              "    }\n",
              "\n",
              "    .dataframe thead th {\n",
              "        text-align: right;\n",
              "    }\n",
              "</style>\n",
              "<table border=\"1\" class=\"dataframe\">\n",
              "  <thead>\n",
              "    <tr style=\"text-align: right;\">\n",
              "      <th></th>\n",
              "      <th>loss</th>\n",
              "      <th>accuracy</th>\n",
              "      <th>val_loss</th>\n",
              "      <th>val_accuracy</th>\n",
              "      <th>lr</th>\n",
              "    </tr>\n",
              "  </thead>\n",
              "  <tbody>\n",
              "    <tr>\n",
              "      <th>0</th>\n",
              "      <td>0.046941</td>\n",
              "      <td>0.986652</td>\n",
              "      <td>0.029377</td>\n",
              "      <td>0.991439</td>\n",
              "      <td>0.001</td>\n",
              "    </tr>\n",
              "    <tr>\n",
              "      <th>1</th>\n",
              "      <td>0.021883</td>\n",
              "      <td>0.993532</td>\n",
              "      <td>0.025746</td>\n",
              "      <td>0.992318</td>\n",
              "      <td>0.001</td>\n",
              "    </tr>\n",
              "    <tr>\n",
              "      <th>2</th>\n",
              "      <td>0.016650</td>\n",
              "      <td>0.994913</td>\n",
              "      <td>0.024753</td>\n",
              "      <td>0.992636</td>\n",
              "      <td>0.001</td>\n",
              "    </tr>\n",
              "    <tr>\n",
              "      <th>3</th>\n",
              "      <td>0.013712</td>\n",
              "      <td>0.995668</td>\n",
              "      <td>0.025524</td>\n",
              "      <td>0.992729</td>\n",
              "      <td>0.001</td>\n",
              "    </tr>\n",
              "    <tr>\n",
              "      <th>4</th>\n",
              "      <td>0.011548</td>\n",
              "      <td>0.996293</td>\n",
              "      <td>0.026813</td>\n",
              "      <td>0.992434</td>\n",
              "      <td>0.001</td>\n",
              "    </tr>\n",
              "  </tbody>\n",
              "</table>\n",
              "</div>\n",
              "    <div class=\"colab-df-buttons\">\n",
              "\n",
              "  <div class=\"colab-df-container\">\n",
              "    <button class=\"colab-df-convert\" onclick=\"convertToInteractive('df-7b490242-1472-4d23-a702-fded89cf4590')\"\n",
              "            title=\"Convert this dataframe to an interactive table.\"\n",
              "            style=\"display:none;\">\n",
              "\n",
              "  <svg xmlns=\"http://www.w3.org/2000/svg\" height=\"24px\" viewBox=\"0 -960 960 960\">\n",
              "    <path d=\"M120-120v-720h720v720H120Zm60-500h600v-160H180v160Zm220 220h160v-160H400v160Zm0 220h160v-160H400v160ZM180-400h160v-160H180v160Zm440 0h160v-160H620v160ZM180-180h160v-160H180v160Zm440 0h160v-160H620v160Z\"/>\n",
              "  </svg>\n",
              "    </button>\n",
              "\n",
              "  <style>\n",
              "    .colab-df-container {\n",
              "      display:flex;\n",
              "      gap: 12px;\n",
              "    }\n",
              "\n",
              "    .colab-df-convert {\n",
              "      background-color: #E8F0FE;\n",
              "      border: none;\n",
              "      border-radius: 50%;\n",
              "      cursor: pointer;\n",
              "      display: none;\n",
              "      fill: #1967D2;\n",
              "      height: 32px;\n",
              "      padding: 0 0 0 0;\n",
              "      width: 32px;\n",
              "    }\n",
              "\n",
              "    .colab-df-convert:hover {\n",
              "      background-color: #E2EBFA;\n",
              "      box-shadow: 0px 1px 2px rgba(60, 64, 67, 0.3), 0px 1px 3px 1px rgba(60, 64, 67, 0.15);\n",
              "      fill: #174EA6;\n",
              "    }\n",
              "\n",
              "    .colab-df-buttons div {\n",
              "      margin-bottom: 4px;\n",
              "    }\n",
              "\n",
              "    [theme=dark] .colab-df-convert {\n",
              "      background-color: #3B4455;\n",
              "      fill: #D2E3FC;\n",
              "    }\n",
              "\n",
              "    [theme=dark] .colab-df-convert:hover {\n",
              "      background-color: #434B5C;\n",
              "      box-shadow: 0px 1px 3px 1px rgba(0, 0, 0, 0.15);\n",
              "      filter: drop-shadow(0px 1px 2px rgba(0, 0, 0, 0.3));\n",
              "      fill: #FFFFFF;\n",
              "    }\n",
              "  </style>\n",
              "\n",
              "    <script>\n",
              "      const buttonEl =\n",
              "        document.querySelector('#df-7b490242-1472-4d23-a702-fded89cf4590 button.colab-df-convert');\n",
              "      buttonEl.style.display =\n",
              "        google.colab.kernel.accessAllowed ? 'block' : 'none';\n",
              "\n",
              "      async function convertToInteractive(key) {\n",
              "        const element = document.querySelector('#df-7b490242-1472-4d23-a702-fded89cf4590');\n",
              "        const dataTable =\n",
              "          await google.colab.kernel.invokeFunction('convertToInteractive',\n",
              "                                                    [key], {});\n",
              "        if (!dataTable) return;\n",
              "\n",
              "        const docLinkHtml = 'Like what you see? Visit the ' +\n",
              "          '<a target=\"_blank\" href=https://colab.research.google.com/notebooks/data_table.ipynb>data table notebook</a>'\n",
              "          + ' to learn more about interactive tables.';\n",
              "        element.innerHTML = '';\n",
              "        dataTable['output_type'] = 'display_data';\n",
              "        await google.colab.output.renderOutput(dataTable, element);\n",
              "        const docLink = document.createElement('div');\n",
              "        docLink.innerHTML = docLinkHtml;\n",
              "        element.appendChild(docLink);\n",
              "      }\n",
              "    </script>\n",
              "  </div>\n",
              "\n",
              "\n",
              "<div id=\"df-0c495f3d-7f6c-43b4-9e31-528a9f7d789e\">\n",
              "  <button class=\"colab-df-quickchart\" onclick=\"quickchart('df-0c495f3d-7f6c-43b4-9e31-528a9f7d789e')\"\n",
              "            title=\"Suggest charts\"\n",
              "            style=\"display:none;\">\n",
              "\n",
              "<svg xmlns=\"http://www.w3.org/2000/svg\" height=\"24px\"viewBox=\"0 0 24 24\"\n",
              "     width=\"24px\">\n",
              "    <g>\n",
              "        <path d=\"M19 3H5c-1.1 0-2 .9-2 2v14c0 1.1.9 2 2 2h14c1.1 0 2-.9 2-2V5c0-1.1-.9-2-2-2zM9 17H7v-7h2v7zm4 0h-2V7h2v10zm4 0h-2v-4h2v4z\"/>\n",
              "    </g>\n",
              "</svg>\n",
              "  </button>\n",
              "\n",
              "<style>\n",
              "  .colab-df-quickchart {\n",
              "      --bg-color: #E8F0FE;\n",
              "      --fill-color: #1967D2;\n",
              "      --hover-bg-color: #E2EBFA;\n",
              "      --hover-fill-color: #174EA6;\n",
              "      --disabled-fill-color: #AAA;\n",
              "      --disabled-bg-color: #DDD;\n",
              "  }\n",
              "\n",
              "  [theme=dark] .colab-df-quickchart {\n",
              "      --bg-color: #3B4455;\n",
              "      --fill-color: #D2E3FC;\n",
              "      --hover-bg-color: #434B5C;\n",
              "      --hover-fill-color: #FFFFFF;\n",
              "      --disabled-bg-color: #3B4455;\n",
              "      --disabled-fill-color: #666;\n",
              "  }\n",
              "\n",
              "  .colab-df-quickchart {\n",
              "    background-color: var(--bg-color);\n",
              "    border: none;\n",
              "    border-radius: 50%;\n",
              "    cursor: pointer;\n",
              "    display: none;\n",
              "    fill: var(--fill-color);\n",
              "    height: 32px;\n",
              "    padding: 0;\n",
              "    width: 32px;\n",
              "  }\n",
              "\n",
              "  .colab-df-quickchart:hover {\n",
              "    background-color: var(--hover-bg-color);\n",
              "    box-shadow: 0 1px 2px rgba(60, 64, 67, 0.3), 0 1px 3px 1px rgba(60, 64, 67, 0.15);\n",
              "    fill: var(--button-hover-fill-color);\n",
              "  }\n",
              "\n",
              "  .colab-df-quickchart-complete:disabled,\n",
              "  .colab-df-quickchart-complete:disabled:hover {\n",
              "    background-color: var(--disabled-bg-color);\n",
              "    fill: var(--disabled-fill-color);\n",
              "    box-shadow: none;\n",
              "  }\n",
              "\n",
              "  .colab-df-spinner {\n",
              "    border: 2px solid var(--fill-color);\n",
              "    border-color: transparent;\n",
              "    border-bottom-color: var(--fill-color);\n",
              "    animation:\n",
              "      spin 1s steps(1) infinite;\n",
              "  }\n",
              "\n",
              "  @keyframes spin {\n",
              "    0% {\n",
              "      border-color: transparent;\n",
              "      border-bottom-color: var(--fill-color);\n",
              "      border-left-color: var(--fill-color);\n",
              "    }\n",
              "    20% {\n",
              "      border-color: transparent;\n",
              "      border-left-color: var(--fill-color);\n",
              "      border-top-color: var(--fill-color);\n",
              "    }\n",
              "    30% {\n",
              "      border-color: transparent;\n",
              "      border-left-color: var(--fill-color);\n",
              "      border-top-color: var(--fill-color);\n",
              "      border-right-color: var(--fill-color);\n",
              "    }\n",
              "    40% {\n",
              "      border-color: transparent;\n",
              "      border-right-color: var(--fill-color);\n",
              "      border-top-color: var(--fill-color);\n",
              "    }\n",
              "    60% {\n",
              "      border-color: transparent;\n",
              "      border-right-color: var(--fill-color);\n",
              "    }\n",
              "    80% {\n",
              "      border-color: transparent;\n",
              "      border-right-color: var(--fill-color);\n",
              "      border-bottom-color: var(--fill-color);\n",
              "    }\n",
              "    90% {\n",
              "      border-color: transparent;\n",
              "      border-bottom-color: var(--fill-color);\n",
              "    }\n",
              "  }\n",
              "</style>\n",
              "\n",
              "  <script>\n",
              "    async function quickchart(key) {\n",
              "      const quickchartButtonEl =\n",
              "        document.querySelector('#' + key + ' button');\n",
              "      quickchartButtonEl.disabled = true;  // To prevent multiple clicks.\n",
              "      quickchartButtonEl.classList.add('colab-df-spinner');\n",
              "      try {\n",
              "        const charts = await google.colab.kernel.invokeFunction(\n",
              "            'suggestCharts', [key], {});\n",
              "      } catch (error) {\n",
              "        console.error('Error during call to suggestCharts:', error);\n",
              "      }\n",
              "      quickchartButtonEl.classList.remove('colab-df-spinner');\n",
              "      quickchartButtonEl.classList.add('colab-df-quickchart-complete');\n",
              "    }\n",
              "    (() => {\n",
              "      let quickchartButtonEl =\n",
              "        document.querySelector('#df-0c495f3d-7f6c-43b4-9e31-528a9f7d789e button');\n",
              "      quickchartButtonEl.style.display =\n",
              "        google.colab.kernel.accessAllowed ? 'block' : 'none';\n",
              "    })();\n",
              "  </script>\n",
              "</div>\n",
              "\n",
              "    </div>\n",
              "  </div>\n"
            ],
            "application/vnd.google.colaboratory.intrinsic+json": {
              "type": "dataframe",
              "variable_name": "df",
              "summary": "{\n  \"name\": \"df\",\n  \"rows\": 10,\n  \"fields\": [\n    {\n      \"column\": \"loss\",\n      \"properties\": {\n        \"dtype\": \"number\",\n        \"std\": 0.012331024183947858,\n        \"min\": 0.005666126497089863,\n        \"max\": 0.046940963715314865,\n        \"num_unique_values\": 10,\n        \"samples\": [\n          0.006469806656241417,\n          0.02188277058303356,\n          0.009911445900797844\n        ],\n        \"semantic_type\": \"\",\n        \"description\": \"\"\n      }\n    },\n    {\n      \"column\": \"accuracy\",\n      \"properties\": {\n        \"dtype\": \"number\",\n        \"std\": 0.0034149099846934668,\n        \"min\": 0.9866517186164856,\n        \"max\": 0.9981484413146973,\n        \"num_unique_values\": 10,\n        \"samples\": [\n          0.9978953003883362,\n          0.993532121181488,\n          0.9967926144599915\n        ],\n        \"semantic_type\": \"\",\n        \"description\": \"\"\n      }\n    },\n    {\n      \"column\": \"val_loss\",\n      \"properties\": {\n        \"dtype\": \"number\",\n        \"std\": 0.003763729464996707,\n        \"min\": 0.024752547964453697,\n        \"max\": 0.035950351506471634,\n        \"num_unique_values\": 10,\n        \"samples\": [\n          0.03378761187195778,\n          0.025746183469891548,\n          0.028275523334741592\n        ],\n        \"semantic_type\": \"\",\n        \"description\": \"\"\n      }\n    },\n    {\n      \"column\": \"val_accuracy\",\n      \"properties\": {\n        \"dtype\": \"number\",\n        \"std\": 0.00037038265535404213,\n        \"min\": 0.991439163684845,\n        \"max\": 0.9927293062210083,\n        \"num_unique_values\": 10,\n        \"samples\": [\n          0.99225914478302,\n          0.992318332195282,\n          0.9924806952476501\n        ],\n        \"semantic_type\": \"\",\n        \"description\": \"\"\n      }\n    },\n    {\n      \"column\": \"lr\",\n      \"properties\": {\n        \"dtype\": \"float32\",\n        \"num_unique_values\": 1,\n        \"samples\": [\n          0.0010000000474974513\n        ],\n        \"semantic_type\": \"\",\n        \"description\": \"\"\n      }\n    }\n  ]\n}"
            }
          },
          "metadata": {},
          "execution_count": 182
        }
      ]
    },
    {
      "cell_type": "code",
      "source": [
        "type(history)"
      ],
      "metadata": {
        "colab": {
          "base_uri": "https://localhost:8080/",
          "height": 187
        },
        "id": "Yu2zRvA84Eae",
        "outputId": "ef9d6299-27a6-4510-e5f6-973298279f99"
      },
      "execution_count": 183,
      "outputs": [
        {
          "output_type": "execute_result",
          "data": {
            "text/plain": [
              "keras.src.callbacks.History"
            ],
            "text/html": [
              "<div style=\"max-width:800px; border: 1px solid var(--colab-border-color);\"><style>\n",
              "      pre.function-repr-contents {\n",
              "        overflow-x: auto;\n",
              "        padding: 8px 12px;\n",
              "        max-height: 500px;\n",
              "      }\n",
              "\n",
              "      pre.function-repr-contents.function-repr-contents-collapsed {\n",
              "        cursor: pointer;\n",
              "        max-height: 100px;\n",
              "      }\n",
              "    </style>\n",
              "    <pre style=\"white-space: initial; background:\n",
              "         var(--colab-secondary-surface-color); padding: 8px 12px;\n",
              "         border-bottom: 1px solid var(--colab-border-color);\"><b>keras.src.callbacks.History</b><br/>def __init__()</pre><pre class=\"function-repr-contents function-repr-contents-collapsed\" style=\"\"><a class=\"filepath\" style=\"display:none\" href=\"#\">/usr/local/lib/python3.10/dist-packages/keras/src/callbacks.py</a>Callback that records events into a `History` object.\n",
              "\n",
              "This callback is automatically applied to\n",
              "every Keras model. The `History` object\n",
              "gets returned by the `fit` method of models.\n",
              "\n",
              "Example:\n",
              "\n",
              "&gt;&gt;&gt; model = tf.keras.models.Sequential([tf.keras.layers.Dense(10)])\n",
              "&gt;&gt;&gt; model.compile(tf.keras.optimizers.SGD(), loss=&#x27;mse&#x27;)\n",
              "&gt;&gt;&gt; history = model.fit(np.arange(100).reshape(5, 20), np.zeros(5),\n",
              "...                     epochs=10, verbose=1)\n",
              "&gt;&gt;&gt; print(history.params)\n",
              "{&#x27;verbose&#x27;: 1, &#x27;epochs&#x27;: 10, &#x27;steps&#x27;: 1}\n",
              "&gt;&gt;&gt; # check the keys of history object\n",
              "&gt;&gt;&gt; print(history.history.keys())\n",
              "dict_keys([&#x27;loss&#x27;])</pre>\n",
              "      <script>\n",
              "      if (google.colab.kernel.accessAllowed && google.colab.files && google.colab.files.view) {\n",
              "        for (const element of document.querySelectorAll('.filepath')) {\n",
              "          element.style.display = 'block'\n",
              "          element.onclick = (event) => {\n",
              "            event.preventDefault();\n",
              "            event.stopPropagation();\n",
              "            google.colab.files.view(element.textContent, 1184);\n",
              "          };\n",
              "        }\n",
              "      }\n",
              "      for (const element of document.querySelectorAll('.function-repr-contents')) {\n",
              "        element.onclick = (event) => {\n",
              "          event.preventDefault();\n",
              "          event.stopPropagation();\n",
              "          element.classList.toggle('function-repr-contents-collapsed');\n",
              "        };\n",
              "      }\n",
              "      </script>\n",
              "      </div>"
            ]
          },
          "metadata": {},
          "execution_count": 183
        }
      ]
    },
    {
      "cell_type": "code",
      "source": [
        "print(history.params)"
      ],
      "metadata": {
        "colab": {
          "base_uri": "https://localhost:8080/"
        },
        "id": "CERp35Vj43jr",
        "outputId": "fee89893-5b8d-450b-9254-9a9a2d7f5d92"
      },
      "execution_count": 186,
      "outputs": [
        {
          "output_type": "stream",
          "name": "stdout",
          "text": [
            "{'verbose': 1, 'epochs': 10, 'steps': 1199}\n"
          ]
        }
      ]
    },
    {
      "cell_type": "code",
      "source": [
        "# predict probabilities for test set\n",
        "##yhat_probs = history.model.predict(X, verbose=1)\n",
        "# predict crisp classes for test set\n",
        "###yhat_classes = history.model.predict(y, verbose=1)\n",
        "\n",
        "p = history.model.predict(X,verbose = 1)\n",
        "yhat_classes = np.argmax(p, axis=-1)"
      ],
      "metadata": {
        "colab": {
          "base_uri": "https://localhost:8080/"
        },
        "id": "JEXiwjlM-EfS",
        "outputId": "d05107d2-18ac-4166-b5ea-8caf90a2bafb"
      },
      "execution_count": 206,
      "outputs": [
        {
          "output_type": "stream",
          "name": "stdout",
          "text": [
            "1499/1499 [==============================] - 68s 45ms/step\n"
          ]
        }
      ]
    },
    {
      "cell_type": "code",
      "source": [
        "print(p.shape)\n",
        "print(y.shape)\n",
        "print(tags[p[0]])\n"
      ],
      "metadata": {
        "colab": {
          "base_uri": "https://localhost:8080/",
          "height": 211
        },
        "id": "qCCfrJWoD02I",
        "outputId": "6c4270ed-458e-476f-ee1b-b9f7850bfba3"
      },
      "execution_count": 211,
      "outputs": [
        {
          "output_type": "stream",
          "name": "stdout",
          "text": [
            "(47959, 104, 17)\n",
            "(47959, 104, 17)\n"
          ]
        },
        {
          "output_type": "error",
          "ename": "TypeError",
          "evalue": "only integer scalar arrays can be converted to a scalar index",
          "traceback": [
            "\u001b[0;31m---------------------------------------------------------------------------\u001b[0m",
            "\u001b[0;31mTypeError\u001b[0m                                 Traceback (most recent call last)",
            "\u001b[0;32m<ipython-input-211-5d8d1a8e6f45>\u001b[0m in \u001b[0;36m<cell line: 3>\u001b[0;34m()\u001b[0m\n\u001b[1;32m      1\u001b[0m \u001b[0mprint\u001b[0m\u001b[0;34m(\u001b[0m\u001b[0mp\u001b[0m\u001b[0;34m.\u001b[0m\u001b[0mshape\u001b[0m\u001b[0;34m)\u001b[0m\u001b[0;34m\u001b[0m\u001b[0;34m\u001b[0m\u001b[0m\n\u001b[1;32m      2\u001b[0m \u001b[0mprint\u001b[0m\u001b[0;34m(\u001b[0m\u001b[0my\u001b[0m\u001b[0;34m.\u001b[0m\u001b[0mshape\u001b[0m\u001b[0;34m)\u001b[0m\u001b[0;34m\u001b[0m\u001b[0;34m\u001b[0m\u001b[0m\n\u001b[0;32m----> 3\u001b[0;31m \u001b[0mprint\u001b[0m\u001b[0;34m(\u001b[0m\u001b[0mtags\u001b[0m\u001b[0;34m[\u001b[0m\u001b[0mp\u001b[0m\u001b[0;34m[\u001b[0m\u001b[0;36m0\u001b[0m\u001b[0;34m]\u001b[0m\u001b[0;34m]\u001b[0m\u001b[0;34m)\u001b[0m\u001b[0;34m\u001b[0m\u001b[0;34m\u001b[0m\u001b[0m\n\u001b[0m",
            "\u001b[0;31mTypeError\u001b[0m: only integer scalar arrays can be converted to a scalar index"
          ]
        }
      ]
    },
    {
      "cell_type": "code",
      "source": [
        "print(yhat_probs)"
      ],
      "metadata": {
        "colab": {
          "base_uri": "https://localhost:8080/"
        },
        "id": "yPTHpDnb-tB9",
        "outputId": "e957b30d-a253-4581-8c70-840aa30778bc"
      },
      "execution_count": 190,
      "outputs": [
        {
          "output_type": "stream",
          "name": "stdout",
          "text": [
            "[[[9.99986351e-01 2.98005801e-07 1.17595584e-06 ... 4.45741613e-08\n",
            "   3.65322350e-08 9.23933783e-08]\n",
            "  [9.99997914e-01 7.70259163e-08 4.34023093e-08 ... 7.41571959e-09\n",
            "   8.39449310e-09 5.30102939e-09]\n",
            "  [9.99978244e-01 3.40594033e-06 3.50034315e-06 ... 4.89931073e-09\n",
            "   3.25968003e-10 1.09610855e-10]\n",
            "  ...\n",
            "  [9.99999940e-01 4.75902789e-11 1.97828934e-10 ... 2.66107913e-10\n",
            "   7.69668107e-10 1.29006264e-10]\n",
            "  [9.99999821e-01 1.05143771e-09 4.01320532e-09 ... 9.47951495e-09\n",
            "   2.34917135e-08 7.20212201e-09]\n",
            "  [9.99992073e-01 8.44448778e-08 1.57052540e-07 ... 6.43556859e-07\n",
            "   1.53910128e-06 5.86985948e-07]]\n",
            "\n",
            " [[1.15839539e-05 2.79431930e-04 2.36344317e-06 ... 2.69969933e-05\n",
            "   2.67476776e-06 4.52013822e-08]\n",
            "  [9.99999821e-01 4.20332746e-08 4.30666844e-08 ... 5.22617638e-09\n",
            "   7.90206744e-09 6.24948482e-10]\n",
            "  [9.99999821e-01 1.76752728e-08 3.18423545e-08 ... 1.71516257e-09\n",
            "   1.64547131e-09 1.70986045e-10]\n",
            "  ...\n",
            "  [9.99999940e-01 4.75701319e-11 1.97635450e-10 ... 2.64897104e-10\n",
            "   7.66892660e-10 1.28458952e-10]\n",
            "  [9.99999821e-01 1.05101672e-09 4.00949451e-09 ... 9.43861433e-09\n",
            "   2.34115110e-08 7.17320914e-09]\n",
            "  [9.99992073e-01 8.44126760e-08 1.56915405e-07 ... 6.40925066e-07\n",
            "   1.53412464e-06 5.84757117e-07]]\n",
            "\n",
            " [[9.99934018e-01 1.03965465e-06 1.20025543e-05 ... 2.99365865e-06\n",
            "   1.87084117e-06 7.63863852e-07]\n",
            "  [9.98067856e-01 3.31298480e-07 9.09599883e-04 ... 1.95563734e-06\n",
            "   2.44645230e-06 7.91323771e-07]\n",
            "  [2.62550253e-04 2.08169737e-07 4.76631714e-04 ... 4.45276737e-06\n",
            "   9.39339827e-07 9.16128613e-07]\n",
            "  ...\n",
            "  [9.99999940e-01 4.77183466e-11 1.99002106e-10 ... 2.69059386e-10\n",
            "   7.73943076e-10 1.30009892e-10]\n",
            "  [9.99999821e-01 1.05413256e-09 4.03588851e-09 ... 9.57915347e-09\n",
            "   2.36148949e-08 7.25528704e-09]\n",
            "  [9.99991953e-01 8.46512833e-08 1.57898654e-07 ... 6.49972094e-07\n",
            "   1.54672750e-06 5.91100672e-07]]\n",
            "\n",
            " ...\n",
            "\n",
            " [[9.99885261e-01 1.02258446e-05 5.27616749e-06 ... 1.58856728e-05\n",
            "   4.09265340e-06 2.99831100e-07]\n",
            "  [4.41752081e-06 1.92882400e-03 5.19862760e-06 ... 9.32952826e-05\n",
            "   3.93716346e-06 5.91740381e-08]\n",
            "  [9.99851704e-01 9.77801307e-08 2.09750027e-07 ... 1.36041209e-07\n",
            "   1.14380089e-06 6.73736835e-08]\n",
            "  ...\n",
            "  [9.99999940e-01 4.75479968e-11 1.97746694e-10 ... 2.66656142e-10\n",
            "   7.72323927e-10 1.29428940e-10]\n",
            "  [9.99999821e-01 1.05053966e-09 4.01150668e-09 ... 9.49772172e-09\n",
            "   2.35683668e-08 7.22432780e-09]\n",
            "  [9.99992073e-01 8.43754862e-08 1.56985763e-07 ... 6.44710497e-07\n",
            "   1.54385691e-06 5.88692444e-07]]\n",
            "\n",
            " [[9.93308127e-01 1.60816782e-07 8.43378587e-07 ... 5.69700376e-07\n",
            "   2.47329262e-06 4.12665401e-07]\n",
            "  [9.99294281e-01 1.12393508e-08 3.65992605e-08 ... 5.04695947e-07\n",
            "   1.86395971e-06 6.20266647e-08]\n",
            "  [9.99999702e-01 1.37153663e-10 1.46243517e-09 ... 1.07571438e-10\n",
            "   8.29192714e-10 6.44272136e-11]\n",
            "  ...\n",
            "  [9.99999940e-01 4.75498113e-11 1.97527300e-10 ... 2.65441807e-10\n",
            "   7.68868469e-10 1.28789909e-10]\n",
            "  [9.99999821e-01 1.05058373e-09 4.00736155e-09 ... 9.45690459e-09\n",
            "   2.34685587e-08 7.19061966e-09]\n",
            "  [9.99992073e-01 8.43791881e-08 1.56834332e-07 ... 6.42093539e-07\n",
            "   1.53765905e-06 5.86092597e-07]]\n",
            "\n",
            " [[9.96222436e-01 3.73426685e-03 7.80689425e-06 ... 5.05897833e-06\n",
            "   1.11981841e-07 3.00701686e-10]\n",
            "  [1.91641215e-04 9.93643403e-01 4.52643462e-06 ... 2.14712218e-05\n",
            "   3.83385100e-07 5.73827999e-11]\n",
            "  [6.06216272e-05 1.38189964e-04 1.39501426e-05 ... 3.71579212e-08\n",
            "   6.90007084e-07 6.96105534e-11]\n",
            "  ...\n",
            "  [9.99999940e-01 4.77046944e-11 1.98914066e-10 ... 2.68674777e-10\n",
            "   7.72365172e-10 1.29747296e-10]\n",
            "  [9.99999821e-01 1.05385711e-09 4.03418765e-09 ... 9.56639123e-09\n",
            "   2.35691768e-08 7.24129601e-09]\n",
            "  [9.99992073e-01 8.46309547e-08 1.57835586e-07 ... 6.49166225e-07\n",
            "   1.54388329e-06 5.90012121e-07]]]\n"
          ]
        }
      ]
    },
    {
      "cell_type": "code",
      "source": [
        "i  = np.random.randint(0, X.shape[0])\n",
        "p = model.predict(np.array([X[i]]))\n",
        "p = np.argmax(p, axis=-1)\n",
        "y_true = np.argmax(y, axis=-1)[i]\n",
        "\n",
        "print(f\"{'Word':15}{'True':5}\\t{'Pred'}\")\n",
        "print(\"-\"*30)\n",
        "for (w, t, pred) in zip(X[i], y_true, p[0]):\n",
        "    print(f\"{words[w]:15}{tags[t]}\\t{tags[pred]}\")\n",
        "    if words[w] == 'ENDPAD':\n",
        "        break"
      ],
      "metadata": {
        "colab": {
          "base_uri": "https://localhost:8080/"
        },
        "id": "abVn2MKcD1vv",
        "outputId": "48424178-0329-402a-94fe-51a2f1931c2e"
      },
      "execution_count": 228,
      "outputs": [
        {
          "output_type": "stream",
          "name": "stdout",
          "text": [
            "1/1 [==============================] - 0s 69ms/step\n",
            "Word           True \tPred\n",
            "------------------------------\n",
            "For            B-nat\tB-nat\n",
            "the            B-nat\tB-nat\n",
            "last           B-nat\tB-nat\n",
            "four           B-org\tB-org\n",
            "weeks          B-nat\tB-nat\n",
            "a              B-nat\tB-nat\n",
            "team           B-nat\tB-nat\n",
            "led            B-nat\tB-nat\n",
            "by             B-nat\tB-nat\n",
            "former         B-nat\tB-nat\n",
            "UN             B-per\tB-per\n",
            "Secretary-GeneralI-org\tI-org\n",
            "Kofi           I-per\tI-per\n",
            "Annan          B-eve\tB-eve\n",
            "has            B-nat\tB-nat\n",
            "been           B-nat\tB-nat\n",
            "trying         B-nat\tB-nat\n",
            "to             B-nat\tB-nat\n",
            "broker         B-nat\tB-nat\n",
            "a              B-nat\tB-nat\n",
            "deal           B-nat\tB-nat\n",
            "between        B-nat\tB-nat\n",
            "the            B-nat\tB-nat\n",
            "Kenyan         I-eve\tI-eve\n",
            "government     B-nat\tB-nat\n",
            "of             B-nat\tB-nat\n",
            "President      I-per\tI-per\n",
            "Mwai           B-eve\tB-eve\n",
            "Kibaki         B-eve\tB-eve\n",
            "and            B-nat\tB-nat\n",
            "the            B-nat\tB-nat\n",
            "opposition     B-nat\tB-nat\n",
            "led            B-nat\tB-nat\n",
            "by             B-nat\tB-nat\n",
            "Raila          B-per\tB-per\n",
            "Odinga         I-org\tI-org\n",
            ".              B-nat\tB-nat\n",
            "ENDPAD         B-nat\tB-nat\n"
          ]
        }
      ]
    },
    {
      "cell_type": "code",
      "source": [
        "#Predict\n",
        "y_prediction = history.model.predict(X)\n",
        "y_prediction = np.argmax(y_prediction, axis = 1)\n",
        "y=np.argmax(y, axis=1)\n",
        "#Create confusion matrix and normalizes it over predicted (columns)\n",
        "result = confusion_matrix(y, y_prediction , normalize='pred')\n",
        "print(result)\n",
        "\n",
        "\n"
      ],
      "metadata": {
        "colab": {
          "base_uri": "https://localhost:8080/",
          "height": 373
        },
        "id": "YoWKAbnVOWHH",
        "outputId": "95a18030-c46f-4770-91ca-dd3944afd627"
      },
      "execution_count": 230,
      "outputs": [
        {
          "output_type": "stream",
          "name": "stdout",
          "text": [
            "1499/1499 [==============================] - 71s 47ms/step\n"
          ]
        },
        {
          "output_type": "error",
          "ename": "ValueError",
          "evalue": "multiclass-multioutput is not supported",
          "traceback": [
            "\u001b[0;31m---------------------------------------------------------------------------\u001b[0m",
            "\u001b[0;31mValueError\u001b[0m                                Traceback (most recent call last)",
            "\u001b[0;32m<ipython-input-230-42aeb157e863>\u001b[0m in \u001b[0;36m<cell line: 6>\u001b[0;34m()\u001b[0m\n\u001b[1;32m      4\u001b[0m \u001b[0my\u001b[0m\u001b[0;34m=\u001b[0m\u001b[0mnp\u001b[0m\u001b[0;34m.\u001b[0m\u001b[0margmax\u001b[0m\u001b[0;34m(\u001b[0m\u001b[0my\u001b[0m\u001b[0;34m,\u001b[0m \u001b[0maxis\u001b[0m\u001b[0;34m=\u001b[0m\u001b[0;36m1\u001b[0m\u001b[0;34m)\u001b[0m\u001b[0;34m\u001b[0m\u001b[0;34m\u001b[0m\u001b[0m\n\u001b[1;32m      5\u001b[0m \u001b[0;31m#Create confusion matrix and normalizes it over predicted (columns)\u001b[0m\u001b[0;34m\u001b[0m\u001b[0;34m\u001b[0m\u001b[0m\n\u001b[0;32m----> 6\u001b[0;31m \u001b[0mresult\u001b[0m \u001b[0;34m=\u001b[0m \u001b[0mconfusion_matrix\u001b[0m\u001b[0;34m(\u001b[0m\u001b[0my\u001b[0m\u001b[0;34m,\u001b[0m \u001b[0my_prediction\u001b[0m \u001b[0;34m,\u001b[0m \u001b[0mnormalize\u001b[0m\u001b[0;34m=\u001b[0m\u001b[0;34m'pred'\u001b[0m\u001b[0;34m)\u001b[0m\u001b[0;34m\u001b[0m\u001b[0;34m\u001b[0m\u001b[0m\n\u001b[0m\u001b[1;32m      7\u001b[0m \u001b[0mprint\u001b[0m\u001b[0;34m(\u001b[0m\u001b[0mresult\u001b[0m\u001b[0;34m)\u001b[0m\u001b[0;34m\u001b[0m\u001b[0;34m\u001b[0m\u001b[0m\n",
            "\u001b[0;32m/usr/local/lib/python3.10/dist-packages/sklearn/metrics/_classification.py\u001b[0m in \u001b[0;36mconfusion_matrix\u001b[0;34m(y_true, y_pred, labels, sample_weight, normalize)\u001b[0m\n\u001b[1;32m    315\u001b[0m     \u001b[0;34m(\u001b[0m\u001b[0;36m0\u001b[0m\u001b[0;34m,\u001b[0m \u001b[0;36m2\u001b[0m\u001b[0;34m,\u001b[0m \u001b[0;36m1\u001b[0m\u001b[0;34m,\u001b[0m \u001b[0;36m1\u001b[0m\u001b[0;34m)\u001b[0m\u001b[0;34m\u001b[0m\u001b[0;34m\u001b[0m\u001b[0m\n\u001b[1;32m    316\u001b[0m     \"\"\"\n\u001b[0;32m--> 317\u001b[0;31m     \u001b[0my_type\u001b[0m\u001b[0;34m,\u001b[0m \u001b[0my_true\u001b[0m\u001b[0;34m,\u001b[0m \u001b[0my_pred\u001b[0m \u001b[0;34m=\u001b[0m \u001b[0m_check_targets\u001b[0m\u001b[0;34m(\u001b[0m\u001b[0my_true\u001b[0m\u001b[0;34m,\u001b[0m \u001b[0my_pred\u001b[0m\u001b[0;34m)\u001b[0m\u001b[0;34m\u001b[0m\u001b[0;34m\u001b[0m\u001b[0m\n\u001b[0m\u001b[1;32m    318\u001b[0m     \u001b[0;32mif\u001b[0m \u001b[0my_type\u001b[0m \u001b[0;32mnot\u001b[0m \u001b[0;32min\u001b[0m \u001b[0;34m(\u001b[0m\u001b[0;34m\"binary\"\u001b[0m\u001b[0;34m,\u001b[0m \u001b[0;34m\"multiclass\"\u001b[0m\u001b[0;34m)\u001b[0m\u001b[0;34m:\u001b[0m\u001b[0;34m\u001b[0m\u001b[0;34m\u001b[0m\u001b[0m\n\u001b[1;32m    319\u001b[0m         \u001b[0;32mraise\u001b[0m \u001b[0mValueError\u001b[0m\u001b[0;34m(\u001b[0m\u001b[0;34m\"%s is not supported\"\u001b[0m \u001b[0;34m%\u001b[0m \u001b[0my_type\u001b[0m\u001b[0;34m)\u001b[0m\u001b[0;34m\u001b[0m\u001b[0;34m\u001b[0m\u001b[0m\n",
            "\u001b[0;32m/usr/local/lib/python3.10/dist-packages/sklearn/metrics/_classification.py\u001b[0m in \u001b[0;36m_check_targets\u001b[0;34m(y_true, y_pred)\u001b[0m\n\u001b[1;32m    104\u001b[0m     \u001b[0;31m# No metrics support \"multiclass-multioutput\" format\u001b[0m\u001b[0;34m\u001b[0m\u001b[0;34m\u001b[0m\u001b[0m\n\u001b[1;32m    105\u001b[0m     \u001b[0;32mif\u001b[0m \u001b[0my_type\u001b[0m \u001b[0;32mnot\u001b[0m \u001b[0;32min\u001b[0m \u001b[0;34m[\u001b[0m\u001b[0;34m\"binary\"\u001b[0m\u001b[0;34m,\u001b[0m \u001b[0;34m\"multiclass\"\u001b[0m\u001b[0;34m,\u001b[0m \u001b[0;34m\"multilabel-indicator\"\u001b[0m\u001b[0;34m]\u001b[0m\u001b[0;34m:\u001b[0m\u001b[0;34m\u001b[0m\u001b[0;34m\u001b[0m\u001b[0m\n\u001b[0;32m--> 106\u001b[0;31m         \u001b[0;32mraise\u001b[0m \u001b[0mValueError\u001b[0m\u001b[0;34m(\u001b[0m\u001b[0;34m\"{0} is not supported\"\u001b[0m\u001b[0;34m.\u001b[0m\u001b[0mformat\u001b[0m\u001b[0;34m(\u001b[0m\u001b[0my_type\u001b[0m\u001b[0;34m)\u001b[0m\u001b[0;34m)\u001b[0m\u001b[0;34m\u001b[0m\u001b[0;34m\u001b[0m\u001b[0m\n\u001b[0m\u001b[1;32m    107\u001b[0m \u001b[0;34m\u001b[0m\u001b[0m\n\u001b[1;32m    108\u001b[0m     \u001b[0;32mif\u001b[0m \u001b[0my_type\u001b[0m \u001b[0;32min\u001b[0m \u001b[0;34m[\u001b[0m\u001b[0;34m\"binary\"\u001b[0m\u001b[0;34m,\u001b[0m \u001b[0;34m\"multiclass\"\u001b[0m\u001b[0;34m]\u001b[0m\u001b[0;34m:\u001b[0m\u001b[0;34m\u001b[0m\u001b[0;34m\u001b[0m\u001b[0m\n",
            "\u001b[0;31mValueError\u001b[0m: multiclass-multioutput is not supported"
          ]
        }
      ]
    },
    {
      "cell_type": "code",
      "source": [
        "print(history.model)"
      ],
      "metadata": {
        "colab": {
          "base_uri": "https://localhost:8080/"
        },
        "id": "Hn1BwIvWK4OD",
        "outputId": "3c32e042-a2ee-4456-9183-c0a3faf5242c"
      },
      "execution_count": 221,
      "outputs": [
        {
          "output_type": "stream",
          "name": "stdout",
          "text": [
            "<keras.src.engine.sequential.Sequential object at 0x7861d52e9300>\n"
          ]
        }
      ]
    }
  ]
}