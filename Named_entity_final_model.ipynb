{
  "nbformat": 4,
  "nbformat_minor": 0,
  "metadata": {
    "colab": {
      "provenance": [],
      "gpuType": "T4",
      "authorship_tag": "ABX9TyN5+10bHC+yXwAEN8ObFS6b",
      "include_colab_link": true
    },
    "kernelspec": {
      "name": "python3",
      "display_name": "Python 3"
    },
    "language_info": {
      "name": "python"
    },
    "accelerator": "GPU"
  },
  "cells": [
    {
      "cell_type": "markdown",
      "metadata": {
        "id": "view-in-github",
        "colab_type": "text"
      },
      "source": [
        "<a href=\"https://colab.research.google.com/github/pypratikyesankar9/NLP_demystified/blob/main/Named_entity_final_model.ipynb\" target=\"_parent\"><img src=\"https://colab.research.google.com/assets/colab-badge.svg\" alt=\"Open In Colab\"/></a>"
      ]
    },
    {
      "cell_type": "code",
      "source": [
        "import matplotlib.pyplot as plt\n",
        "import numpy as np\n",
        "import pandas as pd\n",
        "import spacy\n",
        "\n",
        "from sklearn import metrics\n",
        "from sklearn import model_selection\n",
        "from sklearn.datasets import fetch_20newsgroups\n",
        "from sklearn.dummy import DummyClassifier\n",
        "from sklearn.feature_extraction.text import TfidfVectorizer\n",
        "from sklearn.metrics import confusion_matrix, ConfusionMatrixDisplay\n",
        "from sklearn.model_selection import train_test_split\n",
        "from sklearn.naive_bayes import MultinomialNB\n",
        "from sklearn.pipeline import Pipeline\n",
        "\n",
        "from sklearn.feature_extraction import DictVectorizer\n",
        "from sklearn.feature_extraction.text import CountVectorizer\n",
        "from sklearn.feature_extraction.text import HashingVectorizer\n",
        "from sklearn.linear_model import Perceptron\n",
        "from sklearn.model_selection import train_test_split\n",
        "from sklearn.linear_model import SGDClassifier\n",
        "from sklearn.linear_model import PassiveAggressiveClassifier\n",
        "from sklearn.naive_bayes import MultinomialNB\n",
        "from sklearn.metrics import classification_report\n",
        "from sklearn.metrics import f1_score\n",
        "\n",
        "from sklearn.svm import SVC\n"
      ],
      "metadata": {
        "id": "X4voboxjGDOR"
      },
      "execution_count": 25,
      "outputs": []
    },
    {
      "cell_type": "code",
      "execution_count": 26,
      "metadata": {
        "id": "ZUBlLKk6Alr_"
      },
      "outputs": [],
      "source": [
        "## loading the Dataset\n",
        "data = pd.read_csv(\"ner_dataset.csv\",encoding=\"latin1\" )"
      ]
    },
    {
      "cell_type": "code",
      "source": [
        "##Dimension check\n",
        "print(data.head())\n",
        "print()\n",
        "data.shape"
      ],
      "metadata": {
        "colab": {
          "base_uri": "https://localhost:8080/"
        },
        "id": "U_PU8Q5JBJjk",
        "outputId": "0d9c4419-f31c-4b01-d849-d1560cf000e6"
      },
      "execution_count": 27,
      "outputs": [
        {
          "output_type": "stream",
          "name": "stdout",
          "text": [
            "    Sentence #           Word  POS Tag\n",
            "0  Sentence: 1      Thousands  NNS   O\n",
            "1          NaN             of   IN   O\n",
            "2          NaN  demonstrators  NNS   O\n",
            "3          NaN           have  VBP   O\n",
            "4          NaN        marched  VBN   O\n",
            "\n"
          ]
        },
        {
          "output_type": "execute_result",
          "data": {
            "text/plain": [
              "(1048575, 4)"
            ]
          },
          "metadata": {},
          "execution_count": 27
        }
      ]
    },
    {
      "cell_type": "code",
      "source": [
        "##Identifying missing values\n",
        "data.isnull().sum()"
      ],
      "metadata": {
        "colab": {
          "base_uri": "https://localhost:8080/"
        },
        "id": "cgtWguHDBS1G",
        "outputId": "d0096cdc-f14c-4b00-c5d5-a999d8b6916d"
      },
      "execution_count": 28,
      "outputs": [
        {
          "output_type": "execute_result",
          "data": {
            "text/plain": [
              "Sentence #    1000616\n",
              "Word               10\n",
              "POS                 0\n",
              "Tag                 0\n",
              "dtype: int64"
            ]
          },
          "metadata": {},
          "execution_count": 28
        }
      ]
    },
    {
      "cell_type": "markdown",
      "source": [
        "**Data Preprocessing**"
      ],
      "metadata": {
        "id": "7Zbb-rg5BaHa"
      }
    },
    {
      "cell_type": "code",
      "source": [
        "data = data.fillna(method='ffill')\n",
        "\n",
        "data['Sentence #'].nunique(), data.Word.nunique(), data.Tag.nunique()"
      ],
      "metadata": {
        "colab": {
          "base_uri": "https://localhost:8080/"
        },
        "id": "8eBWi7RJBdUq",
        "outputId": "17b84fe7-a495-4219-ed6e-4e4b4b1d3819"
      },
      "execution_count": 29,
      "outputs": [
        {
          "output_type": "execute_result",
          "data": {
            "text/plain": [
              "(47959, 35177, 17)"
            ]
          },
          "metadata": {},
          "execution_count": 29
        }
      ]
    },
    {
      "cell_type": "code",
      "source": [
        "data['Sentence #'].nunique(), data.Word.nunique(), data.Tag.nunique()"
      ],
      "metadata": {
        "id": "JLFc-82dqNLc",
        "outputId": "7796e871-fad3-4119-a914-013d3bb79910",
        "colab": {
          "base_uri": "https://localhost:8080/"
        }
      },
      "execution_count": 30,
      "outputs": [
        {
          "output_type": "execute_result",
          "data": {
            "text/plain": [
              "(47959, 35177, 17)"
            ]
          },
          "metadata": {},
          "execution_count": 30
        }
      ]
    },
    {
      "cell_type": "code",
      "source": [
        "data.shape"
      ],
      "metadata": {
        "colab": {
          "base_uri": "https://localhost:8080/"
        },
        "id": "vYLXmALyGSt5",
        "outputId": "529f1e78-9751-4593-9c4c-11e9d71081ed"
      },
      "execution_count": null,
      "outputs": [
        {
          "output_type": "execute_result",
          "data": {
            "text/plain": [
              "(1048575, 4)"
            ]
          },
          "metadata": {},
          "execution_count": 8
        }
      ]
    },
    {
      "cell_type": "code",
      "source": [
        "#### Optional, will show 1 example with spacy as well\n",
        "##!pip install -U spacy==3.*\n",
        "##!python -m spacy download en_core_web_sm\n",
        "##!python -m spacy info"
      ],
      "metadata": {
        "id": "pyWlTWwGqfxa"
      },
      "execution_count": null,
      "outputs": []
    },
    {
      "cell_type": "code",
      "source": [
        "####Checking the distribution for Tag\n",
        "bins, counts = np.unique(data.Tag, return_counts=True)\n",
        "freq_series = pd.Series(counts/len(data))\n",
        "plt.figure(figsize=(12, 8))\n",
        "ax = freq_series.plot(kind='bar')\n",
        "ax.set_xticklabels(bins, rotation=0)\n",
        "ax.set_title('Distribution of Tags')\n",
        "plt.show()"
      ],
      "metadata": {
        "id": "V1CMds5-ycwL",
        "outputId": "d80871af-a4fc-43f4-cb63-f750b32bb008",
        "colab": {
          "base_uri": "https://localhost:8080/",
          "height": 506
        }
      },
      "execution_count": null,
      "outputs": [
        {
          "output_type": "display_data",
          "data": {
            "text/plain": [
              "<Figure size 1200x800 with 1 Axes>"
            ],
            "image/png": "[encoded data removed]"
          },
          "metadata": {}
        }
      ]
    },
    {
      "cell_type": "code",
      "source": [
        "\n",
        "bins, counts = np.unique(data[data.Tag != 'O'].Tag, return_counts=True)\n",
        "freq_series = pd.Series(counts/len(data))\n",
        "plt.figure(figsize=(12, 8))\n",
        "ax = freq_series.plot(kind='bar')\n",
        "ax.set_xticklabels(bins, rotation=0)\n",
        "ax.set_title('Distribution of non-O Tags')\n",
        "plt.show()"
      ],
      "metadata": {
        "colab": {
          "base_uri": "https://localhost:8080/",
          "height": 498
        },
        "id": "QEKdW5_LG-t0",
        "outputId": "556b5074-aef0-455c-a661-faa03c9f9148"
      },
      "execution_count": null,
      "outputs": [
        {
          "output_type": "display_data",
          "data": {
            "text/plain": [
              "<Figure size 1200x800 with 1 Axes>"
            ],
            "image/png": "[encoded data removed]"
          },
          "metadata": {}
        }
      ]
    },
    {
      "cell_type": "code",
      "source": [
        "data.groupby('Tag').size().reset_index(name='counts').sort_values(by = 'counts', ascending= False)"
      ],
      "metadata": {
        "id": "jW7uJWhozjY2",
        "outputId": "ad069cbc-a318-4f8f-94cd-6336c21f3eca",
        "colab": {
          "base_uri": "https://localhost:8080/",
          "height": 582
        }
      },
      "execution_count": null,
      "outputs": [
        {
          "output_type": "execute_result",
          "data": {
            "text/plain": [
              "      Tag  counts\n",
              "16      O  887908\n",
              "2   B-geo   37644\n",
              "7   B-tim   20333\n",
              "5   B-org   20143\n",
              "14  I-per   17251\n",
              "6   B-per   16990\n",
              "13  I-org   16784\n",
              "3   B-gpe   15870\n",
              "10  I-geo    7414\n",
              "15  I-tim    6528\n",
              "0   B-art     402\n",
              "1   B-eve     308\n",
              "8   I-art     297\n",
              "9   I-eve     253\n",
              "4   B-nat     201\n",
              "11  I-gpe     198\n",
              "12  I-nat      51"
            ],
            "text/html": [
              "\n",
              "  <div id=\"df-f1d56d72-a827-431e-9b5b-a29ff2ff6101\" class=\"colab-df-container\">\n",
              "    <div>\n",
              "<style scoped>\n",
              "    .dataframe tbody tr th:only-of-type {\n",
              "        vertical-align: middle;\n",
              "    }\n",
              "\n",
              "    .dataframe tbody tr th {\n",
              "        vertical-align: top;\n",
              "    }\n",
              "\n",
              "    .dataframe thead th {\n",
              "        text-align: right;\n",
              "    }\n",
              "</style>\n",
              "<table border=\"1\" class=\"dataframe\">\n",
              "  <thead>\n",
              "    <tr style=\"text-align: right;\">\n",
              "      <th></th>\n",
              "      <th>Tag</th>\n",
              "      <th>counts</th>\n",
              "    </tr>\n",
              "  </thead>\n",
              "  <tbody>\n",
              "    <tr>\n",
              "      <th>16</th>\n",
              "      <td>O</td>\n",
              "      <td>887908</td>\n",
              "    </tr>\n",
              "    <tr>\n",
              "      <th>2</th>\n",
              "      <td>B-geo</td>\n",
              "      <td>37644</td>\n",
              "    </tr>\n",
              "    <tr>\n",
              "      <th>7</th>\n",
              "      <td>B-tim</td>\n",
              "      <td>20333</td>\n",
              "    </tr>\n",
              "    <tr>\n",
              "      <th>5</th>\n",
              "      <td>B-org</td>\n",
              "      <td>20143</td>\n",
              "    </tr>\n",
              "    <tr>\n",
              "      <th>14</th>\n",
              "      <td>I-per</td>\n",
              "      <td>17251</td>\n",
              "    </tr>\n",
              "    <tr>\n",
              "      <th>6</th>\n",
              "      <td>B-per</td>\n",
              "      <td>16990</td>\n",
              "    </tr>\n",
              "    <tr>\n",
              "      <th>13</th>\n",
              "      <td>I-org</td>\n",
              "      <td>16784</td>\n",
              "    </tr>\n",
              "    <tr>\n",
              "      <th>3</th>\n",
              "      <td>B-gpe</td>\n",
              "      <td>15870</td>\n",
              "    </tr>\n",
              "    <tr>\n",
              "      <th>10</th>\n",
              "      <td>I-geo</td>\n",
              "      <td>7414</td>\n",
              "    </tr>\n",
              "    <tr>\n",
              "      <th>15</th>\n",
              "      <td>I-tim</td>\n",
              "      <td>6528</td>\n",
              "    </tr>\n",
              "    <tr>\n",
              "      <th>0</th>\n",
              "      <td>B-art</td>\n",
              "      <td>402</td>\n",
              "    </tr>\n",
              "    <tr>\n",
              "      <th>1</th>\n",
              "      <td>B-eve</td>\n",
              "      <td>308</td>\n",
              "    </tr>\n",
              "    <tr>\n",
              "      <th>8</th>\n",
              "      <td>I-art</td>\n",
              "      <td>297</td>\n",
              "    </tr>\n",
              "    <tr>\n",
              "      <th>9</th>\n",
              "      <td>I-eve</td>\n",
              "      <td>253</td>\n",
              "    </tr>\n",
              "    <tr>\n",
              "      <th>4</th>\n",
              "      <td>B-nat</td>\n",
              "      <td>201</td>\n",
              "    </tr>\n",
              "    <tr>\n",
              "      <th>11</th>\n",
              "      <td>I-gpe</td>\n",
              "      <td>198</td>\n",
              "    </tr>\n",
              "    <tr>\n",
              "      <th>12</th>\n",
              "      <td>I-nat</td>\n",
              "      <td>51</td>\n",
              "    </tr>\n",
              "  </tbody>\n",
              "</table>\n",
              "</div>\n",
              "    <div class=\"colab-df-buttons\">\n",
              "\n",
              "  <div class=\"colab-df-container\">\n",
              "    <button class=\"colab-df-convert\" onclick=\"convertToInteractive('df-f1d56d72-a827-431e-9b5b-a29ff2ff6101')\"\n",
              "            title=\"Convert this dataframe to an interactive table.\"\n",
              "            style=\"display:none;\">\n",
              "\n",
              "  <svg xmlns=\"http://www.w3.org/2000/svg\" height=\"24px\" viewBox=\"0 -960 960 960\">\n",
              "    <path d=\"M120-120v-720h720v720H120Zm60-500h600v-160H180v160Zm220 220h160v-160H400v160Zm0 220h160v-160H400v160ZM180-400h160v-160H180v160Zm440 0h160v-160H620v160ZM180-180h160v-160H180v160Zm440 0h160v-160H620v160Z\"/>\n",
              "  </svg>\n",
              "    </button>\n",
              "\n",
              "  <style>\n",
              "    .colab-df-container {\n",
              "      display:flex;\n",
              "      gap: 12px;\n",
              "    }\n",
              "\n",
              "    .colab-df-convert {\n",
              "      background-color: #E8F0FE;\n",
              "      border: none;\n",
              "      border-radius: 50%;\n",
              "      cursor: pointer;\n",
              "      display: none;\n",
              "      fill: #1967D2;\n",
              "      height: 32px;\n",
              "      padding: 0 0 0 0;\n",
              "      width: 32px;\n",
              "    }\n",
              "\n",
              "    .colab-df-convert:hover {\n",
              "      background-color: #E2EBFA;\n",
              "      box-shadow: 0px 1px 2px rgba(60, 64, 67, 0.3), 0px 1px 3px 1px rgba(60, 64, 67, 0.15);\n",
              "      fill: #174EA6;\n",
              "    }\n",
              "\n",
              "    .colab-df-buttons div {\n",
              "      margin-bottom: 4px;\n",
              "    }\n",
              "\n",
              "    [theme=dark] .colab-df-convert {\n",
              "      background-color: #3B4455;\n",
              "      fill: #D2E3FC;\n",
              "    }\n",
              "\n",
              "    [theme=dark] .colab-df-convert:hover {\n",
              "      background-color: #434B5C;\n",
              "      box-shadow: 0px 1px 3px 1px rgba(0, 0, 0, 0.15);\n",
              "      filter: drop-shadow(0px 1px 2px rgba(0, 0, 0, 0.3));\n",
              "      fill: #FFFFFF;\n",
              "    }\n",
              "  </style>\n",
              "\n",
              "    <script>\n",
              "      const buttonEl =\n",
              "        document.querySelector('#df-f1d56d72-a827-431e-9b5b-a29ff2ff6101 button.colab-df-convert');\n",
              "      buttonEl.style.display =\n",
              "        google.colab.kernel.accessAllowed ? 'block' : 'none';\n",
              "\n",
              "      async function convertToInteractive(key) {\n",
              "        const element = document.querySelector('#df-f1d56d72-a827-431e-9b5b-a29ff2ff6101');\n",
              "        const dataTable =\n",
              "          await google.colab.kernel.invokeFunction('convertToInteractive',\n",
              "                                                    [key], {});\n",
              "        if (!dataTable) return;\n",
              "\n",
              "        const docLinkHtml = 'Like what you see? Visit the ' +\n",
              "          '<a target=\"_blank\" href=https://colab.research.google.com/notebooks/data_table.ipynb>data table notebook</a>'\n",
              "          + ' to learn more about interactive tables.';\n",
              "        element.innerHTML = '';\n",
              "        dataTable['output_type'] = 'display_data';\n",
              "        await google.colab.output.renderOutput(dataTable, element);\n",
              "        const docLink = document.createElement('div');\n",
              "        docLink.innerHTML = docLinkHtml;\n",
              "        element.appendChild(docLink);\n",
              "      }\n",
              "    </script>\n",
              "  </div>\n",
              "\n",
              "\n",
              "<div id=\"df-7a212777-9847-470d-9bd6-94f40b7afb5b\">\n",
              "  <button class=\"colab-df-quickchart\" onclick=\"quickchart('df-7a212777-9847-470d-9bd6-94f40b7afb5b')\"\n",
              "            title=\"Suggest charts\"\n",
              "            style=\"display:none;\">\n",
              "\n",
              "<svg xmlns=\"http://www.w3.org/2000/svg\" height=\"24px\"viewBox=\"0 0 24 24\"\n",
              "     width=\"24px\">\n",
              "    <g>\n",
              "        <path d=\"M19 3H5c-1.1 0-2 .9-2 2v14c0 1.1.9 2 2 2h14c1.1 0 2-.9 2-2V5c0-1.1-.9-2-2-2zM9 17H7v-7h2v7zm4 0h-2V7h2v10zm4 0h-2v-4h2v4z\"/>\n",
              "    </g>\n",
              "</svg>\n",
              "  </button>\n",
              "\n",
              "<style>\n",
              "  .colab-df-quickchart {\n",
              "      --bg-color: #E8F0FE;\n",
              "      --fill-color: #1967D2;\n",
              "      --hover-bg-color: #E2EBFA;\n",
              "      --hover-fill-color: #174EA6;\n",
              "      --disabled-fill-color: #AAA;\n",
              "      --disabled-bg-color: #DDD;\n",
              "  }\n",
              "\n",
              "  [theme=dark] .colab-df-quickchart {\n",
              "      --bg-color: #3B4455;\n",
              "      --fill-color: #D2E3FC;\n",
              "      --hover-bg-color: #434B5C;\n",
              "      --hover-fill-color: #FFFFFF;\n",
              "      --disabled-bg-color: #3B4455;\n",
              "      --disabled-fill-color: #666;\n",
              "  }\n",
              "\n",
              "  .colab-df-quickchart {\n",
              "    background-color: var(--bg-color);\n",
              "    border: none;\n",
              "    border-radius: 50%;\n",
              "    cursor: pointer;\n",
              "    display: none;\n",
              "    fill: var(--fill-color);\n",
              "    height: 32px;\n",
              "    padding: 0;\n",
              "    width: 32px;\n",
              "  }\n",
              "\n",
              "  .colab-df-quickchart:hover {\n",
              "    background-color: var(--hover-bg-color);\n",
              "    box-shadow: 0 1px 2px rgba(60, 64, 67, 0.3), 0 1px 3px 1px rgba(60, 64, 67, 0.15);\n",
              "    fill: var(--button-hover-fill-color);\n",
              "  }\n",
              "\n",
              "  .colab-df-quickchart-complete:disabled,\n",
              "  .colab-df-quickchart-complete:disabled:hover {\n",
              "    background-color: var(--disabled-bg-color);\n",
              "    fill: var(--disabled-fill-color);\n",
              "    box-shadow: none;\n",
              "  }\n",
              "\n",
              "  .colab-df-spinner {\n",
              "    border: 2px solid var(--fill-color);\n",
              "    border-color: transparent;\n",
              "    border-bottom-color: var(--fill-color);\n",
              "    animation:\n",
              "      spin 1s steps(1) infinite;\n",
              "  }\n",
              "\n",
              "  @keyframes spin {\n",
              "    0% {\n",
              "      border-color: transparent;\n",
              "      border-bottom-color: var(--fill-color);\n",
              "      border-left-color: var(--fill-color);\n",
              "    }\n",
              "    20% {\n",
              "      border-color: transparent;\n",
              "      border-left-color: var(--fill-color);\n",
              "      border-top-color: var(--fill-color);\n",
              "    }\n",
              "    30% {\n",
              "      border-color: transparent;\n",
              "      border-left-color: var(--fill-color);\n",
              "      border-top-color: var(--fill-color);\n",
              "      border-right-color: var(--fill-color);\n",
              "    }\n",
              "    40% {\n",
              "      border-color: transparent;\n",
              "      border-right-color: var(--fill-color);\n",
              "      border-top-color: var(--fill-color);\n",
              "    }\n",
              "    60% {\n",
              "      border-color: transparent;\n",
              "      border-right-color: var(--fill-color);\n",
              "    }\n",
              "    80% {\n",
              "      border-color: transparent;\n",
              "      border-right-color: var(--fill-color);\n",
              "      border-bottom-color: var(--fill-color);\n",
              "    }\n",
              "    90% {\n",
              "      border-color: transparent;\n",
              "      border-bottom-color: var(--fill-color);\n",
              "    }\n",
              "  }\n",
              "</style>\n",
              "\n",
              "  <script>\n",
              "    async function quickchart(key) {\n",
              "      const quickchartButtonEl =\n",
              "        document.querySelector('#' + key + ' button');\n",
              "      quickchartButtonEl.disabled = true;  // To prevent multiple clicks.\n",
              "      quickchartButtonEl.classList.add('colab-df-spinner');\n",
              "      try {\n",
              "        const charts = await google.colab.kernel.invokeFunction(\n",
              "            'suggestCharts', [key], {});\n",
              "      } catch (error) {\n",
              "        console.error('Error during call to suggestCharts:', error);\n",
              "      }\n",
              "      quickchartButtonEl.classList.remove('colab-df-spinner');\n",
              "      quickchartButtonEl.classList.add('colab-df-quickchart-complete');\n",
              "    }\n",
              "    (() => {\n",
              "      let quickchartButtonEl =\n",
              "        document.querySelector('#df-7a212777-9847-470d-9bd6-94f40b7afb5b button');\n",
              "      quickchartButtonEl.style.display =\n",
              "        google.colab.kernel.accessAllowed ? 'block' : 'none';\n",
              "    })();\n",
              "  </script>\n",
              "</div>\n",
              "\n",
              "    </div>\n",
              "  </div>\n"
            ],
            "application/vnd.google.colaboratory.intrinsic+json": {
              "type": "dataframe",
              "summary": "{\n  \"name\": \"data\",\n  \"rows\": 17,\n  \"fields\": [\n    {\n      \"column\": \"Tag\",\n      \"properties\": {\n        \"dtype\": \"string\",\n        \"num_unique_values\": 17,\n        \"samples\": [\n          \"O\",\n          \"B-geo\",\n          \"B-per\"\n        ],\n        \"semantic_type\": \"\",\n        \"description\": \"\"\n      }\n    },\n    {\n      \"column\": \"counts\",\n      \"properties\": {\n        \"dtype\": \"number\",\n        \"std\": 213183,\n        \"min\": 51,\n        \"max\": 887908,\n        \"num_unique_values\": 17,\n        \"samples\": [\n          887908,\n          37644,\n          16990\n        ],\n        \"semantic_type\": \"\",\n        \"description\": \"\"\n      }\n    }\n  ]\n}"
            }
          },
          "metadata": {},
          "execution_count": 71
        }
      ]
    },
    {
      "cell_type": "code",
      "source": [
        "from sklearn.preprocessing import LabelEncoder\n",
        "from sklearn.model_selection import train_test_split\n",
        "from sklearn.metrics import accuracy_score"
      ],
      "metadata": {
        "id": "0uzTj1wm0RcB"
      },
      "execution_count": 31,
      "outputs": []
    },
    {
      "cell_type": "code",
      "source": [
        "##Label encoder to create a unique sentence ID\n",
        "data[\"Sentence #\"] = LabelEncoder().fit_transform(data[\"Sentence #\"] )"
      ],
      "metadata": {
        "id": "qDyLk-hk08wR"
      },
      "execution_count": 32,
      "outputs": []
    },
    {
      "cell_type": "code",
      "source": [
        "\n",
        "data.head(30)"
      ],
      "metadata": {
        "id": "Qd8DqZQf0_Ft",
        "outputId": "689635a8-d569-4abc-9c24-6f7ff9861f5b",
        "colab": {
          "base_uri": "https://localhost:8080/",
          "height": 990
        }
      },
      "execution_count": null,
      "outputs": [
        {
          "output_type": "execute_result",
          "data": {
            "text/plain": [
              "    Sentence #           Word  POS    Tag\n",
              "0            0      Thousands  NNS      O\n",
              "1        47959             of   IN      O\n",
              "2        47959  demonstrators  NNS      O\n",
              "3        47959           have  VBP      O\n",
              "4        47959        marched  VBN      O\n",
              "5        47959        through   IN      O\n",
              "6        47959         London  NNP  B-geo\n",
              "7        47959             to   TO      O\n",
              "8        47959        protest   VB      O\n",
              "9        47959            the   DT      O\n",
              "10       47959            war   NN      O\n",
              "11       47959             in   IN      O\n",
              "12       47959           Iraq  NNP  B-geo\n",
              "13       47959            and   CC      O\n",
              "14       47959         demand   VB      O\n",
              "15       47959            the   DT      O\n",
              "16       47959     withdrawal   NN      O\n",
              "17       47959             of   IN      O\n",
              "18       47959        British   JJ  B-gpe\n",
              "19       47959         troops  NNS      O\n",
              "20       47959           from   IN      O\n",
              "21       47959           that   DT      O\n",
              "22       47959        country   NN      O\n",
              "23       47959              .    .      O\n",
              "24       11111       Families  NNS      O\n",
              "25       47959             of   IN      O\n",
              "26       47959       soldiers  NNS      O\n",
              "27       47959         killed  VBN      O\n",
              "28       47959             in   IN      O\n",
              "29       47959            the   DT      O"
            ],
            "text/html": [
              "\n",
              "  <div id=\"df-fc7dd24f-8bb7-48c4-87d2-aa7b9ec79021\" class=\"colab-df-container\">\n",
              "    <div>\n",
              "<style scoped>\n",
              "    .dataframe tbody tr th:only-of-type {\n",
              "        vertical-align: middle;\n",
              "    }\n",
              "\n",
              "    .dataframe tbody tr th {\n",
              "        vertical-align: top;\n",
              "    }\n",
              "\n",
              "    .dataframe thead th {\n",
              "        text-align: right;\n",
              "    }\n",
              "</style>\n",
              "<table border=\"1\" class=\"dataframe\">\n",
              "  <thead>\n",
              "    <tr style=\"text-align: right;\">\n",
              "      <th></th>\n",
              "      <th>Sentence #</th>\n",
              "      <th>Word</th>\n",
              "      <th>POS</th>\n",
              "      <th>Tag</th>\n",
              "    </tr>\n",
              "  </thead>\n",
              "  <tbody>\n",
              "    <tr>\n",
              "      <th>0</th>\n",
              "      <td>0</td>\n",
              "      <td>Thousands</td>\n",
              "      <td>NNS</td>\n",
              "      <td>O</td>\n",
              "    </tr>\n",
              "    <tr>\n",
              "      <th>1</th>\n",
              "      <td>47959</td>\n",
              "      <td>of</td>\n",
              "      <td>IN</td>\n",
              "      <td>O</td>\n",
              "    </tr>\n",
              "    <tr>\n",
              "      <th>2</th>\n",
              "      <td>47959</td>\n",
              "      <td>demonstrators</td>\n",
              "      <td>NNS</td>\n",
              "      <td>O</td>\n",
              "    </tr>\n",
              "    <tr>\n",
              "      <th>3</th>\n",
              "      <td>47959</td>\n",
              "      <td>have</td>\n",
              "      <td>VBP</td>\n",
              "      <td>O</td>\n",
              "    </tr>\n",
              "    <tr>\n",
              "      <th>4</th>\n",
              "      <td>47959</td>\n",
              "      <td>marched</td>\n",
              "      <td>VBN</td>\n",
              "      <td>O</td>\n",
              "    </tr>\n",
              "    <tr>\n",
              "      <th>5</th>\n",
              "      <td>47959</td>\n",
              "      <td>through</td>\n",
              "      <td>IN</td>\n",
              "      <td>O</td>\n",
              "    </tr>\n",
              "    <tr>\n",
              "      <th>6</th>\n",
              "      <td>47959</td>\n",
              "      <td>London</td>\n",
              "      <td>NNP</td>\n",
              "      <td>B-geo</td>\n",
              "    </tr>\n",
              "    <tr>\n",
              "      <th>7</th>\n",
              "      <td>47959</td>\n",
              "      <td>to</td>\n",
              "      <td>TO</td>\n",
              "      <td>O</td>\n",
              "    </tr>\n",
              "    <tr>\n",
              "      <th>8</th>\n",
              "      <td>47959</td>\n",
              "      <td>protest</td>\n",
              "      <td>VB</td>\n",
              "      <td>O</td>\n",
              "    </tr>\n",
              "    <tr>\n",
              "      <th>9</th>\n",
              "      <td>47959</td>\n",
              "      <td>the</td>\n",
              "      <td>DT</td>\n",
              "      <td>O</td>\n",
              "    </tr>\n",
              "    <tr>\n",
              "      <th>10</th>\n",
              "      <td>47959</td>\n",
              "      <td>war</td>\n",
              "      <td>NN</td>\n",
              "      <td>O</td>\n",
              "    </tr>\n",
              "    <tr>\n",
              "      <th>11</th>\n",
              "      <td>47959</td>\n",
              "      <td>in</td>\n",
              "      <td>IN</td>\n",
              "      <td>O</td>\n",
              "    </tr>\n",
              "    <tr>\n",
              "      <th>12</th>\n",
              "      <td>47959</td>\n",
              "      <td>Iraq</td>\n",
              "      <td>NNP</td>\n",
              "      <td>B-geo</td>\n",
              "    </tr>\n",
              "    <tr>\n",
              "      <th>13</th>\n",
              "      <td>47959</td>\n",
              "      <td>and</td>\n",
              "      <td>CC</td>\n",
              "      <td>O</td>\n",
              "    </tr>\n",
              "    <tr>\n",
              "      <th>14</th>\n",
              "      <td>47959</td>\n",
              "      <td>demand</td>\n",
              "      <td>VB</td>\n",
              "      <td>O</td>\n",
              "    </tr>\n",
              "    <tr>\n",
              "      <th>15</th>\n",
              "      <td>47959</td>\n",
              "      <td>the</td>\n",
              "      <td>DT</td>\n",
              "      <td>O</td>\n",
              "    </tr>\n",
              "    <tr>\n",
              "      <th>16</th>\n",
              "      <td>47959</td>\n",
              "      <td>withdrawal</td>\n",
              "      <td>NN</td>\n",
              "      <td>O</td>\n",
              "    </tr>\n",
              "    <tr>\n",
              "      <th>17</th>\n",
              "      <td>47959</td>\n",
              "      <td>of</td>\n",
              "      <td>IN</td>\n",
              "      <td>O</td>\n",
              "    </tr>\n",
              "    <tr>\n",
              "      <th>18</th>\n",
              "      <td>47959</td>\n",
              "      <td>British</td>\n",
              "      <td>JJ</td>\n",
              "      <td>B-gpe</td>\n",
              "    </tr>\n",
              "    <tr>\n",
              "      <th>19</th>\n",
              "      <td>47959</td>\n",
              "      <td>troops</td>\n",
              "      <td>NNS</td>\n",
              "      <td>O</td>\n",
              "    </tr>\n",
              "    <tr>\n",
              "      <th>20</th>\n",
              "      <td>47959</td>\n",
              "      <td>from</td>\n",
              "      <td>IN</td>\n",
              "      <td>O</td>\n",
              "    </tr>\n",
              "    <tr>\n",
              "      <th>21</th>\n",
              "      <td>47959</td>\n",
              "      <td>that</td>\n",
              "      <td>DT</td>\n",
              "      <td>O</td>\n",
              "    </tr>\n",
              "    <tr>\n",
              "      <th>22</th>\n",
              "      <td>47959</td>\n",
              "      <td>country</td>\n",
              "      <td>NN</td>\n",
              "      <td>O</td>\n",
              "    </tr>\n",
              "    <tr>\n",
              "      <th>23</th>\n",
              "      <td>47959</td>\n",
              "      <td>.</td>\n",
              "      <td>.</td>\n",
              "      <td>O</td>\n",
              "    </tr>\n",
              "    <tr>\n",
              "      <th>24</th>\n",
              "      <td>11111</td>\n",
              "      <td>Families</td>\n",
              "      <td>NNS</td>\n",
              "      <td>O</td>\n",
              "    </tr>\n",
              "    <tr>\n",
              "      <th>25</th>\n",
              "      <td>47959</td>\n",
              "      <td>of</td>\n",
              "      <td>IN</td>\n",
              "      <td>O</td>\n",
              "    </tr>\n",
              "    <tr>\n",
              "      <th>26</th>\n",
              "      <td>47959</td>\n",
              "      <td>soldiers</td>\n",
              "      <td>NNS</td>\n",
              "      <td>O</td>\n",
              "    </tr>\n",
              "    <tr>\n",
              "      <th>27</th>\n",
              "      <td>47959</td>\n",
              "      <td>killed</td>\n",
              "      <td>VBN</td>\n",
              "      <td>O</td>\n",
              "    </tr>\n",
              "    <tr>\n",
              "      <th>28</th>\n",
              "      <td>47959</td>\n",
              "      <td>in</td>\n",
              "      <td>IN</td>\n",
              "      <td>O</td>\n",
              "    </tr>\n",
              "    <tr>\n",
              "      <th>29</th>\n",
              "      <td>47959</td>\n",
              "      <td>the</td>\n",
              "      <td>DT</td>\n",
              "      <td>O</td>\n",
              "    </tr>\n",
              "  </tbody>\n",
              "</table>\n",
              "</div>\n",
              "    <div class=\"colab-df-buttons\">\n",
              "\n",
              "  <div class=\"colab-df-container\">\n",
              "    <button class=\"colab-df-convert\" onclick=\"convertToInteractive('df-fc7dd24f-8bb7-48c4-87d2-aa7b9ec79021')\"\n",
              "            title=\"Convert this dataframe to an interactive table.\"\n",
              "            style=\"display:none;\">\n",
              "\n",
              "  <svg xmlns=\"http://www.w3.org/2000/svg\" height=\"24px\" viewBox=\"0 -960 960 960\">\n",
              "    <path d=\"M120-120v-720h720v720H120Zm60-500h600v-160H180v160Zm220 220h160v-160H400v160Zm0 220h160v-160H400v160ZM180-400h160v-160H180v160Zm440 0h160v-160H620v160ZM180-180h160v-160H180v160Zm440 0h160v-160H620v160Z\"/>\n",
              "  </svg>\n",
              "    </button>\n",
              "\n",
              "  <style>\n",
              "    .colab-df-container {\n",
              "      display:flex;\n",
              "      gap: 12px;\n",
              "    }\n",
              "\n",
              "    .colab-df-convert {\n",
              "      background-color: #E8F0FE;\n",
              "      border: none;\n",
              "      border-radius: 50%;\n",
              "      cursor: pointer;\n",
              "      display: none;\n",
              "      fill: #1967D2;\n",
              "      height: 32px;\n",
              "      padding: 0 0 0 0;\n",
              "      width: 32px;\n",
              "    }\n",
              "\n",
              "    .colab-df-convert:hover {\n",
              "      background-color: #E2EBFA;\n",
              "      box-shadow: 0px 1px 2px rgba(60, 64, 67, 0.3), 0px 1px 3px 1px rgba(60, 64, 67, 0.15);\n",
              "      fill: #174EA6;\n",
              "    }\n",
              "\n",
              "    .colab-df-buttons div {\n",
              "      margin-bottom: 4px;\n",
              "    }\n",
              "\n",
              "    [theme=dark] .colab-df-convert {\n",
              "      background-color: #3B4455;\n",
              "      fill: #D2E3FC;\n",
              "    }\n",
              "\n",
              "    [theme=dark] .colab-df-convert:hover {\n",
              "      background-color: #434B5C;\n",
              "      box-shadow: 0px 1px 3px 1px rgba(0, 0, 0, 0.15);\n",
              "      filter: drop-shadow(0px 1px 2px rgba(0, 0, 0, 0.3));\n",
              "      fill: #FFFFFF;\n",
              "    }\n",
              "  </style>\n",
              "\n",
              "    <script>\n",
              "      const buttonEl =\n",
              "        document.querySelector('#df-fc7dd24f-8bb7-48c4-87d2-aa7b9ec79021 button.colab-df-convert');\n",
              "      buttonEl.style.display =\n",
              "        google.colab.kernel.accessAllowed ? 'block' : 'none';\n",
              "\n",
              "      async function convertToInteractive(key) {\n",
              "        const element = document.querySelector('#df-fc7dd24f-8bb7-48c4-87d2-aa7b9ec79021');\n",
              "        const dataTable =\n",
              "          await google.colab.kernel.invokeFunction('convertToInteractive',\n",
              "                                                    [key], {});\n",
              "        if (!dataTable) return;\n",
              "\n",
              "        const docLinkHtml = 'Like what you see? Visit the ' +\n",
              "          '<a target=\"_blank\" href=https://colab.research.google.com/notebooks/data_table.ipynb>data table notebook</a>'\n",
              "          + ' to learn more about interactive tables.';\n",
              "        element.innerHTML = '';\n",
              "        dataTable['output_type'] = 'display_data';\n",
              "        await google.colab.output.renderOutput(dataTable, element);\n",
              "        const docLink = document.createElement('div');\n",
              "        docLink.innerHTML = docLinkHtml;\n",
              "        element.appendChild(docLink);\n",
              "      }\n",
              "    </script>\n",
              "  </div>\n",
              "\n",
              "\n",
              "<div id=\"df-78088dbe-2fcc-4cf3-b1a2-1b63bc749b5d\">\n",
              "  <button class=\"colab-df-quickchart\" onclick=\"quickchart('df-78088dbe-2fcc-4cf3-b1a2-1b63bc749b5d')\"\n",
              "            title=\"Suggest charts\"\n",
              "            style=\"display:none;\">\n",
              "\n",
              "<svg xmlns=\"http://www.w3.org/2000/svg\" height=\"24px\"viewBox=\"0 0 24 24\"\n",
              "     width=\"24px\">\n",
              "    <g>\n",
              "        <path d=\"M19 3H5c-1.1 0-2 .9-2 2v14c0 1.1.9 2 2 2h14c1.1 0 2-.9 2-2V5c0-1.1-.9-2-2-2zM9 17H7v-7h2v7zm4 0h-2V7h2v10zm4 0h-2v-4h2v4z\"/>\n",
              "    </g>\n",
              "</svg>\n",
              "  </button>\n",
              "\n",
              "<style>\n",
              "  .colab-df-quickchart {\n",
              "      --bg-color: #E8F0FE;\n",
              "      --fill-color: #1967D2;\n",
              "      --hover-bg-color: #E2EBFA;\n",
              "      --hover-fill-color: #174EA6;\n",
              "      --disabled-fill-color: #AAA;\n",
              "      --disabled-bg-color: #DDD;\n",
              "  }\n",
              "\n",
              "  [theme=dark] .colab-df-quickchart {\n",
              "      --bg-color: #3B4455;\n",
              "      --fill-color: #D2E3FC;\n",
              "      --hover-bg-color: #434B5C;\n",
              "      --hover-fill-color: #FFFFFF;\n",
              "      --disabled-bg-color: #3B4455;\n",
              "      --disabled-fill-color: #666;\n",
              "  }\n",
              "\n",
              "  .colab-df-quickchart {\n",
              "    background-color: var(--bg-color);\n",
              "    border: none;\n",
              "    border-radius: 50%;\n",
              "    cursor: pointer;\n",
              "    display: none;\n",
              "    fill: var(--fill-color);\n",
              "    height: 32px;\n",
              "    padding: 0;\n",
              "    width: 32px;\n",
              "  }\n",
              "\n",
              "  .colab-df-quickchart:hover {\n",
              "    background-color: var(--hover-bg-color);\n",
              "    box-shadow: 0 1px 2px rgba(60, 64, 67, 0.3), 0 1px 3px 1px rgba(60, 64, 67, 0.15);\n",
              "    fill: var(--button-hover-fill-color);\n",
              "  }\n",
              "\n",
              "  .colab-df-quickchart-complete:disabled,\n",
              "  .colab-df-quickchart-complete:disabled:hover {\n",
              "    background-color: var(--disabled-bg-color);\n",
              "    fill: var(--disabled-fill-color);\n",
              "    box-shadow: none;\n",
              "  }\n",
              "\n",
              "  .colab-df-spinner {\n",
              "    border: 2px solid var(--fill-color);\n",
              "    border-color: transparent;\n",
              "    border-bottom-color: var(--fill-color);\n",
              "    animation:\n",
              "      spin 1s steps(1) infinite;\n",
              "  }\n",
              "\n",
              "  @keyframes spin {\n",
              "    0% {\n",
              "      border-color: transparent;\n",
              "      border-bottom-color: var(--fill-color);\n",
              "      border-left-color: var(--fill-color);\n",
              "    }\n",
              "    20% {\n",
              "      border-color: transparent;\n",
              "      border-left-color: var(--fill-color);\n",
              "      border-top-color: var(--fill-color);\n",
              "    }\n",
              "    30% {\n",
              "      border-color: transparent;\n",
              "      border-left-color: var(--fill-color);\n",
              "      border-top-color: var(--fill-color);\n",
              "      border-right-color: var(--fill-color);\n",
              "    }\n",
              "    40% {\n",
              "      border-color: transparent;\n",
              "      border-right-color: var(--fill-color);\n",
              "      border-top-color: var(--fill-color);\n",
              "    }\n",
              "    60% {\n",
              "      border-color: transparent;\n",
              "      border-right-color: var(--fill-color);\n",
              "    }\n",
              "    80% {\n",
              "      border-color: transparent;\n",
              "      border-right-color: var(--fill-color);\n",
              "      border-bottom-color: var(--fill-color);\n",
              "    }\n",
              "    90% {\n",
              "      border-color: transparent;\n",
              "      border-bottom-color: var(--fill-color);\n",
              "    }\n",
              "  }\n",
              "</style>\n",
              "\n",
              "  <script>\n",
              "    async function quickchart(key) {\n",
              "      const quickchartButtonEl =\n",
              "        document.querySelector('#' + key + ' button');\n",
              "      quickchartButtonEl.disabled = true;  // To prevent multiple clicks.\n",
              "      quickchartButtonEl.classList.add('colab-df-spinner');\n",
              "      try {\n",
              "        const charts = await google.colab.kernel.invokeFunction(\n",
              "            'suggestCharts', [key], {});\n",
              "      } catch (error) {\n",
              "        console.error('Error during call to suggestCharts:', error);\n",
              "      }\n",
              "      quickchartButtonEl.classList.remove('colab-df-spinner');\n",
              "      quickchartButtonEl.classList.add('colab-df-quickchart-complete');\n",
              "    }\n",
              "    (() => {\n",
              "      let quickchartButtonEl =\n",
              "        document.querySelector('#df-78088dbe-2fcc-4cf3-b1a2-1b63bc749b5d button');\n",
              "      quickchartButtonEl.style.display =\n",
              "        google.colab.kernel.accessAllowed ? 'block' : 'none';\n",
              "    })();\n",
              "  </script>\n",
              "</div>\n",
              "\n",
              "    </div>\n",
              "  </div>\n"
            ],
            "application/vnd.google.colaboratory.intrinsic+json": {
              "type": "dataframe",
              "variable_name": "data"
            }
          },
          "metadata": {},
          "execution_count": 18
        }
      ]
    },
    {
      "cell_type": "code",
      "source": [
        "data.rename(columns={\"Sentence #\":\"sentence_id\",\"Word\":\"words\",\"Tag\":\"labels\"}, inplace =True)"
      ],
      "metadata": {
        "id": "k3wjReyS1EhI"
      },
      "execution_count": 33,
      "outputs": []
    },
    {
      "cell_type": "code",
      "source": [
        "##Lower case for words, and upper case for lables\n",
        "data[\"labels\"] = data[\"labels\"].str.upper()\n",
        "data[\"words\"] = data[\"words\"].str.lower()\n",
        "\n",
        "\n"
      ],
      "metadata": {
        "id": "eCMGXsZf13GY"
      },
      "execution_count": null,
      "outputs": []
    },
    {
      "cell_type": "code",
      "source": [
        "### Creating Subsets of predictors and target label\n",
        "X= data[[\"sentence_id\",\"words\"]]\n",
        "Y =data[\"labels\"]"
      ],
      "metadata": {
        "id": "kP4Uiew416Ls"
      },
      "execution_count": null,
      "outputs": []
    },
    {
      "cell_type": "code",
      "source": [
        "\n",
        "#building up train data and test data\n",
        "train_data = pd.DataFrame({\"sentence_id\":x_train[\"sentence_id\"],\"words\":x_train[\"words\"],\"labels\":y_train})\n",
        "test_data = pd.DataFrame({\"sentence_id\":x_test[\"sentence_id\"],\"words\":x_test[\"words\"],\"labels\":y_test})"
      ],
      "metadata": {
        "id": "XPa4W8fU3mfT"
      },
      "execution_count": null,
      "outputs": []
    },
    {
      "cell_type": "code",
      "source": [
        "#### Validation data kept separately for final validation\n",
        "val_data = test_data.copy()"
      ],
      "metadata": {
        "id": "H-e3UPsebGKu"
      },
      "execution_count": null,
      "outputs": []
    },
    {
      "cell_type": "code",
      "source": [
        "X2= train_data[[\"sentence_id\",\"words\"]]\n",
        "Y2 =train_data[\"labels\"]"
      ],
      "metadata": {
        "id": "zaGXSrMmbrGs"
      },
      "execution_count": null,
      "outputs": []
    },
    {
      "cell_type": "code",
      "source": [
        "x_train, x_test, y_train, y_test = train_test_split(X2,Y2, test_size =0.2)"
      ],
      "metadata": {
        "id": "cwTZ97lTbzej"
      },
      "execution_count": null,
      "outputs": []
    },
    {
      "cell_type": "code",
      "source": [
        "\n",
        "#re building the train data and test data\n",
        "train_data = pd.DataFrame({\"sentence_id\":x_train[\"sentence_id\"],\"words\":x_train[\"words\"],\"labels\":y_train})\n",
        "test_data = pd.DataFrame({\"sentence_id\":x_test[\"sentence_id\"],\"words\":x_test[\"words\"],\"labels\":y_test})"
      ],
      "metadata": {
        "id": "U5XoflTnb6Mr"
      },
      "execution_count": null,
      "outputs": []
    },
    {
      "cell_type": "code",
      "source": [
        "## dimensions of train, test and validation\n",
        "print(train_data.shape)\n",
        "print(test_data.shape)\n",
        "print(val_data.shape)\n",
        "\n"
      ],
      "metadata": {
        "id": "NHZgLKIn3qM3",
        "outputId": "c3c228d4-7403-4d40-cda1-1d8c88df2a2c",
        "colab": {
          "base_uri": "https://localhost:8080/"
        }
      },
      "execution_count": null,
      "outputs": [
        {
          "output_type": "stream",
          "name": "stdout",
          "text": [
            "(671088, 3)\n",
            "(167772, 3)\n",
            "(209715, 3)\n"
          ]
        }
      ]
    },
    {
      "cell_type": "code",
      "source": [
        "del X\n",
        "del Y\n",
        "del X2\n",
        "del Y2\n"
      ],
      "metadata": {
        "id": "p9Rw7ShiLs8f"
      },
      "execution_count": null,
      "outputs": []
    },
    {
      "cell_type": "code",
      "source": [
        "### Vectorization along with stop words removal\n",
        "%%time\n",
        "vectorizer = CountVectorizer(stop_words= \"english\")"
      ],
      "metadata": {
        "colab": {
          "base_uri": "https://localhost:8080/"
        },
        "id": "n3WxbYo18n1R",
        "outputId": "774dad63-96f7-4732-d5f3-07586c0c346d"
      },
      "execution_count": null,
      "outputs": [
        {
          "output_type": "stream",
          "name": "stdout",
          "text": [
            "CPU times: user 35 µs, sys: 0 ns, total: 35 µs\n",
            "Wall time: 38.4 µs\n"
          ]
        }
      ]
    },
    {
      "cell_type": "code",
      "source": [
        "### Vectorization fited based on train data and same is used to transform test and val data\n",
        "%%time\n",
        "x= vectorizer.fit_transform(train_data['words'].values.astype('U'))\n",
        "x_test = vectorizer.transform(test_data['words'].values.astype('U'))\n",
        "x_val = vectorizer.transform(val_data['words'].values.astype('U'))"
      ],
      "metadata": {
        "colab": {
          "base_uri": "https://localhost:8080/"
        },
        "id": "bCYeLY-t8yRh",
        "outputId": "9e00550b-66cf-4946-ac19-6f6f37190584"
      },
      "execution_count": null,
      "outputs": [
        {
          "output_type": "stream",
          "name": "stdout",
          "text": [
            "CPU times: user 5.31 s, sys: 120 ms, total: 5.43 s\n",
            "Wall time: 5.49 s\n"
          ]
        }
      ]
    },
    {
      "cell_type": "code",
      "source": [
        "y = train_data['labels']\n",
        "y_test = test_data['labels']\n",
        "y_val = val_data['labels']"
      ],
      "metadata": {
        "id": "WIDRwWmV9wHf"
      },
      "execution_count": null,
      "outputs": []
    },
    {
      "cell_type": "code",
      "source": [
        "classes = np.unique(y)\n",
        "classes = classes.tolist()"
      ],
      "metadata": {
        "id": "1tJ1l8GHRk3U"
      },
      "execution_count": null,
      "outputs": []
    },
    {
      "cell_type": "markdown",
      "source": [
        "**Linear classifier with SGD**"
      ],
      "metadata": {
        "id": "-wNMBSecLMM-"
      }
    },
    {
      "cell_type": "code",
      "source": [
        "#training the model\n",
        "sgd = SGDClassifier()\n",
        "sgd.partial_fit(x, y, classes)\n"
      ],
      "metadata": {
        "colab": {
          "base_uri": "https://localhost:8080/",
          "height": 75
        },
        "id": "2urGDAkfLK0B",
        "outputId": "0db8a80a-5009-4621-aaad-399b7d0cfe49"
      },
      "execution_count": null,
      "outputs": [
        {
          "output_type": "execute_result",
          "data": {
            "text/plain": [
              "SGDClassifier()"
            ],
            "text/html": [
              "<style>#sk-container-id-1 {color: black;background-color: white;}#sk-container-id-1 pre{padding: 0;}#sk-container-id-1 div.sk-toggleable {background-color: white;}#sk-container-id-1 label.sk-toggleable__label {cursor: pointer;display: block;width: 100%;margin-bottom: 0;padding: 0.3em;box-sizing: border-box;text-align: center;}#sk-container-id-1 label.sk-toggleable__label-arrow:before {content: \"▸\";float: left;margin-right: 0.25em;color: #696969;}#sk-container-id-1 label.sk-toggleable__label-arrow:hover:before {color: black;}#sk-container-id-1 div.sk-estimator:hover label.sk-toggleable__label-arrow:before {color: black;}#sk-container-id-1 div.sk-toggleable__content {max-height: 0;max-width: 0;overflow: hidden;text-align: left;background-color: #f0f8ff;}#sk-container-id-1 div.sk-toggleable__content pre {margin: 0.2em;color: black;border-radius: 0.25em;background-color: #f0f8ff;}#sk-container-id-1 input.sk-toggleable__control:checked~div.sk-toggleable__content {max-height: 200px;max-width: 100%;overflow: auto;}#sk-container-id-1 input.sk-toggleable__control:checked~label.sk-toggleable__label-arrow:before {content: \"▾\";}#sk-container-id-1 div.sk-estimator input.sk-toggleable__control:checked~label.sk-toggleable__label {background-color: #d4ebff;}#sk-container-id-1 div.sk-label input.sk-toggleable__control:checked~label.sk-toggleable__label {background-color: #d4ebff;}#sk-container-id-1 input.sk-hidden--visually {border: 0;clip: rect(1px 1px 1px 1px);clip: rect(1px, 1px, 1px, 1px);height: 1px;margin: -1px;overflow: hidden;padding: 0;position: absolute;width: 1px;}#sk-container-id-1 div.sk-estimator {font-family: monospace;background-color: #f0f8ff;border: 1px dotted black;border-radius: 0.25em;box-sizing: border-box;margin-bottom: 0.5em;}#sk-container-id-1 div.sk-estimator:hover {background-color: #d4ebff;}#sk-container-id-1 div.sk-parallel-item::after {content: \"\";width: 100%;border-bottom: 1px solid gray;flex-grow: 1;}#sk-container-id-1 div.sk-label:hover label.sk-toggleable__label {background-color: #d4ebff;}#sk-container-id-1 div.sk-serial::before {content: \"\";position: absolute;border-left: 1px solid gray;box-sizing: border-box;top: 0;bottom: 0;left: 50%;z-index: 0;}#sk-container-id-1 div.sk-serial {display: flex;flex-direction: column;align-items: center;background-color: white;padding-right: 0.2em;padding-left: 0.2em;position: relative;}#sk-container-id-1 div.sk-item {position: relative;z-index: 1;}#sk-container-id-1 div.sk-parallel {display: flex;align-items: stretch;justify-content: center;background-color: white;position: relative;}#sk-container-id-1 div.sk-item::before, #sk-container-id-1 div.sk-parallel-item::before {content: \"\";position: absolute;border-left: 1px solid gray;box-sizing: border-box;top: 0;bottom: 0;left: 50%;z-index: -1;}#sk-container-id-1 div.sk-parallel-item {display: flex;flex-direction: column;z-index: 1;position: relative;background-color: white;}#sk-container-id-1 div.sk-parallel-item:first-child::after {align-self: flex-end;width: 50%;}#sk-container-id-1 div.sk-parallel-item:last-child::after {align-self: flex-start;width: 50%;}#sk-container-id-1 div.sk-parallel-item:only-child::after {width: 0;}#sk-container-id-1 div.sk-dashed-wrapped {border: 1px dashed gray;margin: 0 0.4em 0.5em 0.4em;box-sizing: border-box;padding-bottom: 0.4em;background-color: white;}#sk-container-id-1 div.sk-label label {font-family: monospace;font-weight: bold;display: inline-block;line-height: 1.2em;}#sk-container-id-1 div.sk-label-container {text-align: center;}#sk-container-id-1 div.sk-container {/* jupyter's `normalize.less` sets `[hidden] { display: none; }` but bootstrap.min.css set `[hidden] { display: none !important; }` so we also need the `!important` here to be able to override the default hidden behavior on the sphinx rendered scikit-learn.org. See: https://github.com/scikit-learn/scikit-learn/issues/21755 */display: inline-block !important;position: relative;}#sk-container-id-1 div.sk-text-repr-fallback {display: none;}</style><div id=\"sk-container-id-1\" class=\"sk-top-container\"><div class=\"sk-text-repr-fallback\"><pre>SGDClassifier()</pre><b>In a Jupyter environment, please rerun this cell to show the HTML representation or trust the notebook. <br />On GitHub, the HTML representation is unable to render, please try loading this page with nbviewer.org.</b></div><div class=\"sk-container\" hidden><div class=\"sk-item\"><div class=\"sk-estimator sk-toggleable\"><input class=\"sk-toggleable__control sk-hidden--visually\" id=\"sk-estimator-id-1\" type=\"checkbox\" checked><label for=\"sk-estimator-id-1\" class=\"sk-toggleable__label sk-toggleable__label-arrow\">SGDClassifier</label><div class=\"sk-toggleable__content\"><pre>SGDClassifier()</pre></div></div></div></div></div>"
            ]
          },
          "metadata": {},
          "execution_count": 41
        }
      ]
    },
    {
      "cell_type": "code",
      "source": [
        "#Scoring the model on datasets\n",
        "y_pred = sgd.predict(x)\n",
        "y_test_pred = sgd.predict(x_test)\n",
        "y_val_pred = sgd.predict(x_val)"
      ],
      "metadata": {
        "id": "ejrGsWMYLK7f"
      },
      "execution_count": null,
      "outputs": []
    },
    {
      "cell_type": "code",
      "source": [
        "print(\"Train F1-score:\", f1_score(y,y_pred,average = \"macro\"))\n",
        "print(\"Test F1-score:\", f1_score(y_test,y_test_pred,average = \"macro\"))\n",
        "print(\"Validation F1-score:\", f1_score(y_val,y_val_pred,average = \"macro\"))"
      ],
      "metadata": {
        "colab": {
          "base_uri": "https://localhost:8080/"
        },
        "id": "Xi14_2UGLLBx",
        "outputId": "0396cb91-62d7-4371-bc47-ef379895bfcd"
      },
      "execution_count": null,
      "outputs": [
        {
          "output_type": "stream",
          "name": "stdout",
          "text": [
            "Train F1-score: 0.28765913495920076\n",
            "Test F1-score: 0.28739343386464605\n",
            "Validation F1-score: 0.28825320714004465\n"
          ]
        }
      ]
    },
    {
      "cell_type": "code",
      "source": [
        "print(classification_report(y_pred=sgd.predict(x), y_true=y, labels = classes))"
      ],
      "metadata": {
        "colab": {
          "base_uri": "https://localhost:8080/"
        },
        "id": "s6Kga9HINURK",
        "outputId": "01ef94af-c000-4917-a3d0-9986128d2c23"
      },
      "execution_count": null,
      "outputs": [
        {
          "output_type": "stream",
          "name": "stderr",
          "text": [
            "/usr/local/lib/python3.10/dist-packages/sklearn/metrics/_classification.py:1344: UndefinedMetricWarning: Precision and F-score are ill-defined and being set to 0.0 in labels with no predicted samples. Use `zero_division` parameter to control this behavior.\n",
            "  _warn_prf(average, modifier, msg_start, len(result))\n",
            "/usr/local/lib/python3.10/dist-packages/sklearn/metrics/_classification.py:1344: UndefinedMetricWarning: Precision and F-score are ill-defined and being set to 0.0 in labels with no predicted samples. Use `zero_division` parameter to control this behavior.\n",
            "  _warn_prf(average, modifier, msg_start, len(result))\n"
          ]
        },
        {
          "output_type": "stream",
          "name": "stdout",
          "text": [
            "              precision    recall  f1-score   support\n",
            "\n",
            "       B-ART       0.00      0.00      0.00       252\n",
            "       B-EVE       0.00      0.00      0.00       210\n",
            "       B-GEO       0.82      0.47      0.60     24169\n",
            "       B-GPE       0.92      0.68      0.78     10169\n",
            "       B-NAT       0.00      0.00      0.00       134\n",
            "       B-ORG       0.85      0.20      0.32     12812\n",
            "       B-PER       0.82      0.40      0.54     10940\n",
            "       B-TIM       0.89      0.64      0.75     13002\n",
            "       I-ART       0.00      0.00      0.00       184\n",
            "       I-EVE       0.00      0.00      0.00       178\n",
            "       I-GEO       0.79      0.31      0.45      4784\n",
            "       I-GPE       0.00      0.00      0.00       131\n",
            "       I-NAT       0.00      0.00      0.00        30\n",
            "       I-ORG       0.65      0.12      0.20     10604\n",
            "       I-PER       0.81      0.19      0.30     10917\n",
            "       I-TIM       0.00      0.00      0.00      4119\n",
            "           O       0.90      1.00      0.95    568453\n",
            "\n",
            "    accuracy                           0.90    671088\n",
            "   macro avg       0.44      0.24      0.29    671088\n",
            "weighted avg       0.89      0.90      0.88    671088\n",
            "\n"
          ]
        },
        {
          "output_type": "stream",
          "name": "stderr",
          "text": [
            "/usr/local/lib/python3.10/dist-packages/sklearn/metrics/_classification.py:1344: UndefinedMetricWarning: Precision and F-score are ill-defined and being set to 0.0 in labels with no predicted samples. Use `zero_division` parameter to control this behavior.\n",
            "  _warn_prf(average, modifier, msg_start, len(result))\n"
          ]
        }
      ]
    },
    {
      "cell_type": "code",
      "source": [
        "new_classes = classes.copy()\n",
        "new_classes.pop()\n",
        "new_classes\n"
      ],
      "metadata": {
        "colab": {
          "base_uri": "https://localhost:8080/"
        },
        "id": "mp6by0vCO3hO",
        "outputId": "116aa470-0db4-4dc8-cd72-635863e5958e"
      },
      "execution_count": null,
      "outputs": [
        {
          "output_type": "execute_result",
          "data": {
            "text/plain": [
              "['B-ART',\n",
              " 'B-EVE',\n",
              " 'B-GEO',\n",
              " 'B-GPE',\n",
              " 'B-NAT',\n",
              " 'B-ORG',\n",
              " 'B-PER',\n",
              " 'B-TIM',\n",
              " 'I-ART',\n",
              " 'I-EVE',\n",
              " 'I-GEO',\n",
              " 'I-GPE',\n",
              " 'I-NAT',\n",
              " 'I-ORG',\n",
              " 'I-PER',\n",
              " 'I-TIM']"
            ]
          },
          "metadata": {},
          "execution_count": 52
        }
      ]
    },
    {
      "cell_type": "code",
      "source": [
        "print(classification_report(y_pred=sgd.predict(x), y_true=y, labels = new_classes))"
      ],
      "metadata": {
        "colab": {
          "base_uri": "https://localhost:8080/"
        },
        "id": "lpo71jTqPGkQ",
        "outputId": "5ddd4777-9680-417d-80c6-b9635d109c91"
      },
      "execution_count": null,
      "outputs": [
        {
          "output_type": "stream",
          "name": "stderr",
          "text": [
            "/usr/local/lib/python3.10/dist-packages/sklearn/metrics/_classification.py:1344: UndefinedMetricWarning: Precision and F-score are ill-defined and being set to 0.0 in labels with no predicted samples. Use `zero_division` parameter to control this behavior.\n",
            "  _warn_prf(average, modifier, msg_start, len(result))\n",
            "/usr/local/lib/python3.10/dist-packages/sklearn/metrics/_classification.py:1344: UndefinedMetricWarning: Precision and F-score are ill-defined and being set to 0.0 in labels with no predicted samples. Use `zero_division` parameter to control this behavior.\n",
            "  _warn_prf(average, modifier, msg_start, len(result))\n"
          ]
        },
        {
          "output_type": "stream",
          "name": "stdout",
          "text": [
            "              precision    recall  f1-score   support\n",
            "\n",
            "       B-ART       0.00      0.00      0.00       252\n",
            "       B-EVE       0.00      0.00      0.00       210\n",
            "       B-GEO       0.82      0.47      0.60     24169\n",
            "       B-GPE       0.92      0.68      0.78     10169\n",
            "       B-NAT       0.00      0.00      0.00       134\n",
            "       B-ORG       0.85      0.20      0.32     12812\n",
            "       B-PER       0.82      0.40      0.54     10940\n",
            "       B-TIM       0.89      0.64      0.75     13002\n",
            "       I-ART       0.00      0.00      0.00       184\n",
            "       I-EVE       0.00      0.00      0.00       178\n",
            "       I-GEO       0.79      0.31      0.45      4784\n",
            "       I-GPE       0.00      0.00      0.00       131\n",
            "       I-NAT       0.00      0.00      0.00        30\n",
            "       I-ORG       0.65      0.12      0.20     10604\n",
            "       I-PER       0.81      0.19      0.30     10917\n",
            "       I-TIM       0.00      0.00      0.00      4119\n",
            "\n",
            "   micro avg       0.85      0.37      0.52    102635\n",
            "   macro avg       0.41      0.19      0.25    102635\n",
            "weighted avg       0.78      0.37      0.49    102635\n",
            "\n"
          ]
        },
        {
          "output_type": "stream",
          "name": "stderr",
          "text": [
            "/usr/local/lib/python3.10/dist-packages/sklearn/metrics/_classification.py:1344: UndefinedMetricWarning: Precision and F-score are ill-defined and being set to 0.0 in labels with no predicted samples. Use `zero_division` parameter to control this behavior.\n",
            "  _warn_prf(average, modifier, msg_start, len(result))\n"
          ]
        }
      ]
    },
    {
      "cell_type": "markdown",
      "source": [
        "**Naive Bayes classifier**"
      ],
      "metadata": {
        "id": "spci74tDDphn"
      }
    },
    {
      "cell_type": "code",
      "source": [
        "##Naive Bayes classifier for multinomial models\n",
        "nb = MultinomialNB(alpha=0.01)\n",
        "nb.partial_fit(x, y, classes)\n"
      ],
      "metadata": {
        "colab": {
          "base_uri": "https://localhost:8080/",
          "height": 75
        },
        "id": "7REd2n-iRYPv",
        "outputId": "b6bb2495-954c-4422-ab27-6db52b5db549"
      },
      "execution_count": null,
      "outputs": [
        {
          "output_type": "execute_result",
          "data": {
            "text/plain": [
              "MultinomialNB(alpha=0.01)"
            ],
            "text/html": [
              "<style>#sk-container-id-2 {color: black;background-color: white;}#sk-container-id-2 pre{padding: 0;}#sk-container-id-2 div.sk-toggleable {background-color: white;}#sk-container-id-2 label.sk-toggleable__label {cursor: pointer;display: block;width: 100%;margin-bottom: 0;padding: 0.3em;box-sizing: border-box;text-align: center;}#sk-container-id-2 label.sk-toggleable__label-arrow:before {content: \"▸\";float: left;margin-right: 0.25em;color: #696969;}#sk-container-id-2 label.sk-toggleable__label-arrow:hover:before {color: black;}#sk-container-id-2 div.sk-estimator:hover label.sk-toggleable__label-arrow:before {color: black;}#sk-container-id-2 div.sk-toggleable__content {max-height: 0;max-width: 0;overflow: hidden;text-align: left;background-color: #f0f8ff;}#sk-container-id-2 div.sk-toggleable__content pre {margin: 0.2em;color: black;border-radius: 0.25em;background-color: #f0f8ff;}#sk-container-id-2 input.sk-toggleable__control:checked~div.sk-toggleable__content {max-height: 200px;max-width: 100%;overflow: auto;}#sk-container-id-2 input.sk-toggleable__control:checked~label.sk-toggleable__label-arrow:before {content: \"▾\";}#sk-container-id-2 div.sk-estimator input.sk-toggleable__control:checked~label.sk-toggleable__label {background-color: #d4ebff;}#sk-container-id-2 div.sk-label input.sk-toggleable__control:checked~label.sk-toggleable__label {background-color: #d4ebff;}#sk-container-id-2 input.sk-hidden--visually {border: 0;clip: rect(1px 1px 1px 1px);clip: rect(1px, 1px, 1px, 1px);height: 1px;margin: -1px;overflow: hidden;padding: 0;position: absolute;width: 1px;}#sk-container-id-2 div.sk-estimator {font-family: monospace;background-color: #f0f8ff;border: 1px dotted black;border-radius: 0.25em;box-sizing: border-box;margin-bottom: 0.5em;}#sk-container-id-2 div.sk-estimator:hover {background-color: #d4ebff;}#sk-container-id-2 div.sk-parallel-item::after {content: \"\";width: 100%;border-bottom: 1px solid gray;flex-grow: 1;}#sk-container-id-2 div.sk-label:hover label.sk-toggleable__label {background-color: #d4ebff;}#sk-container-id-2 div.sk-serial::before {content: \"\";position: absolute;border-left: 1px solid gray;box-sizing: border-box;top: 0;bottom: 0;left: 50%;z-index: 0;}#sk-container-id-2 div.sk-serial {display: flex;flex-direction: column;align-items: center;background-color: white;padding-right: 0.2em;padding-left: 0.2em;position: relative;}#sk-container-id-2 div.sk-item {position: relative;z-index: 1;}#sk-container-id-2 div.sk-parallel {display: flex;align-items: stretch;justify-content: center;background-color: white;position: relative;}#sk-container-id-2 div.sk-item::before, #sk-container-id-2 div.sk-parallel-item::before {content: \"\";position: absolute;border-left: 1px solid gray;box-sizing: border-box;top: 0;bottom: 0;left: 50%;z-index: -1;}#sk-container-id-2 div.sk-parallel-item {display: flex;flex-direction: column;z-index: 1;position: relative;background-color: white;}#sk-container-id-2 div.sk-parallel-item:first-child::after {align-self: flex-end;width: 50%;}#sk-container-id-2 div.sk-parallel-item:last-child::after {align-self: flex-start;width: 50%;}#sk-container-id-2 div.sk-parallel-item:only-child::after {width: 0;}#sk-container-id-2 div.sk-dashed-wrapped {border: 1px dashed gray;margin: 0 0.4em 0.5em 0.4em;box-sizing: border-box;padding-bottom: 0.4em;background-color: white;}#sk-container-id-2 div.sk-label label {font-family: monospace;font-weight: bold;display: inline-block;line-height: 1.2em;}#sk-container-id-2 div.sk-label-container {text-align: center;}#sk-container-id-2 div.sk-container {/* jupyter's `normalize.less` sets `[hidden] { display: none; }` but bootstrap.min.css set `[hidden] { display: none !important; }` so we also need the `!important` here to be able to override the default hidden behavior on the sphinx rendered scikit-learn.org. See: https://github.com/scikit-learn/scikit-learn/issues/21755 */display: inline-block !important;position: relative;}#sk-container-id-2 div.sk-text-repr-fallback {display: none;}</style><div id=\"sk-container-id-2\" class=\"sk-top-container\"><div class=\"sk-text-repr-fallback\"><pre>MultinomialNB(alpha=0.01)</pre><b>In a Jupyter environment, please rerun this cell to show the HTML representation or trust the notebook. <br />On GitHub, the HTML representation is unable to render, please try loading this page with nbviewer.org.</b></div><div class=\"sk-container\" hidden><div class=\"sk-item\"><div class=\"sk-estimator sk-toggleable\"><input class=\"sk-toggleable__control sk-hidden--visually\" id=\"sk-estimator-id-2\" type=\"checkbox\" checked><label for=\"sk-estimator-id-2\" class=\"sk-toggleable__label sk-toggleable__label-arrow\">MultinomialNB</label><div class=\"sk-toggleable__content\"><pre>MultinomialNB(alpha=0.01)</pre></div></div></div></div></div>"
            ]
          },
          "metadata": {},
          "execution_count": 47
        }
      ]
    },
    {
      "cell_type": "code",
      "source": [
        "#Scoring the model on datasets\n",
        "y_pred = nb.predict(x)\n",
        "y_test_pred = nb.predict(x_test)\n",
        "y_val_pred = nb.predict(x_val)"
      ],
      "metadata": {
        "id": "XH4u7Qj8RYUn"
      },
      "execution_count": null,
      "outputs": []
    },
    {
      "cell_type": "code",
      "source": [
        "print(\"Train F1-score:\", f1_score(y,y_pred,average = \"macro\"))\n",
        "print(\"Test F1-score:\", f1_score(y_test,y_test_pred,average = \"macro\"))\n",
        "print(\"Validation F1-score:\", f1_score(y_val,y_val_pred,average = \"macro\"))"
      ],
      "metadata": {
        "colab": {
          "base_uri": "https://localhost:8080/"
        },
        "id": "mIsLn4HORvMI",
        "outputId": "d14fb193-f999-4124-e4ad-c07825e2b2c2"
      },
      "execution_count": null,
      "outputs": [
        {
          "output_type": "stream",
          "name": "stdout",
          "text": [
            "Train F1-score: 0.5086906954845322\n",
            "Test F1-score: 0.41163096944291777\n",
            "Validation F1-score: 0.41402026876637693\n"
          ]
        }
      ]
    },
    {
      "cell_type": "code",
      "source": [
        "print(classification_report(y_pred=y_pred, y_true=y, labels = new_classes))"
      ],
      "metadata": {
        "colab": {
          "base_uri": "https://localhost:8080/"
        },
        "id": "I-8zeyoGTJZp",
        "outputId": "4403df32-90cd-4720-f9f3-e5360343e47a"
      },
      "execution_count": null,
      "outputs": [
        {
          "output_type": "stream",
          "name": "stdout",
          "text": [
            "              precision    recall  f1-score   support\n",
            "\n",
            "       B-ART       0.92      0.27      0.42       252\n",
            "       B-EVE       0.68      0.30      0.41       210\n",
            "       B-GEO       0.81      0.77      0.79     24169\n",
            "       B-GPE       0.93      0.94      0.94     10169\n",
            "       B-NAT       0.78      0.24      0.37       134\n",
            "       B-ORG       0.83      0.40      0.54     12812\n",
            "       B-PER       0.77      0.76      0.77     10940\n",
            "       B-TIM       0.88      0.75      0.81     13002\n",
            "       I-ART       1.00      0.10      0.19       184\n",
            "       I-EVE       1.00      0.02      0.03       178\n",
            "       I-GEO       0.76      0.54      0.63      4784\n",
            "       I-GPE       0.84      0.24      0.38       131\n",
            "       I-NAT       1.00      0.07      0.12        30\n",
            "       I-ORG       0.69      0.21      0.32     10604\n",
            "       I-PER       0.81      0.79      0.80     10917\n",
            "       I-TIM       0.60      0.09      0.16      4119\n",
            "\n",
            "   micro avg       0.82      0.64      0.72    102635\n",
            "   macro avg       0.83      0.40      0.48    102635\n",
            "weighted avg       0.81      0.64      0.69    102635\n",
            "\n"
          ]
        }
      ]
    },
    {
      "cell_type": "markdown",
      "source": [
        "**Passive aggresive classifier**"
      ],
      "metadata": {
        "id": "VYeuH5udDwZ1"
      }
    },
    {
      "cell_type": "code",
      "source": [
        "##Passive aggresive\n",
        "\n",
        "pa =PassiveAggressiveClassifier()\n",
        "pa.partial_fit(x, y, classes)\n"
      ],
      "metadata": {
        "colab": {
          "base_uri": "https://localhost:8080/",
          "height": 75
        },
        "id": "JUQXJ3qpOaB0",
        "outputId": "a690321b-6a8c-46fa-8fbe-9bed9065bc47"
      },
      "execution_count": null,
      "outputs": [
        {
          "output_type": "execute_result",
          "data": {
            "text/plain": [
              "PassiveAggressiveClassifier()"
            ],
            "text/html": [
              "<style>#sk-container-id-4 {color: black;background-color: white;}#sk-container-id-4 pre{padding: 0;}#sk-container-id-4 div.sk-toggleable {background-color: white;}#sk-container-id-4 label.sk-toggleable__label {cursor: pointer;display: block;width: 100%;margin-bottom: 0;padding: 0.3em;box-sizing: border-box;text-align: center;}#sk-container-id-4 label.sk-toggleable__label-arrow:before {content: \"▸\";float: left;margin-right: 0.25em;color: #696969;}#sk-container-id-4 label.sk-toggleable__label-arrow:hover:before {color: black;}#sk-container-id-4 div.sk-estimator:hover label.sk-toggleable__label-arrow:before {color: black;}#sk-container-id-4 div.sk-toggleable__content {max-height: 0;max-width: 0;overflow: hidden;text-align: left;background-color: #f0f8ff;}#sk-container-id-4 div.sk-toggleable__content pre {margin: 0.2em;color: black;border-radius: 0.25em;background-color: #f0f8ff;}#sk-container-id-4 input.sk-toggleable__control:checked~div.sk-toggleable__content {max-height: 200px;max-width: 100%;overflow: auto;}#sk-container-id-4 input.sk-toggleable__control:checked~label.sk-toggleable__label-arrow:before {content: \"▾\";}#sk-container-id-4 div.sk-estimator input.sk-toggleable__control:checked~label.sk-toggleable__label {background-color: #d4ebff;}#sk-container-id-4 div.sk-label input.sk-toggleable__control:checked~label.sk-toggleable__label {background-color: #d4ebff;}#sk-container-id-4 input.sk-hidden--visually {border: 0;clip: rect(1px 1px 1px 1px);clip: rect(1px, 1px, 1px, 1px);height: 1px;margin: -1px;overflow: hidden;padding: 0;position: absolute;width: 1px;}#sk-container-id-4 div.sk-estimator {font-family: monospace;background-color: #f0f8ff;border: 1px dotted black;border-radius: 0.25em;box-sizing: border-box;margin-bottom: 0.5em;}#sk-container-id-4 div.sk-estimator:hover {background-color: #d4ebff;}#sk-container-id-4 div.sk-parallel-item::after {content: \"\";width: 100%;border-bottom: 1px solid gray;flex-grow: 1;}#sk-container-id-4 div.sk-label:hover label.sk-toggleable__label {background-color: #d4ebff;}#sk-container-id-4 div.sk-serial::before {content: \"\";position: absolute;border-left: 1px solid gray;box-sizing: border-box;top: 0;bottom: 0;left: 50%;z-index: 0;}#sk-container-id-4 div.sk-serial {display: flex;flex-direction: column;align-items: center;background-color: white;padding-right: 0.2em;padding-left: 0.2em;position: relative;}#sk-container-id-4 div.sk-item {position: relative;z-index: 1;}#sk-container-id-4 div.sk-parallel {display: flex;align-items: stretch;justify-content: center;background-color: white;position: relative;}#sk-container-id-4 div.sk-item::before, #sk-container-id-4 div.sk-parallel-item::before {content: \"\";position: absolute;border-left: 1px solid gray;box-sizing: border-box;top: 0;bottom: 0;left: 50%;z-index: -1;}#sk-container-id-4 div.sk-parallel-item {display: flex;flex-direction: column;z-index: 1;position: relative;background-color: white;}#sk-container-id-4 div.sk-parallel-item:first-child::after {align-self: flex-end;width: 50%;}#sk-container-id-4 div.sk-parallel-item:last-child::after {align-self: flex-start;width: 50%;}#sk-container-id-4 div.sk-parallel-item:only-child::after {width: 0;}#sk-container-id-4 div.sk-dashed-wrapped {border: 1px dashed gray;margin: 0 0.4em 0.5em 0.4em;box-sizing: border-box;padding-bottom: 0.4em;background-color: white;}#sk-container-id-4 div.sk-label label {font-family: monospace;font-weight: bold;display: inline-block;line-height: 1.2em;}#sk-container-id-4 div.sk-label-container {text-align: center;}#sk-container-id-4 div.sk-container {/* jupyter's `normalize.less` sets `[hidden] { display: none; }` but bootstrap.min.css set `[hidden] { display: none !important; }` so we also need the `!important` here to be able to override the default hidden behavior on the sphinx rendered scikit-learn.org. See: https://github.com/scikit-learn/scikit-learn/issues/21755 */display: inline-block !important;position: relative;}#sk-container-id-4 div.sk-text-repr-fallback {display: none;}</style><div id=\"sk-container-id-4\" class=\"sk-top-container\"><div class=\"sk-text-repr-fallback\"><pre>PassiveAggressiveClassifier()</pre><b>In a Jupyter environment, please rerun this cell to show the HTML representation or trust the notebook. <br />On GitHub, the HTML representation is unable to render, please try loading this page with nbviewer.org.</b></div><div class=\"sk-container\" hidden><div class=\"sk-item\"><div class=\"sk-estimator sk-toggleable\"><input class=\"sk-toggleable__control sk-hidden--visually\" id=\"sk-estimator-id-4\" type=\"checkbox\" checked><label for=\"sk-estimator-id-4\" class=\"sk-toggleable__label sk-toggleable__label-arrow\">PassiveAggressiveClassifier</label><div class=\"sk-toggleable__content\"><pre>PassiveAggressiveClassifier()</pre></div></div></div></div></div>"
            ]
          },
          "metadata": {},
          "execution_count": 90
        }
      ]
    },
    {
      "cell_type": "code",
      "source": [
        "#Scoring the model on datasets\n",
        "y_pred = pa.predict(x)\n",
        "y_test_pred = pa.predict(x_test)\n",
        "y_val_pred = pa.predict(x_val)"
      ],
      "metadata": {
        "id": "I375VPnWQM9u"
      },
      "execution_count": null,
      "outputs": []
    },
    {
      "cell_type": "code",
      "source": [
        "print(\"Train F1-score:\", f1_score(y,y_pred,average = \"macro\"))\n",
        "print(\"Test F1-score:\", f1_score(y_test,y_test_pred,average = \"macro\"))\n",
        "print(\"Validation F1-score:\", f1_score(y_val,y_val_pred,average = \"macro\"))"
      ],
      "metadata": {
        "colab": {
          "base_uri": "https://localhost:8080/"
        },
        "id": "ubjz-T3aSHpP",
        "outputId": "aa0e8dc1-7318-4363-be42-621414469fc3"
      },
      "execution_count": null,
      "outputs": [
        {
          "output_type": "stream",
          "name": "stdout",
          "text": [
            "Train F1-score: 0.52249615751443\n",
            "Test F1-score: 0.4620799884054096\n",
            "Validation F1-score: 0.47058916311507915\n"
          ]
        }
      ]
    },
    {
      "cell_type": "code",
      "source": [
        "print(classification_report(y_pred=y_pred, y_true=y, labels = new_classes))"
      ],
      "metadata": {
        "colab": {
          "base_uri": "https://localhost:8080/"
        },
        "id": "4iOE_5oRSHvt",
        "outputId": "ac0acef6-f357-4746-a1f3-8ac7b05c1a2a"
      },
      "execution_count": null,
      "outputs": [
        {
          "output_type": "stream",
          "name": "stdout",
          "text": [
            "              precision    recall  f1-score   support\n",
            "\n",
            "       B-ART       0.04      0.30      0.08       265\n",
            "       B-EVE       0.66      0.28      0.39       210\n",
            "       B-GEO       0.80      0.77      0.78     24161\n",
            "       B-GPE       0.92      0.94      0.93     10125\n",
            "       B-NAT       0.41      0.38      0.39       137\n",
            "       B-ORG       0.73      0.43      0.55     12900\n",
            "       B-PER       0.71      0.76      0.73     10901\n",
            "       B-TIM       0.86      0.72      0.79     13148\n",
            "       I-ART       0.55      0.14      0.22       187\n",
            "       I-EVE       0.65      0.07      0.13       157\n",
            "       I-GEO       0.68      0.55      0.61      4712\n",
            "       I-GPE       0.63      0.48      0.54       130\n",
            "       I-NAT       0.56      0.28      0.38        32\n",
            "       I-ORG       0.56      0.27      0.36     10650\n",
            "       I-PER       0.78      0.80      0.79     11022\n",
            "       I-TIM       0.43      0.17      0.24      4183\n",
            "\n",
            "   micro avg       0.76      0.65      0.70    102920\n",
            "   macro avg       0.62      0.46      0.49    102920\n",
            "weighted avg       0.75      0.65      0.68    102920\n",
            "\n"
          ]
        }
      ]
    },
    {
      "cell_type": "markdown",
      "source": [
        "**The results from the first approach are not encouraging , and may more sophisticaded models to be used or a change in approach"
      ],
      "metadata": {
        "id": "cUADl5s0Stwa"
      }
    },
    {
      "cell_type": "code",
      "source": [],
      "metadata": {
        "id": "bS9Kfslc94B8"
      },
      "execution_count": null,
      "outputs": []
    },
    {
      "cell_type": "markdown",
      "source": [
        "**Second approach : Using Sequenctial Conditional Random Field (CRF) model**"
      ],
      "metadata": {
        "id": "cO1njM_nTLCR"
      }
    },
    {
      "cell_type": "code",
      "source": [
        "###\n",
        "!pip install sklearn-crfsuite"
      ],
      "metadata": {
        "id": "EaDDzwxmUc0m"
      },
      "execution_count": null,
      "outputs": []
    },
    {
      "cell_type": "code",
      "source": [
        "import sklearn_crfsuite\n",
        "from sklearn_crfsuite import scorers\n",
        "\n",
        "#Data analysis\n",
        "import pandas as pd\n",
        "import numpy as np\n",
        "#Data visualisation\n",
        "import matplotlib.pyplot as plt\n",
        "import seaborn as sns\n",
        "sns.set(color_codes=True)\n",
        "sns.set(font_scale=1)\n",
        "%matplotlib inline\n",
        "%config InlineBackend.figure_format = 'svg'\n",
        "#Modeling\n",
        "from sklearn.model_selection import cross_val_predict, cross_val_score\n",
        "from sklearn.ensemble import RandomForestClassifier\n",
        "from sklearn_crfsuite import CRF, scorers, metrics\n",
        "import sklearn_crfsuite\n",
        "from sklearn_crfsuite import scorers\n",
        "from sklearn_crfsuite import metrics\n",
        "from sklearn_crfsuite.metrics import flat_classification_report\n",
        "from sklearn.metrics import classification_report, make_scorer\n",
        "from sklearn.model_selection import RandomizedSearchCV\n",
        "from sklearn.model_selection import GridSearchCV\n",
        "import scipy.stats\n",
        "from itertools import chain\n",
        "\n",
        "import nltk\n",
        "import sklearn\n",
        "import scipy.stats\n",
        "\n",
        "import sklearn_crfsuite\n",
        "from sklearn_crfsuite import scorers,CRF\n",
        "from sklearn_crfsuite.metrics import flat_classification_report\n",
        "from sklearn_crfsuite import metrics\n"
      ],
      "metadata": {
        "id": "uy3GmPVhTIIx"
      },
      "execution_count": null,
      "outputs": []
    },
    {
      "cell_type": "code",
      "source": [
        "data.head()"
      ],
      "metadata": {
        "colab": {
          "base_uri": "https://localhost:8080/",
          "height": 206
        },
        "id": "XVbCzmRmTIMW",
        "outputId": "512383d9-887b-40b9-d987-0cbabf3780ec"
      },
      "execution_count": null,
      "outputs": [
        {
          "output_type": "execute_result",
          "data": {
            "text/plain": [
              "   sentence_id          words  POS labels\n",
              "0            0      Thousands  NNS      O\n",
              "1            0             of   IN      O\n",
              "2            0  demonstrators  NNS      O\n",
              "3            0           have  VBP      O\n",
              "4            0        marched  VBN      O"
            ],
            "text/html": [
              "\n",
              "  <div id=\"df-e0d81434-1b50-406b-a592-c324d4790ca6\" class=\"colab-df-container\">\n",
              "    <div>\n",
              "<style scoped>\n",
              "    .dataframe tbody tr th:only-of-type {\n",
              "        vertical-align: middle;\n",
              "    }\n",
              "\n",
              "    .dataframe tbody tr th {\n",
              "        vertical-align: top;\n",
              "    }\n",
              "\n",
              "    .dataframe thead th {\n",
              "        text-align: right;\n",
              "    }\n",
              "</style>\n",
              "<table border=\"1\" class=\"dataframe\">\n",
              "  <thead>\n",
              "    <tr style=\"text-align: right;\">\n",
              "      <th></th>\n",
              "      <th>sentence_id</th>\n",
              "      <th>words</th>\n",
              "      <th>POS</th>\n",
              "      <th>labels</th>\n",
              "    </tr>\n",
              "  </thead>\n",
              "  <tbody>\n",
              "    <tr>\n",
              "      <th>0</th>\n",
              "      <td>0</td>\n",
              "      <td>Thousands</td>\n",
              "      <td>NNS</td>\n",
              "      <td>O</td>\n",
              "    </tr>\n",
              "    <tr>\n",
              "      <th>1</th>\n",
              "      <td>0</td>\n",
              "      <td>of</td>\n",
              "      <td>IN</td>\n",
              "      <td>O</td>\n",
              "    </tr>\n",
              "    <tr>\n",
              "      <th>2</th>\n",
              "      <td>0</td>\n",
              "      <td>demonstrators</td>\n",
              "      <td>NNS</td>\n",
              "      <td>O</td>\n",
              "    </tr>\n",
              "    <tr>\n",
              "      <th>3</th>\n",
              "      <td>0</td>\n",
              "      <td>have</td>\n",
              "      <td>VBP</td>\n",
              "      <td>O</td>\n",
              "    </tr>\n",
              "    <tr>\n",
              "      <th>4</th>\n",
              "      <td>0</td>\n",
              "      <td>marched</td>\n",
              "      <td>VBN</td>\n",
              "      <td>O</td>\n",
              "    </tr>\n",
              "  </tbody>\n",
              "</table>\n",
              "</div>\n",
              "    <div class=\"colab-df-buttons\">\n",
              "\n",
              "  <div class=\"colab-df-container\">\n",
              "    <button class=\"colab-df-convert\" onclick=\"convertToInteractive('df-e0d81434-1b50-406b-a592-c324d4790ca6')\"\n",
              "            title=\"Convert this dataframe to an interactive table.\"\n",
              "            style=\"display:none;\">\n",
              "\n",
              "  <svg xmlns=\"http://www.w3.org/2000/svg\" height=\"24px\" viewBox=\"0 -960 960 960\">\n",
              "    <path d=\"M120-120v-720h720v720H120Zm60-500h600v-160H180v160Zm220 220h160v-160H400v160Zm0 220h160v-160H400v160ZM180-400h160v-160H180v160Zm440 0h160v-160H620v160ZM180-180h160v-160H180v160Zm440 0h160v-160H620v160Z\"/>\n",
              "  </svg>\n",
              "    </button>\n",
              "\n",
              "  <style>\n",
              "    .colab-df-container {\n",
              "      display:flex;\n",
              "      gap: 12px;\n",
              "    }\n",
              "\n",
              "    .colab-df-convert {\n",
              "      background-color: #E8F0FE;\n",
              "      border: none;\n",
              "      border-radius: 50%;\n",
              "      cursor: pointer;\n",
              "      display: none;\n",
              "      fill: #1967D2;\n",
              "      height: 32px;\n",
              "      padding: 0 0 0 0;\n",
              "      width: 32px;\n",
              "    }\n",
              "\n",
              "    .colab-df-convert:hover {\n",
              "      background-color: #E2EBFA;\n",
              "      box-shadow: 0px 1px 2px rgba(60, 64, 67, 0.3), 0px 1px 3px 1px rgba(60, 64, 67, 0.15);\n",
              "      fill: #174EA6;\n",
              "    }\n",
              "\n",
              "    .colab-df-buttons div {\n",
              "      margin-bottom: 4px;\n",
              "    }\n",
              "\n",
              "    [theme=dark] .colab-df-convert {\n",
              "      background-color: #3B4455;\n",
              "      fill: #D2E3FC;\n",
              "    }\n",
              "\n",
              "    [theme=dark] .colab-df-convert:hover {\n",
              "      background-color: #434B5C;\n",
              "      box-shadow: 0px 1px 3px 1px rgba(0, 0, 0, 0.15);\n",
              "      filter: drop-shadow(0px 1px 2px rgba(0, 0, 0, 0.3));\n",
              "      fill: #FFFFFF;\n",
              "    }\n",
              "  </style>\n",
              "\n",
              "    <script>\n",
              "      const buttonEl =\n",
              "        document.querySelector('#df-e0d81434-1b50-406b-a592-c324d4790ca6 button.colab-df-convert');\n",
              "      buttonEl.style.display =\n",
              "        google.colab.kernel.accessAllowed ? 'block' : 'none';\n",
              "\n",
              "      async function convertToInteractive(key) {\n",
              "        const element = document.querySelector('#df-e0d81434-1b50-406b-a592-c324d4790ca6');\n",
              "        const dataTable =\n",
              "          await google.colab.kernel.invokeFunction('convertToInteractive',\n",
              "                                                    [key], {});\n",
              "        if (!dataTable) return;\n",
              "\n",
              "        const docLinkHtml = 'Like what you see? Visit the ' +\n",
              "          '<a target=\"_blank\" href=https://colab.research.google.com/notebooks/data_table.ipynb>data table notebook</a>'\n",
              "          + ' to learn more about interactive tables.';\n",
              "        element.innerHTML = '';\n",
              "        dataTable['output_type'] = 'display_data';\n",
              "        await google.colab.output.renderOutput(dataTable, element);\n",
              "        const docLink = document.createElement('div');\n",
              "        docLink.innerHTML = docLinkHtml;\n",
              "        element.appendChild(docLink);\n",
              "      }\n",
              "    </script>\n",
              "  </div>\n",
              "\n",
              "\n",
              "<div id=\"df-f4faea7f-540b-48c6-b190-742bea3a1f9d\">\n",
              "  <button class=\"colab-df-quickchart\" onclick=\"quickchart('df-f4faea7f-540b-48c6-b190-742bea3a1f9d')\"\n",
              "            title=\"Suggest charts\"\n",
              "            style=\"display:none;\">\n",
              "\n",
              "<svg xmlns=\"http://www.w3.org/2000/svg\" height=\"24px\"viewBox=\"0 0 24 24\"\n",
              "     width=\"24px\">\n",
              "    <g>\n",
              "        <path d=\"M19 3H5c-1.1 0-2 .9-2 2v14c0 1.1.9 2 2 2h14c1.1 0 2-.9 2-2V5c0-1.1-.9-2-2-2zM9 17H7v-7h2v7zm4 0h-2V7h2v10zm4 0h-2v-4h2v4z\"/>\n",
              "    </g>\n",
              "</svg>\n",
              "  </button>\n",
              "\n",
              "<style>\n",
              "  .colab-df-quickchart {\n",
              "      --bg-color: #E8F0FE;\n",
              "      --fill-color: #1967D2;\n",
              "      --hover-bg-color: #E2EBFA;\n",
              "      --hover-fill-color: #174EA6;\n",
              "      --disabled-fill-color: #AAA;\n",
              "      --disabled-bg-color: #DDD;\n",
              "  }\n",
              "\n",
              "  [theme=dark] .colab-df-quickchart {\n",
              "      --bg-color: #3B4455;\n",
              "      --fill-color: #D2E3FC;\n",
              "      --hover-bg-color: #434B5C;\n",
              "      --hover-fill-color: #FFFFFF;\n",
              "      --disabled-bg-color: #3B4455;\n",
              "      --disabled-fill-color: #666;\n",
              "  }\n",
              "\n",
              "  .colab-df-quickchart {\n",
              "    background-color: var(--bg-color);\n",
              "    border: none;\n",
              "    border-radius: 50%;\n",
              "    cursor: pointer;\n",
              "    display: none;\n",
              "    fill: var(--fill-color);\n",
              "    height: 32px;\n",
              "    padding: 0;\n",
              "    width: 32px;\n",
              "  }\n",
              "\n",
              "  .colab-df-quickchart:hover {\n",
              "    background-color: var(--hover-bg-color);\n",
              "    box-shadow: 0 1px 2px rgba(60, 64, 67, 0.3), 0 1px 3px 1px rgba(60, 64, 67, 0.15);\n",
              "    fill: var(--button-hover-fill-color);\n",
              "  }\n",
              "\n",
              "  .colab-df-quickchart-complete:disabled,\n",
              "  .colab-df-quickchart-complete:disabled:hover {\n",
              "    background-color: var(--disabled-bg-color);\n",
              "    fill: var(--disabled-fill-color);\n",
              "    box-shadow: none;\n",
              "  }\n",
              "\n",
              "  .colab-df-spinner {\n",
              "    border: 2px solid var(--fill-color);\n",
              "    border-color: transparent;\n",
              "    border-bottom-color: var(--fill-color);\n",
              "    animation:\n",
              "      spin 1s steps(1) infinite;\n",
              "  }\n",
              "\n",
              "  @keyframes spin {\n",
              "    0% {\n",
              "      border-color: transparent;\n",
              "      border-bottom-color: var(--fill-color);\n",
              "      border-left-color: var(--fill-color);\n",
              "    }\n",
              "    20% {\n",
              "      border-color: transparent;\n",
              "      border-left-color: var(--fill-color);\n",
              "      border-top-color: var(--fill-color);\n",
              "    }\n",
              "    30% {\n",
              "      border-color: transparent;\n",
              "      border-left-color: var(--fill-color);\n",
              "      border-top-color: var(--fill-color);\n",
              "      border-right-color: var(--fill-color);\n",
              "    }\n",
              "    40% {\n",
              "      border-color: transparent;\n",
              "      border-right-color: var(--fill-color);\n",
              "      border-top-color: var(--fill-color);\n",
              "    }\n",
              "    60% {\n",
              "      border-color: transparent;\n",
              "      border-right-color: var(--fill-color);\n",
              "    }\n",
              "    80% {\n",
              "      border-color: transparent;\n",
              "      border-right-color: var(--fill-color);\n",
              "      border-bottom-color: var(--fill-color);\n",
              "    }\n",
              "    90% {\n",
              "      border-color: transparent;\n",
              "      border-bottom-color: var(--fill-color);\n",
              "    }\n",
              "  }\n",
              "</style>\n",
              "\n",
              "  <script>\n",
              "    async function quickchart(key) {\n",
              "      const quickchartButtonEl =\n",
              "        document.querySelector('#' + key + ' button');\n",
              "      quickchartButtonEl.disabled = true;  // To prevent multiple clicks.\n",
              "      quickchartButtonEl.classList.add('colab-df-spinner');\n",
              "      try {\n",
              "        const charts = await google.colab.kernel.invokeFunction(\n",
              "            'suggestCharts', [key], {});\n",
              "      } catch (error) {\n",
              "        console.error('Error during call to suggestCharts:', error);\n",
              "      }\n",
              "      quickchartButtonEl.classList.remove('colab-df-spinner');\n",
              "      quickchartButtonEl.classList.add('colab-df-quickchart-complete');\n",
              "    }\n",
              "    (() => {\n",
              "      let quickchartButtonEl =\n",
              "        document.querySelector('#df-f4faea7f-540b-48c6-b190-742bea3a1f9d button');\n",
              "      quickchartButtonEl.style.display =\n",
              "        google.colab.kernel.accessAllowed ? 'block' : 'none';\n",
              "    })();\n",
              "  </script>\n",
              "</div>\n",
              "\n",
              "    </div>\n",
              "  </div>\n"
            ],
            "application/vnd.google.colaboratory.intrinsic+json": {
              "type": "dataframe",
              "variable_name": "data"
            }
          },
          "metadata": {},
          "execution_count": 24
        }
      ]
    },
    {
      "cell_type": "code",
      "source": [
        "# A class to retrieve the sentences from the dataset\n",
        "class SentenceGetter(object):\n",
        "\n",
        "    def __init__(self, dataset, word_col, tag_col, sent_id_col):\n",
        "        self.n_sent = 1\n",
        "        self.dataset = dataset\n",
        "        self.empty = False\n",
        "        agg_func = lambda s: [\n",
        "            (w, t) for w,t in zip(s[word_col].values.tolist(), s[tag_col].values.tolist())\n",
        "        ]\n",
        "        self.grouped = self.dataset.groupby(sent_id_col).apply(agg_func)\n",
        "        self.sentences = [s for s in self.grouped]\n",
        "\n",
        "    def get_next(self):\n",
        "        try:\n",
        "            s = self.grouped[\"Sentence: {}\".format(self.n_sent)]\n",
        "            self.n_sent += 1\n",
        "            return s\n",
        "        except:\n",
        "            return None"
      ],
      "metadata": {
        "id": "_7wLf8N-TIPU"
      },
      "execution_count": null,
      "outputs": []
    },
    {
      "cell_type": "code",
      "source": [
        "%%time\n",
        "\n",
        "getter = SentenceGetter(dataset=data, word_col='words', tag_col='labels', sent_id_col='sentence_id')\n",
        "sentences = getter.sentences\n",
        "print(sentences[0])"
      ],
      "metadata": {
        "id": "_gMTO3W8TISc",
        "colab": {
          "base_uri": "https://localhost:8080/"
        },
        "outputId": "c1d7cc28-6948-4438-ce3d-7d7794b7bb63"
      },
      "execution_count": null,
      "outputs": [
        {
          "output_type": "stream",
          "name": "stdout",
          "text": [
            "[('Thousands', 'O'), ('of', 'O'), ('demonstrators', 'O'), ('have', 'O'), ('marched', 'O'), ('through', 'O'), ('London', 'B-geo'), ('to', 'O'), ('protest', 'O'), ('the', 'O'), ('war', 'O'), ('in', 'O'), ('Iraq', 'B-geo'), ('and', 'O'), ('demand', 'O'), ('the', 'O'), ('withdrawal', 'O'), ('of', 'O'), ('British', 'B-gpe'), ('troops', 'O'), ('from', 'O'), ('that', 'O'), ('country', 'O'), ('.', 'O')]\n",
            "CPU times: user 5.35 s, sys: 425 ms, total: 5.78 s\n",
            "Wall time: 5.56 s\n"
          ]
        }
      ]
    },
    {
      "cell_type": "code",
      "source": [
        "data['sentence_id'].nunique(), data.words.nunique(), data.labels.nunique()"
      ],
      "metadata": {
        "colab": {
          "base_uri": "https://localhost:8080/"
        },
        "id": "HWrfc0K5Daik",
        "outputId": "25d14aca-ce8e-47fc-ec5a-4c3639cc2f58"
      },
      "execution_count": null,
      "outputs": [
        {
          "output_type": "execute_result",
          "data": {
            "text/plain": [
              "(47959, 35177, 17)"
            ]
          },
          "metadata": {},
          "execution_count": 14
        }
      ]
    },
    {
      "cell_type": "code",
      "source": [
        "print(type(getter))\n",
        "\n",
        "print(len(getter.sentences))"
      ],
      "metadata": {
        "colab": {
          "base_uri": "https://localhost:8080/"
        },
        "id": "h0fEm792DNPS",
        "outputId": "c12afb31-a6a4-48c7-a230-4736029b6488"
      },
      "execution_count": null,
      "outputs": [
        {
          "output_type": "stream",
          "name": "stdout",
          "text": [
            "<class '__main__.SentenceGetter'>\n",
            "47959\n"
          ]
        }
      ]
    },
    {
      "cell_type": "code",
      "source": [
        "sentences = getter.sentences\n",
        "#ths is how a sentence will look like.\n",
        "print(sentences[1])"
      ],
      "metadata": {
        "colab": {
          "base_uri": "https://localhost:8080/"
        },
        "id": "ViOy1B0-YIis",
        "outputId": "50c7fde3-a368-40b1-fc94-12a8d7a92b22"
      },
      "execution_count": null,
      "outputs": [
        {
          "output_type": "stream",
          "name": "stdout",
          "text": [
            "[('Iranian', 'B-gpe'), ('officials', 'O'), ('say', 'O'), ('they', 'O'), ('expect', 'O'), ('to', 'O'), ('get', 'O'), ('access', 'O'), ('to', 'O'), ('sealed', 'O'), ('sensitive', 'O'), ('parts', 'O'), ('of', 'O'), ('the', 'O'), ('plant', 'O'), ('Wednesday', 'B-tim'), (',', 'O'), ('after', 'O'), ('an', 'O'), ('IAEA', 'B-org'), ('surveillance', 'O'), ('system', 'O'), ('begins', 'O'), ('functioning', 'O'), ('.', 'O')]\n"
          ]
        }
      ]
    },
    {
      "cell_type": "code",
      "source": [
        "#the number of words in the dataset\n",
        "words = list(set(data[\"words\"].values))\n",
        "n_words = len(words)\n",
        "print(n_words)"
      ],
      "metadata": {
        "colab": {
          "base_uri": "https://localhost:8080/"
        },
        "id": "G33E8YNTeae7",
        "outputId": "222e876c-825e-4acb-f6bf-8985d7764dc9"
      },
      "execution_count": null,
      "outputs": [
        {
          "output_type": "stream",
          "name": "stdout",
          "text": [
            "35177\n"
          ]
        }
      ]
    },
    {
      "cell_type": "code",
      "source": [
        "#Lets visualize how the sentences are distributed by their length\n",
        "plt.style.use(\"ggplot\")\n",
        "plt.hist([len(s) for s in sentences], bins=50)\n",
        "plt.show()"
      ],
      "metadata": {
        "colab": {
          "base_uri": "https://localhost:8080/",
          "height": 430
        },
        "id": "VeySampCYEKq",
        "outputId": "64e88266-e16a-4716-f387-a6545a97444e"
      },
      "execution_count": null,
      "outputs": [
        {
          "output_type": "display_data",
          "data": {
            "text/plain": [
              "<Figure size 640x480 with 1 Axes>"
            ],
            "image/png": "[encoded data removed]"
          },
          "metadata": {}
        }
      ]
    },
    {
      "cell_type": "code",
      "source": [
        "#longest sentence length in the dataset\n",
        "maxlen = max([len(s) for s in sentences])\n",
        "print ('Maximum sentence length:', maxlen)"
      ],
      "metadata": {
        "colab": {
          "base_uri": "https://localhost:8080/"
        },
        "id": "8LpIuA9NpQSd",
        "outputId": "2a940697-f7bb-4d80-9202-e393fc88b99c"
      },
      "execution_count": null,
      "outputs": [
        {
          "output_type": "stream",
          "name": "stdout",
          "text": [
            "Maximum sentence length: 104\n"
          ]
        }
      ]
    },
    {
      "cell_type": "code",
      "source": [
        "#Words tagged as B-org\n",
        "data.loc[data['labels'] == 'B-org', 'words'].head()"
      ],
      "metadata": {
        "colab": {
          "base_uri": "https://localhost:8080/"
        },
        "id": "X-3U-iBWexy5",
        "outputId": "f4f47e3f-c1f7-435a-b2ba-5de73081e26e"
      },
      "execution_count": null,
      "outputs": [
        {
          "output_type": "execute_result",
          "data": {
            "text/plain": [
              "97             Labor\n",
              "154    International\n",
              "215             IAEA\n",
              "234         European\n",
              "248             U.N.\n",
              "Name: words, dtype: object"
            ]
          },
          "metadata": {},
          "execution_count": 33
        }
      ]
    },
    {
      "cell_type": "code",
      "source": [
        "#Words tagged as I-org\n",
        "data.loc[data['labels'] == 'I-org', 'words'].head()"
      ],
      "metadata": {
        "colab": {
          "base_uri": "https://localhost:8080/"
        },
        "id": "18bJgv3GfAB8",
        "outputId": "188df8a5-13d6-43cd-f8fb-8a5056d2506b"
      },
      "execution_count": null,
      "outputs": [
        {
          "output_type": "execute_result",
          "data": {
            "text/plain": [
              "98      Party\n",
              "155    Atomic\n",
              "156    Energy\n",
              "157    Agency\n",
              "235     Union\n",
              "Name: words, dtype: object"
            ]
          },
          "metadata": {},
          "execution_count": 34
        }
      ]
    },
    {
      "cell_type": "code",
      "source": [
        "import seaborn as sns\n",
        "\n",
        "#Words distribution across Tags\n",
        "\n",
        "plt.figure(figsize=(15, 5))\n",
        "\n",
        "ax = sns.countplot(data = data['labels'])\n",
        "\n",
        "ax.set_xticklabels(ax.get_xticklabels(), rotation=90, ha=\"center\")\n",
        "plt.tight_layout()\n",
        "plt.show()"
      ],
      "metadata": {
        "colab": {
          "base_uri": "https://localhost:8080/",
          "height": 303
        },
        "id": "WICt7YbpfHFn",
        "outputId": "21896c46-abec-43b0-a4b7-f831cf15ac20"
      },
      "execution_count": null,
      "outputs": [
        {
          "output_type": "stream",
          "name": "stderr",
          "text": [
            "<ipython-input-36-84de3ba34ea7>:9: UserWarning: FixedFormatter should only be used together with FixedLocator\n",
            "  ax.set_xticklabels(ax.get_xticklabels(), rotation=90, ha=\"center\")\n"
          ]
        },
        {
          "output_type": "display_data",
          "data": {
            "text/plain": [
              "<Figure size 1500x500 with 1 Axes>"
            ],
            "image/png": "[encoded data removed]"
          },
          "metadata": {}
        }
      ]
    },
    {
      "cell_type": "code",
      "source": [
        "# Feature set fnct\n",
        "def word2features(sent, i):\n",
        "    word = sent[i][0]\n",
        "    #postag = sent[i][1]\n",
        "\n",
        "    features = {\n",
        "        'bias': 1.0,\n",
        "        'word.lower()': word.lower(),\n",
        "        'word[-3:]': word[-3:],\n",
        "        'word[-2:]': word[-2:],\n",
        "        'word.isupper()': word.isupper(),\n",
        "        'word.istitle()': word.istitle(),\n",
        "        'word.isdigit()': word.isdigit(),\n",
        "     #   'postag': postag,\n",
        "     #   'postag[:2]': postag[:2],\n",
        "    }\n",
        "    if i > 0:\n",
        "        word1 = sent[i-1][0]\n",
        "     #   postag1 = sent[i-1][1]\n",
        "        features.update({\n",
        "            '-1:word.lower()': word1.lower(),\n",
        "            '-1:word.istitle()': word1.istitle(),\n",
        "            '-1:word.isupper()': word1.isupper(),\n",
        "   #         '-1:postag': postag1,\n",
        "    #        '-1:postag[:2]': postag1[:2],\n",
        "        })\n",
        "    else:\n",
        "        features['BOS'] = True\n",
        "\n",
        "    if i < len(sent)-1:\n",
        "        word1 = sent[i+1][0]\n",
        "     #   postag1 = sent[i+1][1]\n",
        "        features.update({\n",
        "            '+1:word.lower()': word1.lower(),\n",
        "            '+1:word.istitle()': word1.istitle(),\n",
        "            '+1:word.isupper()': word1.isupper(),\n",
        "      #      '+1:postag': postag1,\n",
        "       #     '+1:postag[:2]': postag1[:2],\n",
        "        })\n",
        "    else:\n",
        "        features['EOS'] = True\n",
        "\n",
        "    return features\n",
        "\n"
      ],
      "metadata": {
        "id": "JVmqAdJzo1kK"
      },
      "execution_count": null,
      "outputs": []
    },
    {
      "cell_type": "code",
      "source": [
        "\n",
        "def sent2features(sent):\n",
        "    return [word2features(sent, i) for i in range(len(sent))]\n",
        "\n",
        "def sent2labels(sent):\n",
        "    return [label for token, label in sent]"
      ],
      "metadata": {
        "id": "5yf8sv1EpGMN"
      },
      "execution_count": null,
      "outputs": []
    },
    {
      "cell_type": "code",
      "source": [
        "\n",
        "%%time\n",
        "\n",
        "X = [sent2features(s) for s in sentences]\n",
        "y = [sent2labels(s) for s in sentences]"
      ],
      "metadata": {
        "id": "E3UjBt9upK2l"
      },
      "execution_count": null,
      "outputs": []
    },
    {
      "cell_type": "code",
      "source": [
        "#Creating the train and test set\n",
        "X_train, X_test, y_train, y_test = train_test_split(X, y, test_size=0.20, random_state=0)"
      ],
      "metadata": {
        "id": "EkF20GoNpVA0"
      },
      "execution_count": null,
      "outputs": []
    },
    {
      "cell_type": "code",
      "source": [
        "print(len(X_train) , len(y_train), len(X_test), len(y_test))"
      ],
      "metadata": {
        "id": "E-sYyto-pVkm"
      },
      "execution_count": null,
      "outputs": []
    },
    {
      "cell_type": "code",
      "source": [
        "X_val = X_test.copy()\n",
        "y_val = y_test.copy()"
      ],
      "metadata": {
        "id": "IUz1QMCopXVx"
      },
      "execution_count": null,
      "outputs": []
    },
    {
      "cell_type": "code",
      "source": [
        "X_train, X_test, y_train, y_test = train_test_split(X_train, y_train, test_size=0.20, random_state=0)\n",
        ""
      ],
      "metadata": {
        "id": "rgGkJ9AwpY8i"
      },
      "execution_count": null,
      "outputs": []
    },
    {
      "cell_type": "code",
      "source": [
        "print(len(X_train) , len(y_train), len(X_test), len(y_test),len(X_val), len(y_val))"
      ],
      "metadata": {
        "id": "3LDHAdIFpbL2"
      },
      "execution_count": null,
      "outputs": []
    },
    {
      "cell_type": "code",
      "source": [
        "%%time\n",
        "crf = sklearn_crfsuite.CRF(algorithm='lbfgs',\n",
        "          c1=0.1,\n",
        "          c2=0.1,\n",
        "          max_iterations=1000,\n",
        "          all_possible_transitions=False)\n",
        "try:\n",
        "    crf.fit(X_train, y_train)\n",
        "except AttributeError:\n",
        "    pass\n",
        "predictions = crf.predict(X_test)"
      ],
      "metadata": {
        "id": "vG-9YJDQha5O",
        "outputId": "fc9b23dc-26bb-4b9e-92c8-cf322d890ee3",
        "colab": {
          "base_uri": "https://localhost:8080/"
        }
      },
      "execution_count": null,
      "outputs": [
        {
          "output_type": "stream",
          "name": "stdout",
          "text": [
            "CPU times: user 19min, sys: 5.93 s, total: 19min 6s\n",
            "Wall time: 19min 22s\n"
          ]
        }
      ]
    },
    {
      "cell_type": "code",
      "source": [
        "y_train_pred = crf.predict(X_train)\n",
        "y_test_pred = crf.predict(X_test)\n",
        "y_val_pred = crf.predict(X_val)"
      ],
      "metadata": {
        "id": "vDFbYjJ5XNmg"
      },
      "execution_count": null,
      "outputs": []
    },
    {
      "cell_type": "code",
      "source": [
        "labels = list(crf.classes_)\n",
        "labels"
      ],
      "metadata": {
        "id": "mM4q4Oozjgwj",
        "collapsed": true
      },
      "execution_count": null,
      "outputs": []
    },
    {
      "cell_type": "code",
      "source": [
        "print(\"Train F1-score:\", metrics.flat_f1_score(y_train,y_train_pred, average='macro',labels=labels))\n",
        "print(\"Test F1-score:\", metrics.flat_f1_score(y_test,y_test_pred, average='macro',labels=labels))\n",
        "print(\"Validation F1-score:\", metrics.flat_f1_score(y_val,y_val_pred, average='weighted',labels=labels))\n",
        "\n"
      ],
      "metadata": {
        "colab": {
          "base_uri": "https://localhost:8080/"
        },
        "id": "vJI98gD-gf_-",
        "outputId": "d64a6bee-d312-48a6-cd9e-097ab06da4a5"
      },
      "execution_count": null,
      "outputs": [
        {
          "output_type": "stream",
          "name": "stdout",
          "text": [
            "Train F1-score: 0.88538602849107\n",
            "Test F1-score: 0.6295428299576049\n",
            "Validation F1-score: 0.9687361904875875\n"
          ]
        }
      ]
    },
    {
      "cell_type": "code",
      "source": [
        "%%time\n",
        "print(\"Model evaluation metrics for train dataset\")\n",
        "print(flat_classification_report(y_pred=y_train_pred, y_true=y_train))\n",
        "\n",
        "print(\"Model evaluation metrics for test dataset\")\n",
        "print(flat_classification_report(y_pred=y_test_pred, y_true=y_test))\n",
        "\n",
        "print(\"Model evaluation metrics for Val dataset\")\n",
        "print(flat_classification_report(y_pred=y_val_pred, y_true=y_val))\n",
        "\n",
        "##report = flat_classification_report(y_pred=pred, y_true=y)\n",
        "#print(report)"
      ],
      "metadata": {
        "colab": {
          "base_uri": "https://localhost:8080/"
        },
        "id": "y1nZ_VY9PGyH",
        "outputId": "59f1366b-a785-4369-c432-993eec825fac"
      },
      "execution_count": null,
      "outputs": [
        {
          "output_type": "stream",
          "name": "stdout",
          "text": [
            "Model evaluation metrics for train dataset\n",
            "              precision    recall  f1-score   support\n",
            "\n",
            "       B-art       0.92      0.68      0.78       247\n",
            "       B-eve       0.87      0.73      0.79       193\n",
            "       B-geo       0.91      0.95      0.93     24009\n",
            "       B-gpe       0.98      0.96      0.97     10106\n",
            "       B-nat       0.88      0.67      0.76       126\n",
            "       B-org       0.92      0.85      0.89     12945\n",
            "       B-per       0.95      0.93      0.94     10918\n",
            "       B-tim       0.96      0.93      0.95     12922\n",
            "       I-art       0.95      0.79      0.86       183\n",
            "       I-eve       0.87      0.75      0.80       157\n",
            "       I-geo       0.91      0.93      0.92      4713\n",
            "       I-gpe       0.99      0.67      0.80       122\n",
            "       I-nat       0.96      0.76      0.85        29\n",
            "       I-org       0.95      0.94      0.94     10688\n",
            "       I-per       0.94      0.96      0.95     11032\n",
            "       I-tim       0.94      0.90      0.92      4121\n",
            "           O       1.00      1.00      1.00    569166\n",
            "\n",
            "    accuracy                           0.99    671677\n",
            "   macro avg       0.94      0.85      0.89    671677\n",
            "weighted avg       0.99      0.99      0.99    671677\n",
            "\n",
            "Model evaluation metrics for test dataset\n",
            "              precision    recall  f1-score   support\n",
            "\n",
            "       B-art       0.18      0.03      0.05        64\n",
            "       B-eve       0.45      0.28      0.35        50\n",
            "       B-geo       0.87      0.90      0.89      6051\n",
            "       B-gpe       0.96      0.92      0.94      2569\n",
            "       B-nat       0.56      0.32      0.41        28\n",
            "       B-org       0.80      0.73      0.76      3162\n",
            "       B-per       0.85      0.82      0.84      2669\n",
            "       B-tim       0.93      0.88      0.90      3262\n",
            "       I-art       0.18      0.04      0.06        55\n",
            "       I-eve       0.31      0.23      0.26        40\n",
            "       I-geo       0.80      0.80      0.80      1161\n",
            "       I-gpe       0.90      0.58      0.70        33\n",
            "       I-nat       0.40      0.22      0.29         9\n",
            "       I-org       0.80      0.80      0.80      2695\n",
            "       I-per       0.85      0.89      0.87      2757\n",
            "       I-tim       0.84      0.76      0.80      1067\n",
            "           O       0.99      0.99      0.99    142019\n",
            "\n",
            "    accuracy                           0.97    167691\n",
            "   macro avg       0.69      0.60      0.63    167691\n",
            "weighted avg       0.97      0.97      0.97    167691\n",
            "\n",
            "Model evaluation metrics for Val dataset\n",
            "              precision    recall  f1-score   support\n",
            "\n",
            "       B-art       0.48      0.12      0.19        91\n",
            "       B-eve       0.57      0.48      0.52        65\n",
            "       B-geo       0.86      0.90      0.88      7584\n",
            "       B-gpe       0.96      0.94      0.95      3195\n",
            "       B-nat       0.81      0.47      0.59        47\n",
            "       B-org       0.80      0.72      0.75      4036\n",
            "       B-per       0.84      0.82      0.83      3403\n",
            "       B-tim       0.92      0.87      0.90      4149\n",
            "       I-art       0.11      0.03      0.05        59\n",
            "       I-eve       0.43      0.36      0.39        56\n",
            "       I-geo       0.82      0.78      0.80      1540\n",
            "       I-gpe       0.83      0.56      0.67        43\n",
            "       I-nat       0.80      0.62      0.70        13\n",
            "       I-org       0.80      0.79      0.79      3401\n",
            "       I-per       0.84      0.89      0.87      3462\n",
            "       I-tim       0.82      0.72      0.77      1340\n",
            "           O       0.99      0.99      0.99    176723\n",
            "\n",
            "    accuracy                           0.97    209207\n",
            "   macro avg       0.75      0.65      0.68    209207\n",
            "weighted avg       0.97      0.97      0.97    209207\n",
            "\n",
            "CPU times: user 15.3 s, sys: 68.7 ms, total: 15.4 s\n",
            "Wall time: 17.9 s\n"
          ]
        }
      ]
    },
    {
      "cell_type": "code",
      "source": [
        "def print_transitions(trans_features):\n",
        "    for (label_from, label_to), weight in trans_features:\n",
        "        print(\"%-6s -> %-7s %0.6f\" % (label_from, label_to, weight))"
      ],
      "metadata": {
        "id": "61mIbBBOP_VL"
      },
      "execution_count": null,
      "outputs": []
    },
    {
      "cell_type": "markdown",
      "source": [],
      "metadata": {
        "id": "_KXLzNcyaA5y"
      }
    },
    {
      "cell_type": "code",
      "source": [
        "from collections import Counter"
      ],
      "metadata": {
        "id": "deXCptMnRMEz"
      },
      "execution_count": null,
      "outputs": []
    },
    {
      "cell_type": "code",
      "source": [
        "print(\"Top likely transitions:\")\n",
        "print_transitions(Counter(crf.transition_features_).most_common(20))"
      ],
      "metadata": {
        "colab": {
          "base_uri": "https://localhost:8080/"
        },
        "id": "ydRi5A6_Qr_N",
        "outputId": "50bfc5fe-ce7d-4f58-f620-9c1d19dd0530"
      },
      "execution_count": null,
      "outputs": [
        {
          "output_type": "stream",
          "name": "stdout",
          "text": [
            "Top likely transitions:\n",
            "B-geo  -> I-geo   12.169285\n",
            "B-per  -> I-per   11.626877\n",
            "B-tim  -> I-tim   10.135371\n",
            "I-per  -> I-per   9.459382\n",
            "I-geo  -> I-geo   9.290563\n",
            "B-org  -> I-org   9.227148\n",
            "I-tim  -> I-tim   9.097124\n",
            "I-org  -> I-org   8.980181\n",
            "B-art  -> I-art   7.753820\n",
            "I-eve  -> I-eve   7.598324\n",
            "I-art  -> I-art   7.528331\n",
            "B-eve  -> I-eve   7.215390\n",
            "O      -> B-per   6.874019\n",
            "B-nat  -> I-nat   6.350902\n",
            "B-gpe  -> I-gpe   6.310354\n",
            "O      -> B-tim   5.636777\n",
            "O      -> B-org   5.626709\n",
            "I-gpe  -> I-gpe   5.313979\n",
            "O      -> O       5.256330\n",
            "B-per  -> B-org   5.168658\n"
          ]
        }
      ]
    },
    {
      "cell_type": "code",
      "source": [
        "print(\"\\nTop unlikely transitions:\")\n",
        "print_transitions(Counter(crf.transition_features_).most_common()[-20:])\n"
      ],
      "metadata": {
        "colab": {
          "base_uri": "https://localhost:8080/"
        },
        "id": "c7saeVDpYTpw",
        "outputId": "da81a3e6-c9d1-4fc5-8d8d-82290f53fce1"
      },
      "execution_count": null,
      "outputs": [
        {
          "output_type": "stream",
          "name": "stdout",
          "text": [
            "\n",
            "Top unlikely transitions:\n",
            "B-org  -> O       0.486613\n",
            "I-gpe  -> B-per   0.335206\n",
            "I-tim  -> B-eve   0.288400\n",
            "I-gpe  -> B-geo   0.262529\n",
            "I-eve  -> O       0.203654\n",
            "I-org  -> B-geo   0.196380\n",
            "B-org  -> B-eve   0.140726\n",
            "B-art  -> B-geo   0.075363\n",
            "I-org  -> O       -0.145415\n",
            "I-tim  -> B-gpe   -0.177432\n",
            "I-tim  -> O       -0.200704\n",
            "I-geo  -> B-gpe   -0.316178\n",
            "I-per  -> B-geo   -0.399709\n",
            "I-geo  -> O       -0.451601\n",
            "B-nat  -> O       -0.624926\n",
            "B-art  -> O       -0.766541\n",
            "I-gpe  -> O       -0.896696\n",
            "I-art  -> O       -1.094595\n",
            "B-eve  -> O       -1.170437\n",
            "I-nat  -> O       -1.419632\n"
          ]
        }
      ]
    },
    {
      "cell_type": "markdown",
      "source": [
        "**Observation**: It is very likely that the beginning of a geographical entity (B-geo) will be followed by a token inside geographical entity (I-geo), but transitions to inside of an organization name (I-org) from tokens with other labels are penalized hugely"
      ],
      "metadata": {
        "id": "LirOWU6g8dOJ"
      }
    },
    {
      "cell_type": "markdown",
      "source": [
        "The CRF model is able to capture the features of the current and previous labels in the sequency, but it cannot Understand the context of forward labels."
      ],
      "metadata": {
        "id": "veGyI5J_aCoy"
      }
    },
    {
      "cell_type": "code",
      "source": [],
      "metadata": {
        "id": "obMJno1K_1hM"
      },
      "execution_count": null,
      "outputs": []
    },
    {
      "cell_type": "markdown",
      "source": [
        "**NER tagging by Deep Learning (Keras)**"
      ],
      "metadata": {
        "id": "peYnogbAaJmT"
      }
    },
    {
      "cell_type": "markdown",
      "source": [
        "Here a bi-drectional RNN model approach is being used"
      ],
      "metadata": {
        "id": "MBflWqDd3n1x"
      }
    },
    {
      "cell_type": "code",
      "source": [
        "from keras.models import Sequential\n",
        "from keras.layers import Input, Embedding,TimeDistributed, LSTM, Dropout, Bidirectional, Dense\n",
        "from keras.preprocessing.text import Tokenizer\n",
        "from keras.preprocessing import sequence\n",
        "from keras.callbacks import EarlyStopping, ModelCheckpoint, ReduceLROnPlateau\n",
        "from keras.utils import plot_model, to_categorical"
      ],
      "metadata": {
        "id": "SYA357s43ruI"
      },
      "execution_count": 34,
      "outputs": []
    },
    {
      "cell_type": "code",
      "source": [
        "from keras import backend as K"
      ],
      "metadata": {
        "id": "47y6yMKQhO0y"
      },
      "execution_count": 53,
      "outputs": []
    },
    {
      "cell_type": "code",
      "source": [
        "class SentenceGetter(object):\n",
        "\n",
        "    def __init__(self, dataset, word_col, tag_col, sent_id_col):\n",
        "        self.n_sent = 1\n",
        "        self.dataset = dataset\n",
        "        self.empty = False\n",
        "        agg_func = lambda s: [\n",
        "            (w, t) for w,t in zip(s[word_col].values.tolist(), s[tag_col].values.tolist())\n",
        "        ]\n",
        "        self.grouped = self.dataset.groupby(sent_id_col).apply(agg_func)\n",
        "        self.sentences = [s for s in self.grouped]\n",
        "\n",
        "    def get_next(self):\n",
        "        try:\n",
        "            s = self.grouped[\"Sentence: {}\".format(self.n_sent)]\n",
        "            self.n_sent += 1\n",
        "            return s\n",
        "        except:\n",
        "            return None\n"
      ],
      "metadata": {
        "id": "rZA_eu42O-Up"
      },
      "execution_count": 35,
      "outputs": []
    },
    {
      "cell_type": "code",
      "source": [
        "%%time\n",
        "\n",
        "getter = SentenceGetter(dataset=data, word_col='words', tag_col='labels', sent_id_col='sentence_id')\n",
        "sentences = getter.sentences\n",
        "print(sentences[0])"
      ],
      "metadata": {
        "colab": {
          "base_uri": "https://localhost:8080/"
        },
        "id": "a7UWhm3HO_1V",
        "outputId": "9433d1bf-90b1-42c4-cc96-e7fba9e2902f"
      },
      "execution_count": 36,
      "outputs": [
        {
          "output_type": "stream",
          "name": "stdout",
          "text": [
            "[('Thousands', 'O'), ('of', 'O'), ('demonstrators', 'O'), ('have', 'O'), ('marched', 'O'), ('through', 'O'), ('London', 'B-geo'), ('to', 'O'), ('protest', 'O'), ('the', 'O'), ('war', 'O'), ('in', 'O'), ('Iraq', 'B-geo'), ('and', 'O'), ('demand', 'O'), ('the', 'O'), ('withdrawal', 'O'), ('of', 'O'), ('British', 'B-gpe'), ('troops', 'O'), ('from', 'O'), ('that', 'O'), ('country', 'O'), ('.', 'O')]\n",
            "CPU times: user 7.61 s, sys: 454 ms, total: 8.07 s\n",
            "Wall time: 9.23 s\n"
          ]
        }
      ]
    },
    {
      "cell_type": "code",
      "source": [
        "fig, ax = plt.subplots(figsize=(20, 6))\n",
        "ax.hist([len(s) for s in sentences], bins=50)\n",
        "ax.set_title('Number of words in each Sentence')\n",
        "\n",
        "maxlen = max([len(s) for s in sentences])\n",
        "print('Number of Sentences:', len(sentences))\n",
        "print ('Maximum sequence length:', maxlen)\n",
        "\n",
        "words = list(set(data[\"words\"].values))\n",
        "words.append(\"ENDPAD\")\n",
        "n_words = len(words)\n",
        "print('Number of unique words:', n_words)"
      ],
      "metadata": {
        "colab": {
          "base_uri": "https://localhost:8080/",
          "height": 312
        },
        "id": "SYoAXGgu5KrC",
        "outputId": "4490f9dd-3479-414f-dff3-eab68f66675a"
      },
      "execution_count": 37,
      "outputs": [
        {
          "output_type": "stream",
          "name": "stdout",
          "text": [
            "Number of Sentences: 47959\n",
            "Maximum sequence length: 104\n",
            "Number of unique words: 35178\n"
          ]
        },
        {
          "output_type": "display_data",
          "data": {
            "text/plain": [
              "<Figure size 2000x600 with 1 Axes>"
            ],
            "image/png": "[encoded data removed]"
          },
          "metadata": {}
        }
      ]
    },
    {
      "cell_type": "code",
      "source": [
        "fig, ax = plt.subplots(2, 1, figsize=(20, 12))\n",
        "data.labels.value_counts().plot.bar(ax=ax[0], title='Distribution of Tags')\n",
        "data[data.labels != 'O'].labels.value_counts().plot.bar(ax=ax[1], title='Distribution of non-O Tags')\n",
        "\n",
        "tags = list(set(data[\"labels\"].values))\n",
        "n_tags = len(tags)\n",
        "print('Number of unique Tags:', n_tags)"
      ],
      "metadata": {
        "colab": {
          "base_uri": "https://localhost:8080/",
          "height": 507
        },
        "id": "lkZmRHlh5UqH",
        "outputId": "f3419149-b8d7-4bcf-949e-67c6edfd5407"
      },
      "execution_count": 38,
      "outputs": [
        {
          "output_type": "stream",
          "name": "stdout",
          "text": [
            "Number of unique Tags: 17\n"
          ]
        },
        {
          "output_type": "display_data",
          "data": {
            "text/plain": [
              "<Figure size 2000x1200 with 2 Axes>"
            ],
            "image/png": "[encoded data removed]"
          },
          "metadata": {}
        }
      ]
    },
    {
      "cell_type": "code",
      "source": [
        "word2idx = {w: i for i, w in enumerate(words)}\n",
        "tag2idx = {t: i for i, t in enumerate(tags)}"
      ],
      "metadata": {
        "id": "1MWuVxrN41dC"
      },
      "execution_count": 39,
      "outputs": []
    },
    {
      "cell_type": "code",
      "source": [
        "X = [[word2idx[w[0]] for w in s] for s in sentences]\n",
        "X = sequence.pad_sequences(maxlen=maxlen, sequences=X, padding=\"post\",value=n_words - 1)\n",
        "\n",
        "y = [[tag2idx[w[1]] for w in s] for s in sentences]\n",
        "y = sequence.pad_sequences(maxlen=maxlen, sequences=y, padding=\"post\", value=tag2idx[\"O\"])\n",
        "y = np.array([to_categorical(i, num_classes=n_tags) for i in y])\n",
        "\n",
        "print('X shape', X.shape, 'y shape', y.shape)"
      ],
      "metadata": {
        "colab": {
          "base_uri": "https://localhost:8080/"
        },
        "id": "3LIquRdF4wnI",
        "outputId": "b9d3cc6e-8d08-4fb7-c22a-866393a4fb8e"
      },
      "execution_count": 40,
      "outputs": [
        {
          "output_type": "stream",
          "name": "stdout",
          "text": [
            "X shape (47959, 104) y shape (47959, 104, 17)\n"
          ]
        }
      ]
    },
    {
      "cell_type": "code",
      "source": [
        "print(X[0])\n",
        "print()\n",
        "print(y[0])"
      ],
      "metadata": {
        "colab": {
          "base_uri": "https://localhost:8080/"
        },
        "id": "ScrByYJVy_6S",
        "outputId": "e8617c8f-43bc-4119-9c10-bc117a288ca4"
      },
      "execution_count": 75,
      "outputs": [
        {
          "output_type": "stream",
          "name": "stdout",
          "text": [
            "[ 1594 26152 33389 28838 31689 13173 24431 34945  9786 16773 19265 16223\n",
            "  6830 15008 21689 16773 28622 26152 15484 19731 26162  3532 13292 23475\n",
            " 35177 35177 35177 35177 35177 35177 35177 35177 35177 35177 35177 35177\n",
            " 35177 35177 35177 35177 35177 35177 35177 35177 35177 35177 35177 35177\n",
            " 35177 35177 35177 35177 35177 35177 35177 35177 35177 35177 35177 35177\n",
            " 35177 35177 35177 35177 35177 35177 35177 35177 35177 35177 35177 35177\n",
            " 35177 35177 35177 35177 35177 35177 35177 35177 35177 35177 35177 35177\n",
            " 35177 35177 35177 35177 35177 35177 35177 35177 35177 35177 35177 35177\n",
            " 35177 35177 35177 35177 35177 35177 35177 35177]\n",
            "\n",
            "[[0. 0. 0. ... 0. 0. 0.]\n",
            " [0. 0. 0. ... 0. 0. 0.]\n",
            " [0. 0. 0. ... 0. 0. 0.]\n",
            " ...\n",
            " [0. 0. 0. ... 0. 0. 0.]\n",
            " [0. 0. 0. ... 0. 0. 0.]\n",
            " [0. 0. 0. ... 0. 0. 0.]]\n"
          ]
        }
      ]
    },
    {
      "cell_type": "code",
      "source": [
        "##custom function for evaluation metrics ,\n",
        "##since the new version of keras has dropped the confusion matric from 'metric' functionality\n",
        "\n",
        "def recall_m(y_true, y_pred):\n",
        "    true_positives = K.sum(K.round(K.clip(y_true * y_pred, 0, 1)))\n",
        "    possible_positives = K.sum(K.round(K.clip(y_true, 0, 1)))\n",
        "    recall = true_positives / (possible_positives + K.epsilon())\n",
        "    return recall\n",
        "\n",
        "def precision_m(y_true, y_pred):\n",
        "    true_positives = K.sum(K.round(K.clip(y_true * y_pred, 0, 1)))\n",
        "    predicted_positives = K.sum(K.round(K.clip(y_pred, 0, 1)))\n",
        "    precision = true_positives / (predicted_positives + K.epsilon())\n",
        "    return precision\n",
        "\n",
        "def f1_m(y_true, y_pred):\n",
        "    precision = precision_m(y_true, y_pred)\n",
        "    recall = recall_m(y_true, y_pred)\n",
        "    return 2*((precision*recall)/(precision+recall+K.epsilon()))\n"
      ],
      "metadata": {
        "id": "yyW-__-NhWpo"
      },
      "execution_count": 54,
      "outputs": []
    },
    {
      "cell_type": "code",
      "source": [
        "## Defining the parameters\n",
        "class config():\n",
        "    VOCAB = n_words\n",
        "    MAX_LEN = maxlen\n",
        "    N_OUPUT = n_tags\n",
        "\n",
        "\n",
        "    EMBEDDING_VECTOR_LENGTH = 50\n",
        "    N_LSTM_CELLS = 64\n",
        "    RECURRENT_DROPOUT = 0.1\n",
        "\n",
        "    OUTPUT_ACTIVATION = 'softmax'\n",
        "\n",
        "    LOSS = 'categorical_crossentropy'\n",
        "    OPTIMIZER = 'adam'\n",
        "    METRICS = ['accuracy',f1_m,precision_m, recall_m]\n",
        "\n",
        "    MAX_EPOCHS = 5\n"
      ],
      "metadata": {
        "id": "4euSvzpV5jqR"
      },
      "execution_count": 55,
      "outputs": []
    },
    {
      "cell_type": "code",
      "source": [
        "es = EarlyStopping(monitor='val_loss', mode='min', verbose=1, patience=7)\n",
        "filepath = \"model.h6\"\n",
        "ckpt = ModelCheckpoint(filepath, monitor='loss', verbose=1, save_best_only=True, mode='min')\n",
        "rlp = ReduceLROnPlateau(monitor='loss', patience=3, verbose=1)\n",
        "\n",
        "model = Sequential()\n",
        "model.add(\n",
        "    Embedding(\n",
        "        input_dim=config.VOCAB, output_dim=config.EMBEDDING_VECTOR_LENGTH, input_length=config.MAX_LEN\n",
        "    )\n",
        ")\n",
        "model.add(\n",
        "    Bidirectional(\n",
        "        LSTM(config.N_LSTM_CELLS, return_sequences=True, recurrent_dropout=config.RECURRENT_DROPOUT)\n",
        "    )\n",
        ")\n",
        "model.add(\n",
        "    TimeDistributed(\n",
        "        Dense(config.N_OUPUT, activation=config.OUTPUT_ACTIVATION)\n",
        "    )\n",
        ")\n",
        "model.compile(loss=config.LOSS, optimizer=config.OPTIMIZER, metrics=config.METRICS)\n",
        "\n",
        "model.summary()\n",
        "plot_model(model, show_shapes=True)"
      ],
      "metadata": {
        "colab": {
          "base_uri": "https://localhost:8080/",
          "height": 717
        },
        "id": "v5MmYrKX5rhn",
        "outputId": "48cf2bdc-dd05-4de1-f064-269bb2e7663e"
      },
      "execution_count": 57,
      "outputs": [
        {
          "output_type": "stream",
          "name": "stdout",
          "text": [
            "Model: \"sequential_3\"\n",
            "_________________________________________________________________\n",
            " Layer (type)                Output Shape              Param #   \n",
            "=================================================================\n",
            " embedding_3 (Embedding)     (None, 104, 50)           1758900   \n",
            "                                                                 \n",
            " bidirectional_3 (Bidirecti  (None, 104, 128)          58880     \n",
            " onal)                                                           \n",
            "                                                                 \n",
            " time_distributed_3 (TimeDi  (None, 104, 17)           2193      \n",
            " stributed)                                                      \n",
            "                                                                 \n",
            "=================================================================\n",
            "Total params: 1819973 (6.94 MB)\n",
            "Trainable params: 1819973 (6.94 MB)\n",
            "Non-trainable params: 0 (0.00 Byte)\n",
            "_________________________________________________________________\n"
          ]
        },
        {
          "output_type": "execute_result",
          "data": {
            "image/png": "[encoded data removed]",
            "text/plain": [
              "<IPython.core.display.Image object>"
            ]
          },
          "metadata": {},
          "execution_count": 57
        }
      ]
    },
    {
      "cell_type": "code",
      "source": [
        "###Spliting data in train and test\n",
        "x_train, x_test, y_train, y_test = train_test_split(X,y, test_size =0.2)"
      ],
      "metadata": {
        "id": "CFuRHoOp5zV7"
      },
      "execution_count": 43,
      "outputs": []
    },
    {
      "cell_type": "code",
      "source": [
        "###Spliting data in train and val\n",
        "x_train, x_val, y_train, y_val = train_test_split(x_train,y_train, test_size =0.2)"
      ],
      "metadata": {
        "id": "xbzSj2Op6otj"
      },
      "execution_count": 44,
      "outputs": []
    },
    {
      "cell_type": "code",
      "source": [
        "print(x_train.shape,x_test.shape,x_val.shape )\n",
        "print(y_train.shape,y_test.shape,y_val.shape )\n"
      ],
      "metadata": {
        "colab": {
          "base_uri": "https://localhost:8080/"
        },
        "id": "ciHDTReD6w5o",
        "outputId": "2f0ed20d-81ad-492c-d8d7-94e3e24762f9"
      },
      "execution_count": 45,
      "outputs": [
        {
          "output_type": "stream",
          "name": "stdout",
          "text": [
            "(30693, 104) (9592, 104) (7674, 104)\n",
            "(30693, 104, 17) (9592, 104, 17) (7674, 104, 17)\n"
          ]
        }
      ]
    },
    {
      "cell_type": "code",
      "source": [
        "##Model Iteration\n",
        "%%time\n",
        "\n",
        "history_new = model.fit(x=x_train, y=y_train, validation_data=(x_val,y_val),\n",
        "    callbacks=[es, ckpt, rlp], epochs=config.MAX_EPOCHS\n",
        ")"
      ],
      "metadata": {
        "colab": {
          "base_uri": "https://localhost:8080/"
        },
        "id": "EyhiU3TP6_ZI",
        "outputId": "e0f594a1-776f-4e46-cc7d-134c8492f352"
      },
      "execution_count": 58,
      "outputs": [
        {
          "output_type": "stream",
          "name": "stdout",
          "text": [
            "Epoch 1/5\n",
            "960/960 [==============================] - ETA: 0s - loss: 0.1320 - accuracy: 0.9748 - f1_m: 0.9633 - precision_m: 0.9723 - recall_m: 0.9549\n",
            "Epoch 1: loss improved from inf to 0.13205, saving model to model.h6\n",
            "960/960 [==============================] - 279s 282ms/step - loss: 0.1320 - accuracy: 0.9748 - f1_m: 0.9633 - precision_m: 0.9723 - recall_m: 0.9549 - val_loss: 0.0443 - val_accuracy: 0.9883 - val_f1_m: 0.9878 - val_precision_m: 0.9947 - val_recall_m: 0.9809 - lr: 0.0010\n",
            "Epoch 2/5\n",
            "960/960 [==============================] - ETA: 0s - loss: 0.0317 - accuracy: 0.9911 - f1_m: 0.9913 - precision_m: 0.9950 - recall_m: 0.9876\n",
            "Epoch 2: loss improved from 0.13205 to 0.03174, saving model to model.h6\n",
            "960/960 [==============================] - 275s 286ms/step - loss: 0.0317 - accuracy: 0.9911 - f1_m: 0.9913 - precision_m: 0.9950 - recall_m: 0.9876 - val_loss: 0.0280 - val_accuracy: 0.9919 - val_f1_m: 0.9921 - val_precision_m: 0.9941 - val_recall_m: 0.9901 - lr: 0.0010\n",
            "Epoch 3/5\n",
            "960/960 [==============================] - ETA: 0s - loss: 0.0211 - accuracy: 0.9937 - f1_m: 0.9938 - precision_m: 0.9953 - recall_m: 0.9923\n",
            "Epoch 3: loss improved from 0.03174 to 0.02106, saving model to model.h6\n",
            "960/960 [==============================] - 273s 285ms/step - loss: 0.0211 - accuracy: 0.9937 - f1_m: 0.9938 - precision_m: 0.9953 - recall_m: 0.9923 - val_loss: 0.0249 - val_accuracy: 0.9926 - val_f1_m: 0.9928 - val_precision_m: 0.9941 - val_recall_m: 0.9915 - lr: 0.0010\n",
            "Epoch 4/5\n",
            "960/960 [==============================] - ETA: 0s - loss: 0.0165 - accuracy: 0.9950 - f1_m: 0.9951 - precision_m: 0.9960 - recall_m: 0.9942\n",
            "Epoch 4: loss improved from 0.02106 to 0.01651, saving model to model.h6\n",
            "960/960 [==============================] - 292s 305ms/step - loss: 0.0165 - accuracy: 0.9950 - f1_m: 0.9951 - precision_m: 0.9960 - recall_m: 0.9942 - val_loss: 0.0252 - val_accuracy: 0.9927 - val_f1_m: 0.9929 - val_precision_m: 0.9939 - val_recall_m: 0.9919 - lr: 0.0010\n",
            "Epoch 5/5\n",
            "960/960 [==============================] - ETA: 0s - loss: 0.0136 - accuracy: 0.9957 - f1_m: 0.9958 - precision_m: 0.9964 - recall_m: 0.9951\n",
            "Epoch 5: loss improved from 0.01651 to 0.01363, saving model to model.h6\n",
            "960/960 [==============================] - 270s 282ms/step - loss: 0.0136 - accuracy: 0.9957 - f1_m: 0.9958 - precision_m: 0.9964 - recall_m: 0.9951 - val_loss: 0.0256 - val_accuracy: 0.9928 - val_f1_m: 0.9930 - val_precision_m: 0.9938 - val_recall_m: 0.9921 - lr: 0.0010\n",
            "CPU times: user 35min 37s, sys: 23.7 s, total: 36min 1s\n",
            "Wall time: 23min 30s\n"
          ]
        }
      ]
    },
    {
      "cell_type": "code",
      "source": [
        "fig, ax = plt.subplots(2, 1, figsize=(20, 8))\n",
        "df = pd.DataFrame(history.history)\n",
        "df[['accuracy', 'val_accuracy']].plot(ax=ax[0])\n",
        "df[['loss', 'val_loss']].plot(ax=ax[1])\n",
        "ax[0].set_title('Model Accuracy', fontsize=12)\n",
        "ax[1].set_title('Model Loss', fontsize=12)\n",
        "fig.suptitle('Model Metrics', fontsize=18);"
      ],
      "metadata": {
        "colab": {
          "base_uri": "https://localhost:8080/",
          "height": 357
        },
        "id": "5PwXH2cufd5G",
        "outputId": "10e04307-0b87-4f40-f562-b592d119de01"
      },
      "execution_count": 59,
      "outputs": [
        {
          "output_type": "display_data",
          "data": {
            "text/plain": [
              "<Figure size 2000x800 with 2 Axes>"
            ],
            "image/png": "[encoded data removed]"
          },
          "metadata": {}
        }
      ]
    },
    {
      "cell_type": "code",
      "source": [
        "##Checking the classifications at random\n",
        "i  = np.random.randint(0, X.shape[0])\n",
        "p = model.predict(np.array([X[i]]))\n",
        "p = np.argmax(p, axis=-1)\n",
        "y_true = np.argmax(y, axis=-1)[i]\n",
        "\n",
        "print(f\"{'Word':15}{'True':5}\\t{'Pred'}\")\n",
        "print(\"-\"*30)\n",
        "for (w, t, pred) in zip(X[i], y_true, p[0]):\n",
        "    print(f\"{words[w]:15}{tags[t]}\\t{tags[pred]}\")\n",
        "    if words[w] == 'ENDPAD':\n",
        "        break"
      ],
      "metadata": {
        "colab": {
          "base_uri": "https://localhost:8080/"
        },
        "id": "xOSGUvCXfGO1",
        "outputId": "c3d73199-abde-4693-c3ca-b946f39a739e"
      },
      "execution_count": 60,
      "outputs": [
        {
          "output_type": "stream",
          "name": "stdout",
          "text": [
            "1/1 [==============================] - 0s 457ms/step\n",
            "Word           True \tPred\n",
            "------------------------------\n",
            "Earlier        O\tO\n",
            "this           O\tO\n",
            "week           O\tO\n",
            ",              O\tO\n",
            "London-based   O\tO\n",
            "dissident      O\tO\n",
            "Saad           B-per\tB-per\n",
            "al-Fagih       I-per\tI-per\n",
            ",              O\tO\n",
            "who            O\tO\n",
            "heads          O\tO\n",
            "the            O\tO\n",
            "Movement       B-org\tB-org\n",
            "for            I-org\tI-org\n",
            "Islamic        I-org\tI-org\n",
            "Reform         I-org\tI-org\n",
            ",              O\tO\n",
            "called         O\tO\n",
            "for            O\tO\n",
            "tens           O\tO\n",
            "of             O\tO\n",
            "thousands      O\tO\n",
            "of             O\tO\n",
            "Saudis         B-gpe\tB-gpe\n",
            "to             O\tO\n",
            "protest        O\tO\n",
            "after          O\tO\n",
            "noon           B-tim\tB-tim\n",
            "prayers        O\tO\n",
            "Thursday       B-tim\tB-tim\n",
            "against        O\tO\n",
            "the            O\tO\n",
            "Saudi          O\tO\n",
            "monarchy       O\tO\n",
            ".              O\tO\n",
            "ENDPAD         O\tO\n"
          ]
        }
      ]
    },
    {
      "cell_type": "code",
      "source": [
        "print(history.params)"
      ],
      "metadata": {
        "colab": {
          "base_uri": "https://localhost:8080/"
        },
        "id": "dcokgcbPfk4X",
        "outputId": "da069692-6b57-4369-c724-87d3b3bcfc91"
      },
      "execution_count": 64,
      "outputs": [
        {
          "output_type": "stream",
          "name": "stdout",
          "text": [
            "{'verbose': 1, 'epochs': 5, 'steps': 960}\n"
          ]
        }
      ]
    },
    {
      "cell_type": "code",
      "source": [
        "%%time\n",
        "# evaluate the model on train\n",
        "loss, accuracy, f1_score, precision, recall = model.evaluate(x_train, y_train, verbose=1)\n",
        "\n",
        "###metrics for Train data set\n",
        "print(\"Model evaluation metrics for Trains as below\")\n",
        "print(\"Loss_train:\",loss,\"Accuracy_train:\",accuracy,\"F1_score_train :\", f1_score,\"Precision_train:\",precision,\"Recall_train:\",recall)"
      ],
      "metadata": {
        "colab": {
          "base_uri": "https://localhost:8080/"
        },
        "id": "n308-BiOg4_A",
        "outputId": "c3dd7fdb-00f8-4ed6-aa15-ba717ff74b46"
      },
      "execution_count": 72,
      "outputs": [
        {
          "output_type": "stream",
          "name": "stdout",
          "text": [
            "960/960 [==============================] - 78s 81ms/step - loss: 0.0109 - accuracy: 0.9965 - f1_m: 0.9966 - precision_m: 0.9971 - recall_m: 0.9961\n",
            "Model evaluation metrics for Trains as below\n",
            "Loss_train: 0.010881585069000721 Accuracy_train: 0.9965476989746094 F1_score_train : 0.9966257214546204 Precision_train: 0.9971264600753784 Recall_train: 0.9961260557174683\n",
            "CPU times: user 1min 10s, sys: 1.55 s, total: 1min 12s\n",
            "Wall time: 1min 22s\n"
          ]
        }
      ]
    },
    {
      "cell_type": "code",
      "source": [
        "%%time\n",
        "# evaluate the model on val and test dataset\n",
        "\n",
        "loss, accuracy, f1_score, precision, recall = model.evaluate(x_val, y_val, verbose=1)\n",
        "print(\"Model evaluation metrics for validation set as below\")\n",
        "print(\"Loss_val:\",loss,\"Accuracy_val:\",accuracy,\"F1_score_val :\", f1_score,\"Precision_val:\",precision,\"Recall_val:\",recall)\n",
        "print()\n",
        "loss, accuracy, f1_score, precision, recall = model.evaluate(x_test, y_test, verbose=1)\n",
        "print(\"Model evaluation metrics for Test as below\")\n",
        "print(\"Loss_test:\",loss,\"Accuracy_test:\",accuracy,\"F1_score_test :\", f1_score,\"Precision_test:\",precision,\"Recall_test:\",recall)\n"
      ],
      "metadata": {
        "colab": {
          "base_uri": "https://localhost:8080/"
        },
        "id": "JaG2RNvqqYwd",
        "outputId": "4f500bb9-be6e-414d-fcc4-b17523e73de0"
      },
      "execution_count": 73,
      "outputs": [
        {
          "output_type": "stream",
          "name": "stdout",
          "text": [
            "240/240 [==============================] - 11s 45ms/step - loss: 0.0256 - accuracy: 0.9928 - f1_m: 0.9930 - precision_m: 0.9938 - recall_m: 0.9921\n",
            "Model evaluation metrics for validation set as below\n",
            "Loss_val: 0.025625241920351982 Accuracy_val: 0.9928091168403625 F1_score_val : 0.9929500222206116 Precision_val: 0.9937604665756226 Recall_val: 0.9921396970748901\n",
            "\n",
            "300/300 [==============================] - 14s 46ms/step - loss: 0.0250 - accuracy: 0.9928 - f1_m: 0.9930 - precision_m: 0.9938 - recall_m: 0.9922\n",
            "Model evaluation metrics for Test as below\n",
            "Loss_test: 0.02499471791088581 Accuracy_test: 0.9927904605865479 F1_score_test : 0.992977499961853 Precision_test: 0.9937893748283386 Recall_test: 0.9921681880950928\n",
            "CPU times: user 38.4 s, sys: 835 ms, total: 39.2 s\n",
            "Wall time: 41.3 s\n"
          ]
        }
      ]
    }
  ]
}